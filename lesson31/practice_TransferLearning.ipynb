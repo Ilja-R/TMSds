{
 "cells": [
  {
   "cell_type": "code",
   "source": [
    "!pip install deeplake"
   ],
   "metadata": {
    "collapsed": true,
    "id": "ww_OWgcDXQKr",
    "ExecuteTime": {
     "end_time": "2024-06-20T10:29:59.325826Z",
     "start_time": "2024-06-20T10:29:56.869345Z"
    }
   },
   "id": "ww_OWgcDXQKr",
   "outputs": [
    {
     "name": "stdout",
     "output_type": "stream",
     "text": [
      "Defaulting to user installation because normal site-packages is not writeable\n",
      "Requirement already satisfied: deeplake in c:\\users\\ilyar\\appdata\\roaming\\python\\python312\\site-packages (3.9.10)\n",
      "Requirement already satisfied: numpy in c:\\users\\ilyar\\appdata\\roaming\\python\\python312\\site-packages (from deeplake) (1.26.4)\n",
      "Requirement already satisfied: pillow~=10.2.0 in c:\\users\\ilyar\\appdata\\roaming\\python\\python312\\site-packages (from deeplake) (10.2.0)\n",
      "Requirement already satisfied: boto3 in c:\\users\\ilyar\\appdata\\roaming\\python\\python312\\site-packages (from deeplake) (1.34.126)\n",
      "Requirement already satisfied: click in c:\\users\\ilyar\\appdata\\roaming\\python\\python312\\site-packages (from deeplake) (8.1.7)\n",
      "Requirement already satisfied: pathos in c:\\users\\ilyar\\appdata\\roaming\\python\\python312\\site-packages (from deeplake) (0.3.2)\n",
      "Requirement already satisfied: humbug>=0.3.1 in c:\\users\\ilyar\\appdata\\roaming\\python\\python312\\site-packages (from deeplake) (0.3.2)\n",
      "Requirement already satisfied: tqdm in c:\\users\\ilyar\\appdata\\roaming\\python\\python312\\site-packages (from deeplake) (4.66.4)\n",
      "Requirement already satisfied: lz4 in c:\\users\\ilyar\\appdata\\roaming\\python\\python312\\site-packages (from deeplake) (4.3.3)\n",
      "Requirement already satisfied: pyjwt in c:\\users\\ilyar\\appdata\\roaming\\python\\python312\\site-packages (from deeplake) (2.8.0)\n",
      "Requirement already satisfied: pydantic in c:\\users\\ilyar\\appdata\\roaming\\python\\python312\\site-packages (from deeplake) (2.7.4)\n",
      "Requirement already satisfied: requests in c:\\users\\ilyar\\appdata\\roaming\\python\\python312\\site-packages (from humbug>=0.3.1->deeplake) (2.32.2)\n",
      "Requirement already satisfied: botocore<1.35.0,>=1.34.126 in c:\\users\\ilyar\\appdata\\roaming\\python\\python312\\site-packages (from boto3->deeplake) (1.34.126)\n",
      "Requirement already satisfied: jmespath<2.0.0,>=0.7.1 in c:\\users\\ilyar\\appdata\\roaming\\python\\python312\\site-packages (from boto3->deeplake) (1.0.1)\n",
      "Requirement already satisfied: s3transfer<0.11.0,>=0.10.0 in c:\\users\\ilyar\\appdata\\roaming\\python\\python312\\site-packages (from boto3->deeplake) (0.10.1)\n",
      "Requirement already satisfied: colorama in c:\\users\\ilyar\\appdata\\roaming\\python\\python312\\site-packages (from click->deeplake) (0.4.6)\n",
      "Requirement already satisfied: ppft>=1.7.6.8 in c:\\users\\ilyar\\appdata\\roaming\\python\\python312\\site-packages (from pathos->deeplake) (1.7.6.8)\n",
      "Requirement already satisfied: dill>=0.3.8 in c:\\users\\ilyar\\appdata\\roaming\\python\\python312\\site-packages (from pathos->deeplake) (0.3.8)\n",
      "Requirement already satisfied: pox>=0.3.4 in c:\\users\\ilyar\\appdata\\roaming\\python\\python312\\site-packages (from pathos->deeplake) (0.3.4)\n",
      "Requirement already satisfied: multiprocess>=0.70.16 in c:\\users\\ilyar\\appdata\\roaming\\python\\python312\\site-packages (from pathos->deeplake) (0.70.16)\n",
      "Requirement already satisfied: annotated-types>=0.4.0 in c:\\users\\ilyar\\appdata\\roaming\\python\\python312\\site-packages (from pydantic->deeplake) (0.7.0)\n",
      "Requirement already satisfied: pydantic-core==2.18.4 in c:\\users\\ilyar\\appdata\\roaming\\python\\python312\\site-packages (from pydantic->deeplake) (2.18.4)\n",
      "Requirement already satisfied: typing-extensions>=4.6.1 in c:\\users\\ilyar\\appdata\\roaming\\python\\python312\\site-packages (from pydantic->deeplake) (4.12.0)\n",
      "Requirement already satisfied: python-dateutil<3.0.0,>=2.1 in c:\\users\\ilyar\\appdata\\roaming\\python\\python312\\site-packages (from botocore<1.35.0,>=1.34.126->boto3->deeplake) (2.9.0.post0)\n",
      "Requirement already satisfied: urllib3!=2.2.0,<3,>=1.25.4 in c:\\users\\ilyar\\appdata\\roaming\\python\\python312\\site-packages (from botocore<1.35.0,>=1.34.126->boto3->deeplake) (2.2.1)\n",
      "Requirement already satisfied: charset-normalizer<4,>=2 in c:\\users\\ilyar\\appdata\\roaming\\python\\python312\\site-packages (from requests->humbug>=0.3.1->deeplake) (3.3.2)\n",
      "Requirement already satisfied: idna<4,>=2.5 in c:\\users\\ilyar\\appdata\\roaming\\python\\python312\\site-packages (from requests->humbug>=0.3.1->deeplake) (3.7)\n",
      "Requirement already satisfied: certifi>=2017.4.17 in c:\\users\\ilyar\\appdata\\roaming\\python\\python312\\site-packages (from requests->humbug>=0.3.1->deeplake) (2024.2.2)\n",
      "Requirement already satisfied: six>=1.5 in c:\\users\\ilyar\\appdata\\roaming\\python\\python312\\site-packages (from python-dateutil<3.0.0,>=2.1->botocore<1.35.0,>=1.34.126->boto3->deeplake) (1.16.0)\n"
     ]
    }
   ],
   "execution_count": 1
  },
  {
   "cell_type": "code",
   "id": "initial_id",
   "metadata": {
    "collapsed": true,
    "id": "initial_id",
    "ExecuteTime": {
     "end_time": "2024-06-20T10:30:10.419496Z",
     "start_time": "2024-06-20T10:29:59.326831Z"
    }
   },
   "source": [
    "import tensorflow as tf\n",
    "from tensorflow.keras.layers import Input, Dense, Flatten, Reshape, Dropout\n",
    "from tensorflow.keras.models import Model\n",
    "import deeplake\n",
    "import numpy as np\n",
    "from sklearn.model_selection import train_test_split\n",
    "from tensorflow.keras.optimizers import Adam"
   ],
   "outputs": [],
   "execution_count": 2
  },
  {
   "cell_type": "code",
   "id": "6281ef0b882fc7",
   "metadata": {
    "colab": {
     "base_uri": "https://localhost:8080/"
    },
    "id": "6281ef0b882fc7",
    "outputId": "2a9b8c74-2f6d-46e8-b956-393a20183467",
    "ExecuteTime": {
     "end_time": "2024-06-20T10:30:17.952673Z",
     "start_time": "2024-06-20T10:30:10.420502Z"
    }
   },
   "source": [
    "ds = deeplake.load(\"hub://activeloop/mnist-train\")"
   ],
   "outputs": [
    {
     "name": "stderr",
     "output_type": "stream",
     "text": [
      "|"
     ]
    },
    {
     "name": "stdout",
     "output_type": "stream",
     "text": [
      "Opening dataset in read-only mode as you don't have write permissions.\n"
     ]
    },
    {
     "name": "stderr",
     "output_type": "stream",
     "text": [
      " \r"
     ]
    },
    {
     "name": "stdout",
     "output_type": "stream",
     "text": [
      "This dataset can be visualized in Jupyter Notebook by ds.visualize() or at https://app.activeloop.ai/activeloop/mnist-train\n",
      "\n"
     ]
    },
    {
     "name": "stderr",
     "output_type": "stream",
     "text": [
      "\\"
     ]
    },
    {
     "name": "stdout",
     "output_type": "stream",
     "text": [
      "hub://activeloop/mnist-train loaded successfully.\n",
      "\n"
     ]
    },
    {
     "name": "stderr",
     "output_type": "stream",
     "text": [
      " \r"
     ]
    }
   ],
   "execution_count": 3
  },
  {
   "cell_type": "code",
   "id": "c0df6bf9a1c9fa0f",
   "metadata": {
    "id": "c0df6bf9a1c9fa0f",
    "ExecuteTime": {
     "end_time": "2024-06-20T10:30:30.687577Z",
     "start_time": "2024-06-20T10:30:17.954681Z"
    }
   },
   "source": [
    "labels = np.array(ds['labels'])\n",
    "images = np.array(ds['images'])"
   ],
   "outputs": [],
   "execution_count": 4
  },
  {
   "cell_type": "code",
   "id": "7691f584e8731074",
   "metadata": {
    "id": "7691f584e8731074",
    "ExecuteTime": {
     "end_time": "2024-06-20T10:30:30.723197Z",
     "start_time": "2024-06-20T10:30:30.689593Z"
    }
   },
   "source": [
    "# Разбиение данных на тренировочный и тестовый наборы\n",
    "mnist_train_X, mnist_test_X, mnist_train_y, mnist_test_y = train_test_split(images, labels, test_size=0.2, random_state=42)"
   ],
   "outputs": [],
   "execution_count": 5
  },
  {
   "cell_type": "code",
   "id": "492eee1d94d7fb7e",
   "metadata": {
    "id": "492eee1d94d7fb7e",
    "ExecuteTime": {
     "end_time": "2024-06-20T10:30:30.890170Z",
     "start_time": "2024-06-20T10:30:30.724201Z"
    }
   },
   "source": [
    "mnist_train_X = mnist_train_X / 255\n",
    "mnist_test_X = mnist_test_X / 255"
   ],
   "outputs": [],
   "execution_count": 6
  },
  {
   "cell_type": "code",
   "id": "391f130fb0a8b4a6",
   "metadata": {
    "id": "391f130fb0a8b4a6",
    "collapsed": true,
    "ExecuteTime": {
     "end_time": "2024-06-20T10:30:31.180984Z",
     "start_time": "2024-06-20T10:30:30.892178Z"
    }
   },
   "source": [
    "fashion_mnist = tf.keras.datasets.fashion_mnist\n",
    "(train_images, train_labels), (test_images, test_labels) = fashion_mnist.load_data()\n",
    "\n",
    "filtered_train_images = train_images[train_labels < 5]\n",
    "filtered_test_images = test_images[test_labels < 5]\n",
    "filtered_train_labels = train_labels[train_labels < 5]\n",
    "filtered_test_labels = test_labels[test_labels < 5]"
   ],
   "outputs": [],
   "execution_count": 7
  },
  {
   "cell_type": "code",
   "id": "94192557b7dd4c0c",
   "metadata": {
    "id": "94192557b7dd4c0c",
    "ExecuteTime": {
     "end_time": "2024-06-20T10:30:31.264201Z",
     "start_time": "2024-06-20T10:30:31.181996Z"
    }
   },
   "source": [
    "fashion_train_X = filtered_train_images / 255\n",
    "fashion_test_X = filtered_test_images / 255"
   ],
   "outputs": [],
   "execution_count": 8
  },
  {
   "cell_type": "code",
   "id": "a2cf59906dd224f2",
   "metadata": {
    "id": "a2cf59906dd224f2",
    "ExecuteTime": {
     "end_time": "2024-06-20T10:30:31.269430Z",
     "start_time": "2024-06-20T10:30:31.265213Z"
    }
   },
   "source": [
    "import tensorflow as tf\n",
    "from tensorflow.keras.layers import Input, Conv2D, MaxPooling2D, UpSampling2D\n",
    "from tensorflow.keras.models import Model"
   ],
   "outputs": [],
   "execution_count": 9
  },
  {
   "cell_type": "markdown",
   "id": "129fdcf2a73add12",
   "metadata": {
    "id": "129fdcf2a73add12"
   },
   "source": [
    "# Задание 1\n",
    "Обучиться на mnist цифрах и перенести модель, дообучить на mnist одежда (5 классов)"
   ]
  },
  {
   "cell_type": "code",
   "id": "1dee547aea15b9bc",
   "metadata": {
    "id": "1dee547aea15b9bc",
    "ExecuteTime": {
     "end_time": "2024-06-20T10:30:31.482038Z",
     "start_time": "2024-06-20T10:30:31.270437Z"
    }
   },
   "source": [
    "# Архитектура сверточного автоэнкодера\n",
    "input_img = Input(shape=(28, 28, 1))  # MNIST - черно-белые изображения\n",
    "\n",
    "# Энкодер\n",
    "x = Conv2D(32, (3, 3), activation='relu', padding='same')(input_img)\n",
    "x = MaxPooling2D((2, 2), padding='same')(x)\n",
    "x = Conv2D(64, (3, 3), activation='relu', padding='same')(x)\n",
    "encoded = MaxPooling2D((2, 2), padding='same')(x)\n",
    "\n",
    "# Декодер\n",
    "x = Conv2D(64, (3, 3), activation='relu', padding='same')(encoded)\n",
    "x = UpSampling2D((2, 2))(x)\n",
    "x = Conv2D(32, (3, 3), activation='relu', padding='same')(x)\n",
    "x = UpSampling2D((2, 2))(x)\n",
    "decoded = Conv2D(1, (3, 3), activation='sigmoid', padding='same')(x)\n",
    "flattened = Flatten()(decoded)\n",
    "out = Dense(10, activation='softmax')(flattened)\n",
    "\n",
    "optimizer = Adam(learning_rate=0.001)\n",
    "# Сборка автоэнкодера\n",
    "autoencoder = Model(input_img, out)\n",
    "autoencoder.compile(optimizer=optimizer, loss='categorical_crossentropy', metrics=['accuracy'])\n",
    "\n",
    "# Предполагается, что mnist_train и mnist_test имеют размерность (num_samples, 28, 28)\n",
    "# Мы просто изменяем размерность данных для соответствия форме (num_samples, 28, 28, 1)\n",
    "mnist_train = mnist_train_X.reshape(-1, 28, 28, 1)\n",
    "mnist_test = mnist_test_X.reshape(-1, 28, 28, 1)"
   ],
   "outputs": [],
   "execution_count": 10
  },
  {
   "cell_type": "code",
   "id": "ba88d2f07d699ac8",
   "metadata": {
    "id": "ba88d2f07d699ac8",
    "ExecuteTime": {
     "end_time": "2024-06-20T10:30:31.488301Z",
     "start_time": "2024-06-20T10:30:31.483043Z"
    }
   },
   "source": [
    "mnist_train_y = tf.keras.utils.to_categorical(mnist_train_y, 10)\n",
    "mnist_test_y = tf.keras.utils.to_categorical(mnist_test_y, 10)"
   ],
   "outputs": [],
   "execution_count": 11
  },
  {
   "cell_type": "code",
   "id": "c33cba37eacdfa5",
   "metadata": {
    "colab": {
     "base_uri": "https://localhost:8080/"
    },
    "id": "c33cba37eacdfa5",
    "outputId": "eaf50938-46cd-47a1-95f4-616059d2db87",
    "ExecuteTime": {
     "end_time": "2024-06-20T10:40:36.880087Z",
     "start_time": "2024-06-20T10:30:31.489310Z"
    }
   },
   "source": [
    "autoencoder.fit(mnist_train, mnist_train_y,\n",
    "                epochs=25,\n",
    "                batch_size=100,\n",
    "                validation_data=(mnist_test, mnist_test_y))"
   ],
   "outputs": [
    {
     "name": "stdout",
     "output_type": "stream",
     "text": [
      "Epoch 1/25\n",
      "\u001B[1m480/480\u001B[0m \u001B[32m━━━━━━━━━━━━━━━━━━━━\u001B[0m\u001B[37m\u001B[0m \u001B[1m27s\u001B[0m 51ms/step - accuracy: 0.7232 - loss: 0.8638 - val_accuracy: 0.9662 - val_loss: 0.1134\n",
      "Epoch 2/25\n",
      "\u001B[1m480/480\u001B[0m \u001B[32m━━━━━━━━━━━━━━━━━━━━\u001B[0m\u001B[37m\u001B[0m \u001B[1m25s\u001B[0m 51ms/step - accuracy: 0.9725 - loss: 0.0914 - val_accuracy: 0.9747 - val_loss: 0.0873\n",
      "Epoch 3/25\n",
      "\u001B[1m480/480\u001B[0m \u001B[32m━━━━━━━━━━━━━━━━━━━━\u001B[0m\u001B[37m\u001B[0m \u001B[1m22s\u001B[0m 46ms/step - accuracy: 0.9794 - loss: 0.0666 - val_accuracy: 0.9829 - val_loss: 0.0551\n",
      "Epoch 4/25\n",
      "\u001B[1m480/480\u001B[0m \u001B[32m━━━━━━━━━━━━━━━━━━━━\u001B[0m\u001B[37m\u001B[0m \u001B[1m23s\u001B[0m 47ms/step - accuracy: 0.9865 - loss: 0.0438 - val_accuracy: 0.9850 - val_loss: 0.0517\n",
      "Epoch 5/25\n",
      "\u001B[1m480/480\u001B[0m \u001B[32m━━━━━━━━━━━━━━━━━━━━\u001B[0m\u001B[37m\u001B[0m \u001B[1m24s\u001B[0m 49ms/step - accuracy: 0.9896 - loss: 0.0359 - val_accuracy: 0.9847 - val_loss: 0.0509\n",
      "Epoch 6/25\n",
      "\u001B[1m480/480\u001B[0m \u001B[32m━━━━━━━━━━━━━━━━━━━━\u001B[0m\u001B[37m\u001B[0m \u001B[1m26s\u001B[0m 55ms/step - accuracy: 0.9908 - loss: 0.0292 - val_accuracy: 0.9881 - val_loss: 0.0383\n",
      "Epoch 7/25\n",
      "\u001B[1m480/480\u001B[0m \u001B[32m━━━━━━━━━━━━━━━━━━━━\u001B[0m\u001B[37m\u001B[0m \u001B[1m24s\u001B[0m 51ms/step - accuracy: 0.9930 - loss: 0.0227 - val_accuracy: 0.9887 - val_loss: 0.0367\n",
      "Epoch 8/25\n",
      "\u001B[1m480/480\u001B[0m \u001B[32m━━━━━━━━━━━━━━━━━━━━\u001B[0m\u001B[37m\u001B[0m \u001B[1m25s\u001B[0m 52ms/step - accuracy: 0.9938 - loss: 0.0198 - val_accuracy: 0.9890 - val_loss: 0.0350\n",
      "Epoch 9/25\n",
      "\u001B[1m480/480\u001B[0m \u001B[32m━━━━━━━━━━━━━━━━━━━━\u001B[0m\u001B[37m\u001B[0m \u001B[1m25s\u001B[0m 51ms/step - accuracy: 0.9958 - loss: 0.0144 - val_accuracy: 0.9888 - val_loss: 0.0387\n",
      "Epoch 10/25\n",
      "\u001B[1m480/480\u001B[0m \u001B[32m━━━━━━━━━━━━━━━━━━━━\u001B[0m\u001B[37m\u001B[0m \u001B[1m24s\u001B[0m 49ms/step - accuracy: 0.9953 - loss: 0.0143 - val_accuracy: 0.9891 - val_loss: 0.0356\n",
      "Epoch 11/25\n",
      "\u001B[1m480/480\u001B[0m \u001B[32m━━━━━━━━━━━━━━━━━━━━\u001B[0m\u001B[37m\u001B[0m \u001B[1m25s\u001B[0m 52ms/step - accuracy: 0.9976 - loss: 0.0094 - val_accuracy: 0.9894 - val_loss: 0.0347\n",
      "Epoch 12/25\n",
      "\u001B[1m480/480\u001B[0m \u001B[32m━━━━━━━━━━━━━━━━━━━━\u001B[0m\u001B[37m\u001B[0m \u001B[1m23s\u001B[0m 48ms/step - accuracy: 0.9977 - loss: 0.0095 - val_accuracy: 0.9890 - val_loss: 0.0397\n",
      "Epoch 13/25\n",
      "\u001B[1m480/480\u001B[0m \u001B[32m━━━━━━━━━━━━━━━━━━━━\u001B[0m\u001B[37m\u001B[0m \u001B[1m23s\u001B[0m 47ms/step - accuracy: 0.9977 - loss: 0.0084 - val_accuracy: 0.9898 - val_loss: 0.0371\n",
      "Epoch 14/25\n",
      "\u001B[1m480/480\u001B[0m \u001B[32m━━━━━━━━━━━━━━━━━━━━\u001B[0m\u001B[37m\u001B[0m \u001B[1m25s\u001B[0m 51ms/step - accuracy: 0.9974 - loss: 0.0088 - val_accuracy: 0.9893 - val_loss: 0.0381\n",
      "Epoch 15/25\n",
      "\u001B[1m480/480\u001B[0m \u001B[32m━━━━━━━━━━━━━━━━━━━━\u001B[0m\u001B[37m\u001B[0m \u001B[1m24s\u001B[0m 51ms/step - accuracy: 0.9975 - loss: 0.0084 - val_accuracy: 0.9904 - val_loss: 0.0343\n",
      "Epoch 16/25\n",
      "\u001B[1m480/480\u001B[0m \u001B[32m━━━━━━━━━━━━━━━━━━━━\u001B[0m\u001B[37m\u001B[0m \u001B[1m28s\u001B[0m 57ms/step - accuracy: 0.9982 - loss: 0.0063 - val_accuracy: 0.9902 - val_loss: 0.0375\n",
      "Epoch 17/25\n",
      "\u001B[1m480/480\u001B[0m \u001B[32m━━━━━━━━━━━━━━━━━━━━\u001B[0m\u001B[37m\u001B[0m \u001B[1m25s\u001B[0m 52ms/step - accuracy: 0.9985 - loss: 0.0051 - val_accuracy: 0.9767 - val_loss: 0.0826\n",
      "Epoch 18/25\n",
      "\u001B[1m480/480\u001B[0m \u001B[32m━━━━━━━━━━━━━━━━━━━━\u001B[0m\u001B[37m\u001B[0m \u001B[1m23s\u001B[0m 48ms/step - accuracy: 0.9966 - loss: 0.0095 - val_accuracy: 0.9904 - val_loss: 0.0377\n",
      "Epoch 19/25\n",
      "\u001B[1m480/480\u001B[0m \u001B[32m━━━━━━━━━━━━━━━━━━━━\u001B[0m\u001B[37m\u001B[0m \u001B[1m24s\u001B[0m 49ms/step - accuracy: 0.9998 - loss: 0.0016 - val_accuracy: 0.9917 - val_loss: 0.0348\n",
      "Epoch 20/25\n",
      "\u001B[1m480/480\u001B[0m \u001B[32m━━━━━━━━━━━━━━━━━━━━\u001B[0m\u001B[37m\u001B[0m \u001B[1m24s\u001B[0m 50ms/step - accuracy: 1.0000 - loss: 5.5072e-04 - val_accuracy: 0.9918 - val_loss: 0.0335\n",
      "Epoch 21/25\n",
      "\u001B[1m480/480\u001B[0m \u001B[32m━━━━━━━━━━━━━━━━━━━━\u001B[0m\u001B[37m\u001B[0m \u001B[1m24s\u001B[0m 51ms/step - accuracy: 1.0000 - loss: 2.7510e-04 - val_accuracy: 0.9923 - val_loss: 0.0329\n",
      "Epoch 22/25\n",
      "\u001B[1m480/480\u001B[0m \u001B[32m━━━━━━━━━━━━━━━━━━━━\u001B[0m\u001B[37m\u001B[0m \u001B[1m23s\u001B[0m 47ms/step - accuracy: 1.0000 - loss: 1.9609e-04 - val_accuracy: 0.9920 - val_loss: 0.0335\n",
      "Epoch 23/25\n",
      "\u001B[1m480/480\u001B[0m \u001B[32m━━━━━━━━━━━━━━━━━━━━\u001B[0m\u001B[37m\u001B[0m \u001B[1m24s\u001B[0m 50ms/step - accuracy: 1.0000 - loss: 1.6145e-04 - val_accuracy: 0.9925 - val_loss: 0.0341\n",
      "Epoch 24/25\n",
      "\u001B[1m480/480\u001B[0m \u001B[32m━━━━━━━━━━━━━━━━━━━━\u001B[0m\u001B[37m\u001B[0m \u001B[1m24s\u001B[0m 50ms/step - accuracy: 1.0000 - loss: 1.2777e-04 - val_accuracy: 0.9920 - val_loss: 0.0346\n",
      "Epoch 25/25\n",
      "\u001B[1m480/480\u001B[0m \u001B[32m━━━━━━━━━━━━━━━━━━━━\u001B[0m\u001B[37m\u001B[0m \u001B[1m24s\u001B[0m 49ms/step - accuracy: 1.0000 - loss: 1.0732e-04 - val_accuracy: 0.9924 - val_loss: 0.0347\n"
     ]
    },
    {
     "data": {
      "text/plain": [
       "<keras.src.callbacks.history.History at 0x2e5ae3799d0>"
      ]
     },
     "execution_count": 12,
     "metadata": {},
     "output_type": "execute_result"
    }
   ],
   "execution_count": 12
  },
  {
   "cell_type": "code",
   "id": "66651d041bd487d3",
   "metadata": {
    "colab": {
     "base_uri": "https://localhost:8080/"
    },
    "id": "66651d041bd487d3",
    "outputId": "4ec9088b-eda3-4abd-e398-1d6d4bbe1e0d",
    "ExecuteTime": {
     "end_time": "2024-06-20T10:40:40.043106Z",
     "start_time": "2024-06-20T10:40:36.881095Z"
    }
   },
   "source": [
    "predicted_labels = autoencoder.predict(mnist_test)"
   ],
   "outputs": [
    {
     "name": "stdout",
     "output_type": "stream",
     "text": [
      "\u001B[1m375/375\u001B[0m \u001B[32m━━━━━━━━━━━━━━━━━━━━\u001B[0m\u001B[37m\u001B[0m \u001B[1m3s\u001B[0m 7ms/step\n"
     ]
    }
   ],
   "execution_count": 13
  },
  {
   "cell_type": "code",
   "id": "dfa6598168a25b70",
   "metadata": {
    "colab": {
     "base_uri": "https://localhost:8080/"
    },
    "id": "dfa6598168a25b70",
    "outputId": "f7bcb417-1b96-44ef-fcd1-885e748322f8",
    "ExecuteTime": {
     "end_time": "2024-06-20T10:40:40.076796Z",
     "start_time": "2024-06-20T10:40:40.046114Z"
    }
   },
   "source": [
    "from sklearn.metrics import classification_report\n",
    "\n",
    "prediction_y = np.argmax(predicted_labels, axis=-1)\n",
    "mnist_test_y_1 = np.argmax(mnist_test_y, axis=-1)\n",
    "# Получаем отчет о классификации\n",
    "report = classification_report(mnist_test_y_1, prediction_y)\n",
    "print(report)"
   ],
   "outputs": [
    {
     "name": "stdout",
     "output_type": "stream",
     "text": [
      "              precision    recall  f1-score   support\n",
      "\n",
      "           0       1.00      0.99      0.99      1175\n",
      "           1       1.00      1.00      1.00      1322\n",
      "           2       0.99      0.99      0.99      1174\n",
      "           3       1.00      0.99      0.99      1219\n",
      "           4       0.99      0.99      0.99      1176\n",
      "           5       0.99      0.99      0.99      1104\n",
      "           6       0.99      1.00      1.00      1177\n",
      "           7       0.99      0.99      0.99      1299\n",
      "           8       0.99      0.99      0.99      1160\n",
      "           9       0.99      0.99      0.99      1194\n",
      "\n",
      "    accuracy                           0.99     12000\n",
      "   macro avg       0.99      0.99      0.99     12000\n",
      "weighted avg       0.99      0.99      0.99     12000\n",
      "\n"
     ]
    }
   ],
   "execution_count": 14
  },
  {
   "cell_type": "code",
   "id": "c435e2e07879a4e6",
   "metadata": {
    "colab": {
     "base_uri": "https://localhost:8080/"
    },
    "id": "c435e2e07879a4e6",
    "outputId": "7d84d534-7d64-4389-ab22-951dc4f83ffd",
    "ExecuteTime": {
     "end_time": "2024-06-20T10:44:42.991471Z",
     "start_time": "2024-06-20T10:40:40.077802Z"
    }
   },
   "source": [
    "new_autoencoder_fashion = Model(input_img, autoencoder.layers[-1].output)\n",
    "for layer in new_autoencoder_fashion.layers:\n",
    "    layer.trainable = False\n",
    "\n",
    "x = Dense(128, activation='relu')(flattened)\n",
    "predictions = Dense(5, activation='softmax')(x)\n",
    "\n",
    "fashion_model_from_numbers = Model(input_img, predictions)\n",
    "fashion_model_from_numbers.compile(optimizer='adam', loss='sparse_categorical_crossentropy', metrics=['accuracy'])\n",
    "fashion_model_from_numbers.fit(fashion_train_X, filtered_train_labels,\n",
    "                               epochs=35,\n",
    "                               batch_size=100,\n",
    "                               validation_data=(fashion_test_X, filtered_test_labels))\n",
    "\n",
    "# Предсказание\n",
    "predictions_from_numbers = fashion_model_from_numbers.predict(fashion_test_X)"
   ],
   "outputs": [
    {
     "name": "stdout",
     "output_type": "stream",
     "text": [
      "Epoch 1/35\n",
      "\u001B[1m300/300\u001B[0m \u001B[32m━━━━━━━━━━━━━━━━━━━━\u001B[0m\u001B[37m\u001B[0m \u001B[1m8s\u001B[0m 22ms/step - accuracy: 0.7721 - loss: 0.6008 - val_accuracy: 0.8454 - val_loss: 0.4111\n",
      "Epoch 2/35\n",
      "\u001B[1m300/300\u001B[0m \u001B[32m━━━━━━━━━━━━━━━━━━━━\u001B[0m\u001B[37m\u001B[0m \u001B[1m6s\u001B[0m 21ms/step - accuracy: 0.8717 - loss: 0.3410 - val_accuracy: 0.8680 - val_loss: 0.3545\n",
      "Epoch 3/35\n",
      "\u001B[1m300/300\u001B[0m \u001B[32m━━━━━━━━━━━━━━━━━━━━\u001B[0m\u001B[37m\u001B[0m \u001B[1m6s\u001B[0m 21ms/step - accuracy: 0.8854 - loss: 0.3081 - val_accuracy: 0.8744 - val_loss: 0.3404\n",
      "Epoch 4/35\n",
      "\u001B[1m300/300\u001B[0m \u001B[32m━━━━━━━━━━━━━━━━━━━━\u001B[0m\u001B[37m\u001B[0m \u001B[1m6s\u001B[0m 20ms/step - accuracy: 0.8880 - loss: 0.2902 - val_accuracy: 0.8802 - val_loss: 0.3292\n",
      "Epoch 5/35\n",
      "\u001B[1m300/300\u001B[0m \u001B[32m━━━━━━━━━━━━━━━━━━━━\u001B[0m\u001B[37m\u001B[0m \u001B[1m6s\u001B[0m 21ms/step - accuracy: 0.8971 - loss: 0.2742 - val_accuracy: 0.8772 - val_loss: 0.3282\n",
      "Epoch 6/35\n",
      "\u001B[1m300/300\u001B[0m \u001B[32m━━━━━━━━━━━━━━━━━━━━\u001B[0m\u001B[37m\u001B[0m \u001B[1m6s\u001B[0m 21ms/step - accuracy: 0.8985 - loss: 0.2661 - val_accuracy: 0.8834 - val_loss: 0.3214\n",
      "Epoch 7/35\n",
      "\u001B[1m300/300\u001B[0m \u001B[32m━━━━━━━━━━━━━━━━━━━━\u001B[0m\u001B[37m\u001B[0m \u001B[1m6s\u001B[0m 21ms/step - accuracy: 0.9060 - loss: 0.2498 - val_accuracy: 0.8806 - val_loss: 0.3211\n",
      "Epoch 8/35\n",
      "\u001B[1m300/300\u001B[0m \u001B[32m━━━━━━━━━━━━━━━━━━━━\u001B[0m\u001B[37m\u001B[0m \u001B[1m6s\u001B[0m 21ms/step - accuracy: 0.9060 - loss: 0.2481 - val_accuracy: 0.8814 - val_loss: 0.3171\n",
      "Epoch 9/35\n",
      "\u001B[1m300/300\u001B[0m \u001B[32m━━━━━━━━━━━━━━━━━━━━\u001B[0m\u001B[37m\u001B[0m \u001B[1m6s\u001B[0m 21ms/step - accuracy: 0.9096 - loss: 0.2381 - val_accuracy: 0.8862 - val_loss: 0.3050\n",
      "Epoch 10/35\n",
      "\u001B[1m300/300\u001B[0m \u001B[32m━━━━━━━━━━━━━━━━━━━━\u001B[0m\u001B[37m\u001B[0m \u001B[1m6s\u001B[0m 21ms/step - accuracy: 0.9186 - loss: 0.2182 - val_accuracy: 0.8854 - val_loss: 0.3145\n",
      "Epoch 11/35\n",
      "\u001B[1m300/300\u001B[0m \u001B[32m━━━━━━━━━━━━━━━━━━━━\u001B[0m\u001B[37m\u001B[0m \u001B[1m6s\u001B[0m 21ms/step - accuracy: 0.9158 - loss: 0.2169 - val_accuracy: 0.8912 - val_loss: 0.3063\n",
      "Epoch 12/35\n",
      "\u001B[1m300/300\u001B[0m \u001B[32m━━━━━━━━━━━━━━━━━━━━\u001B[0m\u001B[37m\u001B[0m \u001B[1m6s\u001B[0m 21ms/step - accuracy: 0.9203 - loss: 0.2095 - val_accuracy: 0.8876 - val_loss: 0.3140\n",
      "Epoch 13/35\n",
      "\u001B[1m300/300\u001B[0m \u001B[32m━━━━━━━━━━━━━━━━━━━━\u001B[0m\u001B[37m\u001B[0m \u001B[1m7s\u001B[0m 22ms/step - accuracy: 0.9244 - loss: 0.2041 - val_accuracy: 0.8906 - val_loss: 0.3108\n",
      "Epoch 14/35\n",
      "\u001B[1m300/300\u001B[0m \u001B[32m━━━━━━━━━━━━━━━━━━━━\u001B[0m\u001B[37m\u001B[0m \u001B[1m6s\u001B[0m 21ms/step - accuracy: 0.9264 - loss: 0.1998 - val_accuracy: 0.8910 - val_loss: 0.3022\n",
      "Epoch 15/35\n",
      "\u001B[1m300/300\u001B[0m \u001B[32m━━━━━━━━━━━━━━━━━━━━\u001B[0m\u001B[37m\u001B[0m \u001B[1m7s\u001B[0m 22ms/step - accuracy: 0.9262 - loss: 0.1914 - val_accuracy: 0.8750 - val_loss: 0.3457\n",
      "Epoch 16/35\n",
      "\u001B[1m300/300\u001B[0m \u001B[32m━━━━━━━━━━━━━━━━━━━━\u001B[0m\u001B[37m\u001B[0m \u001B[1m6s\u001B[0m 21ms/step - accuracy: 0.9294 - loss: 0.1914 - val_accuracy: 0.8930 - val_loss: 0.3055\n",
      "Epoch 17/35\n",
      "\u001B[1m300/300\u001B[0m \u001B[32m━━━━━━━━━━━━━━━━━━━━\u001B[0m\u001B[37m\u001B[0m \u001B[1m7s\u001B[0m 22ms/step - accuracy: 0.9306 - loss: 0.1788 - val_accuracy: 0.8910 - val_loss: 0.3095\n",
      "Epoch 18/35\n",
      "\u001B[1m300/300\u001B[0m \u001B[32m━━━━━━━━━━━━━━━━━━━━\u001B[0m\u001B[37m\u001B[0m \u001B[1m9s\u001B[0m 31ms/step - accuracy: 0.9359 - loss: 0.1739 - val_accuracy: 0.8952 - val_loss: 0.3048\n",
      "Epoch 19/35\n",
      "\u001B[1m300/300\u001B[0m \u001B[32m━━━━━━━━━━━━━━━━━━━━\u001B[0m\u001B[37m\u001B[0m \u001B[1m9s\u001B[0m 28ms/step - accuracy: 0.9362 - loss: 0.1689 - val_accuracy: 0.8902 - val_loss: 0.3106\n",
      "Epoch 20/35\n",
      "\u001B[1m300/300\u001B[0m \u001B[32m━━━━━━━━━━━━━━━━━━━━\u001B[0m\u001B[37m\u001B[0m \u001B[1m10s\u001B[0m 34ms/step - accuracy: 0.9346 - loss: 0.1708 - val_accuracy: 0.8908 - val_loss: 0.3246\n",
      "Epoch 21/35\n",
      "\u001B[1m300/300\u001B[0m \u001B[32m━━━━━━━━━━━━━━━━━━━━\u001B[0m\u001B[37m\u001B[0m \u001B[1m7s\u001B[0m 23ms/step - accuracy: 0.9430 - loss: 0.1526 - val_accuracy: 0.8944 - val_loss: 0.3089\n",
      "Epoch 22/35\n",
      "\u001B[1m300/300\u001B[0m \u001B[32m━━━━━━━━━━━━━━━━━━━━\u001B[0m\u001B[37m\u001B[0m \u001B[1m7s\u001B[0m 23ms/step - accuracy: 0.9453 - loss: 0.1489 - val_accuracy: 0.8910 - val_loss: 0.3155\n",
      "Epoch 23/35\n",
      "\u001B[1m300/300\u001B[0m \u001B[32m━━━━━━━━━━━━━━━━━━━━\u001B[0m\u001B[37m\u001B[0m \u001B[1m7s\u001B[0m 23ms/step - accuracy: 0.9474 - loss: 0.1443 - val_accuracy: 0.8892 - val_loss: 0.3196\n",
      "Epoch 24/35\n",
      "\u001B[1m300/300\u001B[0m \u001B[32m━━━━━━━━━━━━━━━━━━━━\u001B[0m\u001B[37m\u001B[0m \u001B[1m7s\u001B[0m 23ms/step - accuracy: 0.9492 - loss: 0.1383 - val_accuracy: 0.8866 - val_loss: 0.3293\n",
      "Epoch 25/35\n",
      "\u001B[1m300/300\u001B[0m \u001B[32m━━━━━━━━━━━━━━━━━━━━\u001B[0m\u001B[37m\u001B[0m \u001B[1m7s\u001B[0m 23ms/step - accuracy: 0.9468 - loss: 0.1444 - val_accuracy: 0.8936 - val_loss: 0.3280\n",
      "Epoch 26/35\n",
      "\u001B[1m300/300\u001B[0m \u001B[32m━━━━━━━━━━━━━━━━━━━━\u001B[0m\u001B[37m\u001B[0m \u001B[1m7s\u001B[0m 22ms/step - accuracy: 0.9498 - loss: 0.1314 - val_accuracy: 0.8932 - val_loss: 0.3223\n",
      "Epoch 27/35\n",
      "\u001B[1m300/300\u001B[0m \u001B[32m━━━━━━━━━━━━━━━━━━━━\u001B[0m\u001B[37m\u001B[0m \u001B[1m7s\u001B[0m 22ms/step - accuracy: 0.9503 - loss: 0.1303 - val_accuracy: 0.8924 - val_loss: 0.3303\n",
      "Epoch 28/35\n",
      "\u001B[1m300/300\u001B[0m \u001B[32m━━━━━━━━━━━━━━━━━━━━\u001B[0m\u001B[37m\u001B[0m \u001B[1m7s\u001B[0m 24ms/step - accuracy: 0.9545 - loss: 0.1210 - val_accuracy: 0.8950 - val_loss: 0.3411\n",
      "Epoch 29/35\n",
      "\u001B[1m300/300\u001B[0m \u001B[32m━━━━━━━━━━━━━━━━━━━━\u001B[0m\u001B[37m\u001B[0m \u001B[1m9s\u001B[0m 28ms/step - accuracy: 0.9577 - loss: 0.1157 - val_accuracy: 0.8916 - val_loss: 0.3437\n",
      "Epoch 30/35\n",
      "\u001B[1m300/300\u001B[0m \u001B[32m━━━━━━━━━━━━━━━━━━━━\u001B[0m\u001B[37m\u001B[0m \u001B[1m7s\u001B[0m 23ms/step - accuracy: 0.9567 - loss: 0.1196 - val_accuracy: 0.8910 - val_loss: 0.3548\n",
      "Epoch 31/35\n",
      "\u001B[1m300/300\u001B[0m \u001B[32m━━━━━━━━━━━━━━━━━━━━\u001B[0m\u001B[37m\u001B[0m \u001B[1m7s\u001B[0m 23ms/step - accuracy: 0.9582 - loss: 0.1160 - val_accuracy: 0.8878 - val_loss: 0.3620\n",
      "Epoch 32/35\n",
      "\u001B[1m300/300\u001B[0m \u001B[32m━━━━━━━━━━━━━━━━━━━━\u001B[0m\u001B[37m\u001B[0m \u001B[1m7s\u001B[0m 23ms/step - accuracy: 0.9572 - loss: 0.1147 - val_accuracy: 0.8924 - val_loss: 0.3506\n",
      "Epoch 33/35\n",
      "\u001B[1m300/300\u001B[0m \u001B[32m━━━━━━━━━━━━━━━━━━━━\u001B[0m\u001B[37m\u001B[0m \u001B[1m7s\u001B[0m 23ms/step - accuracy: 0.9624 - loss: 0.1073 - val_accuracy: 0.8930 - val_loss: 0.3624\n",
      "Epoch 34/35\n",
      "\u001B[1m300/300\u001B[0m \u001B[32m━━━━━━━━━━━━━━━━━━━━\u001B[0m\u001B[37m\u001B[0m \u001B[1m7s\u001B[0m 23ms/step - accuracy: 0.9633 - loss: 0.1007 - val_accuracy: 0.8932 - val_loss: 0.3575\n",
      "Epoch 35/35\n",
      "\u001B[1m300/300\u001B[0m \u001B[32m━━━━━━━━━━━━━━━━━━━━\u001B[0m\u001B[37m\u001B[0m \u001B[1m7s\u001B[0m 23ms/step - accuracy: 0.9645 - loss: 0.0978 - val_accuracy: 0.8892 - val_loss: 0.3794\n",
      "\u001B[1m157/157\u001B[0m \u001B[32m━━━━━━━━━━━━━━━━━━━━\u001B[0m\u001B[37m\u001B[0m \u001B[1m1s\u001B[0m 8ms/step\n"
     ]
    }
   ],
   "execution_count": 15
  },
  {
   "cell_type": "code",
   "id": "7516a8561e984291",
   "metadata": {
    "colab": {
     "base_uri": "https://localhost:8080/"
    },
    "id": "7516a8561e984291",
    "outputId": "e0710477-5b2b-45c9-dc20-5157386a808c",
    "ExecuteTime": {
     "end_time": "2024-06-20T10:44:43.011211Z",
     "start_time": "2024-06-20T10:44:42.993484Z"
    }
   },
   "source": [
    "prediction_fashion_y = np.argmax(predictions_from_numbers, axis=-1)\n",
    "# Получаем отчет о классификации\n",
    "report = classification_report(filtered_test_labels, prediction_fashion_y)\n",
    "print(report)"
   ],
   "outputs": [
    {
     "name": "stdout",
     "output_type": "stream",
     "text": [
      "              precision    recall  f1-score   support\n",
      "\n",
      "           0       0.94      0.91      0.92      1000\n",
      "           1       0.98      0.97      0.98      1000\n",
      "           2       0.86      0.82      0.84      1000\n",
      "           3       0.92      0.85      0.88      1000\n",
      "           4       0.77      0.90      0.83      1000\n",
      "\n",
      "    accuracy                           0.89      5000\n",
      "   macro avg       0.89      0.89      0.89      5000\n",
      "weighted avg       0.89      0.89      0.89      5000\n",
      "\n"
     ]
    }
   ],
   "execution_count": 16
  },
  {
   "cell_type": "code",
   "id": "1c1a43cb9945a35f",
   "metadata": {
    "colab": {
     "base_uri": "https://localhost:8080/",
     "height": 807
    },
    "id": "1c1a43cb9945a35f",
    "outputId": "6505e0f7-6270-4487-db55-03401faa6033",
    "ExecuteTime": {
     "end_time": "2024-06-20T10:44:43.712935Z",
     "start_time": "2024-06-20T10:44:43.012261Z"
    }
   },
   "source": [
    "import numpy as np\n",
    "from sklearn.metrics import confusion_matrix, ConfusionMatrixDisplay\n",
    "import matplotlib.pyplot as plt\n",
    "\n",
    "# Вычисляем confusion matrix\n",
    "cm = confusion_matrix(filtered_test_labels, prediction_fashion_y)\n",
    "\n",
    "# Визуализируем confusion matrix\n",
    "fig, ax = plt.subplots(figsize=(10, 10))\n",
    "ConfusionMatrixDisplay(cm, display_labels=[0, 1, 2, 3, 4]).plot(ax=ax)\n",
    "plt.show()"
   ],
   "outputs": [
    {
     "data": {
      "text/plain": [
       "<Figure size 1000x1000 with 2 Axes>"
      ],
      "image/png": "[encoded data removed]"
     },
     "metadata": {},
     "output_type": "display_data"
    }
   ],
   "execution_count": 17
  },
  {
   "cell_type": "markdown",
   "source": [
    "# Задание 2\n",
    "Обучиться на мнист цифры с self target и перенести на одежду (5 классов)\n",
    "\n"
   ],
   "metadata": {
    "id": "2VC17CIgYO1i"
   },
   "id": "2VC17CIgYO1i"
  },
  {
   "cell_type": "code",
   "id": "97a5f85946ce3410",
   "metadata": {
    "id": "97a5f85946ce3410",
    "ExecuteTime": {
     "end_time": "2024-06-20T10:44:43.764043Z",
     "start_time": "2024-06-20T10:44:43.714956Z"
    }
   },
   "source": [
    "# ЗАДАНИЕ 2\n",
    "\n",
    "# Архитектура сверточного автоэнкодера\n",
    "input_img = Input(shape=(28, 28, 1))  # MNIST - черно-белые изображения\n",
    "\n",
    "# Энкодер\n",
    "x = Conv2D(32, (3, 3), activation='relu', padding='same')(input_img)\n",
    "x = MaxPooling2D((2, 2), padding='same')(x)\n",
    "x = Conv2D(64, (3, 3), activation='relu', padding='same')(x)\n",
    "encoded = MaxPooling2D((2, 2), padding='same')(x)\n",
    "\n",
    "# Декодер\n",
    "x = Conv2D(64, (3, 3), activation='relu', padding='same')(encoded)\n",
    "x = UpSampling2D((2, 2))(x)\n",
    "x = Conv2D(32, (3, 3), activation='relu', padding='same')(x)\n",
    "x = UpSampling2D((2, 2))(x)\n",
    "decoded = Conv2D(1, (3, 3), activation='sigmoid', padding='same')(x)\n",
    "\n",
    "optimizer = Adam(learning_rate=0.01)\n",
    "# Сборка автоэнкодера\n",
    "autoencoder = Model(input_img, decoded)\n",
    "autoencoder.compile(optimizer=optimizer, loss='binary_crossentropy')\n",
    "\n",
    "# Предполагается, что mnist_train и mnist_test имеют размерность (num_samples, 28, 28)\n",
    "# Мы просто изменяем размерность данных для соответствия форме (num_samples, 28, 28, 1)\n",
    "mnist_train = mnist_train_X.reshape(-1, 28, 28, 1)\n",
    "mnist_test = mnist_test_X.reshape(-1, 28, 28, 1)"
   ],
   "outputs": [],
   "execution_count": 18
  },
  {
   "cell_type": "code",
   "id": "765e2c871f1c1c1",
   "metadata": {
    "colab": {
     "base_uri": "https://localhost:8080/"
    },
    "id": "765e2c871f1c1c1",
    "outputId": "38752c6a-42ca-4060-c600-e4a49206e419",
    "ExecuteTime": {
     "end_time": "2024-06-20T10:57:37.834262Z",
     "start_time": "2024-06-20T10:44:43.765048Z"
    }
   },
   "source": [
    "# Обучение автоэнкодера\n",
    "autoencoder.fit(mnist_train, mnist_train,\n",
    "                epochs=35,\n",
    "                batch_size=256,\n",
    "                validation_data=(mnist_test, mnist_test))"
   ],
   "outputs": [
    {
     "name": "stdout",
     "output_type": "stream",
     "text": [
      "Epoch 1/35\n",
      "\u001B[1m188/188\u001B[0m \u001B[32m━━━━━━━━━━━━━━━━━━━━\u001B[0m\u001B[37m\u001B[0m \u001B[1m25s\u001B[0m 124ms/step - loss: 0.2037 - val_loss: 0.0786\n",
      "Epoch 2/35\n",
      "\u001B[1m188/188\u001B[0m \u001B[32m━━━━━━━━━━━━━━━━━━━━\u001B[0m\u001B[37m\u001B[0m \u001B[1m22s\u001B[0m 116ms/step - loss: 0.0779 - val_loss: 0.0733\n",
      "Epoch 3/35\n",
      "\u001B[1m188/188\u001B[0m \u001B[32m━━━━━━━━━━━━━━━━━━━━\u001B[0m\u001B[37m\u001B[0m \u001B[1m21s\u001B[0m 114ms/step - loss: 0.0729 - val_loss: 0.0712\n",
      "Epoch 4/35\n",
      "\u001B[1m188/188\u001B[0m \u001B[32m━━━━━━━━━━━━━━━━━━━━\u001B[0m\u001B[37m\u001B[0m \u001B[1m20s\u001B[0m 108ms/step - loss: 0.0713 - val_loss: 0.0705\n",
      "Epoch 5/35\n",
      "\u001B[1m188/188\u001B[0m \u001B[32m━━━━━━━━━━━━━━━━━━━━\u001B[0m\u001B[37m\u001B[0m \u001B[1m21s\u001B[0m 112ms/step - loss: 0.0702 - val_loss: 0.0693\n",
      "Epoch 6/35\n",
      "\u001B[1m188/188\u001B[0m \u001B[32m━━━━━━━━━━━━━━━━━━━━\u001B[0m\u001B[37m\u001B[0m \u001B[1m23s\u001B[0m 125ms/step - loss: 0.0691 - val_loss: 0.0687\n",
      "Epoch 7/35\n",
      "\u001B[1m188/188\u001B[0m \u001B[32m━━━━━━━━━━━━━━━━━━━━\u001B[0m\u001B[37m\u001B[0m \u001B[1m24s\u001B[0m 127ms/step - loss: 0.0689 - val_loss: 0.0683\n",
      "Epoch 8/35\n",
      "\u001B[1m188/188\u001B[0m \u001B[32m━━━━━━━━━━━━━━━━━━━━\u001B[0m\u001B[37m\u001B[0m \u001B[1m21s\u001B[0m 114ms/step - loss: 0.0685 - val_loss: 0.0678\n",
      "Epoch 9/35\n",
      "\u001B[1m188/188\u001B[0m \u001B[32m━━━━━━━━━━━━━━━━━━━━\u001B[0m\u001B[37m\u001B[0m \u001B[1m21s\u001B[0m 113ms/step - loss: 0.0681 - val_loss: 0.0675\n",
      "Epoch 10/35\n",
      "\u001B[1m188/188\u001B[0m \u001B[32m━━━━━━━━━━━━━━━━━━━━\u001B[0m\u001B[37m\u001B[0m \u001B[1m21s\u001B[0m 114ms/step - loss: 0.0677 - val_loss: 0.0672\n",
      "Epoch 11/35\n",
      "\u001B[1m188/188\u001B[0m \u001B[32m━━━━━━━━━━━━━━━━━━━━\u001B[0m\u001B[37m\u001B[0m \u001B[1m22s\u001B[0m 116ms/step - loss: 0.0675 - val_loss: 0.0670\n",
      "Epoch 12/35\n",
      "\u001B[1m188/188\u001B[0m \u001B[32m━━━━━━━━━━━━━━━━━━━━\u001B[0m\u001B[37m\u001B[0m \u001B[1m21s\u001B[0m 114ms/step - loss: 0.0671 - val_loss: 0.0684\n",
      "Epoch 13/35\n",
      "\u001B[1m188/188\u001B[0m \u001B[32m━━━━━━━━━━━━━━━━━━━━\u001B[0m\u001B[37m\u001B[0m \u001B[1m22s\u001B[0m 117ms/step - loss: 0.0671 - val_loss: 0.0667\n",
      "Epoch 14/35\n",
      "\u001B[1m188/188\u001B[0m \u001B[32m━━━━━━━━━━━━━━━━━━━━\u001B[0m\u001B[37m\u001B[0m \u001B[1m22s\u001B[0m 116ms/step - loss: 0.0669 - val_loss: 0.0667\n",
      "Epoch 15/35\n",
      "\u001B[1m188/188\u001B[0m \u001B[32m━━━━━━━━━━━━━━━━━━━━\u001B[0m\u001B[37m\u001B[0m \u001B[1m22s\u001B[0m 116ms/step - loss: 0.0666 - val_loss: 0.0678\n",
      "Epoch 16/35\n",
      "\u001B[1m188/188\u001B[0m \u001B[32m━━━━━━━━━━━━━━━━━━━━\u001B[0m\u001B[37m\u001B[0m \u001B[1m22s\u001B[0m 116ms/step - loss: 0.0667 - val_loss: 0.0667\n",
      "Epoch 17/35\n",
      "\u001B[1m188/188\u001B[0m \u001B[32m━━━━━━━━━━━━━━━━━━━━\u001B[0m\u001B[37m\u001B[0m \u001B[1m22s\u001B[0m 117ms/step - loss: 0.0664 - val_loss: 0.0664\n",
      "Epoch 18/35\n",
      "\u001B[1m188/188\u001B[0m \u001B[32m━━━━━━━━━━━━━━━━━━━━\u001B[0m\u001B[37m\u001B[0m \u001B[1m21s\u001B[0m 114ms/step - loss: 0.0662 - val_loss: 0.0660\n",
      "Epoch 19/35\n",
      "\u001B[1m188/188\u001B[0m \u001B[32m━━━━━━━━━━━━━━━━━━━━\u001B[0m\u001B[37m\u001B[0m \u001B[1m22s\u001B[0m 115ms/step - loss: 0.0661 - val_loss: 0.0659\n",
      "Epoch 20/35\n",
      "\u001B[1m188/188\u001B[0m \u001B[32m━━━━━━━━━━━━━━━━━━━━\u001B[0m\u001B[37m\u001B[0m \u001B[1m22s\u001B[0m 116ms/step - loss: 0.0662 - val_loss: 0.0659\n",
      "Epoch 21/35\n",
      "\u001B[1m188/188\u001B[0m \u001B[32m━━━━━━━━━━━━━━━━━━━━\u001B[0m\u001B[37m\u001B[0m \u001B[1m22s\u001B[0m 115ms/step - loss: 0.0663 - val_loss: 0.0656\n",
      "Epoch 22/35\n",
      "\u001B[1m188/188\u001B[0m \u001B[32m━━━━━━━━━━━━━━━━━━━━\u001B[0m\u001B[37m\u001B[0m \u001B[1m23s\u001B[0m 120ms/step - loss: 0.0658 - val_loss: 0.0657\n",
      "Epoch 23/35\n",
      "\u001B[1m188/188\u001B[0m \u001B[32m━━━━━━━━━━━━━━━━━━━━\u001B[0m\u001B[37m\u001B[0m \u001B[1m22s\u001B[0m 118ms/step - loss: 0.0657 - val_loss: 0.0656\n",
      "Epoch 24/35\n",
      "\u001B[1m188/188\u001B[0m \u001B[32m━━━━━━━━━━━━━━━━━━━━\u001B[0m\u001B[37m\u001B[0m \u001B[1m23s\u001B[0m 121ms/step - loss: 0.0660 - val_loss: 0.0659\n",
      "Epoch 25/35\n",
      "\u001B[1m188/188\u001B[0m \u001B[32m━━━━━━━━━━━━━━━━━━━━\u001B[0m\u001B[37m\u001B[0m \u001B[1m22s\u001B[0m 117ms/step - loss: 0.0655 - val_loss: 0.0655\n",
      "Epoch 26/35\n",
      "\u001B[1m188/188\u001B[0m \u001B[32m━━━━━━━━━━━━━━━━━━━━\u001B[0m\u001B[37m\u001B[0m \u001B[1m22s\u001B[0m 116ms/step - loss: 0.0655 - val_loss: 0.0659\n",
      "Epoch 27/35\n",
      "\u001B[1m188/188\u001B[0m \u001B[32m━━━━━━━━━━━━━━━━━━━━\u001B[0m\u001B[37m\u001B[0m \u001B[1m22s\u001B[0m 119ms/step - loss: 0.0657 - val_loss: 0.0653\n",
      "Epoch 28/35\n",
      "\u001B[1m188/188\u001B[0m \u001B[32m━━━━━━━━━━━━━━━━━━━━\u001B[0m\u001B[37m\u001B[0m \u001B[1m22s\u001B[0m 117ms/step - loss: 0.0657 - val_loss: 0.0678\n",
      "Epoch 29/35\n",
      "\u001B[1m188/188\u001B[0m \u001B[32m━━━━━━━━━━━━━━━━━━━━\u001B[0m\u001B[37m\u001B[0m \u001B[1m22s\u001B[0m 117ms/step - loss: 0.0658 - val_loss: 0.0658\n",
      "Epoch 30/35\n",
      "\u001B[1m188/188\u001B[0m \u001B[32m━━━━━━━━━━━━━━━━━━━━\u001B[0m\u001B[37m\u001B[0m \u001B[1m22s\u001B[0m 119ms/step - loss: 0.0654 - val_loss: 0.0653\n",
      "Epoch 31/35\n",
      "\u001B[1m188/188\u001B[0m \u001B[32m━━━━━━━━━━━━━━━━━━━━\u001B[0m\u001B[37m\u001B[0m \u001B[1m22s\u001B[0m 116ms/step - loss: 0.0653 - val_loss: 0.0654\n",
      "Epoch 32/35\n",
      "\u001B[1m188/188\u001B[0m \u001B[32m━━━━━━━━━━━━━━━━━━━━\u001B[0m\u001B[37m\u001B[0m \u001B[1m23s\u001B[0m 122ms/step - loss: 0.0655 - val_loss: 0.0651\n",
      "Epoch 33/35\n",
      "\u001B[1m188/188\u001B[0m \u001B[32m━━━━━━━━━━━━━━━━━━━━\u001B[0m\u001B[37m\u001B[0m \u001B[1m22s\u001B[0m 119ms/step - loss: 0.0651 - val_loss: 0.0653\n",
      "Epoch 34/35\n",
      "\u001B[1m188/188\u001B[0m \u001B[32m━━━━━━━━━━━━━━━━━━━━\u001B[0m\u001B[37m\u001B[0m \u001B[1m23s\u001B[0m 123ms/step - loss: 0.0651 - val_loss: 0.0669\n",
      "Epoch 35/35\n",
      "\u001B[1m188/188\u001B[0m \u001B[32m━━━━━━━━━━━━━━━━━━━━\u001B[0m\u001B[37m\u001B[0m \u001B[1m23s\u001B[0m 124ms/step - loss: 0.0655 - val_loss: 0.0650\n"
     ]
    },
    {
     "data": {
      "text/plain": [
       "<keras.src.callbacks.history.History at 0x2e5ec11e570>"
      ]
     },
     "execution_count": 19,
     "metadata": {},
     "output_type": "execute_result"
    }
   ],
   "execution_count": 19
  },
  {
   "cell_type": "code",
   "id": "983de4a03c293940",
   "metadata": {
    "colab": {
     "base_uri": "https://localhost:8080/",
     "height": 353
    },
    "id": "983de4a03c293940",
    "outputId": "d67d02e8-96d7-4fc4-8b11-bc1a20b47c03",
    "ExecuteTime": {
     "end_time": "2024-06-20T10:57:41.291695Z",
     "start_time": "2024-06-20T10:57:37.835272Z"
    }
   },
   "source": [
    "import numpy as np\n",
    "import matplotlib.pyplot as plt\n",
    "\n",
    "# Предсказание на тестовом наборе данных\n",
    "decoded_imgs = autoencoder.predict(mnist_test)\n",
    "\n",
    "n = 10  # количество изображений для отображения\n",
    "plt.figure(figsize=(20, 4))\n",
    "\n",
    "for i in range(n):\n",
    "    # Отображение оригинальных изображений\n",
    "    ax = plt.subplot(2, n, i + 1)\n",
    "    plt.imshow(mnist_test[i].reshape(28, 28))\n",
    "    plt.gray()\n",
    "    ax.get_xaxis().set_visible(False)\n",
    "    ax.get_yaxis().set_visible(False)\n",
    "\n",
    "    # Отображение восстановленных изображений\n",
    "    ax = plt.subplot(2, n, i + 1 + n)\n",
    "    plt.imshow(decoded_imgs[i].reshape(28, 28))\n",
    "    plt.gray()\n",
    "    ax.get_xaxis().set_visible(False)"
   ],
   "outputs": [
    {
     "name": "stdout",
     "output_type": "stream",
     "text": [
      "\u001B[1m375/375\u001B[0m \u001B[32m━━━━━━━━━━━━━━━━━━━━\u001B[0m\u001B[37m\u001B[0m \u001B[1m3s\u001B[0m 6ms/step\n"
     ]
    },
    {
     "data": {
      "text/plain": [
       "<Figure size 2000x400 with 20 Axes>"
      ],
      "image/png": "[encoded data removed]"
     },
     "metadata": {},
     "output_type": "display_data"
    }
   ],
   "execution_count": 20
  },
  {
   "cell_type": "code",
   "id": "9f128955d7c65188",
   "metadata": {
    "colab": {
     "base_uri": "https://localhost:8080/"
    },
    "id": "9f128955d7c65188",
    "outputId": "6188c38a-ddca-4eef-fc48-57c4fa89b6af",
    "ExecuteTime": {
     "end_time": "2024-06-20T10:59:19.123114Z",
     "start_time": "2024-06-20T10:57:41.293707Z"
    }
   },
   "source": [
    "new_autoencoder = Model(input_img, decoded)\n",
    "for layer in new_autoencoder.layers:\n",
    "    layer.trainable = False\n",
    "\n",
    "flattened = Flatten()(encoded)\n",
    "x = Dense(128, activation='relu')(flattened)\n",
    "predictions = Dense(5, activation='softmax')(x)\n",
    "\n",
    "fashion_model = Model(input_img, predictions)\n",
    "fashion_model.compile(optimizer='adam', loss='sparse_categorical_crossentropy', metrics=['accuracy'])\n",
    "fashion_model.fit(fashion_train_X, filtered_train_labels,\n",
    "                  epochs=35,\n",
    "                  batch_size=256,\n",
    "                  validation_data=(fashion_test_X, filtered_test_labels))\n",
    "\n",
    "# Предсказание\n",
    "predictions = fashion_model.predict(fashion_test_X)"
   ],
   "outputs": [
    {
     "name": "stdout",
     "output_type": "stream",
     "text": [
      "Epoch 1/35\n",
      "\u001B[1m118/118\u001B[0m \u001B[32m━━━━━━━━━━━━━━━━━━━━\u001B[0m\u001B[37m\u001B[0m \u001B[1m3s\u001B[0m 24ms/step - accuracy: 0.7494 - loss: 0.6858 - val_accuracy: 0.8764 - val_loss: 0.3537\n",
      "Epoch 2/35\n",
      "\u001B[1m118/118\u001B[0m \u001B[32m━━━━━━━━━━━━━━━━━━━━\u001B[0m\u001B[37m\u001B[0m \u001B[1m3s\u001B[0m 23ms/step - accuracy: 0.8877 - loss: 0.3181 - val_accuracy: 0.8824 - val_loss: 0.3251\n",
      "Epoch 3/35\n",
      "\u001B[1m118/118\u001B[0m \u001B[32m━━━━━━━━━━━━━━━━━━━━\u001B[0m\u001B[37m\u001B[0m \u001B[1m3s\u001B[0m 23ms/step - accuracy: 0.8995 - loss: 0.2812 - val_accuracy: 0.9010 - val_loss: 0.2843\n",
      "Epoch 4/35\n",
      "\u001B[1m118/118\u001B[0m \u001B[32m━━━━━━━━━━━━━━━━━━━━\u001B[0m\u001B[37m\u001B[0m \u001B[1m3s\u001B[0m 23ms/step - accuracy: 0.9057 - loss: 0.2623 - val_accuracy: 0.8972 - val_loss: 0.2823\n",
      "Epoch 5/35\n",
      "\u001B[1m118/118\u001B[0m \u001B[32m━━━━━━━━━━━━━━━━━━━━\u001B[0m\u001B[37m\u001B[0m \u001B[1m3s\u001B[0m 23ms/step - accuracy: 0.9105 - loss: 0.2453 - val_accuracy: 0.8756 - val_loss: 0.3219\n",
      "Epoch 6/35\n",
      "\u001B[1m118/118\u001B[0m \u001B[32m━━━━━━━━━━━━━━━━━━━━\u001B[0m\u001B[37m\u001B[0m \u001B[1m3s\u001B[0m 23ms/step - accuracy: 0.9111 - loss: 0.2422 - val_accuracy: 0.9088 - val_loss: 0.2615\n",
      "Epoch 7/35\n",
      "\u001B[1m118/118\u001B[0m \u001B[32m━━━━━━━━━━━━━━━━━━━━\u001B[0m\u001B[37m\u001B[0m \u001B[1m3s\u001B[0m 23ms/step - accuracy: 0.9166 - loss: 0.2305 - val_accuracy: 0.9062 - val_loss: 0.2562\n",
      "Epoch 8/35\n",
      "\u001B[1m118/118\u001B[0m \u001B[32m━━━━━━━━━━━━━━━━━━━━\u001B[0m\u001B[37m\u001B[0m \u001B[1m3s\u001B[0m 23ms/step - accuracy: 0.9185 - loss: 0.2219 - val_accuracy: 0.9170 - val_loss: 0.2406\n",
      "Epoch 9/35\n",
      "\u001B[1m118/118\u001B[0m \u001B[32m━━━━━━━━━━━━━━━━━━━━\u001B[0m\u001B[37m\u001B[0m \u001B[1m3s\u001B[0m 22ms/step - accuracy: 0.9222 - loss: 0.2182 - val_accuracy: 0.9152 - val_loss: 0.2370\n",
      "Epoch 10/35\n",
      "\u001B[1m118/118\u001B[0m \u001B[32m━━━━━━━━━━━━━━━━━━━━\u001B[0m\u001B[37m\u001B[0m \u001B[1m3s\u001B[0m 23ms/step - accuracy: 0.9263 - loss: 0.2055 - val_accuracy: 0.9144 - val_loss: 0.2382\n",
      "Epoch 11/35\n",
      "\u001B[1m118/118\u001B[0m \u001B[32m━━━━━━━━━━━━━━━━━━━━\u001B[0m\u001B[37m\u001B[0m \u001B[1m3s\u001B[0m 22ms/step - accuracy: 0.9235 - loss: 0.2103 - val_accuracy: 0.9186 - val_loss: 0.2330\n",
      "Epoch 12/35\n",
      "\u001B[1m118/118\u001B[0m \u001B[32m━━━━━━━━━━━━━━━━━━━━\u001B[0m\u001B[37m\u001B[0m \u001B[1m3s\u001B[0m 23ms/step - accuracy: 0.9292 - loss: 0.1958 - val_accuracy: 0.9176 - val_loss: 0.2330\n",
      "Epoch 13/35\n",
      "\u001B[1m118/118\u001B[0m \u001B[32m━━━━━━━━━━━━━━━━━━━━\u001B[0m\u001B[37m\u001B[0m \u001B[1m3s\u001B[0m 23ms/step - accuracy: 0.9278 - loss: 0.1990 - val_accuracy: 0.9060 - val_loss: 0.2536\n",
      "Epoch 14/35\n",
      "\u001B[1m118/118\u001B[0m \u001B[32m━━━━━━━━━━━━━━━━━━━━\u001B[0m\u001B[37m\u001B[0m \u001B[1m3s\u001B[0m 23ms/step - accuracy: 0.9251 - loss: 0.1994 - val_accuracy: 0.9158 - val_loss: 0.2247\n",
      "Epoch 15/35\n",
      "\u001B[1m118/118\u001B[0m \u001B[32m━━━━━━━━━━━━━━━━━━━━\u001B[0m\u001B[37m\u001B[0m \u001B[1m3s\u001B[0m 23ms/step - accuracy: 0.9265 - loss: 0.2003 - val_accuracy: 0.9172 - val_loss: 0.2266\n",
      "Epoch 16/35\n",
      "\u001B[1m118/118\u001B[0m \u001B[32m━━━━━━━━━━━━━━━━━━━━\u001B[0m\u001B[37m\u001B[0m \u001B[1m3s\u001B[0m 24ms/step - accuracy: 0.9282 - loss: 0.1945 - val_accuracy: 0.9176 - val_loss: 0.2260\n",
      "Epoch 17/35\n",
      "\u001B[1m118/118\u001B[0m \u001B[32m━━━━━━━━━━━━━━━━━━━━\u001B[0m\u001B[37m\u001B[0m \u001B[1m3s\u001B[0m 26ms/step - accuracy: 0.9319 - loss: 0.1829 - val_accuracy: 0.9172 - val_loss: 0.2271\n",
      "Epoch 18/35\n",
      "\u001B[1m118/118\u001B[0m \u001B[32m━━━━━━━━━━━━━━━━━━━━\u001B[0m\u001B[37m\u001B[0m \u001B[1m3s\u001B[0m 26ms/step - accuracy: 0.9334 - loss: 0.1827 - val_accuracy: 0.9220 - val_loss: 0.2211\n",
      "Epoch 19/35\n",
      "\u001B[1m118/118\u001B[0m \u001B[32m━━━━━━━━━━━━━━━━━━━━\u001B[0m\u001B[37m\u001B[0m \u001B[1m3s\u001B[0m 26ms/step - accuracy: 0.9341 - loss: 0.1824 - val_accuracy: 0.9150 - val_loss: 0.2397\n",
      "Epoch 20/35\n",
      "\u001B[1m118/118\u001B[0m \u001B[32m━━━━━━━━━━━━━━━━━━━━\u001B[0m\u001B[37m\u001B[0m \u001B[1m3s\u001B[0m 24ms/step - accuracy: 0.9340 - loss: 0.1820 - val_accuracy: 0.9114 - val_loss: 0.2391\n",
      "Epoch 21/35\n",
      "\u001B[1m118/118\u001B[0m \u001B[32m━━━━━━━━━━━━━━━━━━━━\u001B[0m\u001B[37m\u001B[0m \u001B[1m3s\u001B[0m 24ms/step - accuracy: 0.9319 - loss: 0.1847 - val_accuracy: 0.9190 - val_loss: 0.2249\n",
      "Epoch 22/35\n",
      "\u001B[1m118/118\u001B[0m \u001B[32m━━━━━━━━━━━━━━━━━━━━\u001B[0m\u001B[37m\u001B[0m \u001B[1m3s\u001B[0m 23ms/step - accuracy: 0.9360 - loss: 0.1752 - val_accuracy: 0.9250 - val_loss: 0.2224\n",
      "Epoch 23/35\n",
      "\u001B[1m118/118\u001B[0m \u001B[32m━━━━━━━━━━━━━━━━━━━━\u001B[0m\u001B[37m\u001B[0m \u001B[1m3s\u001B[0m 23ms/step - accuracy: 0.9353 - loss: 0.1784 - val_accuracy: 0.9202 - val_loss: 0.2295\n",
      "Epoch 24/35\n",
      "\u001B[1m118/118\u001B[0m \u001B[32m━━━━━━━━━━━━━━━━━━━━\u001B[0m\u001B[37m\u001B[0m \u001B[1m3s\u001B[0m 23ms/step - accuracy: 0.9323 - loss: 0.1806 - val_accuracy: 0.9158 - val_loss: 0.2361\n",
      "Epoch 25/35\n",
      "\u001B[1m118/118\u001B[0m \u001B[32m━━━━━━━━━━━━━━━━━━━━\u001B[0m\u001B[37m\u001B[0m \u001B[1m3s\u001B[0m 22ms/step - accuracy: 0.9390 - loss: 0.1693 - val_accuracy: 0.9268 - val_loss: 0.2111\n",
      "Epoch 26/35\n",
      "\u001B[1m118/118\u001B[0m \u001B[32m━━━━━━━━━━━━━━━━━━━━\u001B[0m\u001B[37m\u001B[0m \u001B[1m3s\u001B[0m 23ms/step - accuracy: 0.9417 - loss: 0.1591 - val_accuracy: 0.9248 - val_loss: 0.2188\n",
      "Epoch 27/35\n",
      "\u001B[1m118/118\u001B[0m \u001B[32m━━━━━━━━━━━━━━━━━━━━\u001B[0m\u001B[37m\u001B[0m \u001B[1m3s\u001B[0m 22ms/step - accuracy: 0.9338 - loss: 0.1771 - val_accuracy: 0.9200 - val_loss: 0.2273\n",
      "Epoch 28/35\n",
      "\u001B[1m118/118\u001B[0m \u001B[32m━━━━━━━━━━━━━━━━━━━━\u001B[0m\u001B[37m\u001B[0m \u001B[1m3s\u001B[0m 23ms/step - accuracy: 0.9385 - loss: 0.1686 - val_accuracy: 0.9258 - val_loss: 0.2124\n",
      "Epoch 29/35\n",
      "\u001B[1m118/118\u001B[0m \u001B[32m━━━━━━━━━━━━━━━━━━━━\u001B[0m\u001B[37m\u001B[0m \u001B[1m3s\u001B[0m 23ms/step - accuracy: 0.9386 - loss: 0.1664 - val_accuracy: 0.9256 - val_loss: 0.2084\n",
      "Epoch 30/35\n",
      "\u001B[1m118/118\u001B[0m \u001B[32m━━━━━━━━━━━━━━━━━━━━\u001B[0m\u001B[37m\u001B[0m \u001B[1m3s\u001B[0m 23ms/step - accuracy: 0.9426 - loss: 0.1594 - val_accuracy: 0.9218 - val_loss: 0.2230\n",
      "Epoch 31/35\n",
      "\u001B[1m118/118\u001B[0m \u001B[32m━━━━━━━━━━━━━━━━━━━━\u001B[0m\u001B[37m\u001B[0m \u001B[1m3s\u001B[0m 23ms/step - accuracy: 0.9418 - loss: 0.1582 - val_accuracy: 0.9232 - val_loss: 0.2178\n",
      "Epoch 32/35\n",
      "\u001B[1m118/118\u001B[0m \u001B[32m━━━━━━━━━━━━━━━━━━━━\u001B[0m\u001B[37m\u001B[0m \u001B[1m3s\u001B[0m 23ms/step - accuracy: 0.9379 - loss: 0.1667 - val_accuracy: 0.9258 - val_loss: 0.2116\n",
      "Epoch 33/35\n",
      "\u001B[1m118/118\u001B[0m \u001B[32m━━━━━━━━━━━━━━━━━━━━\u001B[0m\u001B[37m\u001B[0m \u001B[1m3s\u001B[0m 23ms/step - accuracy: 0.9422 - loss: 0.1591 - val_accuracy: 0.9292 - val_loss: 0.2015\n",
      "Epoch 34/35\n",
      "\u001B[1m118/118\u001B[0m \u001B[32m━━━━━━━━━━━━━━━━━━━━\u001B[0m\u001B[37m\u001B[0m \u001B[1m3s\u001B[0m 22ms/step - accuracy: 0.9424 - loss: 0.1514 - val_accuracy: 0.9272 - val_loss: 0.2125\n",
      "Epoch 35/35\n",
      "\u001B[1m118/118\u001B[0m \u001B[32m━━━━━━━━━━━━━━━━━━━━\u001B[0m\u001B[37m\u001B[0m \u001B[1m3s\u001B[0m 23ms/step - accuracy: 0.9467 - loss: 0.1462 - val_accuracy: 0.9212 - val_loss: 0.2219\n",
      "\u001B[1m157/157\u001B[0m \u001B[32m━━━━━━━━━━━━━━━━━━━━\u001B[0m\u001B[37m\u001B[0m \u001B[1m1s\u001B[0m 4ms/step\n"
     ]
    }
   ],
   "execution_count": 21
  },
  {
   "cell_type": "code",
   "id": "ba01b6f52d4b860c",
   "metadata": {
    "colab": {
     "base_uri": "https://localhost:8080/",
     "height": 807
    },
    "id": "ba01b6f52d4b860c",
    "outputId": "b61a0491-667e-4f98-b610-6f4eab86c1eb",
    "ExecuteTime": {
     "end_time": "2024-06-20T10:59:19.303569Z",
     "start_time": "2024-06-20T10:59:19.124120Z"
    }
   },
   "source": [
    "import numpy as np\n",
    "from sklearn.metrics import confusion_matrix, ConfusionMatrixDisplay\n",
    "import matplotlib.pyplot as plt\n",
    "\n",
    "# Получаем предсказанные метки классов из вероятностных предсказаний\n",
    "predicted_labels = np.argmax(predictions, axis=-1)\n",
    "\n",
    "# Вычисляем confusion matrix\n",
    "cm = confusion_matrix(filtered_test_labels, predicted_labels)\n",
    "\n",
    "# Визуализируем confusion matrix\n",
    "fig, ax = plt.subplots(figsize=(10, 10))\n",
    "ConfusionMatrixDisplay(cm, display_labels=[0, 1, 2, 3, 4]).plot(ax=ax)\n",
    "plt.show()"
   ],
   "outputs": [
    {
     "data": {
      "text/plain": [
       "<Figure size 1000x1000 with 2 Axes>"
      ],
      "image/png": "[encoded data removed]"
     },
     "metadata": {},
     "output_type": "display_data"
    }
   ],
   "execution_count": 22
  },
  {
   "cell_type": "code",
   "id": "25d22929f74ae927",
   "metadata": {
    "colab": {
     "base_uri": "https://localhost:8080/"
    },
    "id": "25d22929f74ae927",
    "outputId": "1bdcc9ab-8109-47fa-e977-1d498101b42e",
    "ExecuteTime": {
     "end_time": "2024-06-20T10:59:19.313468Z",
     "start_time": "2024-06-20T10:59:19.304575Z"
    }
   },
   "source": [
    "from sklearn.metrics import precision_recall_fscore_support\n",
    "\n",
    "precision, recall, f1, _ = precision_recall_fscore_support(filtered_test_labels, predicted_labels, average='macro')\n",
    "\n",
    "# Print the metrics\n",
    "print(f\"Precision: {precision:.2f}\")\n",
    "print(f\"Recall: {recall:.2f}\")\n",
    "print(f\"F1-score: {f1:.2f}\")"
   ],
   "outputs": [
    {
     "name": "stdout",
     "output_type": "stream",
     "text": [
      "Precision: 0.92\n",
      "Recall: 0.92\n",
      "F1-score: 0.92\n"
     ]
    }
   ],
   "execution_count": 23
  },
  {
   "cell_type": "code",
   "id": "627f5cb729778f70",
   "metadata": {
    "colab": {
     "base_uri": "https://localhost:8080/"
    },
    "id": "627f5cb729778f70",
    "outputId": "fba1905a-345e-4eca-ef41-52961b04330c",
    "ExecuteTime": {
     "end_time": "2024-06-20T10:59:19.332091Z",
     "start_time": "2024-06-20T10:59:19.315475Z"
    }
   },
   "source": [
    "# Получаем отчет о классификации\n",
    "report = classification_report(filtered_test_labels, predicted_labels)\n",
    "print(report)"
   ],
   "outputs": [
    {
     "name": "stdout",
     "output_type": "stream",
     "text": [
      "              precision    recall  f1-score   support\n",
      "\n",
      "           0       0.95      0.94      0.94      1000\n",
      "           1       0.99      0.98      0.99      1000\n",
      "           2       0.94      0.81      0.87      1000\n",
      "           3       0.90      0.94      0.92      1000\n",
      "           4       0.84      0.94      0.88      1000\n",
      "\n",
      "    accuracy                           0.92      5000\n",
      "   macro avg       0.92      0.92      0.92      5000\n",
      "weighted avg       0.92      0.92      0.92      5000\n",
      "\n"
     ]
    }
   ],
   "execution_count": 24
  },
  {
   "cell_type": "markdown",
   "id": "5caafd22e3f6cf",
   "metadata": {
    "id": "5caafd22e3f6cf"
   },
   "source": [
    "# Задание 3\n",
    "Попробовать сделать полносвязную сеть для классификации mnist цифры"
   ]
  },
  {
   "cell_type": "code",
   "source": [
    "# Загрузка и предобработка данных\n",
    "(mnist_train_X, mnist_train_y), (mnist_test_X, mnist_test_y) = tf.keras.datasets.mnist.load_data()\n",
    "\n",
    "# Нормализация данных\n",
    "mnist_train = mnist_train_X.astype('float32') / 255.\n",
    "mnist_test = mnist_test_X.astype('float32') / 255.\n",
    "\n",
    "mnist_train = mnist_train.reshape(-1, 28, 28, 1)\n",
    "mnist_test = mnist_test.reshape(-1, 28, 28, 1)\n",
    "\n",
    "# Архитектура автоэнкодера\n",
    "input_img = Input(shape=(28, 28, 1))\n",
    "x = Flatten()(input_img)\n",
    "x = Dense(512, activation='relu')(x)\n",
    "x = Dense(256, activation='relu')(x)\n",
    "encoded = Dense(128, activation='relu')(x)\n",
    "\n",
    "x = Dense(256, activation='relu')(encoded)\n",
    "x = Dense(512, activation='relu')(x)\n",
    "x = Dense(28*28, activation='sigmoid')(x)\n",
    "decoded = Reshape((28, 28, 1))(x)\n",
    "\n",
    "autoencoder = Model(input_img, decoded)\n",
    "\n",
    "optimizer = Adam(learning_rate=0.001)\n",
    "# Обучение автоэнкодера на MNIST\n",
    "autoencoder.compile(optimizer=optimizer, loss='mse', metrics=['accuracy'])\n",
    "autoencoder.fit(mnist_train, mnist_train,\n",
    "                epochs=50,\n",
    "                batch_size=512,\n",
    "                validation_data=(mnist_test, mnist_test))"
   ],
   "metadata": {
    "colab": {
     "base_uri": "https://localhost:8080/"
    },
    "id": "XCZnwHdR-r8U",
    "outputId": "0a237856-0162-4b41-c087-21303d2bf903",
    "ExecuteTime": {
     "end_time": "2024-06-20T11:01:47.627901Z",
     "start_time": "2024-06-20T10:59:19.333105Z"
    }
   },
   "id": "XCZnwHdR-r8U",
   "outputs": [
    {
     "name": "stdout",
     "output_type": "stream",
     "text": [
      "Epoch 1/50\n",
      "\u001B[1m118/118\u001B[0m \u001B[32m━━━━━━━━━━━━━━━━━━━━\u001B[0m\u001B[37m\u001B[0m \u001B[1m4s\u001B[0m 24ms/step - accuracy: 0.7564 - loss: 0.0931 - val_accuracy: 0.8074 - val_loss: 0.0321\n",
      "Epoch 2/50\n",
      "\u001B[1m118/118\u001B[0m \u001B[32m━━━━━━━━━━━━━━━━━━━━\u001B[0m\u001B[37m\u001B[0m \u001B[1m3s\u001B[0m 23ms/step - accuracy: 0.8084 - loss: 0.0279 - val_accuracy: 0.8085 - val_loss: 0.0201\n",
      "Epoch 3/50\n",
      "\u001B[1m118/118\u001B[0m \u001B[32m━━━━━━━━━━━━━━━━━━━━\u001B[0m\u001B[37m\u001B[0m \u001B[1m3s\u001B[0m 24ms/step - accuracy: 0.8119 - loss: 0.0181 - val_accuracy: 0.8124 - val_loss: 0.0143\n",
      "Epoch 4/50\n",
      "\u001B[1m118/118\u001B[0m \u001B[32m━━━━━━━━━━━━━━━━━━━━\u001B[0m\u001B[37m\u001B[0m \u001B[1m3s\u001B[0m 24ms/step - accuracy: 0.8133 - loss: 0.0143 - val_accuracy: 0.8123 - val_loss: 0.0131\n",
      "Epoch 5/50\n",
      "\u001B[1m118/118\u001B[0m \u001B[32m━━━━━━━━━━━━━━━━━━━━\u001B[0m\u001B[37m\u001B[0m \u001B[1m5s\u001B[0m 24ms/step - accuracy: 0.8137 - loss: 0.0125 - val_accuracy: 0.8134 - val_loss: 0.0111\n",
      "Epoch 6/50\n",
      "\u001B[1m118/118\u001B[0m \u001B[32m━━━━━━━━━━━━━━━━━━━━\u001B[0m\u001B[37m\u001B[0m \u001B[1m3s\u001B[0m 24ms/step - accuracy: 0.8141 - loss: 0.0110 - val_accuracy: 0.8135 - val_loss: 0.0099\n",
      "Epoch 7/50\n",
      "\u001B[1m118/118\u001B[0m \u001B[32m━━━━━━━━━━━━━━━━━━━━\u001B[0m\u001B[37m\u001B[0m \u001B[1m3s\u001B[0m 24ms/step - accuracy: 0.8144 - loss: 0.0099 - val_accuracy: 0.8136 - val_loss: 0.0092\n",
      "Epoch 8/50\n",
      "\u001B[1m118/118\u001B[0m \u001B[32m━━━━━━━━━━━━━━━━━━━━\u001B[0m\u001B[37m\u001B[0m \u001B[1m3s\u001B[0m 23ms/step - accuracy: 0.8145 - loss: 0.0092 - val_accuracy: 0.8137 - val_loss: 0.0085\n",
      "Epoch 9/50\n",
      "\u001B[1m118/118\u001B[0m \u001B[32m━━━━━━━━━━━━━━━━━━━━\u001B[0m\u001B[37m\u001B[0m \u001B[1m3s\u001B[0m 24ms/step - accuracy: 0.8149 - loss: 0.0085 - val_accuracy: 0.8139 - val_loss: 0.0080\n",
      "Epoch 10/50\n",
      "\u001B[1m118/118\u001B[0m \u001B[32m━━━━━━━━━━━━━━━━━━━━\u001B[0m\u001B[37m\u001B[0m \u001B[1m3s\u001B[0m 23ms/step - accuracy: 0.8152 - loss: 0.0081 - val_accuracy: 0.8139 - val_loss: 0.0076\n",
      "Epoch 11/50\n",
      "\u001B[1m118/118\u001B[0m \u001B[32m━━━━━━━━━━━━━━━━━━━━\u001B[0m\u001B[37m\u001B[0m \u001B[1m3s\u001B[0m 26ms/step - accuracy: 0.8152 - loss: 0.0077 - val_accuracy: 0.8140 - val_loss: 0.0074\n",
      "Epoch 12/50\n",
      "\u001B[1m118/118\u001B[0m \u001B[32m━━━━━━━━━━━━━━━━━━━━\u001B[0m\u001B[37m\u001B[0m \u001B[1m3s\u001B[0m 24ms/step - accuracy: 0.8150 - loss: 0.0073 - val_accuracy: 0.8140 - val_loss: 0.0069\n",
      "Epoch 13/50\n",
      "\u001B[1m118/118\u001B[0m \u001B[32m━━━━━━━━━━━━━━━━━━━━\u001B[0m\u001B[37m\u001B[0m \u001B[1m3s\u001B[0m 24ms/step - accuracy: 0.8149 - loss: 0.0070 - val_accuracy: 0.8140 - val_loss: 0.0070\n",
      "Epoch 14/50\n",
      "\u001B[1m118/118\u001B[0m \u001B[32m━━━━━━━━━━━━━━━━━━━━\u001B[0m\u001B[37m\u001B[0m \u001B[1m3s\u001B[0m 27ms/step - accuracy: 0.8154 - loss: 0.0068 - val_accuracy: 0.8140 - val_loss: 0.0067\n",
      "Epoch 15/50\n",
      "\u001B[1m118/118\u001B[0m \u001B[32m━━━━━━━━━━━━━━━━━━━━\u001B[0m\u001B[37m\u001B[0m \u001B[1m3s\u001B[0m 25ms/step - accuracy: 0.8149 - loss: 0.0066 - val_accuracy: 0.8142 - val_loss: 0.0065\n",
      "Epoch 16/50\n",
      "\u001B[1m118/118\u001B[0m \u001B[32m━━━━━━━━━━━━━━━━━━━━\u001B[0m\u001B[37m\u001B[0m \u001B[1m3s\u001B[0m 24ms/step - accuracy: 0.8151 - loss: 0.0064 - val_accuracy: 0.8142 - val_loss: 0.0061\n",
      "Epoch 17/50\n",
      "\u001B[1m118/118\u001B[0m \u001B[32m━━━━━━━━━━━━━━━━━━━━\u001B[0m\u001B[37m\u001B[0m \u001B[1m3s\u001B[0m 24ms/step - accuracy: 0.8152 - loss: 0.0062 - val_accuracy: 0.8142 - val_loss: 0.0059\n",
      "Epoch 18/50\n",
      "\u001B[1m118/118\u001B[0m \u001B[32m━━━━━━━━━━━━━━━━━━━━\u001B[0m\u001B[37m\u001B[0m \u001B[1m3s\u001B[0m 24ms/step - accuracy: 0.8153 - loss: 0.0060 - val_accuracy: 0.8142 - val_loss: 0.0059\n",
      "Epoch 19/50\n",
      "\u001B[1m118/118\u001B[0m \u001B[32m━━━━━━━━━━━━━━━━━━━━\u001B[0m\u001B[37m\u001B[0m \u001B[1m3s\u001B[0m 24ms/step - accuracy: 0.8154 - loss: 0.0058 - val_accuracy: 0.8142 - val_loss: 0.0060\n",
      "Epoch 20/50\n",
      "\u001B[1m118/118\u001B[0m \u001B[32m━━━━━━━━━━━━━━━━━━━━\u001B[0m\u001B[37m\u001B[0m \u001B[1m3s\u001B[0m 24ms/step - accuracy: 0.8148 - loss: 0.0058 - val_accuracy: 0.8142 - val_loss: 0.0056\n",
      "Epoch 21/50\n",
      "\u001B[1m118/118\u001B[0m \u001B[32m━━━━━━━━━━━━━━━━━━━━\u001B[0m\u001B[37m\u001B[0m \u001B[1m3s\u001B[0m 24ms/step - accuracy: 0.8149 - loss: 0.0056 - val_accuracy: 0.8142 - val_loss: 0.0055\n",
      "Epoch 22/50\n",
      "\u001B[1m118/118\u001B[0m \u001B[32m━━━━━━━━━━━━━━━━━━━━\u001B[0m\u001B[37m\u001B[0m \u001B[1m3s\u001B[0m 24ms/step - accuracy: 0.8154 - loss: 0.0055 - val_accuracy: 0.8142 - val_loss: 0.0056\n",
      "Epoch 23/50\n",
      "\u001B[1m118/118\u001B[0m \u001B[32m━━━━━━━━━━━━━━━━━━━━\u001B[0m\u001B[37m\u001B[0m \u001B[1m3s\u001B[0m 24ms/step - accuracy: 0.8152 - loss: 0.0054 - val_accuracy: 0.8143 - val_loss: 0.0053\n",
      "Epoch 24/50\n",
      "\u001B[1m118/118\u001B[0m \u001B[32m━━━━━━━━━━━━━━━━━━━━\u001B[0m\u001B[37m\u001B[0m \u001B[1m3s\u001B[0m 24ms/step - accuracy: 0.8154 - loss: 0.0053 - val_accuracy: 0.8142 - val_loss: 0.0052\n",
      "Epoch 25/50\n",
      "\u001B[1m118/118\u001B[0m \u001B[32m━━━━━━━━━━━━━━━━━━━━\u001B[0m\u001B[37m\u001B[0m \u001B[1m3s\u001B[0m 24ms/step - accuracy: 0.8154 - loss: 0.0052 - val_accuracy: 0.8143 - val_loss: 0.0051\n",
      "Epoch 26/50\n",
      "\u001B[1m118/118\u001B[0m \u001B[32m━━━━━━━━━━━━━━━━━━━━\u001B[0m\u001B[37m\u001B[0m \u001B[1m3s\u001B[0m 25ms/step - accuracy: 0.8154 - loss: 0.0051 - val_accuracy: 0.8142 - val_loss: 0.0052\n",
      "Epoch 27/50\n",
      "\u001B[1m118/118\u001B[0m \u001B[32m━━━━━━━━━━━━━━━━━━━━\u001B[0m\u001B[37m\u001B[0m \u001B[1m3s\u001B[0m 25ms/step - accuracy: 0.8153 - loss: 0.0051 - val_accuracy: 0.8142 - val_loss: 0.0052\n",
      "Epoch 28/50\n",
      "\u001B[1m118/118\u001B[0m \u001B[32m━━━━━━━━━━━━━━━━━━━━\u001B[0m\u001B[37m\u001B[0m \u001B[1m3s\u001B[0m 26ms/step - accuracy: 0.8151 - loss: 0.0050 - val_accuracy: 0.8143 - val_loss: 0.0049\n",
      "Epoch 29/50\n",
      "\u001B[1m118/118\u001B[0m \u001B[32m━━━━━━━━━━━━━━━━━━━━\u001B[0m\u001B[37m\u001B[0m \u001B[1m3s\u001B[0m 25ms/step - accuracy: 0.8150 - loss: 0.0048 - val_accuracy: 0.8143 - val_loss: 0.0048\n",
      "Epoch 30/50\n",
      "\u001B[1m118/118\u001B[0m \u001B[32m━━━━━━━━━━━━━━━━━━━━\u001B[0m\u001B[37m\u001B[0m \u001B[1m3s\u001B[0m 25ms/step - accuracy: 0.8153 - loss: 0.0047 - val_accuracy: 0.8143 - val_loss: 0.0047\n",
      "Epoch 31/50\n",
      "\u001B[1m118/118\u001B[0m \u001B[32m━━━━━━━━━━━━━━━━━━━━\u001B[0m\u001B[37m\u001B[0m \u001B[1m3s\u001B[0m 24ms/step - accuracy: 0.8155 - loss: 0.0047 - val_accuracy: 0.8143 - val_loss: 0.0047\n",
      "Epoch 32/50\n",
      "\u001B[1m118/118\u001B[0m \u001B[32m━━━━━━━━━━━━━━━━━━━━\u001B[0m\u001B[37m\u001B[0m \u001B[1m3s\u001B[0m 24ms/step - accuracy: 0.8150 - loss: 0.0047 - val_accuracy: 0.8143 - val_loss: 0.0045\n",
      "Epoch 33/50\n",
      "\u001B[1m118/118\u001B[0m \u001B[32m━━━━━━━━━━━━━━━━━━━━\u001B[0m\u001B[37m\u001B[0m \u001B[1m3s\u001B[0m 24ms/step - accuracy: 0.8155 - loss: 0.0045 - val_accuracy: 0.8143 - val_loss: 0.0045\n",
      "Epoch 34/50\n",
      "\u001B[1m118/118\u001B[0m \u001B[32m━━━━━━━━━━━━━━━━━━━━\u001B[0m\u001B[37m\u001B[0m \u001B[1m3s\u001B[0m 24ms/step - accuracy: 0.8154 - loss: 0.0045 - val_accuracy: 0.8143 - val_loss: 0.0045\n",
      "Epoch 35/50\n",
      "\u001B[1m118/118\u001B[0m \u001B[32m━━━━━━━━━━━━━━━━━━━━\u001B[0m\u001B[37m\u001B[0m \u001B[1m3s\u001B[0m 24ms/step - accuracy: 0.8155 - loss: 0.0044 - val_accuracy: 0.8143 - val_loss: 0.0045\n",
      "Epoch 36/50\n",
      "\u001B[1m118/118\u001B[0m \u001B[32m━━━━━━━━━━━━━━━━━━━━\u001B[0m\u001B[37m\u001B[0m \u001B[1m3s\u001B[0m 24ms/step - accuracy: 0.8154 - loss: 0.0044 - val_accuracy: 0.8143 - val_loss: 0.0045\n",
      "Epoch 37/50\n",
      "\u001B[1m118/118\u001B[0m \u001B[32m━━━━━━━━━━━━━━━━━━━━\u001B[0m\u001B[37m\u001B[0m \u001B[1m3s\u001B[0m 24ms/step - accuracy: 0.8152 - loss: 0.0043 - val_accuracy: 0.8143 - val_loss: 0.0044\n",
      "Epoch 38/50\n",
      "\u001B[1m118/118\u001B[0m \u001B[32m━━━━━━━━━━━━━━━━━━━━\u001B[0m\u001B[37m\u001B[0m \u001B[1m3s\u001B[0m 24ms/step - accuracy: 0.8153 - loss: 0.0043 - val_accuracy: 0.8143 - val_loss: 0.0044\n",
      "Epoch 39/50\n",
      "\u001B[1m118/118\u001B[0m \u001B[32m━━━━━━━━━━━━━━━━━━━━\u001B[0m\u001B[37m\u001B[0m \u001B[1m3s\u001B[0m 24ms/step - accuracy: 0.8154 - loss: 0.0043 - val_accuracy: 0.8143 - val_loss: 0.0043\n",
      "Epoch 40/50\n",
      "\u001B[1m118/118\u001B[0m \u001B[32m━━━━━━━━━━━━━━━━━━━━\u001B[0m\u001B[37m\u001B[0m \u001B[1m3s\u001B[0m 24ms/step - accuracy: 0.8150 - loss: 0.0042 - val_accuracy: 0.8143 - val_loss: 0.0041\n",
      "Epoch 41/50\n",
      "\u001B[1m118/118\u001B[0m \u001B[32m━━━━━━━━━━━━━━━━━━━━\u001B[0m\u001B[37m\u001B[0m \u001B[1m3s\u001B[0m 23ms/step - accuracy: 0.8153 - loss: 0.0041 - val_accuracy: 0.8143 - val_loss: 0.0041\n",
      "Epoch 42/50\n",
      "\u001B[1m118/118\u001B[0m \u001B[32m━━━━━━━━━━━━━━━━━━━━\u001B[0m\u001B[37m\u001B[0m \u001B[1m3s\u001B[0m 24ms/step - accuracy: 0.8149 - loss: 0.0041 - val_accuracy: 0.8143 - val_loss: 0.0041\n",
      "Epoch 43/50\n",
      "\u001B[1m118/118\u001B[0m \u001B[32m━━━━━━━━━━━━━━━━━━━━\u001B[0m\u001B[37m\u001B[0m \u001B[1m3s\u001B[0m 24ms/step - accuracy: 0.8153 - loss: 0.0040 - val_accuracy: 0.8143 - val_loss: 0.0040\n",
      "Epoch 44/50\n",
      "\u001B[1m118/118\u001B[0m \u001B[32m━━━━━━━━━━━━━━━━━━━━\u001B[0m\u001B[37m\u001B[0m \u001B[1m3s\u001B[0m 24ms/step - accuracy: 0.8153 - loss: 0.0040 - val_accuracy: 0.8143 - val_loss: 0.0040\n",
      "Epoch 45/50\n",
      "\u001B[1m118/118\u001B[0m \u001B[32m━━━━━━━━━━━━━━━━━━━━\u001B[0m\u001B[37m\u001B[0m \u001B[1m3s\u001B[0m 24ms/step - accuracy: 0.8148 - loss: 0.0039 - val_accuracy: 0.8143 - val_loss: 0.0040\n",
      "Epoch 46/50\n",
      "\u001B[1m118/118\u001B[0m \u001B[32m━━━━━━━━━━━━━━━━━━━━\u001B[0m\u001B[37m\u001B[0m \u001B[1m3s\u001B[0m 24ms/step - accuracy: 0.8156 - loss: 0.0039 - val_accuracy: 0.8143 - val_loss: 0.0040\n",
      "Epoch 47/50\n",
      "\u001B[1m118/118\u001B[0m \u001B[32m━━━━━━━━━━━━━━━━━━━━\u001B[0m\u001B[37m\u001B[0m \u001B[1m3s\u001B[0m 24ms/step - accuracy: 0.8155 - loss: 0.0038 - val_accuracy: 0.8143 - val_loss: 0.0038\n",
      "Epoch 48/50\n",
      "\u001B[1m118/118\u001B[0m \u001B[32m━━━━━━━━━━━━━━━━━━━━\u001B[0m\u001B[37m\u001B[0m \u001B[1m3s\u001B[0m 24ms/step - accuracy: 0.8154 - loss: 0.0038 - val_accuracy: 0.8144 - val_loss: 0.0039\n",
      "Epoch 49/50\n",
      "\u001B[1m118/118\u001B[0m \u001B[32m━━━━━━━━━━━━━━━━━━━━\u001B[0m\u001B[37m\u001B[0m \u001B[1m3s\u001B[0m 24ms/step - accuracy: 0.8153 - loss: 0.0037 - val_accuracy: 0.8143 - val_loss: 0.0038\n",
      "Epoch 50/50\n",
      "\u001B[1m118/118\u001B[0m \u001B[32m━━━━━━━━━━━━━━━━━━━━\u001B[0m\u001B[37m\u001B[0m \u001B[1m3s\u001B[0m 24ms/step - accuracy: 0.8151 - loss: 0.0037 - val_accuracy: 0.8144 - val_loss: 0.0037\n"
     ]
    },
    {
     "data": {
      "text/plain": [
       "<keras.src.callbacks.history.History at 0x2e5fd4756d0>"
      ]
     },
     "execution_count": 25,
     "metadata": {},
     "output_type": "execute_result"
    }
   ],
   "execution_count": 25
  },
  {
   "cell_type": "code",
   "id": "be949ce8",
   "metadata": {
    "id": "be949ce8",
    "outputId": "995fdbc2-90f1-4a7f-c18a-ccd9cab0404b",
    "colab": {
     "base_uri": "https://localhost:8080/",
     "height": 353
    },
    "ExecuteTime": {
     "end_time": "2024-06-20T11:01:49.075069Z",
     "start_time": "2024-06-20T11:01:47.628908Z"
    }
   },
   "source": [
    "# Предсказание на тестовом наборе данных\n",
    "decoded_imgs = autoencoder.predict(mnist_test)\n",
    "\n",
    "n = 10  # количество изображений для отображения\n",
    "plt.figure(figsize=(20, 4))\n",
    "\n",
    "for i in range(n):\n",
    "    # Отображение оригинальных изображений\n",
    "    ax = plt.subplot(2, n, i + 1)\n",
    "    plt.imshow(mnist_test[i].reshape(28, 28))\n",
    "    plt.gray()\n",
    "    ax.get_xaxis().set_visible(False)\n",
    "    ax.get_yaxis().set_visible(False)\n",
    "\n",
    "    # Отображение восстановленных изображений\n",
    "    ax = plt.subplot(2, n, i + 1 + n)\n",
    "    plt.imshow(decoded_imgs[i].reshape(28, 28))\n",
    "    plt.gray()\n",
    "    ax.get_xaxis().set_visible(False)"
   ],
   "outputs": [
    {
     "name": "stdout",
     "output_type": "stream",
     "text": [
      "\u001B[1m313/313\u001B[0m \u001B[32m━━━━━━━━━━━━━━━━━━━━\u001B[0m\u001B[37m\u001B[0m \u001B[1m1s\u001B[0m 2ms/step\n"
     ]
    },
    {
     "data": {
      "text/plain": [
       "<Figure size 2000x400 with 20 Axes>"
      ],
      "image/png": "[encoded data removed]"
     },
     "metadata": {},
     "output_type": "display_data"
    }
   ],
   "execution_count": 26
  },
  {
   "cell_type": "code",
   "source": [
    "new_autoencoder = Model(input_img, decoded)\n",
    "for layer in new_autoencoder.layers:\n",
    "    layer.trainable = False\n",
    "\n",
    "flattened = Flatten()(encoded)\n",
    "x = Dense(128, activation='relu')(flattened)\n",
    "predictions = Dense(10, activation='softmax')(x)\n",
    "\n",
    "model = Model(input_img, predictions)\n",
    "model.compile(optimizer='adam', loss='sparse_categorical_crossentropy', metrics=['accuracy'])\n",
    "model.fit(mnist_train, mnist_train_y,\n",
    "          epochs=30,\n",
    "          batch_size=256,\n",
    "          validation_data=(mnist_test, mnist_test_y))\n",
    "\n",
    "# Предсказание\n",
    "predictions = model.predict(mnist_test)"
   ],
   "metadata": {
    "colab": {
     "base_uri": "https://localhost:8080/"
    },
    "id": "3w69S3ddCuxO",
    "outputId": "49595f99-90b5-4bd6-bb1a-0c67fc495915",
    "ExecuteTime": {
     "end_time": "2024-06-20T11:02:15.160963Z",
     "start_time": "2024-06-20T11:01:49.076076Z"
    }
   },
   "id": "3w69S3ddCuxO",
   "outputs": [
    {
     "name": "stdout",
     "output_type": "stream",
     "text": [
      "Epoch 1/30\n",
      "\u001B[1m235/235\u001B[0m \u001B[32m━━━━━━━━━━━━━━━━━━━━\u001B[0m\u001B[37m\u001B[0m \u001B[1m2s\u001B[0m 4ms/step - accuracy: 0.5378 - loss: 1.6190 - val_accuracy: 0.8898 - val_loss: 0.3910\n",
      "Epoch 2/30\n",
      "\u001B[1m235/235\u001B[0m \u001B[32m━━━━━━━━━━━━━━━━━━━━\u001B[0m\u001B[37m\u001B[0m \u001B[1m1s\u001B[0m 3ms/step - accuracy: 0.8840 - loss: 0.3936 - val_accuracy: 0.9088 - val_loss: 0.3196\n",
      "Epoch 3/30\n",
      "\u001B[1m235/235\u001B[0m \u001B[32m━━━━━━━━━━━━━━━━━━━━\u001B[0m\u001B[37m\u001B[0m \u001B[1m1s\u001B[0m 4ms/step - accuracy: 0.9032 - loss: 0.3240 - val_accuracy: 0.9186 - val_loss: 0.2840\n",
      "Epoch 4/30\n",
      "\u001B[1m235/235\u001B[0m \u001B[32m━━━━━━━━━━━━━━━━━━━━\u001B[0m\u001B[37m\u001B[0m \u001B[1m1s\u001B[0m 3ms/step - accuracy: 0.9160 - loss: 0.2907 - val_accuracy: 0.9266 - val_loss: 0.2585\n",
      "Epoch 5/30\n",
      "\u001B[1m235/235\u001B[0m \u001B[32m━━━━━━━━━━━━━━━━━━━━\u001B[0m\u001B[37m\u001B[0m \u001B[1m1s\u001B[0m 3ms/step - accuracy: 0.9242 - loss: 0.2582 - val_accuracy: 0.9333 - val_loss: 0.2322\n",
      "Epoch 6/30\n",
      "\u001B[1m235/235\u001B[0m \u001B[32m━━━━━━━━━━━━━━━━━━━━\u001B[0m\u001B[37m\u001B[0m \u001B[1m1s\u001B[0m 3ms/step - accuracy: 0.9318 - loss: 0.2333 - val_accuracy: 0.9360 - val_loss: 0.2224\n",
      "Epoch 7/30\n",
      "\u001B[1m235/235\u001B[0m \u001B[32m━━━━━━━━━━━━━━━━━━━━\u001B[0m\u001B[37m\u001B[0m \u001B[1m1s\u001B[0m 3ms/step - accuracy: 0.9381 - loss: 0.2146 - val_accuracy: 0.9406 - val_loss: 0.2009\n",
      "Epoch 8/30\n",
      "\u001B[1m235/235\u001B[0m \u001B[32m━━━━━━━━━━━━━━━━━━━━\u001B[0m\u001B[37m\u001B[0m \u001B[1m1s\u001B[0m 3ms/step - accuracy: 0.9417 - loss: 0.1998 - val_accuracy: 0.9443 - val_loss: 0.1858\n",
      "Epoch 9/30\n",
      "\u001B[1m235/235\u001B[0m \u001B[32m━━━━━━━━━━━━━━━━━━━━\u001B[0m\u001B[37m\u001B[0m \u001B[1m1s\u001B[0m 4ms/step - accuracy: 0.9453 - loss: 0.1837 - val_accuracy: 0.9499 - val_loss: 0.1725\n",
      "Epoch 10/30\n",
      "\u001B[1m235/235\u001B[0m \u001B[32m━━━━━━━━━━━━━━━━━━━━\u001B[0m\u001B[37m\u001B[0m \u001B[1m1s\u001B[0m 3ms/step - accuracy: 0.9470 - loss: 0.1807 - val_accuracy: 0.9491 - val_loss: 0.1698\n",
      "Epoch 11/30\n",
      "\u001B[1m235/235\u001B[0m \u001B[32m━━━━━━━━━━━━━━━━━━━━\u001B[0m\u001B[37m\u001B[0m \u001B[1m1s\u001B[0m 3ms/step - accuracy: 0.9528 - loss: 0.1606 - val_accuracy: 0.9525 - val_loss: 0.1627\n",
      "Epoch 12/30\n",
      "\u001B[1m235/235\u001B[0m \u001B[32m━━━━━━━━━━━━━━━━━━━━\u001B[0m\u001B[37m\u001B[0m \u001B[1m1s\u001B[0m 3ms/step - accuracy: 0.9545 - loss: 0.1516 - val_accuracy: 0.9579 - val_loss: 0.1456\n",
      "Epoch 13/30\n",
      "\u001B[1m235/235\u001B[0m \u001B[32m━━━━━━━━━━━━━━━━━━━━\u001B[0m\u001B[37m\u001B[0m \u001B[1m1s\u001B[0m 3ms/step - accuracy: 0.9577 - loss: 0.1432 - val_accuracy: 0.9579 - val_loss: 0.1421\n",
      "Epoch 14/30\n",
      "\u001B[1m235/235\u001B[0m \u001B[32m━━━━━━━━━━━━━━━━━━━━\u001B[0m\u001B[37m\u001B[0m \u001B[1m1s\u001B[0m 3ms/step - accuracy: 0.9600 - loss: 0.1346 - val_accuracy: 0.9609 - val_loss: 0.1293\n",
      "Epoch 15/30\n",
      "\u001B[1m235/235\u001B[0m \u001B[32m━━━━━━━━━━━━━━━━━━━━\u001B[0m\u001B[37m\u001B[0m \u001B[1m1s\u001B[0m 3ms/step - accuracy: 0.9620 - loss: 0.1303 - val_accuracy: 0.9592 - val_loss: 0.1308\n",
      "Epoch 16/30\n",
      "\u001B[1m235/235\u001B[0m \u001B[32m━━━━━━━━━━━━━━━━━━━━\u001B[0m\u001B[37m\u001B[0m \u001B[1m1s\u001B[0m 3ms/step - accuracy: 0.9642 - loss: 0.1191 - val_accuracy: 0.9613 - val_loss: 0.1238\n",
      "Epoch 17/30\n",
      "\u001B[1m235/235\u001B[0m \u001B[32m━━━━━━━━━━━━━━━━━━━━\u001B[0m\u001B[37m\u001B[0m \u001B[1m1s\u001B[0m 3ms/step - accuracy: 0.9644 - loss: 0.1175 - val_accuracy: 0.9614 - val_loss: 0.1233\n",
      "Epoch 18/30\n",
      "\u001B[1m235/235\u001B[0m \u001B[32m━━━━━━━━━━━━━━━━━━━━\u001B[0m\u001B[37m\u001B[0m \u001B[1m1s\u001B[0m 3ms/step - accuracy: 0.9671 - loss: 0.1130 - val_accuracy: 0.9640 - val_loss: 0.1174\n",
      "Epoch 19/30\n",
      "\u001B[1m235/235\u001B[0m \u001B[32m━━━━━━━━━━━━━━━━━━━━\u001B[0m\u001B[37m\u001B[0m \u001B[1m1s\u001B[0m 3ms/step - accuracy: 0.9680 - loss: 0.1039 - val_accuracy: 0.9659 - val_loss: 0.1083\n",
      "Epoch 20/30\n",
      "\u001B[1m235/235\u001B[0m \u001B[32m━━━━━━━━━━━━━━━━━━━━\u001B[0m\u001B[37m\u001B[0m \u001B[1m1s\u001B[0m 3ms/step - accuracy: 0.9690 - loss: 0.1035 - val_accuracy: 0.9641 - val_loss: 0.1146\n",
      "Epoch 21/30\n",
      "\u001B[1m235/235\u001B[0m \u001B[32m━━━━━━━━━━━━━━━━━━━━\u001B[0m\u001B[37m\u001B[0m \u001B[1m1s\u001B[0m 3ms/step - accuracy: 0.9704 - loss: 0.0974 - val_accuracy: 0.9620 - val_loss: 0.1234\n",
      "Epoch 22/30\n",
      "\u001B[1m235/235\u001B[0m \u001B[32m━━━━━━━━━━━━━━━━━━━━\u001B[0m\u001B[37m\u001B[0m \u001B[1m1s\u001B[0m 3ms/step - accuracy: 0.9710 - loss: 0.0960 - val_accuracy: 0.9678 - val_loss: 0.1045\n",
      "Epoch 23/30\n",
      "\u001B[1m235/235\u001B[0m \u001B[32m━━━━━━━━━━━━━━━━━━━━\u001B[0m\u001B[37m\u001B[0m \u001B[1m1s\u001B[0m 3ms/step - accuracy: 0.9734 - loss: 0.0869 - val_accuracy: 0.9664 - val_loss: 0.1084\n",
      "Epoch 24/30\n",
      "\u001B[1m235/235\u001B[0m \u001B[32m━━━━━━━━━━━━━━━━━━━━\u001B[0m\u001B[37m\u001B[0m \u001B[1m1s\u001B[0m 3ms/step - accuracy: 0.9730 - loss: 0.0887 - val_accuracy: 0.9665 - val_loss: 0.1058\n",
      "Epoch 25/30\n",
      "\u001B[1m235/235\u001B[0m \u001B[32m━━━━━━━━━━━━━━━━━━━━\u001B[0m\u001B[37m\u001B[0m \u001B[1m1s\u001B[0m 3ms/step - accuracy: 0.9750 - loss: 0.0826 - val_accuracy: 0.9688 - val_loss: 0.1027\n",
      "Epoch 26/30\n",
      "\u001B[1m235/235\u001B[0m \u001B[32m━━━━━━━━━━━━━━━━━━━━\u001B[0m\u001B[37m\u001B[0m \u001B[1m1s\u001B[0m 3ms/step - accuracy: 0.9754 - loss: 0.0794 - val_accuracy: 0.9683 - val_loss: 0.1011\n",
      "Epoch 27/30\n",
      "\u001B[1m235/235\u001B[0m \u001B[32m━━━━━━━━━━━━━━━━━━━━\u001B[0m\u001B[37m\u001B[0m \u001B[1m1s\u001B[0m 3ms/step - accuracy: 0.9767 - loss: 0.0797 - val_accuracy: 0.9698 - val_loss: 0.1003\n",
      "Epoch 28/30\n",
      "\u001B[1m235/235\u001B[0m \u001B[32m━━━━━━━━━━━━━━━━━━━━\u001B[0m\u001B[37m\u001B[0m \u001B[1m1s\u001B[0m 3ms/step - accuracy: 0.9758 - loss: 0.0787 - val_accuracy: 0.9699 - val_loss: 0.1000\n",
      "Epoch 29/30\n",
      "\u001B[1m235/235\u001B[0m \u001B[32m━━━━━━━━━━━━━━━━━━━━\u001B[0m\u001B[37m\u001B[0m \u001B[1m1s\u001B[0m 3ms/step - accuracy: 0.9760 - loss: 0.0762 - val_accuracy: 0.9706 - val_loss: 0.0926\n",
      "Epoch 30/30\n",
      "\u001B[1m235/235\u001B[0m \u001B[32m━━━━━━━━━━━━━━━━━━━━\u001B[0m\u001B[37m\u001B[0m \u001B[1m1s\u001B[0m 3ms/step - accuracy: 0.9759 - loss: 0.0753 - val_accuracy: 0.9697 - val_loss: 0.0931\n",
      "\u001B[1m313/313\u001B[0m \u001B[32m━━━━━━━━━━━━━━━━━━━━\u001B[0m\u001B[37m\u001B[0m \u001B[1m0s\u001B[0m 1ms/step\n"
     ]
    }
   ],
   "execution_count": 27
  },
  {
   "cell_type": "code",
   "source": [
    "# Получаем предсказанные метки классов из вероятностных предсказаний\n",
    "predicted_labels = np.argmax(predictions, axis=-1)\n",
    "\n",
    "# Вычисляем confusion matrix\n",
    "cm = confusion_matrix(mnist_test_y, predicted_labels)\n",
    "\n",
    "# Визуализируем confusion matrix\n",
    "fig, ax = plt.subplots(figsize=(10, 10))\n",
    "ConfusionMatrixDisplay(cm, display_labels=[0, 1, 2, 3, 4, 5, 6, 7, 8, 9]).plot(ax=ax)\n",
    "plt.show()"
   ],
   "metadata": {
    "colab": {
     "base_uri": "https://localhost:8080/",
     "height": 815
    },
    "id": "oRD9wWZ-CwcR",
    "outputId": "f0a78751-e798-4c3f-bcdd-0db80ff391aa",
    "ExecuteTime": {
     "end_time": "2024-06-20T11:02:15.431757Z",
     "start_time": "2024-06-20T11:02:15.161967Z"
    }
   },
   "id": "oRD9wWZ-CwcR",
   "outputs": [
    {
     "data": {
      "text/plain": [
       "<Figure size 1000x1000 with 2 Axes>"
      ],
      "image/png": "[encoded data removed]"
     },
     "metadata": {},
     "output_type": "display_data"
    }
   ],
   "execution_count": 28
  },
  {
   "cell_type": "code",
   "source": [
    "# Получаем отчет о классификации\n",
    "report = classification_report(mnist_test_y, predicted_labels)\n",
    "print(report)"
   ],
   "metadata": {
    "colab": {
     "base_uri": "https://localhost:8080/"
    },
    "id": "NeicFLqOCx1I",
    "outputId": "2c60d549-8777-4af9-c73f-7c648df2b92f",
    "ExecuteTime": {
     "end_time": "2024-06-20T11:02:15.456130Z",
     "start_time": "2024-06-20T11:02:15.433766Z"
    }
   },
   "id": "NeicFLqOCx1I",
   "outputs": [
    {
     "name": "stdout",
     "output_type": "stream",
     "text": [
      "              precision    recall  f1-score   support\n",
      "\n",
      "           0       0.98      0.98      0.98       980\n",
      "           1       0.99      0.98      0.99      1135\n",
      "           2       0.98      0.96      0.97      1032\n",
      "           3       0.98      0.96      0.97      1010\n",
      "           4       0.97      0.97      0.97       982\n",
      "           5       0.95      0.98      0.97       892\n",
      "           6       0.97      0.96      0.97       958\n",
      "           7       0.96      0.97      0.97      1028\n",
      "           8       0.95      0.96      0.96       974\n",
      "           9       0.96      0.97      0.96      1009\n",
      "\n",
      "    accuracy                           0.97     10000\n",
      "   macro avg       0.97      0.97      0.97     10000\n",
      "weighted avg       0.97      0.97      0.97     10000\n",
      "\n"
     ]
    }
   ],
   "execution_count": 29
  }
 ],
 "metadata": {
  "kernelspec": {
   "display_name": "Python 3",
   "language": "python",
   "name": "python3"
  },
  "language_info": {
   "codemirror_mode": {
    "name": "ipython",
    "version": 3
   },
   "file_extension": ".py",
   "mimetype": "text/x-python",
   "name": "python",
   "nbconvert_exporter": "python",
   "pygments_lexer": "ipython3",
   "version": "3.10.6"
  },
  "colab": {
   "provenance": []
  }
 },
 "nbformat": 4,
 "nbformat_minor": 5
}
