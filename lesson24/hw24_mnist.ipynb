{
 "cells": [
  {
   "metadata": {},
   "cell_type": "markdown",
   "source": [
    "Классы Fashion MNIST\n",
    "====================\n",
    "| Номер класса | Name        | Название     |\n",
    "|--------------|-------------|--------------|\n",
    "| 0.           | T-shirt/top | Футболка/топ |\n",
    "| 1.           | Trouser     | Брюки        |\n",
    "| 2.           | Pullover    | Свитер       |\n",
    "| 3.           | Dress       | Платье       |\n",
    "| 4.           | Coat        | Пальто       |\n",
    "| 5.           | Sandal      | Сандали      |\n",
    "| 6.           | Shirt       | Рубашка      |\n",
    "| 7.           | Sneaker     | Кроссовок    |\n",
    "| 8.           | Bag         | Сумка        |\n",
    "| 9.           | Ankle boot  | Ботинок      |"
   ],
   "id": "db9e3803813bc389"
  },
  {
   "metadata": {},
   "cell_type": "markdown",
   "source": "# TENSORFLOW",
   "id": "97bba05231c305a"
  },
  {
   "metadata": {
    "ExecuteTime": {
     "end_time": "2024-05-19T20:47:51.229427Z",
     "start_time": "2024-05-19T20:47:48.022524Z"
    }
   },
   "cell_type": "code",
   "source": [
    "import time\n",
    "\n",
    "from tensorflow.keras.datasets import fashion_mnist\n",
    "from tensorflow.keras.models import Sequential\n",
    "from tensorflow.keras.layers import Dense\n",
    "from tensorflow.keras import utils\n",
    "from tensorflow.keras.callbacks import TensorBoard\n",
    "\n",
    "import warnings\n",
    "warnings.filterwarnings('ignore')"
   ],
   "id": "336888fe0e705072",
   "outputs": [],
   "execution_count": 1
  },
  {
   "metadata": {
    "ExecuteTime": {
     "end_time": "2024-05-19T20:47:51.474933Z",
     "start_time": "2024-05-19T20:47:51.231435Z"
    }
   },
   "cell_type": "code",
   "source": "(x_train, y_train_raw), (x_test, y_test) = fashion_mnist.load_data()",
   "id": "79249c10f1f21758",
   "outputs": [],
   "execution_count": 2
  },
  {
   "metadata": {
    "ExecuteTime": {
     "end_time": "2024-05-19T20:47:51.598473Z",
     "start_time": "2024-05-19T20:47:51.475940Z"
    }
   },
   "cell_type": "code",
   "source": [
    "# Преобразование размерности изображений\n",
    "x_train = x_train.reshape(60000, 784) # 784 = 28*28, 60000 - количество изображений в обучающей выборке\n",
    "\n",
    "# Нормализация данных\n",
    "x_train = x_train / 255 # Максимальное значение пикселя 255, на выходе 0-1"
   ],
   "id": "2957c1e5e3be3421",
   "outputs": [],
   "execution_count": 3
  },
  {
   "metadata": {
    "ExecuteTime": {
     "end_time": "2024-05-19T20:47:52.086702Z",
     "start_time": "2024-05-19T20:47:51.599482Z"
    }
   },
   "cell_type": "code",
   "source": [
    "y_train = utils.to_categorical(y_train_raw, 10) # 10 - количество классов\n",
    "classes = ['Футболка/топ', 'Брюки', 'Свитер', 'Платье', 'Пальто', 'Сандали', 'Рубашка', 'Кроссовок', 'Сумка', 'Ботинок']\n",
    "print(y_train[0])\n",
    "print(classes[y_train[0].argmax()])\n",
    "from matplotlib import pyplot as plt\n",
    "plt.imshow(x_test[0], cmap='gray')\n",
    "plt.colorbar()\n",
    "plt.title('')\n",
    "plt.show()"
   ],
   "id": "1321c51efb06dd86",
   "outputs": [
    {
     "name": "stdout",
     "output_type": "stream",
     "text": [
      "[0. 0. 0. 0. 0. 0. 0. 0. 0. 1.]\n",
      "Ботинок\n"
     ]
    },
    {
     "data": {
      "text/plain": [
       "<Figure size 640x480 with 2 Axes>"
      ],
      "image/png": "[encoded data removed]"
     },
     "metadata": {},
     "output_type": "display_data"
    }
   ],
   "execution_count": 4
  },
  {
   "metadata": {
    "ExecuteTime": {
     "end_time": "2024-05-19T20:47:52.188418Z",
     "start_time": "2024-05-19T20:47:52.088707Z"
    }
   },
   "cell_type": "code",
   "source": [
    "model = Sequential()\n",
    "model.add(Dense(800, input_dim=784, activation=\"relu\")) # 800 - количество нейронов в 1 слое\n",
    "model.add(Dense(10, activation=\"softmax\")) # 10 - количество классов\n",
    "\n",
    "model.compile(loss=\"categorical_crossentropy\", optimizer=\"SGD\", metrics=[\"accuracy\"])\n",
    "print(model.summary())"
   ],
   "id": "260ed308a198da59",
   "outputs": [
    {
     "data": {
      "text/plain": [
       "\u001B[1mModel: \"sequential\"\u001B[0m\n"
      ],
      "text/html": [
       "<pre style=\"white-space:pre;overflow-x:auto;line-height:normal;font-family:Menlo,'DejaVu Sans Mono',consolas,'Courier New',monospace\"><span style=\"font-weight: bold\">Model: \"sequential\"</span>\n",
       "</pre>\n"
      ]
     },
     "metadata": {},
     "output_type": "display_data"
    },
    {
     "data": {
      "text/plain": [
       "┏━━━━━━━━━━━━━━━━━━━━━━━━━━━━━━━━━┳━━━━━━━━━━━━━━━━━━━━━━━━┳━━━━━━━━━━━━━━━┓\n",
       "┃\u001B[1m \u001B[0m\u001B[1mLayer (type)                   \u001B[0m\u001B[1m \u001B[0m┃\u001B[1m \u001B[0m\u001B[1mOutput Shape          \u001B[0m\u001B[1m \u001B[0m┃\u001B[1m \u001B[0m\u001B[1m      Param #\u001B[0m\u001B[1m \u001B[0m┃\n",
       "┡━━━━━━━━━━━━━━━━━━━━━━━━━━━━━━━━━╇━━━━━━━━━━━━━━━━━━━━━━━━╇━━━━━━━━━━━━━━━┩\n",
       "│ dense (\u001B[38;5;33mDense\u001B[0m)                   │ (\u001B[38;5;45mNone\u001B[0m, \u001B[38;5;34m800\u001B[0m)            │       \u001B[38;5;34m628,000\u001B[0m │\n",
       "├─────────────────────────────────┼────────────────────────┼───────────────┤\n",
       "│ dense_1 (\u001B[38;5;33mDense\u001B[0m)                 │ (\u001B[38;5;45mNone\u001B[0m, \u001B[38;5;34m10\u001B[0m)             │         \u001B[38;5;34m8,010\u001B[0m │\n",
       "└─────────────────────────────────┴────────────────────────┴───────────────┘\n"
      ],
      "text/html": [
       "<pre style=\"white-space:pre;overflow-x:auto;line-height:normal;font-family:Menlo,'DejaVu Sans Mono',consolas,'Courier New',monospace\">┏━━━━━━━━━━━━━━━━━━━━━━━━━━━━━━━━━┳━━━━━━━━━━━━━━━━━━━━━━━━┳━━━━━━━━━━━━━━━┓\n",
       "┃<span style=\"font-weight: bold\"> Layer (type)                    </span>┃<span style=\"font-weight: bold\"> Output Shape           </span>┃<span style=\"font-weight: bold\">       Param # </span>┃\n",
       "┡━━━━━━━━━━━━━━━━━━━━━━━━━━━━━━━━━╇━━━━━━━━━━━━━━━━━━━━━━━━╇━━━━━━━━━━━━━━━┩\n",
       "│ dense (<span style=\"color: #0087ff; text-decoration-color: #0087ff\">Dense</span>)                   │ (<span style=\"color: #00d7ff; text-decoration-color: #00d7ff\">None</span>, <span style=\"color: #00af00; text-decoration-color: #00af00\">800</span>)            │       <span style=\"color: #00af00; text-decoration-color: #00af00\">628,000</span> │\n",
       "├─────────────────────────────────┼────────────────────────┼───────────────┤\n",
       "│ dense_1 (<span style=\"color: #0087ff; text-decoration-color: #0087ff\">Dense</span>)                 │ (<span style=\"color: #00d7ff; text-decoration-color: #00d7ff\">None</span>, <span style=\"color: #00af00; text-decoration-color: #00af00\">10</span>)             │         <span style=\"color: #00af00; text-decoration-color: #00af00\">8,010</span> │\n",
       "└─────────────────────────────────┴────────────────────────┴───────────────┘\n",
       "</pre>\n"
      ]
     },
     "metadata": {},
     "output_type": "display_data"
    },
    {
     "data": {
      "text/plain": [
       "\u001B[1m Total params: \u001B[0m\u001B[38;5;34m636,010\u001B[0m (2.43 MB)\n"
      ],
      "text/html": [
       "<pre style=\"white-space:pre;overflow-x:auto;line-height:normal;font-family:Menlo,'DejaVu Sans Mono',consolas,'Courier New',monospace\"><span style=\"font-weight: bold\"> Total params: </span><span style=\"color: #00af00; text-decoration-color: #00af00\">636,010</span> (2.43 MB)\n",
       "</pre>\n"
      ]
     },
     "metadata": {},
     "output_type": "display_data"
    },
    {
     "data": {
      "text/plain": [
       "\u001B[1m Trainable params: \u001B[0m\u001B[38;5;34m636,010\u001B[0m (2.43 MB)\n"
      ],
      "text/html": [
       "<pre style=\"white-space:pre;overflow-x:auto;line-height:normal;font-family:Menlo,'DejaVu Sans Mono',consolas,'Courier New',monospace\"><span style=\"font-weight: bold\"> Trainable params: </span><span style=\"color: #00af00; text-decoration-color: #00af00\">636,010</span> (2.43 MB)\n",
       "</pre>\n"
      ]
     },
     "metadata": {},
     "output_type": "display_data"
    },
    {
     "data": {
      "text/plain": [
       "\u001B[1m Non-trainable params: \u001B[0m\u001B[38;5;34m0\u001B[0m (0.00 B)\n"
      ],
      "text/html": [
       "<pre style=\"white-space:pre;overflow-x:auto;line-height:normal;font-family:Menlo,'DejaVu Sans Mono',consolas,'Courier New',monospace\"><span style=\"font-weight: bold\"> Non-trainable params: </span><span style=\"color: #00af00; text-decoration-color: #00af00\">0</span> (0.00 B)\n",
       "</pre>\n"
      ]
     },
     "metadata": {},
     "output_type": "display_data"
    },
    {
     "name": "stdout",
     "output_type": "stream",
     "text": [
      "None\n"
     ]
    }
   ],
   "execution_count": 5
  },
  {
   "metadata": {
    "ExecuteTime": {
     "end_time": "2024-05-19T20:47:52.194758Z",
     "start_time": "2024-05-19T20:47:52.189428Z"
    }
   },
   "cell_type": "code",
   "source": [
    "from tensorflow.keras.callbacks import Callback\n",
    "\n",
    "# Напишем только последний результат, чтобы не засорять\n",
    "class LastEpochLogger(Callback):\n",
    "    def on_epoch_end(self, epoch, logs=None):\n",
    "        if epoch == self.params['epochs'] - 1:\n",
    "            print(f\"Epoch {epoch+1}/{self.params['epochs']}\")\n",
    "            for key, value in logs.items():\n",
    "                print(f\"{key}: {value:.4f}\", end=' ')\n",
    "            print()"
   ],
   "id": "21de2b73a0c37a2c",
   "outputs": [],
   "execution_count": 6
  },
  {
   "metadata": {
    "ExecuteTime": {
     "end_time": "2024-05-19T20:49:50.348023Z",
     "start_time": "2024-05-19T20:47:52.195764Z"
    }
   },
   "cell_type": "code",
   "source": [
    "import time\n",
    "\n",
    "NAME = f\"mnist-fashion-800x10-{int(time.time())}\"\n",
    "tensorboard = TensorBoard(log_dir=f'logs/{NAME}')\n",
    "\n",
    "model.fit(x_train, y_train, batch_size=200, epochs=100, verbose=0, callbacks=[LastEpochLogger(), tensorboard])"
   ],
   "id": "77b896425faedb4b",
   "outputs": [
    {
     "name": "stdout",
     "output_type": "stream",
     "text": [
      "Epoch 100/100\n",
      "accuracy: 0.8937 loss: 0.3068 \n"
     ]
    },
    {
     "data": {
      "text/plain": [
       "<keras.src.callbacks.history.History at 0x1e6907b7ef0>"
      ]
     },
     "execution_count": 7,
     "metadata": {},
     "output_type": "execute_result"
    }
   ],
   "execution_count": 7
  },
  {
   "metadata": {
    "ExecuteTime": {
     "end_time": "2024-05-19T20:49:51.035225Z",
     "start_time": "2024-05-19T20:49:50.351034Z"
    }
   },
   "cell_type": "code",
   "source": [
    "x_test = x_test.reshape(10000, 784)\n",
    "x_test = x_test / 255 # Максимальное значение пикселя 255, на выходе 0-1\n",
    "y_predict = model.predict(x_test)"
   ],
   "id": "2e47323065bd54b0",
   "outputs": [
    {
     "name": "stdout",
     "output_type": "stream",
     "text": [
      "\u001B[1m313/313\u001B[0m \u001B[32m━━━━━━━━━━━━━━━━━━━━\u001B[0m\u001B[37m\u001B[0m \u001B[1m0s\u001B[0m 1ms/step\n"
     ]
    }
   ],
   "execution_count": 8
  },
  {
   "metadata": {
    "ExecuteTime": {
     "end_time": "2024-05-19T20:49:51.043828Z",
     "start_time": "2024-05-19T20:49:51.037238Z"
    }
   },
   "cell_type": "code",
   "source": [
    "import numpy as np\n",
    "to_compare = 30\n",
    "print(f\"Сравним {to_compare} первых результатов:\")\n",
    "for i in range(to_compare):\n",
    "    expected = classes[y_test[i]]\n",
    "    predicted = classes[np.argmax(y_predict[i])]\n",
    "    result = 'Совпал' if expected == predicted else 'Не совпал'\n",
    "    print(f'Для {i} результат {result}: ожидаемый {expected}, предсказанный {predicted}')"
   ],
   "id": "ff7aa8c997a13a36",
   "outputs": [
    {
     "name": "stdout",
     "output_type": "stream",
     "text": [
      "Сравним 30 первых результатов:\n",
      "Для 0 результат Совпал: ожидаемый Ботинок, предсказанный Ботинок\n",
      "Для 1 результат Совпал: ожидаемый Свитер, предсказанный Свитер\n",
      "Для 2 результат Совпал: ожидаемый Брюки, предсказанный Брюки\n",
      "Для 3 результат Совпал: ожидаемый Брюки, предсказанный Брюки\n",
      "Для 4 результат Совпал: ожидаемый Рубашка, предсказанный Рубашка\n",
      "Для 5 результат Совпал: ожидаемый Брюки, предсказанный Брюки\n",
      "Для 6 результат Совпал: ожидаемый Пальто, предсказанный Пальто\n",
      "Для 7 результат Совпал: ожидаемый Рубашка, предсказанный Рубашка\n",
      "Для 8 результат Совпал: ожидаемый Сандали, предсказанный Сандали\n",
      "Для 9 результат Совпал: ожидаемый Кроссовок, предсказанный Кроссовок\n",
      "Для 10 результат Совпал: ожидаемый Пальто, предсказанный Пальто\n",
      "Для 11 результат Совпал: ожидаемый Сандали, предсказанный Сандали\n",
      "Для 12 результат Не совпал: ожидаемый Кроссовок, предсказанный Сандали\n",
      "Для 13 результат Совпал: ожидаемый Платье, предсказанный Платье\n",
      "Для 14 результат Совпал: ожидаемый Пальто, предсказанный Пальто\n",
      "Для 15 результат Совпал: ожидаемый Брюки, предсказанный Брюки\n",
      "Для 16 результат Совпал: ожидаемый Свитер, предсказанный Свитер\n",
      "Для 17 результат Не совпал: ожидаемый Пальто, предсказанный Свитер\n",
      "Для 18 результат Совпал: ожидаемый Сумка, предсказанный Сумка\n",
      "Для 19 результат Совпал: ожидаемый Футболка/топ, предсказанный Футболка/топ\n",
      "Для 20 результат Совпал: ожидаемый Свитер, предсказанный Свитер\n",
      "Для 21 результат Совпал: ожидаемый Сандали, предсказанный Сандали\n",
      "Для 22 результат Совпал: ожидаемый Кроссовок, предсказанный Кроссовок\n",
      "Для 23 результат Не совпал: ожидаемый Ботинок, предсказанный Кроссовок\n",
      "Для 24 результат Совпал: ожидаемый Брюки, предсказанный Брюки\n",
      "Для 25 результат Не совпал: ожидаемый Пальто, предсказанный Свитер\n",
      "Для 26 результат Совпал: ожидаемый Рубашка, предсказанный Рубашка\n",
      "Для 27 результат Совпал: ожидаемый Футболка/топ, предсказанный Футболка/топ\n",
      "Для 28 результат Совпал: ожидаемый Ботинок, предсказанный Ботинок\n",
      "Для 29 результат Совпал: ожидаемый Платье, предсказанный Платье\n"
     ]
    }
   ],
   "execution_count": 9
  },
  {
   "metadata": {},
   "cell_type": "markdown",
   "source": "Как мы видим, наша модель способна предсказывать в большинстве случаев. Посмотрим в каких конкретно случаях модель ошибается.",
   "id": "e0d5640e6beaf4e7"
  },
  {
   "metadata": {
    "ExecuteTime": {
     "end_time": "2024-05-19T20:49:51.086278Z",
     "start_time": "2024-05-19T20:49:51.044835Z"
    }
   },
   "cell_type": "code",
   "source": [
    "from collections import defaultdict\n",
    "from tabulate import tabulate\n",
    "\n",
    "non_matched = defaultdict(lambda: defaultdict(int))\n",
    "\n",
    "for i in range(len(y_predict)):\n",
    "    expected = classes[y_test[i]]\n",
    "    predicted = classes[np.argmax(y_predict[i])]\n",
    "    if expected != predicted:\n",
    "        non_matched[expected][predicted] += 1\n",
    "\n",
    "table_data = []\n",
    "for expected, predicted_dict in non_matched.items():\n",
    "    for predicted, count in predicted_dict.items():\n",
    "        table_data.append([expected, predicted, count])\n",
    "headers = [\"Ожидаемый\", \"Предсказанный\", \"Счетчик\"]\n",
    "print(tabulate(table_data, headers, tablefmt=\"grid\"))"
   ],
   "id": "e98de311b2fa84ec",
   "outputs": [
    {
     "name": "stdout",
     "output_type": "stream",
     "text": [
      "+--------------+-----------------+-----------+\n",
      "| Ожидаемый    | Предсказанный   |   Счетчик |\n",
      "+==============+=================+===========+\n",
      "| Кроссовок    | Сандали         |        23 |\n",
      "+--------------+-----------------+-----------+\n",
      "| Кроссовок    | Ботинок         |        27 |\n",
      "+--------------+-----------------+-----------+\n",
      "| Пальто       | Свитер          |        81 |\n",
      "+--------------+-----------------+-----------+\n",
      "| Пальто       | Платье          |        32 |\n",
      "+--------------+-----------------+-----------+\n",
      "| Пальто       | Рубашка         |        64 |\n",
      "+--------------+-----------------+-----------+\n",
      "| Пальто       | Сумка           |         6 |\n",
      "+--------------+-----------------+-----------+\n",
      "| Пальто       | Сандали         |         1 |\n",
      "+--------------+-----------------+-----------+\n",
      "| Пальто       | Футболка/топ    |         1 |\n",
      "+--------------+-----------------+-----------+\n",
      "| Ботинок      | Кроссовок       |        42 |\n",
      "+--------------+-----------------+-----------+\n",
      "| Ботинок      | Сандали         |         6 |\n",
      "+--------------+-----------------+-----------+\n",
      "| Ботинок      | Сумка           |         1 |\n",
      "+--------------+-----------------+-----------+\n",
      "| Рубашка      | Футболка/топ    |       148 |\n",
      "+--------------+-----------------+-----------+\n",
      "| Рубашка      | Свитер          |        93 |\n",
      "+--------------+-----------------+-----------+\n",
      "| Рубашка      | Пальто          |        79 |\n",
      "+--------------+-----------------+-----------+\n",
      "| Рубашка      | Платье          |        34 |\n",
      "+--------------+-----------------+-----------+\n",
      "| Рубашка      | Сумка           |        18 |\n",
      "+--------------+-----------------+-----------+\n",
      "| Рубашка      | Брюки           |         1 |\n",
      "+--------------+-----------------+-----------+\n",
      "| Платье       | Рубашка         |        25 |\n",
      "+--------------+-----------------+-----------+\n",
      "| Платье       | Пальто          |        30 |\n",
      "+--------------+-----------------+-----------+\n",
      "| Платье       | Футболка/топ    |        26 |\n",
      "+--------------+-----------------+-----------+\n",
      "| Платье       | Сумка           |         7 |\n",
      "+--------------+-----------------+-----------+\n",
      "| Платье       | Брюки           |        12 |\n",
      "+--------------+-----------------+-----------+\n",
      "| Платье       | Свитер          |        13 |\n",
      "+--------------+-----------------+-----------+\n",
      "| Свитер       | Рубашка         |        70 |\n",
      "+--------------+-----------------+-----------+\n",
      "| Свитер       | Футболка/топ    |        19 |\n",
      "+--------------+-----------------+-----------+\n",
      "| Свитер       | Платье          |        15 |\n",
      "+--------------+-----------------+-----------+\n",
      "| Свитер       | Пальто          |       117 |\n",
      "+--------------+-----------------+-----------+\n",
      "| Свитер       | Сумка           |         5 |\n",
      "+--------------+-----------------+-----------+\n",
      "| Свитер       | Сандали         |         1 |\n",
      "+--------------+-----------------+-----------+\n",
      "| Свитер       | Брюки           |         1 |\n",
      "+--------------+-----------------+-----------+\n",
      "| Футболка/топ | Рубашка         |        81 |\n",
      "+--------------+-----------------+-----------+\n",
      "| Футболка/топ | Свитер          |        12 |\n",
      "+--------------+-----------------+-----------+\n",
      "| Футболка/топ | Сандали         |         1 |\n",
      "+--------------+-----------------+-----------+\n",
      "| Футболка/топ | Сумка           |        13 |\n",
      "+--------------+-----------------+-----------+\n",
      "| Футболка/топ | Платье          |        35 |\n",
      "+--------------+-----------------+-----------+\n",
      "| Футболка/топ | Пальто          |         4 |\n",
      "+--------------+-----------------+-----------+\n",
      "| Сумка        | Платье          |         8 |\n",
      "+--------------+-----------------+-----------+\n",
      "| Сумка        | Футболка/топ    |         3 |\n",
      "+--------------+-----------------+-----------+\n",
      "| Сумка        | Брюки           |         1 |\n",
      "+--------------+-----------------+-----------+\n",
      "| Сумка        | Рубашка         |        12 |\n",
      "+--------------+-----------------+-----------+\n",
      "| Сумка        | Сандали         |         3 |\n",
      "+--------------+-----------------+-----------+\n",
      "| Сумка        | Свитер          |         4 |\n",
      "+--------------+-----------------+-----------+\n",
      "| Сумка        | Кроссовок       |         5 |\n",
      "+--------------+-----------------+-----------+\n",
      "| Сумка        | Пальто          |         6 |\n",
      "+--------------+-----------------+-----------+\n",
      "| Брюки        | Платье          |        23 |\n",
      "+--------------+-----------------+-----------+\n",
      "| Брюки        | Свитер          |         1 |\n",
      "+--------------+-----------------+-----------+\n",
      "| Брюки        | Пальто          |         3 |\n",
      "+--------------+-----------------+-----------+\n",
      "| Брюки        | Рубашка         |         3 |\n",
      "+--------------+-----------------+-----------+\n",
      "| Брюки        | Сумка           |         1 |\n",
      "+--------------+-----------------+-----------+\n",
      "| Брюки        | Футболка/топ    |         3 |\n",
      "+--------------+-----------------+-----------+\n",
      "| Сандали      | Кроссовок       |        39 |\n",
      "+--------------+-----------------+-----------+\n",
      "| Сандали      | Ботинок         |        15 |\n",
      "+--------------+-----------------+-----------+\n",
      "| Сандали      | Сумка           |         2 |\n",
      "+--------------+-----------------+-----------+\n",
      "| Сандали      | Платье          |         1 |\n",
      "+--------------+-----------------+-----------+\n"
     ]
    }
   ],
   "execution_count": 10
  },
  {
   "metadata": {},
   "cell_type": "markdown",
   "source": "Как видно по этим данным, модель чаще ошибается со смежными элементами одежды (рубашка - топ, ботинок - кроссовок) и реже с разными (пальто - сумка, ботинок - сумка), что вполне логично и показывает, что модель вполне неплохо справляется с классификацией одежды.",
   "id": "1ee3480f3bb69472"
  },
  {
   "metadata": {},
   "cell_type": "markdown",
   "source": "# PYTORCH",
   "id": "a57a821b6d64df35"
  },
  {
   "metadata": {
    "ExecuteTime": {
     "end_time": "2024-05-19T20:49:53.954666Z",
     "start_time": "2024-05-19T20:49:51.087286Z"
    }
   },
   "cell_type": "code",
   "source": [
    "import torch\n",
    "from torch import nn\n",
    "import torch.nn.functional as F\n",
    "from torch.utils.data import DataLoader\n",
    "from torchvision import datasets, transforms"
   ],
   "id": "788ce0c77858eef8",
   "outputs": [],
   "execution_count": 11
  },
  {
   "metadata": {
    "ExecuteTime": {
     "end_time": "2024-05-19T20:49:53.960816Z",
     "start_time": "2024-05-19T20:49:53.955222Z"
    }
   },
   "cell_type": "code",
   "source": [
    "# Конвертируем изображение из сета MNIST в 4-мерный тензор (цветовые каналы, число изображений, высота, ширина)\n",
    "transform = transforms.ToTensor()"
   ],
   "id": "fb070a11516dbdae",
   "outputs": [],
   "execution_count": 12
  },
  {
   "metadata": {
    "ExecuteTime": {
     "end_time": "2024-05-19T20:49:54.033135Z",
     "start_time": "2024-05-19T20:49:53.961829Z"
    }
   },
   "cell_type": "code",
   "source": "train_data = datasets.FashionMNIST(root='./fashion_mnist', train=True, download=True, transform=transform)",
   "id": "ba0ff4af7ddd96f7",
   "outputs": [],
   "execution_count": 13
  },
  {
   "metadata": {
    "ExecuteTime": {
     "end_time": "2024-05-19T20:49:54.052275Z",
     "start_time": "2024-05-19T20:49:54.037253Z"
    }
   },
   "cell_type": "code",
   "source": "test_data = datasets.FashionMNIST(root='./fashion_mnist', train=False, download=True, transform=transform)",
   "id": "c10cadb8509ccae5",
   "outputs": [],
   "execution_count": 14
  },
  {
   "metadata": {
    "ExecuteTime": {
     "end_time": "2024-05-19T20:49:54.060259Z",
     "start_time": "2024-05-19T20:49:54.053282Z"
    }
   },
   "cell_type": "code",
   "source": "train_data",
   "id": "9b3896f87e9e6b2b",
   "outputs": [
    {
     "data": {
      "text/plain": [
       "Dataset FashionMNIST\n",
       "    Number of datapoints: 60000\n",
       "    Root location: ./fashion_mnist\n",
       "    Split: Train\n",
       "    StandardTransform\n",
       "Transform: ToTensor()"
      ]
     },
     "execution_count": 15,
     "metadata": {},
     "output_type": "execute_result"
    }
   ],
   "execution_count": 15
  },
  {
   "metadata": {
    "ExecuteTime": {
     "end_time": "2024-05-19T20:49:54.070373Z",
     "start_time": "2024-05-19T20:49:54.061267Z"
    }
   },
   "cell_type": "code",
   "source": "test_data",
   "id": "a50be71ad7d91302",
   "outputs": [
    {
     "data": {
      "text/plain": [
       "Dataset FashionMNIST\n",
       "    Number of datapoints: 10000\n",
       "    Root location: ./fashion_mnist\n",
       "    Split: Test\n",
       "    StandardTransform\n",
       "Transform: ToTensor()"
      ]
     },
     "execution_count": 16,
     "metadata": {},
     "output_type": "execute_result"
    }
   ],
   "execution_count": 16
  },
  {
   "metadata": {
    "ExecuteTime": {
     "end_time": "2024-05-19T20:49:54.092291Z",
     "start_time": "2024-05-19T20:49:54.071381Z"
    }
   },
   "cell_type": "code",
   "source": [
    "# Генераторы данных\n",
    "train_loader = DataLoader(train_data, batch_size=10, shuffle=True)\n",
    "test_loader = DataLoader(test_data, batch_size=10, shuffle=False)"
   ],
   "id": "6b159b660719cfe8",
   "outputs": [],
   "execution_count": 17
  },
  {
   "metadata": {
    "ExecuteTime": {
     "end_time": "2024-05-19T20:49:54.102653Z",
     "start_time": "2024-05-19T20:49:54.094301Z"
    }
   },
   "cell_type": "code",
   "source": [
    "# Создадим модель\n",
    "class ConvolutionalNetwork(nn.Module):\n",
    "    def __init__(self):\n",
    "        super().__init__()\n",
    "        self.conv1 = nn.Conv2d(1, 6, 3, 1) # 1 color channel, 6 output channels, 3x3 kernel, stride 1\n",
    "        self.conv2 = nn.Conv2d(6, 16, 3, 1) # 6 input channels, 16 output channels, 3x3 kernel, stride 1\n",
    "        # Fully connected layers\n",
    "        self.fc1 = nn.Linear(5*5*16, 120) # 5x5 image dimension, 16 channels, 120 output\n",
    "        self.fc2 = nn.Linear(120, 84) # 120 input, 84 output\n",
    "        self.fc3 = nn.Linear(84, 10) # 84 input, 10 output (number of classes)\n",
    "        \n",
    "    def forward(self, X):\n",
    "        # First layer\n",
    "        X = F.relu(self.conv1(X))\n",
    "        X = F.max_pool2d(X, 2, 2) # 2x2 kernel, stride 2\n",
    "        # Second layer\n",
    "        X = F.relu(self.conv2(X))\n",
    "        X = F.max_pool2d(X, 2, 2) # 2x2 kernel, stride 2\n",
    "        \n",
    "        # Flatten the tensor\n",
    "        X = X.view(-1, 5*5*16) # Flatten the tensor\n",
    "        \n",
    "        # Fully connected layers\n",
    "        X = F.relu(self.fc1(X))\n",
    "        X = F.relu(self.fc2(X))\n",
    "        X = self.fc3(X)\n",
    "        return F.log_softmax(X, dim=1)"
   ],
   "id": "41280a4f297e49c8",
   "outputs": [],
   "execution_count": 18
  },
  {
   "metadata": {
    "ExecuteTime": {
     "end_time": "2024-05-19T20:49:54.120082Z",
     "start_time": "2024-05-19T20:49:54.103660Z"
    }
   },
   "cell_type": "code",
   "source": [
    "# Инициализируем модель\n",
    "torch.manual_seed(42)\n",
    "model = ConvolutionalNetwork()\n",
    "model"
   ],
   "id": "531e399cb574b5b0",
   "outputs": [
    {
     "data": {
      "text/plain": [
       "ConvolutionalNetwork(\n",
       "  (conv1): Conv2d(1, 6, kernel_size=(3, 3), stride=(1, 1))\n",
       "  (conv2): Conv2d(6, 16, kernel_size=(3, 3), stride=(1, 1))\n",
       "  (fc1): Linear(in_features=400, out_features=120, bias=True)\n",
       "  (fc2): Linear(in_features=120, out_features=84, bias=True)\n",
       "  (fc3): Linear(in_features=84, out_features=10, bias=True)\n",
       ")"
      ]
     },
     "execution_count": 19,
     "metadata": {},
     "output_type": "execute_result"
    }
   ],
   "execution_count": 19
  },
  {
   "metadata": {
    "ExecuteTime": {
     "end_time": "2024-05-19T20:49:54.127707Z",
     "start_time": "2024-05-19T20:49:54.121092Z"
    }
   },
   "cell_type": "code",
   "source": [
    "# Функция потерь и оптимизатор\n",
    "criterion = nn.CrossEntropyLoss()\n",
    "optimizer = torch.optim.Adam(model.parameters(), lr=0.001)"
   ],
   "id": "69777bad75a21b48",
   "outputs": [],
   "execution_count": 20
  },
  {
   "metadata": {
    "ExecuteTime": {
     "end_time": "2024-05-19T20:57:18.193966Z",
     "start_time": "2024-05-19T20:49:54.128715Z"
    }
   },
   "cell_type": "code",
   "source": [
    "import time\n",
    "\n",
    "start_time = time.time()\n",
    "\n",
    "epochs = 10\n",
    "train_losses = []\n",
    "test_losses = []\n",
    "train_correct = []\n",
    "test_correct = []\n",
    "\n",
    "# Loop of epochs\n",
    "for i in range(epochs):\n",
    "    trn_corr = 0\n",
    "    tst_corr = 0\n",
    "    \n",
    "    # Training batches\n",
    "    for b, (X_train, y_train) in enumerate(train_loader):\n",
    "        b += 1\n",
    "        \n",
    "        # Apply the model\n",
    "        y_pred = model(X_train)\n",
    "        loss = criterion(y_pred, y_train)\n",
    "        \n",
    "        # Tally the number of correct predictions\n",
    "        predicted = torch.max(y_pred.data, 1)[1]\n",
    "        batch_corr = (predicted == y_train).sum()\n",
    "        trn_corr += batch_corr\n",
    "        \n",
    "        # Update parameters\n",
    "        optimizer.zero_grad()\n",
    "        loss.backward()\n",
    "        optimizer.step()\n",
    "        \n",
    "    # Print interim results\n",
    "    print(f'Epoch {i + 1} Loss: {loss.item()}')\n",
    "            \n",
    "    train_losses.append(loss)\n",
    "    train_correct.append(trn_corr)\n",
    "    \n",
    "    # Testing batches\n",
    "    with torch.no_grad():\n",
    "        for b, (X_test, y_test) in enumerate(test_loader):\n",
    "            y_val = model(X_test)\n",
    "            predicted = torch.max(y_val.data, 1)[1]\n",
    "            tst_corr += (predicted == y_test).sum()\n",
    "    \n",
    "    loss = criterion(y_val, y_test)\n",
    "    test_losses.append(loss)\n",
    "    test_correct.append(tst_corr)\n",
    "\n",
    "current_time = time.time()\n",
    "total = current_time - start_time\n",
    "print(f\"Training took {total//60:.0f}m {total%60:.0f}s\")"
   ],
   "id": "2eecf63eb334b8f9",
   "outputs": [
    {
     "name": "stdout",
     "output_type": "stream",
     "text": [
      "Epoch 1 Loss: 0.25173884630203247\n",
      "Epoch 2 Loss: 0.3711837828159332\n",
      "Epoch 3 Loss: 0.34184473752975464\n",
      "Epoch 4 Loss: 0.4608762264251709\n",
      "Epoch 5 Loss: 0.45865073800086975\n",
      "Epoch 6 Loss: 0.10830845683813095\n",
      "Epoch 7 Loss: 0.6618529558181763\n",
      "Epoch 8 Loss: 0.0228576622903347\n",
      "Epoch 9 Loss: 0.013521768152713776\n",
      "Epoch 10 Loss: 0.07252457737922668\n",
      "Training took 7m 24s\n"
     ]
    }
   ],
   "execution_count": 21
  },
  {
   "metadata": {
    "ExecuteTime": {
     "end_time": "2024-05-19T20:57:18.392732Z",
     "start_time": "2024-05-19T20:57:18.195973Z"
    }
   },
   "cell_type": "code",
   "source": [
    "train_losses = [tlt.item() for tlt in train_losses]\n",
    "test_losses = [tlt.item() for tlt in test_losses]\n",
    "plt.plot(train_losses, label='Training loss')\n",
    "plt.plot(test_losses, label='Validation loss')\n",
    "plt.title('Loss at the end of each epoch')\n",
    "plt.legend()"
   ],
   "id": "b2ce394007eccf5d",
   "outputs": [
    {
     "data": {
      "text/plain": [
       "<matplotlib.legend.Legend at 0x1e6c150a8a0>"
      ]
     },
     "execution_count": 22,
     "metadata": {},
     "output_type": "execute_result"
    },
    {
     "data": {
      "text/plain": [
       "<Figure size 640x480 with 1 Axes>"
      ],
      "image/png": "[encoded data removed]"
     },
     "metadata": {},
     "output_type": "display_data"
    }
   ],
   "execution_count": 22
  },
  {
   "metadata": {
    "ExecuteTime": {
     "end_time": "2024-05-19T20:57:18.566970Z",
     "start_time": "2024-05-19T20:57:18.393743Z"
    }
   },
   "cell_type": "code",
   "source": [
    "plt.plot([t/600 for t in train_correct], label='Training accuracy')\n",
    "plt.plot([t/100 for t in test_correct], label='Validation accuracy')\n",
    "plt.title('Accuracy at the end of each epoch')\n",
    "plt.legend()"
   ],
   "id": "77f85c9029cb45d8",
   "outputs": [
    {
     "data": {
      "text/plain": [
       "<matplotlib.legend.Legend at 0x1e6c157f2f0>"
      ]
     },
     "execution_count": 23,
     "metadata": {},
     "output_type": "execute_result"
    },
    {
     "data": {
      "text/plain": [
       "<Figure size 640x480 with 1 Axes>"
      ],
      "image/png": "[encoded data removed]"
     },
     "metadata": {},
     "output_type": "display_data"
    }
   ],
   "execution_count": 23
  },
  {
   "metadata": {
    "ExecuteTime": {
     "end_time": "2024-05-19T20:57:18.571935Z",
     "start_time": "2024-05-19T20:57:18.567977Z"
    }
   },
   "cell_type": "code",
   "source": "test_load_all = DataLoader(test_data, batch_size=10000, shuffle=False)",
   "id": "ae5628c1d5fffabc",
   "outputs": [],
   "execution_count": 24
  },
  {
   "metadata": {
    "ExecuteTime": {
     "end_time": "2024-05-19T20:57:19.847125Z",
     "start_time": "2024-05-19T20:57:18.573946Z"
    }
   },
   "cell_type": "code",
   "source": [
    "with torch.no_grad():\n",
    "    correct = 0\n",
    "    for X_test, y_test in test_load_all:\n",
    "        y_val = model(X_test)\n",
    "        predicted = torch.max(y_val, 1)[1]\n",
    "        correct += (predicted == y_test).sum()"
   ],
   "id": "d607aeb5a32d9fe9",
   "outputs": [],
   "execution_count": 25
  },
  {
   "metadata": {
    "ExecuteTime": {
     "end_time": "2024-05-19T20:57:19.854743Z",
     "start_time": "2024-05-19T20:57:19.848131Z"
    }
   },
   "cell_type": "code",
   "source": "correct.item() / len(test_data) * 100",
   "id": "ddc248c10fee3c3c",
   "outputs": [
    {
     "data": {
      "text/plain": [
       "88.8"
      ]
     },
     "execution_count": 26,
     "metadata": {},
     "output_type": "execute_result"
    }
   ],
   "execution_count": 26
  },
  {
   "metadata": {
    "ExecuteTime": {
     "end_time": "2024-05-19T20:57:20.279236Z",
     "start_time": "2024-05-19T20:57:19.855750Z"
    }
   },
   "cell_type": "code",
   "source": [
    "# Возьмем одно изображение из тестового набора\n",
    "image_nr = 999\n",
    "test_image_tensor = test_data[image_nr] # Tensor with image with label\n",
    "test_image_class = test_image_tensor[1]\n",
    "print(f'Изображение {image_nr} класса {test_image_class} ({classes[test_image_class]})')\n",
    "test_image_data = test_image_tensor[0]\n",
    "# Reshape the image to [1, 1, 28, 28] (batch size, color channels, height, width)\n",
    "reshaped_image = test_image_data.reshape(28, 28)\n",
    "# Show image\n",
    "plt.imshow(reshaped_image, cmap='gray')\n",
    "\n",
    "# Pass to model\n",
    "model.eval()\n",
    "with torch.no_grad():\n",
    "    new_pred = model(test_image_data.view(1, 1, 28, 28))\n",
    "    \n",
    "print(f'Предсказанный класс {new_pred.argmax().item()} ({classes[new_pred.argmax().item()]})')"
   ],
   "id": "6f325b709a469b7f",
   "outputs": [
    {
     "name": "stdout",
     "output_type": "stream",
     "text": [
      "Изображение 999 класса 7 (Кроссовок)\n",
      "Предсказанный класс 7 (Кроссовок)\n"
     ]
    },
    {
     "data": {
      "text/plain": [
       "<Figure size 640x480 with 1 Axes>"
      ],
      "image/png": "[encoded data removed]"
     },
     "metadata": {},
     "output_type": "display_data"
    }
   ],
   "execution_count": 27
  },
  {
   "metadata": {},
   "cell_type": "markdown",
   "source": [
    "Как видно, модель на PyTorch показывает схожие результаты с моделью на TensorFlow.\n",
    "Обе технологии вполне неплохо справляются с задачей классификации одежды."
   ],
   "id": "9cb90a76589513f4"
  }
 ],
 "metadata": {
  "kernelspec": {
   "display_name": "Python 3",
   "language": "python",
   "name": "python3"
  },
  "language_info": {
   "codemirror_mode": {
    "name": "ipython",
    "version": 2
   },
   "file_extension": ".py",
   "mimetype": "text/x-python",
   "name": "python",
   "nbconvert_exporter": "python",
   "pygments_lexer": "ipython2",
   "version": "2.7.6"
  }
 },
 "nbformat": 4,
 "nbformat_minor": 5
}
