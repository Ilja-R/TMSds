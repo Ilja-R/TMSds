{
 "nbformat": 4,
 "nbformat_minor": 0,
 "metadata": {
  "colab": {
   "provenance": []
  },
  "kernelspec": {
   "name": "python3",
   "language": "python",
   "display_name": "Python 3 (ipykernel)"
  },
  "language_info": {
   "name": "python"
  }
 },
 "cells": [
  {
   "cell_type": "code",
   "execution_count": 1,
   "metadata": {
    "colab": {
     "base_uri": "https://localhost:8080/"
    },
    "id": "8B2Whld0OBhR",
    "outputId": "ba735c9c-eb7a-405b-d62b-923910a9db79",
    "ExecuteTime": {
     "end_time": "2024-02-19T19:54:24.039346100Z",
     "start_time": "2024-02-19T19:54:23.992334200Z"
    }
   },
   "outputs": [
    {
     "name": "stdout",
     "output_type": "stream",
     "text": [
      "(6, 1)\n",
      "(6, 6)\n",
      "(100, -5)\n",
      "None\n"
     ]
    }
   ],
   "source": [
    "\"\"\"\n",
    "1. В этом небольшом задании вам дается строка чисел, разделенных пробелами,\n",
    "и вы должны вернуть наибольшее и наименьшее число.\n",
    "\"\"\"\n",
    "\n",
    "def split_numbers(numbers: str) -> tuple or None:\n",
    "    \"\"\"\n",
    "    Return max and min numbers from string of numbers.\n",
    "    \n",
    "    :param numbers: string of separated numbers\n",
    "    :return: tuple consisting of max and min numbers or None if empty\n",
    "    \"\"\"\n",
    "    numbers = [int(number) for number in numbers.split()]\n",
    "    if numbers:\n",
    "        return max(numbers), min(numbers)\n",
    "\n",
    "print(split_numbers(\"1 2 3 4 5 6\")) # (6, 1)\n",
    "print(split_numbers(\"6\")) # (6, 6) This is ok, because we want to share logic\n",
    "print(split_numbers(\"-5 9 10 100\")) # (100, -5)\n",
    "print(split_numbers(\"\")) # None, other option would be (None, None)"
   ]
  },
  {
   "cell_type": "code",
   "source": [
    "\"\"\"\n",
    "2. Банкоматы допускают использование 4- или 6-значных PIN-кодов, а PIN-коды не\n",
    "могут содержать ничего, кроме ровно 4 или ровно 6 цифр. Если функции\n",
    "передана действительная строка PIN-кода, return true, иначе return false.\n",
    "\"\"\"\n",
    "\n",
    "def verify_pin(pin: str) -> bool:\n",
    "    \"\"\"\n",
    "    Verify that pin is acceptable. Acceptable pin has to consist of 4 or 6\n",
    "    digits only.\n",
    "    \n",
    "    :param pin: a string to check\n",
    "    :return: True if string can be used as a pin else False\n",
    "    \"\"\"\n",
    "    if len(pin) != 4 and len(pin) != 6:\n",
    "        return False\n",
    "    return pin.isnumeric()\n",
    "\n",
    "print(verify_pin(\"0000\")) # True\n",
    "print(verify_pin(\"123456\")) # True\n",
    "print(verify_pin(\"123-56\")) # False\n",
    "print(verify_pin(\"123A56\")) # False\n",
    "print(verify_pin(\"\")) # False\n",
    "print(verify_pin(\"123\")) # False"
   ],
   "metadata": {
    "colab": {
     "base_uri": "https://localhost:8080/"
    },
    "id": "9LOf5XREPTJt",
    "outputId": "649f6a64-bc21-4640-b20f-7f7cf881425d",
    "ExecuteTime": {
     "end_time": "2024-02-19T19:54:24.040345700Z",
     "start_time": "2024-02-19T19:54:24.018336600Z"
    }
   },
   "execution_count": 2,
   "outputs": [
    {
     "name": "stdout",
     "output_type": "stream",
     "text": [
      "True\n",
      "True\n",
      "False\n",
      "False\n",
      "False\n",
      "False\n"
     ]
    }
   ]
  },
  {
   "cell_type": "code",
   "source": [
    "\"\"\"\n",
    "3. Учитывая целое число, определите, является ли оно квадратным : В\n",
    "математике квадратное число или идеальный квадрат — это целое число,\n",
    "которое является квадратом целого числа; другими словами, это\n",
    "произведение некоторого целого числа само на себя. На вход список, на\n",
    "выходе список чисел\n",
    "\"\"\"\n",
    "import math\n",
    "\n",
    "def is_square(number: int) -> bool:\n",
    "    \"\"\"\n",
    "    Check that number is a perfect square.\n",
    "    \n",
    "    :param number: integer to check\n",
    "    :return: True if number is perfect square else False\n",
    "    \"\"\"\n",
    "    # Using isqrt function because of decimal precision\n",
    "    return number == math.isqrt(number) ** 2\n",
    "\n",
    "print(is_square(160000000000000000000000000000000000000000000000))\n",
    "print(is_square(160000000000000000000000000000000000000000000001))"
   ],
   "metadata": {
    "colab": {
     "base_uri": "https://localhost:8080/"
    },
    "id": "l9dAxqcjRDm3",
    "outputId": "ee9c412e-6388-41c9-dc29-65be7419c4f9",
    "ExecuteTime": {
     "end_time": "2024-02-19T19:54:24.057346100Z",
     "start_time": "2024-02-19T19:54:24.031346800Z"
    }
   },
   "execution_count": 3,
   "outputs": [
    {
     "name": "stdout",
     "output_type": "stream",
     "text": [
      "True\n",
      "False\n"
     ]
    }
   ]
  },
  {
   "cell_type": "code",
   "source": [
    "\"\"\"\n",
    "4. Реализуйте функцию unique_in_order, которая принимает в качестве аргумента\n",
    "последовательность и возвращает список элементов без каких-либо элементов\n",
    "с одинаковым значением рядом друг с другом и сохраняет исходный порядок\n",
    "элементов.\n",
    "\"\"\"\n",
    "def unique_in_order(lst: list) -> list:\n",
    "    \"\"\"\n",
    "    Remove duplicated values in list standing next to each other. \n",
    "    \n",
    "    :param lst: a list of elements\n",
    "    :return: a new list with no same elements next to each other in a list\n",
    "    \"\"\"\n",
    "    if not lst:\n",
    "        return []\n",
    "    unique_list = [lst[0]]\n",
    "    for checked_element in lst[1:]:\n",
    "        to_compare = unique_list[-1]\n",
    "        if type(to_compare) != type(checked_element) or to_compare != checked_element:\n",
    "            unique_list.append(checked_element)\n",
    "    return unique_list\n",
    "\n",
    "print(unique_in_order([1, 1, 1, 3, 3, 3, 4, 2, 2, 2, 4, 5, 6, 1, True, True, 7, 7, 6]))"
   ],
   "metadata": {
    "colab": {
     "base_uri": "https://localhost:8080/"
    },
    "id": "x5eUIBf8WXBE",
    "outputId": "b7359ba7-d4f2-40f2-ceea-04e798292a30",
    "ExecuteTime": {
     "end_time": "2024-02-19T19:54:24.071351900Z",
     "start_time": "2024-02-19T19:54:24.045348900Z"
    }
   },
   "execution_count": 4,
   "outputs": [
    {
     "name": "stdout",
     "output_type": "stream",
     "text": [
      "[1, 3, 4, 2, 4, 5, 6, 1, True, 7, 6]\n"
     ]
    }
   ]
  },
  {
   "cell_type": "code",
   "source": [
    "\"\"\"\n",
    "5. Просто, учитывая строку слов, верните длину самого короткого слова (слов).\n",
    "Строка никогда не будет пустой, и вам не нужно учитывать разные типы данных.\n",
    "\"\"\"\n",
    "\n",
    "def get_shortest_word(text: str) -> int:\n",
    "    \"\"\"\n",
    "    Get length of the shortest word form a string.\n",
    "    \n",
    "    :param text: string\n",
    "    :return: int length of the shortest word\n",
    "    \"\"\"\n",
    "    return min(len(word) for word in text.split())\n",
    "\n",
    "print(get_shortest_word(\"Hello this is a line with some words for testing\"))"
   ],
   "metadata": {
    "colab": {
     "base_uri": "https://localhost:8080/"
    },
    "id": "90xOeY3TJXid",
    "outputId": "28e73c0d-0049-45c0-8148-0b90970f3a3c",
    "ExecuteTime": {
     "end_time": "2024-02-19T19:54:24.478385400Z",
     "start_time": "2024-02-19T19:54:24.064355900Z"
    }
   },
   "execution_count": 5,
   "outputs": [
    {
     "name": "stdout",
     "output_type": "stream",
     "text": [
      "1\n"
     ]
    }
   ]
  },
  {
   "cell_type": "code",
   "source": [
    "\"\"\"\n",
    "6. Цифровой корень — это рекурсивная сумма всех цифр числа. Учитывая n,\n",
    "возьмите сумму цифр n. Если это значение имеет более одной цифры,\n",
    "продолжайте уменьшать таким образом, пока не получите однозначное число.\n",
    "Входные данные будут неотрицательным целым числом.\n",
    "\"\"\"\n",
    "\n",
    "def get_digit_root(number: int) -> int:\n",
    "    \"\"\"\n",
    "    Get summ of all digits in a number.\n",
    "    \n",
    "    :param number: integer number to get summ of all numbers\n",
    "    :return: integer summ of all numbers\n",
    "    \"\"\"\n",
    "    if number < 10:\n",
    "        return number\n",
    "    \n",
    "    digit_sum = sum(int(digit) for digit in str(number))\n",
    "    return get_digit_root(digit_sum)\n",
    "\n",
    "print(get_digit_root(65410))"
   ],
   "metadata": {
    "colab": {
     "base_uri": "https://localhost:8080/"
    },
    "id": "W4RXeRIaMcV_",
    "outputId": "809d4622-99b3-4206-f686-c9b2ee2b342d",
    "ExecuteTime": {
     "end_time": "2024-02-19T20:06:55.656661900Z",
     "start_time": "2024-02-19T20:06:55.647664700Z"
    }
   },
   "execution_count": 10,
   "outputs": [
    {
     "name": "stdout",
     "output_type": "stream",
     "text": [
      "7\n"
     ]
    }
   ]
  },
  {
   "cell_type": "code",
   "source": [
    "\"\"\"\n",
    "7. Вам будет предоставлено слово. Ваша задача — вернуть средний символ\n",
    "слова. Если длина слова нечетная, верните средний символ. Если длина слова\n",
    "четная, верните 2 средних символа.\n",
    "\"\"\"\n",
    "def get_middle_char(word: str) -> str:\n",
    "    \"\"\"\n",
    "    Get middle character(s) from a word\n",
    "    \n",
    "    :param word: str a word to get middle characters\n",
    "    :return: str single middle character if word length is odd else two middle characters\n",
    "    \"\"\"\n",
    "    word_len = len(word)\n",
    "    if word_len < 2:\n",
    "        return word\n",
    "    if word_len % 2 == 1:\n",
    "        return word[word_len // 2]\n",
    "    return word[word_len // 2 - 1 : word_len // 2 + 1]\n",
    "\n",
    "print(get_middle_char(\"abc\"))\n",
    "print(get_middle_char(\"ab\"))\n",
    "print(get_middle_char(\"abcdef\"))"
   ],
   "metadata": {
    "colab": {
     "base_uri": "https://localhost:8080/"
    },
    "id": "30SV9NTWPffk",
    "outputId": "e066b1ed-e447-4304-a3d8-d483ea1d61c8",
    "ExecuteTime": {
     "end_time": "2024-02-19T19:54:24.484383300Z",
     "start_time": "2024-02-19T19:54:24.106346700Z"
    }
   },
   "execution_count": 7,
   "outputs": [
    {
     "name": "stdout",
     "output_type": "stream",
     "text": [
      "b\n",
      "ab\n",
      "cd\n"
     ]
    }
   ]
  },
  {
   "cell_type": "code",
   "source": [
    "\"\"\"\n",
    "8. Определите функцию, которая принимает целочисленный аргумент и\n",
    "возвращает логическое значение trueили false в зависимости от того, является\n",
    "ли целое число простым.\n",
    "\"\"\"\n",
    "def is_prime(number: int) -> bool:\n",
    "    \"\"\"\n",
    "    Return if given number is prime.\n",
    "    \n",
    "    :param number: int number to check for prime\n",
    "    :return: True if number is prime else False\n",
    "    \"\"\"\n",
    "    number = abs(number)\n",
    "    if number in (0, 1):\n",
    "        return False\n",
    "    for i in range(2, int(number ** 0.5) + 1):\n",
    "        if number % i == 0:\n",
    "            return False\n",
    "    return True\n",
    "\n",
    "# print(is_prime(2305843009213693951)) # this is a very large number, will take time\n",
    "print(is_prime(997))"
   ],
   "metadata": {
    "colab": {
     "base_uri": "https://localhost:8080/"
    },
    "id": "ZKivoA26a7Zg",
    "outputId": "6033cef6-e9e3-4f99-c4df-39cb7cfa325e",
    "ExecuteTime": {
     "end_time": "2024-02-19T19:54:24.544382900Z",
     "start_time": "2024-02-19T19:54:24.124347300Z"
    }
   },
   "execution_count": 8,
   "outputs": [
    {
     "name": "stdout",
     "output_type": "stream",
     "text": [
      "True\n"
     ]
    }
   ]
  },
  {
   "cell_type": "code",
   "source": [
    "\"\"\"\n",
    "9. Учитывая список целых чисел, определите, является ли сумма его элементов\n",
    "нечетной или четной.\n",
    "\"\"\"\n",
    "\n",
    "def is_sum_even_or_odd(numbers: list) -> str:\n",
    "    \"\"\"\n",
    "    Return if sum of given numbers is even or odd.\n",
    "    \n",
    "    :param numbers: a numbers to check for even or odd summ\n",
    "    :return: \"even\" if summ of numbers is even else \"odd\"\n",
    "    \"\"\"\n",
    "    return \"Even\" if sum(numbers) % 2 == 0 else \"Odd\"\n",
    "\n",
    "print(is_sum_even_or_odd([1, 2, 3, 4, 5, 6]))\n",
    "print(is_sum_even_or_odd([1, 2, 3, 4, 5, 6, 7]))"
   ],
   "metadata": {
    "colab": {
     "base_uri": "https://localhost:8080/"
    },
    "id": "0ZoDkIyUi4yj",
    "outputId": "a1632419-1f48-42f5-fb22-b84e4f21d135",
    "ExecuteTime": {
     "end_time": "2024-02-19T19:54:24.546381500Z",
     "start_time": "2024-02-19T19:54:24.143347600Z"
    }
   },
   "execution_count": 9,
   "outputs": [
    {
     "name": "stdout",
     "output_type": "stream",
     "text": [
      "Odd\n",
      "Even\n"
     ]
    }
   ]
  }
 ]
}
