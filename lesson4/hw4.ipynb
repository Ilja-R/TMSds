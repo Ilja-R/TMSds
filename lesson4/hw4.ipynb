{
 "cells": [
  {
   "cell_type": "code",
   "execution_count": 1,
   "metadata": {
    "ExecuteTime": {
     "end_time": "2024-02-13T16:29:22.101933900Z",
     "start_time": "2024-02-13T16:29:22.070776800Z"
    },
    "colab": {
     "base_uri": "https://localhost:8080/"
    },
    "id": "lFxmv9sZcD7E",
    "outputId": "03364350-8dd8-42f3-d244-434a0d88953e"
   },
   "outputs": [
    {
     "name": "stdout",
     "output_type": "stream",
     "text": [
      "3.7230820101533415\n"
     ]
    }
   ],
   "source": [
    "import math\n",
    "# 1.\n",
    "# Написать функцию, вычисляющее значение функции при х = 1.79\n",
    "\n",
    "def solve(x: float) -> float:\n",
    "    return (math.cos(math.e ** x) + math.log((1 + x) ** 2) + math.sqrt(\n",
    "        math.e ** math.cos(x) + math.sin(math.pi * x) ** 2) + math.sqrt(1 / x) +\n",
    "            math.cos(x ** 2)) ** math.sin(x)\n",
    "\n",
    "# Proof: https://www.wolframalpha.com/input?i2d=true&i=Power%5B%5C%2840%29cos%5C%2840%29Exp%5B1.79%5D%5C%2841%29%2BLog%5BPower%5B1%2B1.79%2C2%5D%5D%2BSqrt%5BExp%5BCos%5B1.79%5D%5D%2BPower%5BSin%5B%CF%80*1.79%5D%2C2%5D%5D%2BSqrt%5BDivide%5B1%2C1.79%5D%5D%2BCos%5BPower%5B1.79%2C2%5D%5D%5C%2841%29%2Csin%5C%2840%291.79%5C%2841%29%5D\n",
    "print(solve(1.79))"
   ]
  },
  {
   "cell_type": "code",
   "execution_count": 2,
   "metadata": {
    "ExecuteTime": {
     "end_time": "2024-02-13T16:29:22.114470900Z",
     "start_time": "2024-02-13T16:29:22.096317300Z"
    },
    "colab": {
     "base_uri": "https://localhost:8080/"
    },
    "id": "jQqxky8ucFXi",
    "outputId": "771a1568-9418-47ef-e752-0d08e5b272a3"
   },
   "outputs": [
    {
     "name": "stdout",
     "output_type": "stream",
     "text": [
      "Есть контакт!\n",
      "Мимо!\n",
      "В подстроке должен быть хотя бы один символ\n",
      "Оба параметра должны быть строкой\n"
     ]
    }
   ],
   "source": [
    "# 2.\n",
    "# Напишите функцию search_substr(subst, st), которая принимает 2 строки и\n",
    "# определяет, имеется ли подстрока subst в строке st. В случае нахождения\n",
    "# подстроки, возвращается фраза «Есть контакт!», а иначе «Мимо!». Должно\n",
    "# быть найдено совпадение независимо от регистра обеих строк.\n",
    "\n",
    "\n",
    "def search_substr(subst: str, st: str) -> str:\n",
    "    if not type(subst) is str or not type(st) is str:\n",
    "        # Check for type\n",
    "        return \"Оба параметра должны быть строкой\"\n",
    "    if not subst:\n",
    "        # We do not want to check against an empty substring\n",
    "        return \"В подстроке должен быть хотя бы один символ\"\n",
    "    return \"Есть контакт!\" if subst.lower() in st.lower() else \"Мимо!\"\n",
    "\n",
    "\n",
    "print(search_substr(\"тАКт\", \"Есть контакт!\"))  # prints \"Есть контакт!\"\n",
    "print(search_substr(\"мимо\", \"Есть контакт!\"))  # prints \"Мимо!\"\n",
    "print(search_substr(\"\", \"Есть контакт!\"))  # prints \"В подстроке должен быть хотя бы один символ\"\n",
    "print(search_substr(4, \"Есть конт4кт!\"))  # prints \"Оба параметра должны быть строкой\""
   ]
  },
  {
   "cell_type": "code",
   "execution_count": 3,
   "metadata": {
    "ExecuteTime": {
     "end_time": "2024-02-13T16:29:22.127017Z",
     "start_time": "2024-02-13T16:29:22.115471800Z"
    },
    "colab": {
     "base_uri": "https://localhost:8080/"
    },
    "id": "a6NtGefKcFaO",
    "outputId": "68c1e958-4a4b-40e6-da30-bfcc75e57ff4"
   },
   "outputs": [
    {
     "name": "stdout",
     "output_type": "stream",
     "text": [
      "[('a', 4), ('b', 3), ('c', 2)]\n",
      "[('d', 3), ('s', 1), ('f', 1), ('l', 1), ('v', 1), ('1', 1)]\n"
     ]
    }
   ],
   "source": [
    "from collections import Counter\n",
    "# 3.\n",
    "# На основании строки определить 3 наиболее часто встречаемых символа в\n",
    "# ней. Пробелы нужно игнорировать (не учитывать при подсчете). Для простоты\n",
    "# подсчета количества вхождений символов удобно использовать Counter из\n",
    "# модуля collections.\n",
    "# Давайте договоримся вернуть топ 3, если есть повторяющиеся, то их все вернуть\n",
    "\n",
    "\n",
    "# Function returns most common symbols if there is tie, return all symbols of that length\n",
    "def get_most_common_symbols(input_string: str, amount: int = 3) -> list:\n",
    "    if amount < 1:\n",
    "        return []\n",
    "    # Remove spaces, tabs and new lines, they should not be mapped\n",
    "    formatted_input = ''.join(input_string.split())\n",
    "\n",
    "    # Get most common symbols\n",
    "    c = Counter(formatted_input)\n",
    "    most_common = c.most_common(amount)\n",
    "\n",
    "    # Check for elements with same frequency\n",
    "    if len(most_common) == amount:\n",
    "        # Get the least frequent elements with top frequency\n",
    "        to_check_frequency = most_common[-1][1]\n",
    "        # Get all other characters which have the same frequency, but exclude the ones already in most_common\n",
    "        same_length_chars = [(char, count) for char, count in c.items() if\n",
    "                             count == to_check_frequency and (char, count) not in most_common]\n",
    "        most_common.extend(same_length_chars)\n",
    "\n",
    "    return most_common\n",
    "\n",
    "\n",
    "print(get_most_common_symbols(\"aaaabbbcco[km]\"))\n",
    "print(get_most_common_symbols(\"\"\"     d        d   sdfl v 1\"\"\"))"
   ]
  },
  {
   "cell_type": "code",
   "execution_count": 4,
   "metadata": {
    "ExecuteTime": {
     "end_time": "2024-02-13T16:29:22.213374900Z",
     "start_time": "2024-02-13T16:29:22.131013200Z"
    },
    "colab": {
     "base_uri": "https://localhost:8080/"
    },
    "id": "ekJpSf3ScFd3",
    "outputId": "d935947e-811f-4f14-f55f-bdcff2fb6a1f"
   },
   "outputs": [
    {
     "name": "stdout",
     "output_type": "stream",
     "text": [
      "{0: 6, 2: 2, 1: 2}\n",
      "String '1223a' does not consist only of digits\n"
     ]
    }
   ],
   "source": [
    "# 4.\n",
    "# Дана строка в виде случайной последовательности чисел от 0 до 9. Требуется\n",
    "# создать словарь, который в качестве ключей будет принимать данные числа (т.\n",
    "# е. ключи будут типом int), а в качестве значений – количество этих чисел в\n",
    "# имеющейся последовательности. Для построения словаря создайте функцию\n",
    "# count_it(sequence), принимающую строку из цифр. Функция должна\n",
    "# возвратить словарь из 3-х самых часто встречаемых чисел.\n",
    "\n",
    "\n",
    "# Method for input check\n",
    "def is_numeric_string(input_str):\n",
    "    try:\n",
    "        int(input_str)\n",
    "        return True\n",
    "    except ValueError:\n",
    "        return False\n",
    "\n",
    "\n",
    "# NB! Relies on above cell to be executed.\n",
    "def get_most_common_symbols_dict(input_string: str) -> dict:\n",
    "    if not is_numeric_string(input_string):\n",
    "        raise ValueError(f\"String '{input_string}' does not consist only of digits\")\n",
    "    # DRY programming\n",
    "    return {int(key): value for key, value in get_most_common_symbols(input_string, 3)}\n",
    "\n",
    "\n",
    "# Do not forget to execute the above cell before running this cell!\n",
    "print(get_most_common_symbols_dict(\"000002121860\"))\n",
    "try:\n",
    "    print(get_most_common_symbols_dict(\"1223a\"))\n",
    "except ValueError as e:\n",
    "    print(e)"
   ]
  }
 ],
 "metadata": {
  "colab": {
   "provenance": []
  },
  "kernelspec": {
   "display_name": "Python 3 (ipykernel)",
   "language": "python",
   "name": "python3"
  },
  "language_info": {
   "codemirror_mode": {
    "name": "ipython",
    "version": 3
   },
   "file_extension": ".py",
   "mimetype": "text/x-python",
   "name": "python",
   "nbconvert_exporter": "python",
   "pygments_lexer": "ipython3",
   "version": "3.9.7"
  }
 },
 "nbformat": 4,
 "nbformat_minor": 4
}
