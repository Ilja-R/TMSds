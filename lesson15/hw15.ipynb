{
 "cells": [
  {
   "cell_type": "code",
   "execution_count": 1,
   "id": "4b625d521cc5bbd9",
   "metadata": {
    "ExecuteTime": {
     "end_time": "2024-04-01T09:33:58.913143100Z",
     "start_time": "2024-04-01T09:33:58.823890800Z"
    },
    "collapsed": false
   },
   "outputs": [],
   "source": [
    "import matplotlib.pyplot as plt\n",
    "import numpy as np"
   ]
  },
  {
   "cell_type": "markdown",
   "id": "b5aca0cbd31d6ae8",
   "metadata": {
    "collapsed": false
   },
   "source": [
    "# Функция ошибок"
   ]
  },
  {
   "cell_type": "markdown",
   "id": "960360aa63357291",
   "metadata": {
    "collapsed": false
   },
   "source": [
    "Возмем сгенерированные произвольные значения"
   ]
  },
  {
   "cell_type": "code",
   "execution_count": 2,
   "id": "586d2a056e3e3dbd",
   "metadata": {
    "ExecuteTime": {
     "end_time": "2024-04-01T09:33:58.999916500Z",
     "start_time": "2024-04-01T09:33:58.845890900Z"
    },
    "collapsed": false
   },
   "outputs": [],
   "source": [
    "predicted = [12.92469362, 8.42806167, 16.986717, 12.24674589, 16.31209368, 15.90590426, 13.20430213, 15.1873023, 16.05736461, 10.94078322, 10.54169929, 13.16121452, 14.30433731, 16.6769555, 8.42633753]\n",
    "actual = [13.36076402, 7.84359027, 17.33225985, 12.53272279, 16.45922122, 15.78607249, 12.55150131, 15.12517038, 15.51272341, 10.39738185, 10.87650357, 12.92203527, 14.80391635, 17.0937987, 8.06756244]"
   ]
  },
  {
   "cell_type": "markdown",
   "id": "98cd784ccada5200",
   "metadata": {
    "collapsed": false
   },
   "source": [
    "## MSE\n",
    "![MSE image](images/MSE.png \"MSE\")"
   ]
  },
  {
   "cell_type": "code",
   "execution_count": 3,
   "id": "a62da78be84d8035",
   "metadata": {
    "ExecuteTime": {
     "end_time": "2024-04-01T09:59:44.122737300Z",
     "start_time": "2024-04-01T09:59:44.095740100Z"
    },
    "collapsed": false
   },
   "outputs": [],
   "source": [
    "# MSE\n",
    "def mean_squared_error(y_true, y_pred):\n",
    "    n = len(y_true)\n",
    "    mse = sum((y_true[i] - y_pred[i])**2 for i in range(n)) / n\n",
    "    return mse"
   ]
  },
  {
   "cell_type": "code",
   "execution_count": 4,
   "id": "8ccf1ab917b6b143",
   "metadata": {
    "ExecuteTime": {
     "end_time": "2024-04-01T09:33:59.058370400Z",
     "start_time": "2024-04-01T09:33:58.877626400Z"
    },
    "collapsed": false
   },
   "outputs": [
    {
     "data": {
      "text/plain": [
       "0.16748260352583108"
      ]
     },
     "execution_count": 4,
     "metadata": {},
     "output_type": "execute_result"
    }
   ],
   "source": [
    "mse = mean_squared_error(actual, predicted)\n",
    "mse"
   ]
  },
  {
   "cell_type": "markdown",
   "id": "73c5ea5e61271971",
   "metadata": {
    "collapsed": false
   },
   "source": [
    "## MAE\n",
    "![MAE image](images/MAE.png \"MAE\")"
   ]
  },
  {
   "cell_type": "code",
   "execution_count": 5,
   "id": "1e48d8ae96971620",
   "metadata": {
    "ExecuteTime": {
     "end_time": "2024-04-01T09:33:59.059372Z",
     "start_time": "2024-04-01T09:33:58.893113400Z"
    },
    "collapsed": false
   },
   "outputs": [],
   "source": [
    "# MAE\n",
    "def mean_absolute_error(y_true, y_pred):\n",
    "    n = len(y_true)\n",
    "    mae = sum(abs(y_true[i] - y_pred[i]) for i in range(n)) / n\n",
    "    return mae"
   ]
  },
  {
   "cell_type": "code",
   "execution_count": 6,
   "id": "c86897b38143e47e",
   "metadata": {
    "ExecuteTime": {
     "end_time": "2024-04-01T09:33:59.084369800Z",
     "start_time": "2024-04-01T09:33:58.906113200Z"
    },
    "collapsed": false
   },
   "outputs": [
    {
     "data": {
      "text/plain": [
       "0.3714118020000002"
      ]
     },
     "execution_count": 6,
     "metadata": {},
     "output_type": "execute_result"
    }
   ],
   "source": [
    "mae = mean_absolute_error(actual, predicted)\n",
    "mae"
   ]
  },
  {
   "cell_type": "markdown",
   "id": "b4cca775fedc23e",
   "metadata": {
    "collapsed": false
   },
   "source": [
    "Посмотрим изменение чувствительности MSE против MAE"
   ]
  },
  {
   "cell_type": "code",
   "execution_count": 7,
   "id": "8df470008df2dd3b",
   "metadata": {
    "ExecuteTime": {
     "end_time": "2024-04-01T09:33:59.085372500Z",
     "start_time": "2024-04-01T09:33:58.921830300Z"
    },
    "collapsed": false
   },
   "outputs": [],
   "source": [
    "predicted_with_error = list(predicted)\n",
    "predicted_with_error[0] = 100"
   ]
  },
  {
   "cell_type": "code",
   "execution_count": 8,
   "id": "bee6994ba932dc44",
   "metadata": {
    "ExecuteTime": {
     "end_time": "2024-04-01T09:33:59.086371400Z",
     "start_time": "2024-04-01T09:33:58.937832600Z"
    },
    "collapsed": false
   },
   "outputs": [
    {
     "data": {
      "text/plain": [
       "500.5786195238172"
      ]
     },
     "execution_count": 8,
     "metadata": {},
     "output_type": "execute_result"
    }
   ],
   "source": [
    "mse_with_error = mean_squared_error(actual, predicted_with_error)\n",
    "mse_with_error"
   ]
  },
  {
   "cell_type": "code",
   "execution_count": 9,
   "id": "f6a717723e118662",
   "metadata": {
    "ExecuteTime": {
     "end_time": "2024-04-01T09:33:59.087372300Z",
     "start_time": "2024-04-01T09:33:58.951917600Z"
    },
    "collapsed": false
   },
   "outputs": [
    {
     "data": {
      "text/plain": [
       "6.1182895073333325"
      ]
     },
     "execution_count": 9,
     "metadata": {},
     "output_type": "execute_result"
    }
   ],
   "source": [
    "mae_with_error = mean_absolute_error(actual, predicted_with_error)\n",
    "mae_with_error"
   ]
  },
  {
   "cell_type": "code",
   "execution_count": 10,
   "id": "8dd31a170f4ac98e",
   "metadata": {
    "ExecuteTime": {
     "end_time": "2024-04-01T09:33:59.087372300Z",
     "start_time": "2024-04-01T09:33:58.970915300Z"
    },
    "collapsed": false
   },
   "outputs": [
    {
     "name": "stdout",
     "output_type": "stream",
     "text": [
      "With change of 12.92469362 to 100 in a single line mse changed from 0.16748260352583108 to 500.5786195238172 (2989 times) and mae changed from 0.3714118020000002 to 6.1182895073333325 (16 times)\n"
     ]
    }
   ],
   "source": [
    "print(f'With change of {predicted[0]} to {predicted_with_error[0]} in a single line mse changed from {mse} to {mse_with_error} '\n",
    "      f'({round(mse_with_error/mse)} times) and mae changed from {mae} to {mae_with_error} ({round(mae_with_error/mae)} times)')"
   ]
  },
  {
   "cell_type": "markdown",
   "id": "dc95a84da310c359",
   "metadata": {
    "collapsed": false
   },
   "source": [
    "## Log-Cosh Loss"
   ]
  },
  {
   "cell_type": "code",
   "execution_count": 11,
   "id": "74cbdb49e259d6d1",
   "metadata": {
    "ExecuteTime": {
     "end_time": "2024-04-01T09:33:59.088373600Z",
     "start_time": "2024-04-01T09:33:58.983917200Z"
    },
    "collapsed": false
   },
   "outputs": [],
   "source": [
    "def log_cosh_loss(y_true, y_pred):\n",
    "    n = len(y_true)\n",
    "    log_cosh = sum(np.log(np.cosh(y_pred[i] - y_true[i])) for i in range(n)) / n\n",
    "    return log_cosh"
   ]
  },
  {
   "cell_type": "code",
   "execution_count": 12,
   "id": "66d749b05595a71d",
   "metadata": {
    "ExecuteTime": {
     "end_time": "2024-04-01T09:33:59.098368Z",
     "start_time": "2024-04-01T09:33:58.998913800Z"
    },
    "collapsed": false
   },
   "outputs": [
    {
     "data": {
      "text/plain": [
       "0.08036861319491327"
      ]
     },
     "execution_count": 12,
     "metadata": {},
     "output_type": "execute_result"
    }
   ],
   "source": [
    "lcl = log_cosh_loss(actual, predicted)\n",
    "lcl"
   ]
  },
  {
   "cell_type": "markdown",
   "id": "1890208b0883cd6",
   "metadata": {
    "collapsed": false
   },
   "source": [
    "## F1-score\n",
    "![F1-score image](images/F1.png \"F1-score\")"
   ]
  },
  {
   "cell_type": "markdown",
   "id": "baebae9bb6943e39",
   "metadata": {
    "collapsed": false
   },
   "source": [
    "Let us generate two random arrays with 0s and 1s in size 30"
   ]
  },
  {
   "cell_type": "code",
   "execution_count": 13,
   "id": "e237b5b466286134",
   "metadata": {
    "ExecuteTime": {
     "end_time": "2024-04-01T09:33:59.185369100Z",
     "start_time": "2024-04-01T09:33:59.013277400Z"
    },
    "collapsed": false
   },
   "outputs": [],
   "source": [
    "predicted_bool = [1, 0, 0, 0, 0, 1, 0, 0, 0, 0, 0, 0, 1, 1, 0, 0, 0, 0, 1, 0, 1, 1, 1, 0, 0, 0, 0, 1, 1, 0]\n",
    "actual_bool = [1, 0, 0, 0, 0, 1, 1, 0, 0, 0, 0, 0, 1, 1, 0, 0, 0, 0, 1, 0, 1, 1, 1, 0, 0, 0, 0, 1, 1, 0]"
   ]
  },
  {
   "cell_type": "code",
   "execution_count": 14,
   "id": "8f36e1ae89e26253",
   "metadata": {
    "ExecuteTime": {
     "end_time": "2024-04-01T09:33:59.186369300Z",
     "start_time": "2024-04-01T09:33:59.032279400Z"
    },
    "collapsed": false
   },
   "outputs": [],
   "source": [
    "def f1_score(y_true, y_pred, invert = False):\n",
    "    if invert:\n",
    "        y_true = [not y for y in y_true]\n",
    "        y_pred = [not y for y in y_pred]\n",
    "    true_positives = sum(y_true[i] == 1 and y_pred[i] == 1 for i in range(len(y_true)))\n",
    "    false_positives = sum(y_true[i] == 0 and y_pred[i] == 1 for i in range(len(y_true)))\n",
    "    false_negatives = sum(y_true[i] == 1 and y_pred[i] == 0 for i in range(len(y_true)))\n",
    "\n",
    "    precision = true_positives / (true_positives + false_positives)\n",
    "    recall = true_positives / (true_positives + false_negatives)\n",
    "\n",
    "    f1 = 2 * (precision * recall) / (precision + recall)\n",
    "    return f1"
   ]
  },
  {
   "cell_type": "code",
   "execution_count": 15,
   "id": "6d0f796799d8cd8c",
   "metadata": {
    "ExecuteTime": {
     "end_time": "2024-04-01T09:33:59.187372Z",
     "start_time": "2024-04-01T09:33:59.046368700Z"
    },
    "collapsed": false
   },
   "outputs": [
    {
     "data": {
      "text/plain": [
       "0.9523809523809523"
      ]
     },
     "execution_count": 15,
     "metadata": {},
     "output_type": "execute_result"
    }
   ],
   "source": [
    "f1_score_true = f1_score(actual_bool, predicted_bool)\n",
    "f1_score_true"
   ]
  },
  {
   "cell_type": "code",
   "execution_count": 16,
   "id": "242e28a3ff73a30f",
   "metadata": {
    "ExecuteTime": {
     "end_time": "2024-04-01T09:33:59.189369Z",
     "start_time": "2024-04-01T09:33:59.061371100Z"
    },
    "collapsed": false
   },
   "outputs": [
    {
     "data": {
      "text/plain": [
       "0.9743589743589743"
      ]
     },
     "execution_count": 16,
     "metadata": {},
     "output_type": "execute_result"
    }
   ],
   "source": [
    "f1_score_false = f1_score(actual_bool, predicted_bool, invert=True)\n",
    "f1_score_false"
   ]
  },
  {
   "cell_type": "markdown",
   "id": "29320f36687f6f8f",
   "metadata": {
    "collapsed": false
   },
   "source": [
    "# Линейная регрессия и подбор параметров через градиентный спуск"
   ]
  },
  {
   "cell_type": "markdown",
   "id": "306c071f2522c2c",
   "metadata": {
    "collapsed": false
   },
   "source": [
    "Возьмем произвольные значения"
   ]
  },
  {
   "cell_type": "code",
   "execution_count": 17,
   "id": "dcbb90170c93f0ad",
   "metadata": {
    "ExecuteTime": {
     "start_time": "2024-04-01T09:42:40.016480500Z"
    },
    "collapsed": false
   },
   "outputs": [],
   "source": [
    "X = np.array([1, 2, 3, 4, 5, 6, 7, 8, 9, 10])\n",
    "y = np.array([5,  6,  8, 11, 16, 13, 17, 20, 19, 26])"
   ]
  },
  {
   "cell_type": "markdown",
   "id": "ac56a0c4185f091c",
   "metadata": {
    "collapsed": false
   },
   "source": [
    "Посмотрим на графике"
   ]
  },
  {
   "cell_type": "code",
   "execution_count": 18,
   "id": "44938623aa67f53e",
   "metadata": {
    "ExecuteTime": {
     "end_time": "2024-04-01T09:42:40.625494400Z",
     "start_time": "2024-04-01T09:42:40.457736500Z"
    },
    "collapsed": false
   },
   "outputs": [
    {
     "data": {
      "image/png": "[encoded data removed]",
      "text/plain": [
       "<Figure size 640x480 with 1 Axes>"
      ]
     },
     "metadata": {},
     "output_type": "display_data"
    }
   ],
   "source": [
    "plt.scatter(X, y)\n",
    "plt.xlabel('x value')\n",
    "plt.ylabel('y actual value')\n",
    "plt.show()"
   ]
  },
  {
   "cell_type": "code",
   "execution_count": 19,
   "id": "fefea06290448fc6",
   "metadata": {
    "collapsed": false
   },
   "outputs": [],
   "source": [
    "# линейная регрессия с обучением через градиентный спуск\n",
    "def linear_regression(X, y, learning_rate=0.01, epochs=1000):\n",
    "    n = len(X)\n",
    "    w0 = 0\n",
    "    w1 = 0\n",
    "\n",
    "    for _ in range(epochs):\n",
    "        y_pred = w0 + w1 * X\n",
    "        dw0 = (-2 / n) * sum(y - y_pred)\n",
    "        dw1 = (-2 / n) * sum(X * (y - y_pred))\n",
    "\n",
    "        w0 -= learning_rate * dw0\n",
    "        w1 -= learning_rate * dw1\n",
    "\n",
    "    return w0, w1"
   ]
  },
  {
   "cell_type": "markdown",
   "id": "a2bb7761d5f188c8",
   "metadata": {
    "collapsed": false
   },
   "source": [
    "Вычислим коэффициенты"
   ]
  },
  {
   "cell_type": "code",
   "execution_count": 20,
   "id": "a92d5f691625bf0d",
   "metadata": {
    "ExecuteTime": {
     "end_time": "2024-04-01T09:44:48.059333800Z",
     "start_time": "2024-04-01T09:44:48.003922200Z"
    },
    "collapsed": false
   },
   "outputs": [
    {
     "name": "stdout",
     "output_type": "stream",
     "text": [
      "w0 = 2.23814452191865\n",
      "w1 = 2.1556120880981497\n"
     ]
    }
   ],
   "source": [
    "w0, w1 = linear_regression(X, y)\n",
    "print(\"w0 =\", w0)\n",
    "print(\"w1 =\", w1)"
   ]
  },
  {
   "cell_type": "markdown",
   "id": "cf6cc362f725fecb",
   "metadata": {
    "collapsed": false
   },
   "source": [
    "Предсказание"
   ]
  },
  {
   "cell_type": "code",
   "execution_count": 21,
   "id": "d36975999c5421c3",
   "metadata": {
    "ExecuteTime": {
     "start_time": "2024-04-01T09:46:49.738100200Z"
    },
    "collapsed": false
   },
   "outputs": [
    {
     "data": {
      "text/plain": [
       "array([ 4.39375661,  6.5493687 ,  8.70498079, 10.86059287, 13.01620496,\n",
       "       15.17181705, 17.32742914, 19.48304123, 21.63865331, 23.7942654 ])"
      ]
     },
     "execution_count": 21,
     "metadata": {},
     "output_type": "execute_result"
    }
   ],
   "source": [
    "y_pred = w0 + w1 * X\n",
    "y_pred"
   ]
  },
  {
   "cell_type": "markdown",
   "id": "6dbdecea1099d9ef",
   "metadata": {
    "collapsed": false
   },
   "source": [
    "Посмотрим на графике"
   ]
  },
  {
   "cell_type": "code",
   "execution_count": 22,
   "id": "4c9c95d31bd6c2b5",
   "metadata": {
    "ExecuteTime": {
     "end_time": "2024-04-01T09:47:29.489671Z",
     "start_time": "2024-04-01T09:47:29.357639400Z"
    },
    "collapsed": false
   },
   "outputs": [
    {
     "data": {
      "image/png": "[encoded data removed]",
      "text/plain": [
       "<Figure size 640x480 with 1 Axes>"
      ]
     },
     "metadata": {},
     "output_type": "display_data"
    }
   ],
   "source": [
    "plt.scatter(X, y)\n",
    "plt.plot(X, y_pred, color='red')\n",
    "plt.show()"
   ]
  },
  {
   "cell_type": "markdown",
   "id": "d727e090eb2fecae",
   "metadata": {
    "collapsed": false
   },
   "source": [
    "Посмотрим на ошибку от количества эпох\n"
   ]
  },
  {
   "cell_type": "code",
   "execution_count": 23,
   "id": "25cd5e02a7965ed5",
   "metadata": {
    "ExecuteTime": {
     "start_time": "2024-04-01T09:42:41.371693700Z"
    },
    "collapsed": false
   },
   "outputs": [],
   "source": [
    "def build_error_chart(X, y, learning_rate=0.01, epochs=1000):\n",
    "    n = len(X)\n",
    "    w0 = 0\n",
    "    w1 = 0\n",
    "\n",
    "    error_array = []\n",
    "\n",
    "    for _ in range(epochs):\n",
    "        y_pred = w0 + w1 * X\n",
    "        dw0 = (-2 / n) * sum(y - y_pred)\n",
    "        dw1 = (-2 / n) * sum(X * (y - y_pred))\n",
    "\n",
    "        w0 -= learning_rate * dw0\n",
    "        w1 -= learning_rate * dw1\n",
    "        error_array.append(mean_squared_error(y, y_pred))\n",
    "        \n",
    "    return error_array"
   ]
  },
  {
   "cell_type": "code",
   "execution_count": 60,
   "id": "c1661d9c618370b5",
   "metadata": {
    "collapsed": false,
    "ExecuteTime": {
     "end_time": "2024-04-01T11:46:29.731663400Z",
     "start_time": "2024-04-01T11:46:29.666373100Z"
    }
   },
   "outputs": [
    {
     "data": {
      "text/plain": "[239.7,\n 14.320121999999987,\n 3.9731184915999975,\n 3.4921858692144205,\n 3.46397475394067,\n 3.4565866604622415,\n 3.4502050314867603,\n 3.4439202267009934,\n 3.4376900860072808,\n 3.4315122541095655]"
     },
     "execution_count": 60,
     "metadata": {},
     "output_type": "execute_result"
    }
   ],
   "source": [
    "errors = build_error_chart(X, y)[:10]\n",
    "errors"
   ]
  },
  {
   "cell_type": "code",
   "execution_count": 62,
   "id": "17ba6bd7e2b5c01a",
   "metadata": {
    "collapsed": false,
    "ExecuteTime": {
     "end_time": "2024-04-01T11:48:59.746686Z",
     "start_time": "2024-04-01T11:48:59.607383400Z"
    }
   },
   "outputs": [
    {
     "data": {
      "text/plain": "<Figure size 640x480 with 1 Axes>",
      "image/png": "[encoded data removed]"
     },
     "metadata": {},
     "output_type": "display_data"
    }
   ],
   "source": [
    "plt.plot(range(10), errors)\n",
    "plt.xlabel('Iterations')\n",
    "plt.show()"
   ]
  },
  {
   "cell_type": "markdown",
   "id": "2b0959f4d5dedd18",
   "metadata": {
    "collapsed": false
   },
   "source": [
    "Как видно на графике, ошибка уменьшается с увеличением количества эпох. Даже небольшое число эпох позволяет значительно уменьшить ошибку"
   ]
  }
 ],
 "metadata": {
  "kernelspec": {
   "display_name": "Python 3 (ipykernel)",
   "language": "python",
   "name": "python3"
  },
  "language_info": {
   "codemirror_mode": {
    "name": "ipython",
    "version": 3
   },
   "file_extension": ".py",
   "mimetype": "text/x-python",
   "name": "python",
   "nbconvert_exporter": "python",
   "pygments_lexer": "ipython3",
   "version": "3.9.7"
  }
 },
 "nbformat": 4,
 "nbformat_minor": 5
}
