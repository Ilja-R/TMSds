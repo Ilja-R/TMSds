{
 "cells": [
  {
   "cell_type": "markdown",
   "source": [
    "# Функция ошибок"
   ],
   "metadata": {
    "collapsed": false
   },
   "id": "b5aca0cbd31d6ae8"
  },
  {
   "cell_type": "markdown",
   "source": [
    "Возмем сгенерированные произвольные значения"
   ],
   "metadata": {
    "collapsed": false
   },
   "id": "960360aa63357291"
  },
  {
   "cell_type": "code",
   "execution_count": 1,
   "outputs": [],
   "source": [
    "predicted = [12.92469362, 8.42806167, 16.986717, 12.24674589, 16.31209368, 15.90590426, 13.20430213, 15.1873023, 16.05736461, 10.94078322, 10.54169929, 13.16121452, 14.30433731, 16.6769555, 8.42633753]\n",
    "actual = [13.36076402, 7.84359027, 17.33225985, 12.53272279, 16.45922122, 15.78607249, 12.55150131, 15.12517038, 15.51272341, 10.39738185, 10.87650357, 12.92203527, 14.80391635, 17.0937987, 8.06756244]"
   ],
   "metadata": {
    "collapsed": false,
    "ExecuteTime": {
     "end_time": "2024-03-29T13:26:06.886951Z",
     "start_time": "2024-03-29T13:26:06.844147Z"
    }
   },
   "id": "586d2a056e3e3dbd"
  },
  {
   "cell_type": "markdown",
   "source": [
    "## MSE"
   ],
   "metadata": {
    "collapsed": false
   },
   "id": "98cd784ccada5200"
  },
  {
   "cell_type": "code",
   "execution_count": 2,
   "outputs": [],
   "source": [
    "# MSE\n",
    "def mean_squared_error(y_true, y_pred):\n",
    "    n = len(y_true)\n",
    "    mse = sum((y_true[i] - y_pred[i])**2 for i in range(n)) / n\n",
    "    return mse"
   ],
   "metadata": {
    "collapsed": false,
    "ExecuteTime": {
     "end_time": "2024-03-29T13:26:06.887175Z",
     "start_time": "2024-03-29T13:26:06.848087Z"
    }
   },
   "id": "a62da78be84d8035"
  },
  {
   "cell_type": "code",
   "execution_count": 3,
   "outputs": [
    {
     "data": {
      "text/plain": "0.16748260352583108"
     },
     "execution_count": 3,
     "metadata": {},
     "output_type": "execute_result"
    }
   ],
   "source": [
    "mse = mean_squared_error(actual, predicted)\n",
    "mse"
   ],
   "metadata": {
    "collapsed": false,
    "ExecuteTime": {
     "end_time": "2024-03-29T13:26:06.894541Z",
     "start_time": "2024-03-29T13:26:06.851785Z"
    }
   },
   "id": "8ccf1ab917b6b143"
  },
  {
   "cell_type": "markdown",
   "source": [
    "## MAE"
   ],
   "metadata": {
    "collapsed": false
   },
   "id": "73c5ea5e61271971"
  },
  {
   "cell_type": "code",
   "execution_count": 4,
   "outputs": [],
   "source": [
    "# MAE\n",
    "def mean_absolute_error(y_true, y_pred):\n",
    "    n = len(y_true)\n",
    "    mae = sum(abs(y_true[i] - y_pred[i]) for i in range(n)) / n\n",
    "    return mae"
   ],
   "metadata": {
    "collapsed": false,
    "ExecuteTime": {
     "end_time": "2024-03-29T13:26:06.904067Z",
     "start_time": "2024-03-29T13:26:06.856135Z"
    }
   },
   "id": "1e48d8ae96971620"
  },
  {
   "cell_type": "code",
   "execution_count": 5,
   "outputs": [
    {
     "data": {
      "text/plain": "0.3714118020000002"
     },
     "execution_count": 5,
     "metadata": {},
     "output_type": "execute_result"
    }
   ],
   "source": [
    "mae = mean_absolute_error(actual, predicted)\n",
    "mae"
   ],
   "metadata": {
    "collapsed": false,
    "ExecuteTime": {
     "end_time": "2024-03-29T13:26:06.951959Z",
     "start_time": "2024-03-29T13:26:06.859330Z"
    }
   },
   "id": "c86897b38143e47e"
  },
  {
   "cell_type": "markdown",
   "source": [
    "Посмотрим изменение чувствительности MSE против MAE"
   ],
   "metadata": {
    "collapsed": false
   },
   "id": "b4cca775fedc23e"
  },
  {
   "cell_type": "code",
   "execution_count": 6,
   "outputs": [],
   "source": [
    "predicted_with_error = list(predicted)\n",
    "predicted_with_error[0] = 100"
   ],
   "metadata": {
    "collapsed": false,
    "ExecuteTime": {
     "end_time": "2024-03-29T13:26:06.967044Z",
     "start_time": "2024-03-29T13:26:06.862833Z"
    }
   },
   "id": "8df470008df2dd3b"
  },
  {
   "cell_type": "code",
   "execution_count": 7,
   "outputs": [
    {
     "data": {
      "text/plain": "500.5786195238172"
     },
     "execution_count": 7,
     "metadata": {},
     "output_type": "execute_result"
    }
   ],
   "source": [
    "mse_with_error = mean_squared_error(actual, predicted_with_error)\n",
    "mse_with_error"
   ],
   "metadata": {
    "collapsed": false,
    "ExecuteTime": {
     "end_time": "2024-03-29T13:26:06.968549Z",
     "start_time": "2024-03-29T13:26:06.864986Z"
    }
   },
   "id": "bee6994ba932dc44"
  },
  {
   "cell_type": "code",
   "execution_count": 8,
   "outputs": [
    {
     "data": {
      "text/plain": "6.1182895073333325"
     },
     "execution_count": 8,
     "metadata": {},
     "output_type": "execute_result"
    }
   ],
   "source": [
    "mae_with_error = mean_absolute_error(actual, predicted_with_error)\n",
    "mae_with_error"
   ],
   "metadata": {
    "collapsed": false,
    "ExecuteTime": {
     "end_time": "2024-03-29T13:26:06.969474Z",
     "start_time": "2024-03-29T13:26:06.868350Z"
    }
   },
   "id": "f6a717723e118662"
  },
  {
   "cell_type": "code",
   "execution_count": 9,
   "outputs": [
    {
     "name": "stdout",
     "output_type": "stream",
     "text": [
      "With change of 12.92469362 to 100 in a single line mse changed from 0.16748260352583108 to 500.5786195238172 (2989 times) and mae changed from 0.3714118020000002 to 6.1182895073333325 (16 times)\n"
     ]
    }
   ],
   "source": [
    "print(f'With change of {predicted[0]} to {predicted_with_error[0]} in a single line mse changed from {mse} to {mse_with_error} '\n",
    "      f'({round(mse_with_error/mse)} times) and mae changed from {mae} to {mae_with_error} ({round(mae_with_error/mae)} times)')"
   ],
   "metadata": {
    "collapsed": false,
    "ExecuteTime": {
     "end_time": "2024-03-29T13:26:06.970102Z",
     "start_time": "2024-03-29T13:26:06.871368Z"
    }
   },
   "id": "8dd31a170f4ac98e"
  },
  {
   "cell_type": "markdown",
   "source": [
    "## Log-Cosh Loss"
   ],
   "metadata": {
    "collapsed": false
   },
   "id": "dc95a84da310c359"
  },
  {
   "cell_type": "code",
   "execution_count": 10,
   "outputs": [],
   "source": [
    "import numpy as np\n",
    "\n",
    "def log_cosh_loss(y_true, y_pred):\n",
    "    n = len(y_true)\n",
    "    log_cosh = sum(np.log(np.cosh(y_pred[i] - y_true[i])) for i in range(n)) / n\n",
    "    return log_cosh"
   ],
   "metadata": {
    "collapsed": false,
    "ExecuteTime": {
     "end_time": "2024-03-29T13:26:06.970595Z",
     "start_time": "2024-03-29T13:26:06.874346Z"
    }
   },
   "id": "74cbdb49e259d6d1"
  },
  {
   "cell_type": "code",
   "execution_count": 11,
   "outputs": [
    {
     "data": {
      "text/plain": "0.08036861319491327"
     },
     "execution_count": 11,
     "metadata": {},
     "output_type": "execute_result"
    }
   ],
   "source": [
    "lcl = log_cosh_loss(actual, predicted)\n",
    "lcl"
   ],
   "metadata": {
    "collapsed": false,
    "ExecuteTime": {
     "end_time": "2024-03-29T13:26:06.970748Z",
     "start_time": "2024-03-29T13:26:06.877994Z"
    }
   },
   "id": "66d749b05595a71d"
  },
  {
   "cell_type": "markdown",
   "source": [
    "## F1-score"
   ],
   "metadata": {
    "collapsed": false
   },
   "id": "1890208b0883cd6"
  },
  {
   "cell_type": "markdown",
   "source": [
    "Let us generate two random arrays with 0s and 1s in size 30"
   ],
   "metadata": {
    "collapsed": false
   },
   "id": "baebae9bb6943e39"
  },
  {
   "cell_type": "code",
   "execution_count": 12,
   "outputs": [],
   "source": [
    "predicted_bool = [1, 0, 0, 0, 0, 1, 0, 0, 0, 0, 0, 0, 1, 1, 0, 0, 0, 0, 1, 0, 1, 1, 1, 0, 0, 0, 0, 1, 1, 0]\n",
    "actual_bool = [1, 0, 0, 0, 0, 1, 1, 0, 0, 0, 0, 0, 1, 1, 0, 0, 0, 0, 1, 0, 1, 1, 1, 0, 0, 0, 0, 1, 1, 0]"
   ],
   "metadata": {
    "collapsed": false,
    "ExecuteTime": {
     "end_time": "2024-03-29T13:26:06.970807Z",
     "start_time": "2024-03-29T13:26:06.882231Z"
    }
   },
   "id": "e237b5b466286134"
  },
  {
   "cell_type": "code",
   "execution_count": 13,
   "outputs": [],
   "source": [
    "def f1_score(y_true, y_pred, invert = False):\n",
    "    if invert:\n",
    "        y_true = [not y for y in y_true]\n",
    "        y_pred = [not y for y in y_pred]\n",
    "    true_positives = sum(y_true[i] == 1 and y_pred[i] == 1 for i in range(len(y_true)))\n",
    "    false_positives = sum(y_true[i] == 0 and y_pred[i] == 1 for i in range(len(y_true)))\n",
    "    false_negatives = sum(y_true[i] == 1 and y_pred[i] == 0 for i in range(len(y_true)))\n",
    "\n",
    "    precision = true_positives / (true_positives + false_positives)\n",
    "    recall = true_positives / (true_positives + false_negatives)\n",
    "\n",
    "    f1 = 2 * (precision * recall) / (precision + recall)\n",
    "    return f1"
   ],
   "metadata": {
    "collapsed": false,
    "ExecuteTime": {
     "end_time": "2024-03-29T13:26:06.971145Z",
     "start_time": "2024-03-29T13:26:06.885952Z"
    }
   },
   "id": "8f36e1ae89e26253"
  },
  {
   "cell_type": "code",
   "execution_count": 14,
   "outputs": [
    {
     "data": {
      "text/plain": "0.9523809523809523"
     },
     "execution_count": 14,
     "metadata": {},
     "output_type": "execute_result"
    }
   ],
   "source": [
    "f1_score_true = f1_score(actual_bool, predicted_bool)\n",
    "f1_score_true"
   ],
   "metadata": {
    "collapsed": false,
    "ExecuteTime": {
     "end_time": "2024-03-29T13:26:06.998729Z",
     "start_time": "2024-03-29T13:26:06.888262Z"
    }
   },
   "id": "6d0f796799d8cd8c"
  },
  {
   "cell_type": "code",
   "execution_count": 15,
   "outputs": [
    {
     "data": {
      "text/plain": "0.9743589743589743"
     },
     "execution_count": 15,
     "metadata": {},
     "output_type": "execute_result"
    }
   ],
   "source": [
    "f1_score_false = f1_score(actual_bool, predicted_bool, invert=True)\n",
    "f1_score_false"
   ],
   "metadata": {
    "collapsed": false,
    "ExecuteTime": {
     "end_time": "2024-03-29T13:26:06.998944Z",
     "start_time": "2024-03-29T13:26:06.890643Z"
    }
   },
   "id": "242e28a3ff73a30f"
  },
  {
   "cell_type": "markdown",
   "source": [
    "## TODO реализовать линейную регрессию и подбором параметров через градиентный спуск"
   ],
   "metadata": {
    "collapsed": false
   },
   "id": "29320f36687f6f8f"
  }
 ],
 "metadata": {
  "kernelspec": {
   "display_name": "Python 3",
   "language": "python",
   "name": "python3"
  },
  "language_info": {
   "codemirror_mode": {
    "name": "ipython",
    "version": 2
   },
   "file_extension": ".py",
   "mimetype": "text/x-python",
   "name": "python",
   "nbconvert_exporter": "python",
   "pygments_lexer": "ipython2",
   "version": "2.7.6"
  }
 },
 "nbformat": 4,
 "nbformat_minor": 5
}
