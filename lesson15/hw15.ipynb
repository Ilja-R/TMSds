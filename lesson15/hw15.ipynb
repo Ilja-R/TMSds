{
 "cells": [
  {
   "cell_type": "code",
   "execution_count": 17,
   "outputs": [],
   "source": [
    "import matplotlib.pyplot as plt\n",
    "import numpy as np"
   ],
   "metadata": {
    "collapsed": false,
    "ExecuteTime": {
     "end_time": "2024-04-01T09:33:58.913143100Z",
     "start_time": "2024-04-01T09:33:58.823890800Z"
    }
   },
   "id": "4b625d521cc5bbd9"
  },
  {
   "cell_type": "markdown",
   "source": [
    "# Функция ошибок"
   ],
   "metadata": {
    "collapsed": false
   },
   "id": "b5aca0cbd31d6ae8"
  },
  {
   "cell_type": "markdown",
   "source": [
    "Возмем сгенерированные произвольные значения"
   ],
   "metadata": {
    "collapsed": false
   },
   "id": "960360aa63357291"
  },
  {
   "cell_type": "code",
   "execution_count": 18,
   "outputs": [],
   "source": [
    "predicted = [12.92469362, 8.42806167, 16.986717, 12.24674589, 16.31209368, 15.90590426, 13.20430213, 15.1873023, 16.05736461, 10.94078322, 10.54169929, 13.16121452, 14.30433731, 16.6769555, 8.42633753]\n",
    "actual = [13.36076402, 7.84359027, 17.33225985, 12.53272279, 16.45922122, 15.78607249, 12.55150131, 15.12517038, 15.51272341, 10.39738185, 10.87650357, 12.92203527, 14.80391635, 17.0937987, 8.06756244]"
   ],
   "metadata": {
    "collapsed": false,
    "ExecuteTime": {
     "end_time": "2024-04-01T09:33:58.999916500Z",
     "start_time": "2024-04-01T09:33:58.845890900Z"
    }
   },
   "id": "586d2a056e3e3dbd"
  },
  {
   "cell_type": "markdown",
   "source": [
    "## MSE\n",
    "![MSE image](images/MSE.png \"MSE\")"
   ],
   "metadata": {
    "collapsed": false
   },
   "id": "98cd784ccada5200"
  },
  {
   "cell_type": "code",
   "execution_count": 59,
   "outputs": [],
   "source": [
    "# MSE\n",
    "def mean_squared_error(y_true, y_pred):\n",
    "    n = len(y_true)\n",
    "    mse = sum((y_true[i] - y_pred[i])**2 for i in range(n)) / n\n",
    "    return mse"
   ],
   "metadata": {
    "collapsed": false,
    "ExecuteTime": {
     "end_time": "2024-04-01T09:59:44.122737300Z",
     "start_time": "2024-04-01T09:59:44.095740100Z"
    }
   },
   "id": "a62da78be84d8035"
  },
  {
   "cell_type": "code",
   "execution_count": 20,
   "outputs": [
    {
     "data": {
      "text/plain": "0.16748260352583108"
     },
     "execution_count": 20,
     "metadata": {},
     "output_type": "execute_result"
    }
   ],
   "source": [
    "mse = mean_squared_error(actual, predicted)\n",
    "mse"
   ],
   "metadata": {
    "collapsed": false,
    "ExecuteTime": {
     "end_time": "2024-04-01T09:33:59.058370400Z",
     "start_time": "2024-04-01T09:33:58.877626400Z"
    }
   },
   "id": "8ccf1ab917b6b143"
  },
  {
   "cell_type": "markdown",
   "source": [
    "## MAE\n",
    "![MAE image](images/MAE.png \"MAE\")"
   ],
   "metadata": {
    "collapsed": false
   },
   "id": "73c5ea5e61271971"
  },
  {
   "cell_type": "code",
   "execution_count": 21,
   "outputs": [],
   "source": [
    "# MAE\n",
    "def mean_absolute_error(y_true, y_pred):\n",
    "    n = len(y_true)\n",
    "    mae = sum(abs(y_true[i] - y_pred[i]) for i in range(n)) / n\n",
    "    return mae"
   ],
   "metadata": {
    "collapsed": false,
    "ExecuteTime": {
     "end_time": "2024-04-01T09:33:59.059372Z",
     "start_time": "2024-04-01T09:33:58.893113400Z"
    }
   },
   "id": "1e48d8ae96971620"
  },
  {
   "cell_type": "code",
   "execution_count": 22,
   "outputs": [
    {
     "data": {
      "text/plain": "0.3714118020000002"
     },
     "execution_count": 22,
     "metadata": {},
     "output_type": "execute_result"
    }
   ],
   "source": [
    "mae = mean_absolute_error(actual, predicted)\n",
    "mae"
   ],
   "metadata": {
    "collapsed": false,
    "ExecuteTime": {
     "end_time": "2024-04-01T09:33:59.084369800Z",
     "start_time": "2024-04-01T09:33:58.906113200Z"
    }
   },
   "id": "c86897b38143e47e"
  },
  {
   "cell_type": "markdown",
   "source": [
    "Посмотрим изменение чувствительности MSE против MAE"
   ],
   "metadata": {
    "collapsed": false
   },
   "id": "b4cca775fedc23e"
  },
  {
   "cell_type": "code",
   "execution_count": 23,
   "outputs": [],
   "source": [
    "predicted_with_error = list(predicted)\n",
    "predicted_with_error[0] = 100"
   ],
   "metadata": {
    "collapsed": false,
    "ExecuteTime": {
     "end_time": "2024-04-01T09:33:59.085372500Z",
     "start_time": "2024-04-01T09:33:58.921830300Z"
    }
   },
   "id": "8df470008df2dd3b"
  },
  {
   "cell_type": "code",
   "execution_count": 24,
   "outputs": [
    {
     "data": {
      "text/plain": "500.5786195238172"
     },
     "execution_count": 24,
     "metadata": {},
     "output_type": "execute_result"
    }
   ],
   "source": [
    "mse_with_error = mean_squared_error(actual, predicted_with_error)\n",
    "mse_with_error"
   ],
   "metadata": {
    "collapsed": false,
    "ExecuteTime": {
     "end_time": "2024-04-01T09:33:59.086371400Z",
     "start_time": "2024-04-01T09:33:58.937832600Z"
    }
   },
   "id": "bee6994ba932dc44"
  },
  {
   "cell_type": "code",
   "execution_count": 25,
   "outputs": [
    {
     "data": {
      "text/plain": "6.1182895073333325"
     },
     "execution_count": 25,
     "metadata": {},
     "output_type": "execute_result"
    }
   ],
   "source": [
    "mae_with_error = mean_absolute_error(actual, predicted_with_error)\n",
    "mae_with_error"
   ],
   "metadata": {
    "collapsed": false,
    "ExecuteTime": {
     "end_time": "2024-04-01T09:33:59.087372300Z",
     "start_time": "2024-04-01T09:33:58.951917600Z"
    }
   },
   "id": "f6a717723e118662"
  },
  {
   "cell_type": "code",
   "execution_count": 26,
   "outputs": [
    {
     "name": "stdout",
     "output_type": "stream",
     "text": [
      "With change of 12.92469362 to 100 in a single line mse changed from 0.16748260352583108 to 500.5786195238172 (2989 times) and mae changed from 0.3714118020000002 to 6.1182895073333325 (16 times)\n"
     ]
    }
   ],
   "source": [
    "print(f'With change of {predicted[0]} to {predicted_with_error[0]} in a single line mse changed from {mse} to {mse_with_error} '\n",
    "      f'({round(mse_with_error/mse)} times) and mae changed from {mae} to {mae_with_error} ({round(mae_with_error/mae)} times)')"
   ],
   "metadata": {
    "collapsed": false,
    "ExecuteTime": {
     "end_time": "2024-04-01T09:33:59.087372300Z",
     "start_time": "2024-04-01T09:33:58.970915300Z"
    }
   },
   "id": "8dd31a170f4ac98e"
  },
  {
   "cell_type": "markdown",
   "source": [
    "## Log-Cosh Loss"
   ],
   "metadata": {
    "collapsed": false
   },
   "id": "dc95a84da310c359"
  },
  {
   "cell_type": "code",
   "execution_count": 27,
   "outputs": [],
   "source": [
    "def log_cosh_loss(y_true, y_pred):\n",
    "    n = len(y_true)\n",
    "    log_cosh = sum(np.log(np.cosh(y_pred[i] - y_true[i])) for i in range(n)) / n\n",
    "    return log_cosh"
   ],
   "metadata": {
    "collapsed": false,
    "ExecuteTime": {
     "end_time": "2024-04-01T09:33:59.088373600Z",
     "start_time": "2024-04-01T09:33:58.983917200Z"
    }
   },
   "id": "74cbdb49e259d6d1"
  },
  {
   "cell_type": "code",
   "execution_count": 28,
   "outputs": [
    {
     "data": {
      "text/plain": "0.08036861319491327"
     },
     "execution_count": 28,
     "metadata": {},
     "output_type": "execute_result"
    }
   ],
   "source": [
    "lcl = log_cosh_loss(actual, predicted)\n",
    "lcl"
   ],
   "metadata": {
    "collapsed": false,
    "ExecuteTime": {
     "end_time": "2024-04-01T09:33:59.098368Z",
     "start_time": "2024-04-01T09:33:58.998913800Z"
    }
   },
   "id": "66d749b05595a71d"
  },
  {
   "cell_type": "markdown",
   "source": [
    "## F1-score\n",
    "![F1-score image](images/F1.png \"F1-score\")"
   ],
   "metadata": {
    "collapsed": false
   },
   "id": "1890208b0883cd6"
  },
  {
   "cell_type": "markdown",
   "source": [
    "Let us generate two random arrays with 0s and 1s in size 30"
   ],
   "metadata": {
    "collapsed": false
   },
   "id": "baebae9bb6943e39"
  },
  {
   "cell_type": "code",
   "execution_count": 29,
   "outputs": [],
   "source": [
    "predicted_bool = [1, 0, 0, 0, 0, 1, 0, 0, 0, 0, 0, 0, 1, 1, 0, 0, 0, 0, 1, 0, 1, 1, 1, 0, 0, 0, 0, 1, 1, 0]\n",
    "actual_bool = [1, 0, 0, 0, 0, 1, 1, 0, 0, 0, 0, 0, 1, 1, 0, 0, 0, 0, 1, 0, 1, 1, 1, 0, 0, 0, 0, 1, 1, 0]"
   ],
   "metadata": {
    "collapsed": false,
    "ExecuteTime": {
     "end_time": "2024-04-01T09:33:59.185369100Z",
     "start_time": "2024-04-01T09:33:59.013277400Z"
    }
   },
   "id": "e237b5b466286134"
  },
  {
   "cell_type": "code",
   "execution_count": 30,
   "outputs": [],
   "source": [
    "def f1_score(y_true, y_pred, invert = False):\n",
    "    if invert:\n",
    "        y_true = [not y for y in y_true]\n",
    "        y_pred = [not y for y in y_pred]\n",
    "    true_positives = sum(y_true[i] == 1 and y_pred[i] == 1 for i in range(len(y_true)))\n",
    "    false_positives = sum(y_true[i] == 0 and y_pred[i] == 1 for i in range(len(y_true)))\n",
    "    false_negatives = sum(y_true[i] == 1 and y_pred[i] == 0 for i in range(len(y_true)))\n",
    "\n",
    "    precision = true_positives / (true_positives + false_positives)\n",
    "    recall = true_positives / (true_positives + false_negatives)\n",
    "\n",
    "    f1 = 2 * (precision * recall) / (precision + recall)\n",
    "    return f1"
   ],
   "metadata": {
    "collapsed": false,
    "ExecuteTime": {
     "end_time": "2024-04-01T09:33:59.186369300Z",
     "start_time": "2024-04-01T09:33:59.032279400Z"
    }
   },
   "id": "8f36e1ae89e26253"
  },
  {
   "cell_type": "code",
   "execution_count": 31,
   "outputs": [
    {
     "data": {
      "text/plain": "0.9523809523809523"
     },
     "execution_count": 31,
     "metadata": {},
     "output_type": "execute_result"
    }
   ],
   "source": [
    "f1_score_true = f1_score(actual_bool, predicted_bool)\n",
    "f1_score_true"
   ],
   "metadata": {
    "collapsed": false,
    "ExecuteTime": {
     "end_time": "2024-04-01T09:33:59.187372Z",
     "start_time": "2024-04-01T09:33:59.046368700Z"
    }
   },
   "id": "6d0f796799d8cd8c"
  },
  {
   "cell_type": "code",
   "execution_count": 32,
   "outputs": [
    {
     "data": {
      "text/plain": "0.9743589743589743"
     },
     "execution_count": 32,
     "metadata": {},
     "output_type": "execute_result"
    }
   ],
   "source": [
    "f1_score_false = f1_score(actual_bool, predicted_bool, invert=True)\n",
    "f1_score_false"
   ],
   "metadata": {
    "collapsed": false,
    "ExecuteTime": {
     "end_time": "2024-04-01T09:33:59.189369Z",
     "start_time": "2024-04-01T09:33:59.061371100Z"
    }
   },
   "id": "242e28a3ff73a30f"
  },
  {
   "cell_type": "markdown",
   "source": [
    "# Линейная регрессия и подбор параметров через градиентный спуск"
   ],
   "metadata": {
    "collapsed": false
   },
   "id": "29320f36687f6f8f"
  },
  {
   "cell_type": "markdown",
   "source": [
    "Возьмем произвольные значения"
   ],
   "metadata": {
    "collapsed": false
   },
   "id": "306c071f2522c2c"
  },
  {
   "cell_type": "code",
   "execution_count": 48,
   "outputs": [],
   "source": [
    "X = np.array([1, 2, 3, 4, 5, 6, 7, 8, 9, 10])\n",
    "y = np.array([5,  6,  8, 11, 16, 13, 17, 20, 19, 26])"
   ],
   "metadata": {
    "collapsed": false,
    "ExecuteTime": {
     "start_time": "2024-04-01T09:42:40.016480500Z"
    }
   },
   "id": "dcbb90170c93f0ad"
  },
  {
   "cell_type": "markdown",
   "source": [
    "Посмотрим на графике"
   ],
   "metadata": {
    "collapsed": false
   },
   "id": "ac56a0c4185f091c"
  },
  {
   "cell_type": "code",
   "execution_count": 49,
   "outputs": [
    {
     "data": {
      "text/plain": "<Figure size 640x480 with 1 Axes>",
      "image/png": "[encoded data removed]"
     },
     "metadata": {},
     "output_type": "display_data"
    }
   ],
   "source": [
    "plt.scatter(X, y)\n",
    "plt.xlabel('x value')\n",
    "plt.ylabel('y actual value')\n",
    "plt.show()"
   ],
   "metadata": {
    "collapsed": false,
    "ExecuteTime": {
     "end_time": "2024-04-01T09:42:40.625494400Z",
     "start_time": "2024-04-01T09:42:40.457736500Z"
    }
   },
   "id": "44938623aa67f53e"
  },
  {
   "cell_type": "code",
   "execution_count": null,
   "outputs": [],
   "source": [
    "# линейная регрессия с обучением через градиентный спуск\n",
    "def linear_regression(X, y, learning_rate=0.01, epochs=1000):\n",
    "    n = len(X)\n",
    "    w0 = 0\n",
    "    w1 = 0\n",
    "\n",
    "    for _ in range(epochs):\n",
    "        y_pred = w0 + w1 * X\n",
    "        dw0 = (-2 / n) * sum(y - y_pred)\n",
    "        dw1 = (-2 / n) * sum(X * (y - y_pred))\n",
    "\n",
    "        w0 -= learning_rate * dw0\n",
    "        w1 -= learning_rate * dw1\n",
    "\n",
    "    return w0, w1"
   ],
   "metadata": {
    "collapsed": false
   },
   "id": "fefea06290448fc6"
  },
  {
   "cell_type": "markdown",
   "source": [
    "Вычислим коэффициенты"
   ],
   "metadata": {
    "collapsed": false
   },
   "id": "a2bb7761d5f188c8"
  },
  {
   "cell_type": "code",
   "execution_count": 55,
   "outputs": [
    {
     "name": "stdout",
     "output_type": "stream",
     "text": [
      "w0 = 2.23814452191865\n",
      "w1 = 2.1556120880981497\n"
     ]
    }
   ],
   "source": [
    "w0, w1 = linear_regression(X, y)\n",
    "print(\"w0 =\", w0)\n",
    "print(\"w1 =\", w1)"
   ],
   "metadata": {
    "collapsed": false,
    "ExecuteTime": {
     "end_time": "2024-04-01T09:44:48.059333800Z",
     "start_time": "2024-04-01T09:44:48.003922200Z"
    }
   },
   "id": "a92d5f691625bf0d"
  },
  {
   "cell_type": "markdown",
   "source": [
    "Предсказание"
   ],
   "metadata": {
    "collapsed": false
   },
   "id": "cf6cc362f725fecb"
  },
  {
   "cell_type": "code",
   "execution_count": 56,
   "outputs": [
    {
     "data": {
      "text/plain": "array([ 4.39375661,  6.5493687 ,  8.70498079, 10.86059287, 13.01620496,\n       15.17181705, 17.32742914, 19.48304123, 21.63865331, 23.7942654 ])"
     },
     "execution_count": 56,
     "metadata": {},
     "output_type": "execute_result"
    }
   ],
   "source": [
    "y_pred = w0 + w1 * X\n",
    "y_pred"
   ],
   "metadata": {
    "collapsed": false,
    "ExecuteTime": {
     "start_time": "2024-04-01T09:46:49.738100200Z"
    }
   },
   "id": "d36975999c5421c3"
  },
  {
   "cell_type": "markdown",
   "source": [
    "Посмотрим на графике"
   ],
   "metadata": {
    "collapsed": false
   },
   "id": "6dbdecea1099d9ef"
  },
  {
   "cell_type": "code",
   "execution_count": 57,
   "outputs": [
    {
     "data": {
      "text/plain": "<Figure size 640x480 with 1 Axes>",
      "image/png": "[encoded data removed]"
     },
     "metadata": {},
     "output_type": "display_data"
    }
   ],
   "source": [
    "plt.scatter(X, y)\n",
    "plt.plot(X, y_pred, color='red')\n",
    "plt.show()"
   ],
   "metadata": {
    "collapsed": false,
    "ExecuteTime": {
     "end_time": "2024-04-01T09:47:29.489671Z",
     "start_time": "2024-04-01T09:47:29.357639400Z"
    }
   },
   "id": "4c9c95d31bd6c2b5"
  },
  {
   "cell_type": "markdown",
   "source": [
    "Посмотрим на ошибку от количества эпох\n"
   ],
   "metadata": {
    "collapsed": false
   },
   "id": "d727e090eb2fecae"
  },
  {
   "cell_type": "code",
   "execution_count": 50,
   "outputs": [],
   "source": [
    "def build_error_chart(X, y, learning_rate=0.01, epochs=1000):\n",
    "    n = len(X)\n",
    "    w0 = 0\n",
    "    w1 = 0\n",
    "\n",
    "    error_array = []\n",
    "\n",
    "    for _ in range(epochs):\n",
    "        y_pred = w0 + w1 * X\n",
    "        dw0 = (-2 / n) * sum(y - y_pred)\n",
    "        dw1 = (-2 / n) * sum(X * (y - y_pred))\n",
    "\n",
    "        w0 -= learning_rate * dw0\n",
    "        w1 -= learning_rate * dw1\n",
    "        error_array.append(mean_squared_error(y, y_pred))\n",
    "        \n",
    "    return error_array"
   ],
   "metadata": {
    "collapsed": false,
    "ExecuteTime": {
     "start_time": "2024-04-01T09:42:41.371693700Z"
    }
   },
   "id": "25cd5e02a7965ed5"
  },
  {
   "cell_type": "code",
   "execution_count": 58,
   "outputs": [
    {
     "data": {
      "text/plain": "[239.7,\n 14.320121999999987,\n 3.9731184915999975,\n 3.4921858692144205,\n 3.46397475394067,\n 3.4565866604622415,\n 3.4502050314867603,\n 3.4439202267009934,\n 3.4376900860072808,\n 3.4315122541095655]"
     },
     "execution_count": 58,
     "metadata": {},
     "output_type": "execute_result"
    }
   ],
   "source": [
    "errors = build_error_chart(X, y, epochs=10)\n",
    "errors"
   ],
   "metadata": {
    "collapsed": false,
    "ExecuteTime": {
     "end_time": "2024-04-01T09:51:07.788212Z",
     "start_time": "2024-04-01T09:51:07.740813300Z"
    }
   },
   "id": "c1661d9c618370b5"
  },
  {
   "cell_type": "code",
   "execution_count": 54,
   "outputs": [
    {
     "data": {
      "text/plain": "<Figure size 640x480 with 1 Axes>",
      "image/png": "[encoded data removed]"
     },
     "metadata": {},
     "output_type": "display_data"
    }
   ],
   "source": [
    "plt.plot(range(10), build_error_chart(X, y, epochs=10))\n",
    "plt.xlabel('Epochs')\n",
    "plt.show()"
   ],
   "metadata": {
    "collapsed": false,
    "ExecuteTime": {
     "end_time": "2024-04-01T09:43:30.591081400Z",
     "start_time": "2024-04-01T09:43:30.447543Z"
    }
   },
   "id": "17ba6bd7e2b5c01a"
  },
  {
   "cell_type": "markdown",
   "source": [
    "Как видно на графике, ошибка уменьшается с увеличением количества эпох. Даже небольшое число эпох позволяет значительно уменьшить ошибку"
   ],
   "metadata": {
    "collapsed": false
   },
   "id": "2b0959f4d5dedd18"
  }
 ],
 "metadata": {
  "kernelspec": {
   "display_name": "Python 3",
   "language": "python",
   "name": "python3"
  },
  "language_info": {
   "codemirror_mode": {
    "name": "ipython",
    "version": 2
   },
   "file_extension": ".py",
   "mimetype": "text/x-python",
   "name": "python",
   "nbconvert_exporter": "python",
   "pygments_lexer": "ipython2",
   "version": "2.7.6"
  }
 },
 "nbformat": 4,
 "nbformat_minor": 5
}
