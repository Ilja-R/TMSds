{
 "cells": [
  {
   "cell_type": "code",
   "id": "initial_id",
   "metadata": {
    "collapsed": true,
    "ExecuteTime": {
     "end_time": "2024-05-30T20:43:05.762652Z",
     "start_time": "2024-05-30T20:43:02.793629Z"
    }
   },
   "source": [
    "import pandas as pd\n",
    "import matplotlib.pyplot as plt\n",
    "import tensorflow as tf"
   ],
   "outputs": [],
   "execution_count": 1
  },
  {
   "metadata": {
    "ExecuteTime": {
     "end_time": "2024-05-30T20:43:05.774866Z",
     "start_time": "2024-05-30T20:43:05.764667Z"
    }
   },
   "cell_type": "code",
   "source": "samsung_mobiles_data = pd.read_csv('data/samsungMobilesData.csv')",
   "id": "a710e1e74c9beb9e",
   "outputs": [],
   "execution_count": 2
  },
  {
   "metadata": {},
   "cell_type": "markdown",
   "source": "# Data Exploration",
   "id": "cd20118689a3e32e"
  },
  {
   "metadata": {
    "ExecuteTime": {
     "end_time": "2024-05-30T20:43:05.798710Z",
     "start_time": "2024-05-30T20:43:05.776872Z"
    }
   },
   "cell_type": "code",
   "source": "samsung_mobiles_data.head()",
   "id": "98efa84cdd22027e",
   "outputs": [
    {
     "data": {
      "text/plain": [
       "                                          name  ratings  price  \\\n",
       "0   SAMSUNG Galaxy F13 (Sunrise Copper, 64 GB)      4.3   9499   \n",
       "1  SAMSUNG Galaxy F13 (Waterfall Blue, 128 GB)      4.3  10499   \n",
       "2  SAMSUNG Galaxy F13 (Nightsky Green, 128 GB)      4.3  10499   \n",
       "3  SAMSUNG Galaxy F13 (Sunrise Copper, 128 GB)      4.3  10499   \n",
       "4    SAMSUNG Galaxy F23 5G (Aqua Blue, 128 GB)      4.3  15499   \n",
       "\n",
       "                                              imgURL  camera      display  \\\n",
       "0  https://rukminim2.flixcart.com/image/312/312/x...      50  other_types   \n",
       "1  https://rukminim2.flixcart.com/image/312/312/x...      50  other_types   \n",
       "2  https://rukminim2.flixcart.com/image/312/312/x...      50  other_types   \n",
       "3  https://rukminim2.flixcart.com/image/312/312/x...      50  other_types   \n",
       "4  https://rukminim2.flixcart.com/image/312/312/x...      50  other_types   \n",
       "\n",
       "   battery  storage  ram                processor  android_version  \n",
       "0     6000       64    4            not mentioned               12  \n",
       "1     6000      128    4            not mentioned               12  \n",
       "2     6000      128    4            not mentioned               12  \n",
       "3     6000      128    4            not mentioned               12  \n",
       "4     5000      128    6  Snapdragon750GProcessor               12  "
      ],
      "text/html": [
       "<div>\n",
       "<style scoped>\n",
       "    .dataframe tbody tr th:only-of-type {\n",
       "        vertical-align: middle;\n",
       "    }\n",
       "\n",
       "    .dataframe tbody tr th {\n",
       "        vertical-align: top;\n",
       "    }\n",
       "\n",
       "    .dataframe thead th {\n",
       "        text-align: right;\n",
       "    }\n",
       "</style>\n",
       "<table border=\"1\" class=\"dataframe\">\n",
       "  <thead>\n",
       "    <tr style=\"text-align: right;\">\n",
       "      <th></th>\n",
       "      <th>name</th>\n",
       "      <th>ratings</th>\n",
       "      <th>price</th>\n",
       "      <th>imgURL</th>\n",
       "      <th>camera</th>\n",
       "      <th>display</th>\n",
       "      <th>battery</th>\n",
       "      <th>storage</th>\n",
       "      <th>ram</th>\n",
       "      <th>processor</th>\n",
       "      <th>android_version</th>\n",
       "    </tr>\n",
       "  </thead>\n",
       "  <tbody>\n",
       "    <tr>\n",
       "      <th>0</th>\n",
       "      <td>SAMSUNG Galaxy F13 (Sunrise Copper, 64 GB)</td>\n",
       "      <td>4.3</td>\n",
       "      <td>9499</td>\n",
       "      <td>https://rukminim2.flixcart.com/image/312/312/x...</td>\n",
       "      <td>50</td>\n",
       "      <td>other_types</td>\n",
       "      <td>6000</td>\n",
       "      <td>64</td>\n",
       "      <td>4</td>\n",
       "      <td>not mentioned</td>\n",
       "      <td>12</td>\n",
       "    </tr>\n",
       "    <tr>\n",
       "      <th>1</th>\n",
       "      <td>SAMSUNG Galaxy F13 (Waterfall Blue, 128 GB)</td>\n",
       "      <td>4.3</td>\n",
       "      <td>10499</td>\n",
       "      <td>https://rukminim2.flixcart.com/image/312/312/x...</td>\n",
       "      <td>50</td>\n",
       "      <td>other_types</td>\n",
       "      <td>6000</td>\n",
       "      <td>128</td>\n",
       "      <td>4</td>\n",
       "      <td>not mentioned</td>\n",
       "      <td>12</td>\n",
       "    </tr>\n",
       "    <tr>\n",
       "      <th>2</th>\n",
       "      <td>SAMSUNG Galaxy F13 (Nightsky Green, 128 GB)</td>\n",
       "      <td>4.3</td>\n",
       "      <td>10499</td>\n",
       "      <td>https://rukminim2.flixcart.com/image/312/312/x...</td>\n",
       "      <td>50</td>\n",
       "      <td>other_types</td>\n",
       "      <td>6000</td>\n",
       "      <td>128</td>\n",
       "      <td>4</td>\n",
       "      <td>not mentioned</td>\n",
       "      <td>12</td>\n",
       "    </tr>\n",
       "    <tr>\n",
       "      <th>3</th>\n",
       "      <td>SAMSUNG Galaxy F13 (Sunrise Copper, 128 GB)</td>\n",
       "      <td>4.3</td>\n",
       "      <td>10499</td>\n",
       "      <td>https://rukminim2.flixcart.com/image/312/312/x...</td>\n",
       "      <td>50</td>\n",
       "      <td>other_types</td>\n",
       "      <td>6000</td>\n",
       "      <td>128</td>\n",
       "      <td>4</td>\n",
       "      <td>not mentioned</td>\n",
       "      <td>12</td>\n",
       "    </tr>\n",
       "    <tr>\n",
       "      <th>4</th>\n",
       "      <td>SAMSUNG Galaxy F23 5G (Aqua Blue, 128 GB)</td>\n",
       "      <td>4.3</td>\n",
       "      <td>15499</td>\n",
       "      <td>https://rukminim2.flixcart.com/image/312/312/x...</td>\n",
       "      <td>50</td>\n",
       "      <td>other_types</td>\n",
       "      <td>5000</td>\n",
       "      <td>128</td>\n",
       "      <td>6</td>\n",
       "      <td>Snapdragon750GProcessor</td>\n",
       "      <td>12</td>\n",
       "    </tr>\n",
       "  </tbody>\n",
       "</table>\n",
       "</div>"
      ]
     },
     "execution_count": 3,
     "metadata": {},
     "output_type": "execute_result"
    }
   ],
   "execution_count": 3
  },
  {
   "metadata": {
    "ExecuteTime": {
     "end_time": "2024-05-30T20:43:05.824248Z",
     "start_time": "2024-05-30T20:43:05.801722Z"
    }
   },
   "cell_type": "code",
   "source": [
    "samsung_mobiles_data.drop(['name', 'imgURL'], axis=1, inplace=True)\n",
    "samsung_mobiles_data.head()"
   ],
   "id": "2a186f8502904ed4",
   "outputs": [
    {
     "data": {
      "text/plain": [
       "   ratings  price  camera      display  battery  storage  ram  \\\n",
       "0      4.3   9499      50  other_types     6000       64    4   \n",
       "1      4.3  10499      50  other_types     6000      128    4   \n",
       "2      4.3  10499      50  other_types     6000      128    4   \n",
       "3      4.3  10499      50  other_types     6000      128    4   \n",
       "4      4.3  15499      50  other_types     5000      128    6   \n",
       "\n",
       "                 processor  android_version  \n",
       "0            not mentioned               12  \n",
       "1            not mentioned               12  \n",
       "2            not mentioned               12  \n",
       "3            not mentioned               12  \n",
       "4  Snapdragon750GProcessor               12  "
      ],
      "text/html": [
       "<div>\n",
       "<style scoped>\n",
       "    .dataframe tbody tr th:only-of-type {\n",
       "        vertical-align: middle;\n",
       "    }\n",
       "\n",
       "    .dataframe tbody tr th {\n",
       "        vertical-align: top;\n",
       "    }\n",
       "\n",
       "    .dataframe thead th {\n",
       "        text-align: right;\n",
       "    }\n",
       "</style>\n",
       "<table border=\"1\" class=\"dataframe\">\n",
       "  <thead>\n",
       "    <tr style=\"text-align: right;\">\n",
       "      <th></th>\n",
       "      <th>ratings</th>\n",
       "      <th>price</th>\n",
       "      <th>camera</th>\n",
       "      <th>display</th>\n",
       "      <th>battery</th>\n",
       "      <th>storage</th>\n",
       "      <th>ram</th>\n",
       "      <th>processor</th>\n",
       "      <th>android_version</th>\n",
       "    </tr>\n",
       "  </thead>\n",
       "  <tbody>\n",
       "    <tr>\n",
       "      <th>0</th>\n",
       "      <td>4.3</td>\n",
       "      <td>9499</td>\n",
       "      <td>50</td>\n",
       "      <td>other_types</td>\n",
       "      <td>6000</td>\n",
       "      <td>64</td>\n",
       "      <td>4</td>\n",
       "      <td>not mentioned</td>\n",
       "      <td>12</td>\n",
       "    </tr>\n",
       "    <tr>\n",
       "      <th>1</th>\n",
       "      <td>4.3</td>\n",
       "      <td>10499</td>\n",
       "      <td>50</td>\n",
       "      <td>other_types</td>\n",
       "      <td>6000</td>\n",
       "      <td>128</td>\n",
       "      <td>4</td>\n",
       "      <td>not mentioned</td>\n",
       "      <td>12</td>\n",
       "    </tr>\n",
       "    <tr>\n",
       "      <th>2</th>\n",
       "      <td>4.3</td>\n",
       "      <td>10499</td>\n",
       "      <td>50</td>\n",
       "      <td>other_types</td>\n",
       "      <td>6000</td>\n",
       "      <td>128</td>\n",
       "      <td>4</td>\n",
       "      <td>not mentioned</td>\n",
       "      <td>12</td>\n",
       "    </tr>\n",
       "    <tr>\n",
       "      <th>3</th>\n",
       "      <td>4.3</td>\n",
       "      <td>10499</td>\n",
       "      <td>50</td>\n",
       "      <td>other_types</td>\n",
       "      <td>6000</td>\n",
       "      <td>128</td>\n",
       "      <td>4</td>\n",
       "      <td>not mentioned</td>\n",
       "      <td>12</td>\n",
       "    </tr>\n",
       "    <tr>\n",
       "      <th>4</th>\n",
       "      <td>4.3</td>\n",
       "      <td>15499</td>\n",
       "      <td>50</td>\n",
       "      <td>other_types</td>\n",
       "      <td>5000</td>\n",
       "      <td>128</td>\n",
       "      <td>6</td>\n",
       "      <td>Snapdragon750GProcessor</td>\n",
       "      <td>12</td>\n",
       "    </tr>\n",
       "  </tbody>\n",
       "</table>\n",
       "</div>"
      ]
     },
     "execution_count": 4,
     "metadata": {},
     "output_type": "execute_result"
    }
   ],
   "execution_count": 4
  },
  {
   "metadata": {
    "ExecuteTime": {
     "end_time": "2024-05-30T20:43:05.835957Z",
     "start_time": "2024-05-30T20:43:05.825257Z"
    }
   },
   "cell_type": "code",
   "source": "samsung_mobiles_data.shape",
   "id": "523739e727cb0bdd",
   "outputs": [
    {
     "data": {
      "text/plain": [
       "(407, 9)"
      ]
     },
     "execution_count": 5,
     "metadata": {},
     "output_type": "execute_result"
    }
   ],
   "execution_count": 5
  },
  {
   "metadata": {
    "ExecuteTime": {
     "end_time": "2024-05-30T20:43:05.857524Z",
     "start_time": "2024-05-30T20:43:05.838963Z"
    }
   },
   "cell_type": "code",
   "source": "samsung_mobiles_data.info()",
   "id": "50b8f10402c8390b",
   "outputs": [
    {
     "name": "stdout",
     "output_type": "stream",
     "text": [
      "<class 'pandas.core.frame.DataFrame'>\n",
      "RangeIndex: 407 entries, 0 to 406\n",
      "Data columns (total 9 columns):\n",
      " #   Column           Non-Null Count  Dtype  \n",
      "---  ------           --------------  -----  \n",
      " 0   ratings          407 non-null    float64\n",
      " 1   price            407 non-null    int64  \n",
      " 2   camera           407 non-null    int64  \n",
      " 3   display          407 non-null    object \n",
      " 4   battery          407 non-null    int64  \n",
      " 5   storage          407 non-null    int64  \n",
      " 6   ram              407 non-null    int64  \n",
      " 7   processor        407 non-null    object \n",
      " 8   android_version  407 non-null    int64  \n",
      "dtypes: float64(1), int64(6), object(2)\n",
      "memory usage: 28.7+ KB\n"
     ]
    }
   ],
   "execution_count": 6
  },
  {
   "metadata": {
    "ExecuteTime": {
     "end_time": "2024-05-30T20:43:05.894689Z",
     "start_time": "2024-05-30T20:43:05.859532Z"
    }
   },
   "cell_type": "code",
   "source": "samsung_mobiles_data.describe()",
   "id": "50df221d8cabd3c",
   "outputs": [
    {
     "data": {
      "text/plain": [
       "         ratings         price      camera      battery     storage  \\\n",
       "count  407.00000    407.000000  407.000000   407.000000  407.000000   \n",
       "mean     4.19828  17363.245700   43.660934  4946.437346  106.199017   \n",
       "std      0.17762   6735.647203   25.189978   878.467561   58.899992   \n",
       "min      2.90000   6490.000000    0.000000  1500.000000    1.000000   \n",
       "25%      4.10000  11982.500000   20.000000  4500.000000   64.000000   \n",
       "50%      4.20000  15999.000000   48.000000  5000.000000  128.000000   \n",
       "75%      4.30000  21744.500000   50.000000  5500.000000  128.000000   \n",
       "max      4.80000  32000.000000  200.000000  7000.000000  512.000000   \n",
       "\n",
       "              ram  android_version  \n",
       "count  407.000000       407.000000  \n",
       "mean     5.493857        10.847666  \n",
       "std      2.185789         1.829261  \n",
       "min      1.000000         1.000000  \n",
       "25%      4.000000        10.000000  \n",
       "50%      6.000000        11.000000  \n",
       "75%      6.000000        12.000000  \n",
       "max     12.000000        13.000000  "
      ],
      "text/html": [
       "<div>\n",
       "<style scoped>\n",
       "    .dataframe tbody tr th:only-of-type {\n",
       "        vertical-align: middle;\n",
       "    }\n",
       "\n",
       "    .dataframe tbody tr th {\n",
       "        vertical-align: top;\n",
       "    }\n",
       "\n",
       "    .dataframe thead th {\n",
       "        text-align: right;\n",
       "    }\n",
       "</style>\n",
       "<table border=\"1\" class=\"dataframe\">\n",
       "  <thead>\n",
       "    <tr style=\"text-align: right;\">\n",
       "      <th></th>\n",
       "      <th>ratings</th>\n",
       "      <th>price</th>\n",
       "      <th>camera</th>\n",
       "      <th>battery</th>\n",
       "      <th>storage</th>\n",
       "      <th>ram</th>\n",
       "      <th>android_version</th>\n",
       "    </tr>\n",
       "  </thead>\n",
       "  <tbody>\n",
       "    <tr>\n",
       "      <th>count</th>\n",
       "      <td>407.00000</td>\n",
       "      <td>407.000000</td>\n",
       "      <td>407.000000</td>\n",
       "      <td>407.000000</td>\n",
       "      <td>407.000000</td>\n",
       "      <td>407.000000</td>\n",
       "      <td>407.000000</td>\n",
       "    </tr>\n",
       "    <tr>\n",
       "      <th>mean</th>\n",
       "      <td>4.19828</td>\n",
       "      <td>17363.245700</td>\n",
       "      <td>43.660934</td>\n",
       "      <td>4946.437346</td>\n",
       "      <td>106.199017</td>\n",
       "      <td>5.493857</td>\n",
       "      <td>10.847666</td>\n",
       "    </tr>\n",
       "    <tr>\n",
       "      <th>std</th>\n",
       "      <td>0.17762</td>\n",
       "      <td>6735.647203</td>\n",
       "      <td>25.189978</td>\n",
       "      <td>878.467561</td>\n",
       "      <td>58.899992</td>\n",
       "      <td>2.185789</td>\n",
       "      <td>1.829261</td>\n",
       "    </tr>\n",
       "    <tr>\n",
       "      <th>min</th>\n",
       "      <td>2.90000</td>\n",
       "      <td>6490.000000</td>\n",
       "      <td>0.000000</td>\n",
       "      <td>1500.000000</td>\n",
       "      <td>1.000000</td>\n",
       "      <td>1.000000</td>\n",
       "      <td>1.000000</td>\n",
       "    </tr>\n",
       "    <tr>\n",
       "      <th>25%</th>\n",
       "      <td>4.10000</td>\n",
       "      <td>11982.500000</td>\n",
       "      <td>20.000000</td>\n",
       "      <td>4500.000000</td>\n",
       "      <td>64.000000</td>\n",
       "      <td>4.000000</td>\n",
       "      <td>10.000000</td>\n",
       "    </tr>\n",
       "    <tr>\n",
       "      <th>50%</th>\n",
       "      <td>4.20000</td>\n",
       "      <td>15999.000000</td>\n",
       "      <td>48.000000</td>\n",
       "      <td>5000.000000</td>\n",
       "      <td>128.000000</td>\n",
       "      <td>6.000000</td>\n",
       "      <td>11.000000</td>\n",
       "    </tr>\n",
       "    <tr>\n",
       "      <th>75%</th>\n",
       "      <td>4.30000</td>\n",
       "      <td>21744.500000</td>\n",
       "      <td>50.000000</td>\n",
       "      <td>5500.000000</td>\n",
       "      <td>128.000000</td>\n",
       "      <td>6.000000</td>\n",
       "      <td>12.000000</td>\n",
       "    </tr>\n",
       "    <tr>\n",
       "      <th>max</th>\n",
       "      <td>4.80000</td>\n",
       "      <td>32000.000000</td>\n",
       "      <td>200.000000</td>\n",
       "      <td>7000.000000</td>\n",
       "      <td>512.000000</td>\n",
       "      <td>12.000000</td>\n",
       "      <td>13.000000</td>\n",
       "    </tr>\n",
       "  </tbody>\n",
       "</table>\n",
       "</div>"
      ]
     },
     "execution_count": 7,
     "metadata": {},
     "output_type": "execute_result"
    }
   ],
   "execution_count": 7
  },
  {
   "metadata": {
    "ExecuteTime": {
     "end_time": "2024-05-30T20:43:05.907901Z",
     "start_time": "2024-05-30T20:43:05.897833Z"
    }
   },
   "cell_type": "code",
   "source": "samsung_mobiles_data['display'].value_counts()",
   "id": "151cda75e90c04a1",
   "outputs": [
    {
     "data": {
      "text/plain": [
       "display\n",
       "other_types    250\n",
       "LCD             70\n",
       "HD+ AMOLED      43\n",
       "AMOLED          39\n",
       "TFT              5\n",
       "Name: count, dtype: int64"
      ]
     },
     "execution_count": 8,
     "metadata": {},
     "output_type": "execute_result"
    }
   ],
   "execution_count": 8
  },
  {
   "metadata": {
    "ExecuteTime": {
     "end_time": "2024-05-30T20:43:05.923863Z",
     "start_time": "2024-05-30T20:43:05.910914Z"
    }
   },
   "cell_type": "code",
   "source": "samsung_mobiles_data['processor'].value_counts()",
   "id": "a7024addf22a206a",
   "outputs": [
    {
     "data": {
      "text/plain": [
       "processor\n",
       "not mentioned              274\n",
       "MediaTek                    16\n",
       "Gen8                        14\n",
       "Dimensity1080,              12\n",
       "Dimensity700                 9\n",
       "Snapdragon720GProcessor      8\n",
       "Snapdragon1P                 8\n",
       "Snapdragon750GProcessor      7\n",
       "Heilo80P                     7\n",
       "Heilo356765                  7\n",
       "Snapdragon(SDM450-F01)       7\n",
       "Snapdragon695                5\n",
       "Snapdragon450P               5\n",
       "Dimensity720                 4\n",
       "Snapdragon888                4\n",
       "Heilo35P                     4\n",
       "Snapdragon450                4\n",
       "Snapdragon(SDM439)           4\n",
       "Heilo806769                  2\n",
       "Snapdragon750G               2\n",
       "Snapdragon425P               2\n",
       "Heilo67653512                1\n",
       "Snapdragon410                1\n",
       "Name: count, dtype: int64"
      ]
     },
     "execution_count": 9,
     "metadata": {},
     "output_type": "execute_result"
    }
   ],
   "execution_count": 9
  },
  {
   "metadata": {
    "ExecuteTime": {
     "end_time": "2024-05-30T20:43:05.937064Z",
     "start_time": "2024-05-30T20:43:05.926873Z"
    }
   },
   "cell_type": "code",
   "source": "samsung_mobiles_data[(samsung_mobiles_data['display'] == 'other_types') & (samsung_mobiles_data['processor'] == 'not mentioned')].shape",
   "id": "5cb9b58129b93e9b",
   "outputs": [
    {
     "data": {
      "text/plain": [
       "(185, 9)"
      ]
     },
     "execution_count": 10,
     "metadata": {},
     "output_type": "execute_result"
    }
   ],
   "execution_count": 10
  },
  {
   "metadata": {
    "ExecuteTime": {
     "end_time": "2024-05-30T20:43:05.949409Z",
     "start_time": "2024-05-30T20:43:05.941079Z"
    }
   },
   "cell_type": "code",
   "source": "samsung_mobiles_data['processor'] = samsung_mobiles_data['processor'].str.replace('Dimensity1080,','Dimensity1080')",
   "id": "d3859288fd038c66",
   "outputs": [],
   "execution_count": 11
  },
  {
   "metadata": {
    "ExecuteTime": {
     "end_time": "2024-05-30T20:43:05.966514Z",
     "start_time": "2024-05-30T20:43:05.952423Z"
    }
   },
   "cell_type": "code",
   "source": "samsung_mobiles_data['processor'].value_counts()",
   "id": "3994e63e79d0b0c2",
   "outputs": [
    {
     "data": {
      "text/plain": [
       "processor\n",
       "not mentioned              274\n",
       "MediaTek                    16\n",
       "Gen8                        14\n",
       "Dimensity1080               12\n",
       "Dimensity700                 9\n",
       "Snapdragon720GProcessor      8\n",
       "Snapdragon1P                 8\n",
       "Snapdragon750GProcessor      7\n",
       "Heilo80P                     7\n",
       "Heilo356765                  7\n",
       "Snapdragon(SDM450-F01)       7\n",
       "Snapdragon695                5\n",
       "Snapdragon450P               5\n",
       "Dimensity720                 4\n",
       "Snapdragon888                4\n",
       "Heilo35P                     4\n",
       "Snapdragon450                4\n",
       "Snapdragon(SDM439)           4\n",
       "Heilo806769                  2\n",
       "Snapdragon750G               2\n",
       "Snapdragon425P               2\n",
       "Heilo67653512                1\n",
       "Snapdragon410                1\n",
       "Name: count, dtype: int64"
      ]
     },
     "execution_count": 12,
     "metadata": {},
     "output_type": "execute_result"
    }
   ],
   "execution_count": 12
  },
  {
   "metadata": {
    "ExecuteTime": {
     "end_time": "2024-05-30T20:43:05.981175Z",
     "start_time": "2024-05-30T20:43:05.968526Z"
    }
   },
   "cell_type": "code",
   "source": "processed_data = pd.get_dummies(samsung_mobiles_data, columns = ['display','processor'],drop_first = True)",
   "id": "c8097160c0d3bfc7",
   "outputs": [],
   "execution_count": 13
  },
  {
   "metadata": {
    "ExecuteTime": {
     "end_time": "2024-05-30T20:43:06.009615Z",
     "start_time": "2024-05-30T20:43:05.986186Z"
    }
   },
   "cell_type": "code",
   "source": "processed_data.head()",
   "id": "68591ecfbdf501b1",
   "outputs": [
    {
     "data": {
      "text/plain": [
       "   ratings  price  camera  battery  storage  ram  android_version  \\\n",
       "0      4.3   9499      50     6000       64    4               12   \n",
       "1      4.3  10499      50     6000      128    4               12   \n",
       "2      4.3  10499      50     6000      128    4               12   \n",
       "3      4.3  10499      50     6000      128    4               12   \n",
       "4      4.3  15499      50     5000      128    6               12   \n",
       "\n",
       "   display_HD+ AMOLED  display_LCD  display_TFT  ...  processor_Snapdragon410  \\\n",
       "0               False        False        False  ...                    False   \n",
       "1               False        False        False  ...                    False   \n",
       "2               False        False        False  ...                    False   \n",
       "3               False        False        False  ...                    False   \n",
       "4               False        False        False  ...                    False   \n",
       "\n",
       "   processor_Snapdragon425P  processor_Snapdragon450  \\\n",
       "0                     False                    False   \n",
       "1                     False                    False   \n",
       "2                     False                    False   \n",
       "3                     False                    False   \n",
       "4                     False                    False   \n",
       "\n",
       "   processor_Snapdragon450P  processor_Snapdragon695  \\\n",
       "0                     False                    False   \n",
       "1                     False                    False   \n",
       "2                     False                    False   \n",
       "3                     False                    False   \n",
       "4                     False                    False   \n",
       "\n",
       "   processor_Snapdragon720GProcessor  processor_Snapdragon750G  \\\n",
       "0                              False                     False   \n",
       "1                              False                     False   \n",
       "2                              False                     False   \n",
       "3                              False                     False   \n",
       "4                              False                     False   \n",
       "\n",
       "   processor_Snapdragon750GProcessor  processor_Snapdragon888  \\\n",
       "0                              False                    False   \n",
       "1                              False                    False   \n",
       "2                              False                    False   \n",
       "3                              False                    False   \n",
       "4                               True                    False   \n",
       "\n",
       "   processor_not mentioned  \n",
       "0                     True  \n",
       "1                     True  \n",
       "2                     True  \n",
       "3                     True  \n",
       "4                    False  \n",
       "\n",
       "[5 rows x 33 columns]"
      ],
      "text/html": [
       "<div>\n",
       "<style scoped>\n",
       "    .dataframe tbody tr th:only-of-type {\n",
       "        vertical-align: middle;\n",
       "    }\n",
       "\n",
       "    .dataframe tbody tr th {\n",
       "        vertical-align: top;\n",
       "    }\n",
       "\n",
       "    .dataframe thead th {\n",
       "        text-align: right;\n",
       "    }\n",
       "</style>\n",
       "<table border=\"1\" class=\"dataframe\">\n",
       "  <thead>\n",
       "    <tr style=\"text-align: right;\">\n",
       "      <th></th>\n",
       "      <th>ratings</th>\n",
       "      <th>price</th>\n",
       "      <th>camera</th>\n",
       "      <th>battery</th>\n",
       "      <th>storage</th>\n",
       "      <th>ram</th>\n",
       "      <th>android_version</th>\n",
       "      <th>display_HD+ AMOLED</th>\n",
       "      <th>display_LCD</th>\n",
       "      <th>display_TFT</th>\n",
       "      <th>...</th>\n",
       "      <th>processor_Snapdragon410</th>\n",
       "      <th>processor_Snapdragon425P</th>\n",
       "      <th>processor_Snapdragon450</th>\n",
       "      <th>processor_Snapdragon450P</th>\n",
       "      <th>processor_Snapdragon695</th>\n",
       "      <th>processor_Snapdragon720GProcessor</th>\n",
       "      <th>processor_Snapdragon750G</th>\n",
       "      <th>processor_Snapdragon750GProcessor</th>\n",
       "      <th>processor_Snapdragon888</th>\n",
       "      <th>processor_not mentioned</th>\n",
       "    </tr>\n",
       "  </thead>\n",
       "  <tbody>\n",
       "    <tr>\n",
       "      <th>0</th>\n",
       "      <td>4.3</td>\n",
       "      <td>9499</td>\n",
       "      <td>50</td>\n",
       "      <td>6000</td>\n",
       "      <td>64</td>\n",
       "      <td>4</td>\n",
       "      <td>12</td>\n",
       "      <td>False</td>\n",
       "      <td>False</td>\n",
       "      <td>False</td>\n",
       "      <td>...</td>\n",
       "      <td>False</td>\n",
       "      <td>False</td>\n",
       "      <td>False</td>\n",
       "      <td>False</td>\n",
       "      <td>False</td>\n",
       "      <td>False</td>\n",
       "      <td>False</td>\n",
       "      <td>False</td>\n",
       "      <td>False</td>\n",
       "      <td>True</td>\n",
       "    </tr>\n",
       "    <tr>\n",
       "      <th>1</th>\n",
       "      <td>4.3</td>\n",
       "      <td>10499</td>\n",
       "      <td>50</td>\n",
       "      <td>6000</td>\n",
       "      <td>128</td>\n",
       "      <td>4</td>\n",
       "      <td>12</td>\n",
       "      <td>False</td>\n",
       "      <td>False</td>\n",
       "      <td>False</td>\n",
       "      <td>...</td>\n",
       "      <td>False</td>\n",
       "      <td>False</td>\n",
       "      <td>False</td>\n",
       "      <td>False</td>\n",
       "      <td>False</td>\n",
       "      <td>False</td>\n",
       "      <td>False</td>\n",
       "      <td>False</td>\n",
       "      <td>False</td>\n",
       "      <td>True</td>\n",
       "    </tr>\n",
       "    <tr>\n",
       "      <th>2</th>\n",
       "      <td>4.3</td>\n",
       "      <td>10499</td>\n",
       "      <td>50</td>\n",
       "      <td>6000</td>\n",
       "      <td>128</td>\n",
       "      <td>4</td>\n",
       "      <td>12</td>\n",
       "      <td>False</td>\n",
       "      <td>False</td>\n",
       "      <td>False</td>\n",
       "      <td>...</td>\n",
       "      <td>False</td>\n",
       "      <td>False</td>\n",
       "      <td>False</td>\n",
       "      <td>False</td>\n",
       "      <td>False</td>\n",
       "      <td>False</td>\n",
       "      <td>False</td>\n",
       "      <td>False</td>\n",
       "      <td>False</td>\n",
       "      <td>True</td>\n",
       "    </tr>\n",
       "    <tr>\n",
       "      <th>3</th>\n",
       "      <td>4.3</td>\n",
       "      <td>10499</td>\n",
       "      <td>50</td>\n",
       "      <td>6000</td>\n",
       "      <td>128</td>\n",
       "      <td>4</td>\n",
       "      <td>12</td>\n",
       "      <td>False</td>\n",
       "      <td>False</td>\n",
       "      <td>False</td>\n",
       "      <td>...</td>\n",
       "      <td>False</td>\n",
       "      <td>False</td>\n",
       "      <td>False</td>\n",
       "      <td>False</td>\n",
       "      <td>False</td>\n",
       "      <td>False</td>\n",
       "      <td>False</td>\n",
       "      <td>False</td>\n",
       "      <td>False</td>\n",
       "      <td>True</td>\n",
       "    </tr>\n",
       "    <tr>\n",
       "      <th>4</th>\n",
       "      <td>4.3</td>\n",
       "      <td>15499</td>\n",
       "      <td>50</td>\n",
       "      <td>5000</td>\n",
       "      <td>128</td>\n",
       "      <td>6</td>\n",
       "      <td>12</td>\n",
       "      <td>False</td>\n",
       "      <td>False</td>\n",
       "      <td>False</td>\n",
       "      <td>...</td>\n",
       "      <td>False</td>\n",
       "      <td>False</td>\n",
       "      <td>False</td>\n",
       "      <td>False</td>\n",
       "      <td>False</td>\n",
       "      <td>False</td>\n",
       "      <td>False</td>\n",
       "      <td>True</td>\n",
       "      <td>False</td>\n",
       "      <td>False</td>\n",
       "    </tr>\n",
       "  </tbody>\n",
       "</table>\n",
       "<p>5 rows × 33 columns</p>\n",
       "</div>"
      ]
     },
     "execution_count": 14,
     "metadata": {},
     "output_type": "execute_result"
    }
   ],
   "execution_count": 14
  },
  {
   "metadata": {},
   "cell_type": "markdown",
   "source": "# Setting up the data",
   "id": "a88ca82137cb082"
  },
  {
   "metadata": {
    "ExecuteTime": {
     "end_time": "2024-05-30T20:43:06.211207Z",
     "start_time": "2024-05-30T20:43:06.011627Z"
    }
   },
   "cell_type": "code",
   "source": [
    "X = processed_data.drop('price',axis = 1 )\n",
    "y = processed_data['price']\n",
    "from sklearn.model_selection import train_test_split\n",
    "X_train,X_test,y_train,y_test =  train_test_split(X,y,train_size = 0.7 , random_state = 42)"
   ],
   "id": "db50339c10198c26",
   "outputs": [],
   "execution_count": 15
  },
  {
   "metadata": {},
   "cell_type": "markdown",
   "source": "# Scale the data",
   "id": "bf5d9a71e2de41df"
  },
  {
   "metadata": {
    "ExecuteTime": {
     "end_time": "2024-05-30T20:43:06.223591Z",
     "start_time": "2024-05-30T20:43:06.212217Z"
    }
   },
   "cell_type": "code",
   "source": [
    "from sklearn.preprocessing import MinMaxScaler\n",
    "mmc = MinMaxScaler()\n",
    "\n",
    "X_train = mmc.fit_transform(X_train)\n",
    "X_test = mmc.transform(X_test)"
   ],
   "id": "992d0e35bd533ae5",
   "outputs": [],
   "execution_count": 16
  },
  {
   "metadata": {
    "ExecuteTime": {
     "end_time": "2024-05-30T20:43:06.230529Z",
     "start_time": "2024-05-30T20:43:06.224597Z"
    }
   },
   "cell_type": "code",
   "source": "X_train.shape",
   "id": "cfb954f5bd420b29",
   "outputs": [
    {
     "data": {
      "text/plain": [
       "(284, 32)"
      ]
     },
     "execution_count": 17,
     "metadata": {},
     "output_type": "execute_result"
    }
   ],
   "execution_count": 17
  },
  {
   "metadata": {},
   "cell_type": "markdown",
   "source": "# Model Building",
   "id": "ea691c33d06196a0"
  },
  {
   "metadata": {
    "ExecuteTime": {
     "end_time": "2024-05-30T20:43:06.255637Z",
     "start_time": "2024-05-30T20:43:06.231538Z"
    }
   },
   "cell_type": "code",
   "source": [
    "from tensorflow.keras import Sequential\n",
    "from tensorflow.keras.layers import Dense, Input"
   ],
   "id": "a2fd8355325cae64",
   "outputs": [],
   "execution_count": 18
  },
  {
   "metadata": {
    "ExecuteTime": {
     "end_time": "2024-05-30T20:43:22.965446Z",
     "start_time": "2024-05-30T20:43:06.257644Z"
    }
   },
   "cell_type": "code",
   "source": [
    "model = Sequential([\n",
    "    Dense(200, activation = tf.keras.activations.relu),\n",
    "    Dense(200, activation = tf.keras.activations.relu),\n",
    "    Dense(50, activation = tf.keras.activations.relu),\n",
    "    Dense(50, activation = tf.keras.activations.relu),\n",
    "    Dense(10, activation = tf.keras.activations.relu),\n",
    "    Dense(1)\n",
    "])\n",
    "\n",
    "model.compile(loss = tf.keras.losses.mae, optimizer = tf.keras.optimizers.Adam(learning_rate=0.01), metrics = ['mae'])\n",
    "\n",
    "# fit the model\n",
    "model_history = model.fit(X_train, y_train, epochs = 500, verbose = 0)"
   ],
   "id": "e4c41d258d4d6e9d",
   "outputs": [],
   "execution_count": 19
  },
  {
   "metadata": {
    "ExecuteTime": {
     "end_time": "2024-05-30T20:43:23.169363Z",
     "start_time": "2024-05-30T20:43:22.966459Z"
    }
   },
   "cell_type": "code",
   "source": [
    "# Chart of mae\n",
    "plt.plot(model_history.history['mae'])\n",
    "plt.xlabel('Epochs')\n",
    "plt.ylabel('Mean Absolute Error')\n",
    "plt.title('MAE vs Epochs')\n",
    "plt.show()"
   ],
   "id": "1a46df73568a306a",
   "outputs": [
    {
     "data": {
      "text/plain": [
       "<Figure size 640x480 with 1 Axes>"
      ],
      "image/png": "[encoded data removed]"
     },
     "metadata": {},
     "output_type": "display_data"
    }
   ],
   "execution_count": 20
  },
  {
   "metadata": {
    "ExecuteTime": {
     "end_time": "2024-05-30T20:43:23.175349Z",
     "start_time": "2024-05-30T20:43:23.170369Z"
    }
   },
   "cell_type": "code",
   "source": "model_history.history['mae'][-1]",
   "id": "339c5993f7746036",
   "outputs": [
    {
     "data": {
      "text/plain": [
       "1671.2640380859375"
      ]
     },
     "execution_count": 21,
     "metadata": {},
     "output_type": "execute_result"
    }
   ],
   "execution_count": 21
  },
  {
   "metadata": {
    "ExecuteTime": {
     "end_time": "2024-05-30T20:43:23.347172Z",
     "start_time": "2024-05-30T20:43:23.176355Z"
    }
   },
   "cell_type": "code",
   "source": [
    "# MAE of the model\n",
    "y_pred = model.predict(X_test)\n",
    "from sklearn.metrics import mean_absolute_error\n",
    "mean_absolute_error(y_test, y_pred)"
   ],
   "id": "5476ee77754c19a8",
   "outputs": [
    {
     "name": "stdout",
     "output_type": "stream",
     "text": [
      "\u001B[1m4/4\u001B[0m \u001B[32m━━━━━━━━━━━━━━━━━━━━\u001B[0m\u001B[37m\u001B[0m \u001B[1m0s\u001B[0m 16ms/step\n"
     ]
    },
    {
     "data": {
      "text/plain": [
       "2913.8261480564024"
      ]
     },
     "execution_count": 22,
     "metadata": {},
     "output_type": "execute_result"
    }
   ],
   "execution_count": 22
  }
 ],
 "metadata": {
  "kernelspec": {
   "display_name": "Python 3",
   "language": "python",
   "name": "python3"
  },
  "language_info": {
   "codemirror_mode": {
    "name": "ipython",
    "version": 2
   },
   "file_extension": ".py",
   "mimetype": "text/x-python",
   "name": "python",
   "nbconvert_exporter": "python",
   "pygments_lexer": "ipython2",
   "version": "2.7.6"
  }
 },
 "nbformat": 4,
 "nbformat_minor": 5
}
