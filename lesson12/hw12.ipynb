{
 "cells": [
  {
   "cell_type": "code",
   "execution_count": 59,
   "outputs": [],
   "source": [
    "from scipy.special import perm, factorial, comb"
   ],
   "metadata": {
    "collapsed": false,
    "ExecuteTime": {
     "end_time": "2024-03-14T20:54:54.442751Z",
     "start_time": "2024-03-14T20:54:54.209714400Z"
    }
   },
   "id": "fa9ef757e9f30009"
  },
  {
   "cell_type": "markdown",
   "source": [
    "Задача 1. В группе 30 студентов. Необходимо выбрать старосту, заместителя старосты и \n",
    "профорга. Сколько существует способов это сделать? "
   ],
   "metadata": {
    "collapsed": false
   },
   "id": "d4a758d87b899b19"
  },
  {
   "cell_type": "code",
   "execution_count": 60,
   "outputs": [
    {
     "data": {
      "text/plain": "24360.0"
     },
     "execution_count": 60,
     "metadata": {},
     "output_type": "execute_result"
    }
   ],
   "source": [
    "# количество размещений из n элементов по k\n",
    "n = 30\n",
    "k = 3\n",
    "perm(n, k)"
   ],
   "metadata": {
    "collapsed": false,
    "ExecuteTime": {
     "end_time": "2024-03-14T20:54:54.535712800Z",
     "start_time": "2024-03-14T20:54:54.225716700Z"
    }
   },
   "id": "354a8f3a4c733b7b"
  },
  {
   "cell_type": "markdown",
   "source": [
    "Задача 2. Два почтальона должны разнести 10 писем по 10 адресам. Сколькими \n",
    "способами они могут распределить работу?\n",
    "NB! Письмо имеет финальный адрес"
   ],
   "metadata": {
    "collapsed": false
   },
   "id": "87dc95f76688731a"
  },
  {
   "cell_type": "code",
   "execution_count": 61,
   "outputs": [
    {
     "data": {
      "text/plain": "1024"
     },
     "execution_count": 61,
     "metadata": {},
     "output_type": "execute_result"
    }
   ],
   "source": [
    "# количество размещений из n элементов по k с повторением\n",
    "n = 2\n",
    "k = 10\n",
    "n**k"
   ],
   "metadata": {
    "collapsed": false,
    "ExecuteTime": {
     "end_time": "2024-03-14T20:54:54.568713Z",
     "start_time": "2024-03-14T20:54:54.239719300Z"
    }
   },
   "id": "384999f0c734553"
  },
  {
   "cell_type": "markdown",
   "source": [
    "Задача 3. В ящике 100 деталей, из них 30 – деталей 1-го сорта, 50 – 2-го, остальные – 3-\n",
    "го. Сколько существует способов извлечения из ящика одной детали 1-го или 2-го сорта? "
   ],
   "metadata": {
    "collapsed": false
   },
   "id": "ead405cb7ae2ddac"
  },
  {
   "cell_type": "code",
   "execution_count": 62,
   "outputs": [
    {
     "name": "stdout",
     "output_type": "stream",
     "text": [
      "Существует 80 способов извлечения детали первого или второго сорта из 100\n"
     ]
    }
   ],
   "source": [
    "print(f\"Существует {30 + 50} способов извлечения детали первого или второго сорта из 100\")"
   ],
   "metadata": {
    "collapsed": false,
    "ExecuteTime": {
     "end_time": "2024-03-14T20:54:54.572714800Z",
     "start_time": "2024-03-14T20:54:54.256722500Z"
    }
   },
   "id": "3cc06b5ae0807434"
  },
  {
   "cell_type": "markdown",
   "source": [
    "Задача 5. Порядок выступления 7 участников конкурса определяется жребием. Сколько \n",
    "различных вариантов жеребьевки при этом возможно?"
   ],
   "metadata": {
    "collapsed": false
   },
   "id": "18a97ae3dbbaccce"
  },
  {
   "cell_type": "code",
   "execution_count": 63,
   "outputs": [
    {
     "data": {
      "text/plain": "5040"
     },
     "execution_count": 63,
     "metadata": {},
     "output_type": "execute_result"
    }
   ],
   "source": [
    "factorial(7, exact=True)"
   ],
   "metadata": {
    "collapsed": false,
    "ExecuteTime": {
     "end_time": "2024-03-14T20:54:54.572714800Z",
     "start_time": "2024-03-14T20:54:54.272726900Z"
    }
   },
   "id": "5da667966977841e"
  },
  {
   "cell_type": "markdown",
   "source": [
    "Задача 6. В конкурсе по 5 номинациям участвуют 10 кинофильмов. Сколько существует \n",
    "вариантов распределения призов, если по всем номинациям установлены различные \n",
    "премии? "
   ],
   "metadata": {
    "collapsed": false
   },
   "id": "e4790a6bdaf31b30"
  },
  {
   "cell_type": "code",
   "execution_count": 64,
   "outputs": [
    {
     "data": {
      "text/plain": "100000"
     },
     "execution_count": 64,
     "metadata": {},
     "output_type": "execute_result"
    }
   ],
   "source": [
    "# количество размещений из n элементов по k с повторением\n",
    "n = 10\n",
    "k = 5\n",
    "n**k"
   ],
   "metadata": {
    "collapsed": false,
    "ExecuteTime": {
     "end_time": "2024-03-14T20:54:54.572714800Z",
     "start_time": "2024-03-14T20:54:54.289720100Z"
    }
   },
   "id": "3951357e7aa7ec71"
  },
  {
   "cell_type": "markdown",
   "source": [
    "Задача 7. В шахматном турнире участвуют 16 человек. Сколько партий должно быть \n",
    "сыграно в турнире, если между любыми двумя участниками должна быть сыграна одна \n",
    "партия? "
   ],
   "metadata": {
    "collapsed": false
   },
   "id": "18dec7023bfc56bd"
  },
  {
   "cell_type": "code",
   "execution_count": 65,
   "outputs": [
    {
     "data": {
      "text/plain": "120"
     },
     "execution_count": 65,
     "metadata": {},
     "output_type": "execute_result"
    }
   ],
   "source": [
    "# количество сочетаний из n элементов по k\n",
    "n = 16\n",
    "k = 2\n",
    "comb(n, k, exact=True, repetition=False)"
   ],
   "metadata": {
    "collapsed": false,
    "ExecuteTime": {
     "end_time": "2024-03-14T20:54:54.584723200Z",
     "start_time": "2024-03-14T20:54:54.305716500Z"
    }
   },
   "id": "d7f7c942de9f5f45"
  },
  {
   "cell_type": "markdown",
   "source": [
    "Задача 8. В условиях задачи 6 определить, сколько существует вариантов распределения\n",
    "призов, если по всем номинациям установлены одинаковые призы? "
   ],
   "metadata": {
    "collapsed": false
   },
   "id": "14d07fd221b191b8"
  },
  {
   "cell_type": "code",
   "execution_count": 66,
   "outputs": [
    {
     "data": {
      "text/plain": "2002"
     },
     "execution_count": 66,
     "metadata": {},
     "output_type": "execute_result"
    }
   ],
   "source": [
    "# количество сочетаний из n элементов по k\n",
    "n = 10\n",
    "k = 5\n",
    "comb(n, k, exact=True, repetition=True)"
   ],
   "metadata": {
    "collapsed": false,
    "ExecuteTime": {
     "end_time": "2024-03-14T20:54:54.594712300Z",
     "start_time": "2024-03-14T20:54:54.320717600Z"
    }
   },
   "id": "27c38a42e444aa5d"
  },
  {
   "cell_type": "markdown",
   "source": [
    "Задача 9. Садовник должен в течение трех дней посадить 6 деревьев. Сколькими способами он может распределить по дням работу,\n",
    "если будет сажать не менее одного дерева в день?"
   ],
   "metadata": {
    "collapsed": false
   },
   "id": "41e4076a06a8a318"
  },
  {
   "cell_type": "code",
   "execution_count": 67,
   "outputs": [
    {
     "data": {
      "text/plain": "10"
     },
     "execution_count": 67,
     "metadata": {},
     "output_type": "execute_result"
    }
   ],
   "source": [
    "n = 5\n",
    "k = 2\n",
    "comb(n, k, exact=True, repetition=False)"
   ],
   "metadata": {
    "collapsed": false,
    "ExecuteTime": {
     "end_time": "2024-03-14T20:54:54.595720900Z",
     "start_time": "2024-03-14T20:54:54.336717800Z"
    }
   },
   "id": "966f1d7edda3a9f9"
  },
  {
   "cell_type": "markdown",
   "source": [
    "Задача 10. Сколько существует четырехзначных чисел (возможно, начинающихся с нуля), \n",
    "сумма цифр которых равна 5?"
   ],
   "metadata": {
    "collapsed": false
   },
   "id": "bd900d2bf4cfa16d"
  },
  {
   "cell_type": "markdown",
   "source": [
    "Задача 11. Сколькими способами можно разбить группу из 25 студентов на три подгруппы \n",
    "А, В и С по 6, 9 и 10 человек соответственно? "
   ],
   "metadata": {
    "collapsed": false
   },
   "id": "f9d51bfcc19a23e4"
  },
  {
   "cell_type": "markdown",
   "source": [
    "Задача 12. Сколько существует семизначных чисел, состоящих из цифр 4, 5 и 6, в которых \n",
    "цифра 4 повторяется 3 раза, а цифры 5 и 6 – по 2 раза? "
   ],
   "metadata": {
    "collapsed": false
   },
   "id": "c62029d7e3800612"
  },
  {
   "cell_type": "markdown",
   "source": [
    "Задача 1. В ящике 5 апельсинов и 4 яблока. Наудачу выбираются 3 фрукта. Какова \n",
    "вероятность, что все три фрукта – апельсины?"
   ],
   "metadata": {
    "collapsed": false
   },
   "id": "3cc7c2e3084d7a37"
  },
  {
   "cell_type": "code",
   "execution_count": 68,
   "outputs": [
    {
     "data": {
      "text/plain": "0.11904761904761904"
     },
     "execution_count": 68,
     "metadata": {},
     "output_type": "execute_result"
    }
   ],
   "source": [
    "k = 3\n",
    "n = 5\n",
    "k_full = 3\n",
    "n_full = 9\n",
    "comb(n, k, exact=True, repetition=False) / comb(n_full, k_full, exact=True, repetition=False)"
   ],
   "metadata": {
    "collapsed": false,
    "ExecuteTime": {
     "end_time": "2024-03-14T20:54:54.598712700Z",
     "start_time": "2024-03-14T20:54:54.353716900Z"
    }
   },
   "id": "2ab3d988b11a9313"
  },
  {
   "cell_type": "markdown",
   "source": [
    "Задача 2. Преподаватель предлагает каждому из трех студентов задумать любое число от \n",
    "1 до 10. Считая, что выбор каждым из студентов любого числа из заданных \n",
    "равновозможен, найти вероятность того, что у кого-то из них задуманные числа совпадут. "
   ],
   "metadata": {
    "collapsed": false
   },
   "id": "7e1a4967a3637872"
  },
  {
   "cell_type": "code",
   "execution_count": 69,
   "outputs": [
    {
     "data": {
      "text/plain": "0.28"
     },
     "execution_count": 69,
     "metadata": {},
     "output_type": "execute_result"
    }
   ],
   "source": [
    "# Всего вариантов:\n",
    "total = 10 ** 3\n",
    "# Вариантов, что не совпадут\n",
    "non_match_options = 10 * 9 * 8\n",
    "# Вариантов что совпадут\n",
    "match_options = total - non_match_options\n",
    "# Вероятность:\n",
    "match_options / total"
   ],
   "metadata": {
    "collapsed": false,
    "ExecuteTime": {
     "end_time": "2024-03-14T20:54:54.764718100Z",
     "start_time": "2024-03-14T20:54:54.368716600Z"
    }
   },
   "id": "e098ecf8793cf11a"
  },
  {
   "cell_type": "markdown",
   "source": [
    "Задача 3. Найти вероятность того, что в 8-значном числе ровно 4 цифры совпадают, а \n",
    "остальные различны. "
   ],
   "metadata": {
    "collapsed": false
   },
   "id": "5cd501b60939e74b"
  },
  {
   "cell_type": "markdown",
   "source": [
    "Задача 4. Шесть клиентов случайным образом обращаются в 5 фирм. Найти вероятность\n",
    "того, что хотя бы в одну фирму никто не обратится. "
   ],
   "metadata": {
    "collapsed": false
   },
   "id": "4b4f420c866fb22"
  },
  {
   "cell_type": "markdown",
   "source": [
    "Задача 1. В ящике 10 красных и 5 синих пуговиц. Вынимаются наудачу две пуговицы. \n",
    "Какова вероятность, что пуговицы будут одноцветными?  "
   ],
   "metadata": {
    "collapsed": false
   },
   "id": "d5c71821d74d42c8"
  },
  {
   "cell_type": "code",
   "execution_count": 70,
   "outputs": [
    {
     "data": {
      "text/plain": "0.5238095238095238"
     },
     "execution_count": 70,
     "metadata": {},
     "output_type": "execute_result"
    }
   ],
   "source": [
    "# Комбинации при которых высунуты 2 красные пуговицы\n",
    "red = comb(10, 2, repetition=False)\n",
    "# Комбинации при которых высунуты 2 синие пуговицы\n",
    "blue = comb(5, 2, repetition=False)\n",
    "# Все комбинации\n",
    "total = comb(15, 2, repetition=False)\n",
    "# Вероятность достать 2 пуговицы одного цвета\n",
    "(red + blue) / total"
   ],
   "metadata": {
    "collapsed": false,
    "ExecuteTime": {
     "end_time": "2024-03-14T20:54:54.805723400Z",
     "start_time": "2024-03-14T20:54:54.383716800Z"
    }
   },
   "id": "8ab6ebee9bad1d38"
  },
  {
   "cell_type": "markdown",
   "source": [
    "Задача 2. Среди сотрудников фирмы 28% знают английский язык, 30%  – немецкий, 42% – \n",
    "французский; английский и немецкий – 8%, английский и французский – 10%, немецкий и \n",
    "французский – 5%, все три языка – 3%. Найти вероятность того, что случайно выбранный \n",
    "сотрудник фирмы: а) знает английский или немецкий; б) знает английский, немецкий или \n",
    "французский; в) не знает ни один из перечисленных языков. "
   ],
   "metadata": {
    "collapsed": false
   },
   "id": "b6fbb1620d69835a"
  },
  {
   "cell_type": "code",
   "execution_count": 71,
   "outputs": [
    {
     "data": {
      "text/plain": "0.5"
     },
     "execution_count": 71,
     "metadata": {},
     "output_type": "execute_result"
    }
   ],
   "source": [
    "# a) Сложить тех, кто знает английский и тех кто знает немецкий, но вычесть тех, кто знает\n",
    "# оба языка (они уже попали в одну группу)\n",
    "(28 + 30 - 8) / 100"
   ],
   "metadata": {
    "collapsed": false,
    "ExecuteTime": {
     "end_time": "2024-03-14T20:54:54.807714700Z",
     "start_time": "2024-03-14T20:54:54.400719400Z"
    }
   },
   "id": "1f6b379f5fd456fe"
  },
  {
   "cell_type": "code",
   "execution_count": 72,
   "outputs": [
    {
     "data": {
      "text/plain": "0.8"
     },
     "execution_count": 72,
     "metadata": {},
     "output_type": "execute_result"
    }
   ],
   "source": [
    "# б) Сложить тех, кто знает языки, убрать повторения по 2 языкам (учитывая что из них кто-то знает 3)\n",
    "((28 + 30 + 42) - (8 + 10 + 5 - 3)) / 100"
   ],
   "metadata": {
    "collapsed": false,
    "ExecuteTime": {
     "end_time": "2024-03-14T20:54:54.809718100Z",
     "start_time": "2024-03-14T20:54:54.416715700Z"
    }
   },
   "id": "aee82052f0d2aeb6"
  },
  {
   "cell_type": "code",
   "execution_count": 73,
   "outputs": [
    {
     "data": {
      "text/plain": "0.2"
     },
     "execution_count": 73,
     "metadata": {},
     "output_type": "execute_result"
    }
   ],
   "source": [
    "# в) Обратная величина\n",
    "round(1 - 0.8, 2)"
   ],
   "metadata": {
    "collapsed": false,
    "ExecuteTime": {
     "end_time": "2024-03-14T20:54:54.815714900Z",
     "start_time": "2024-03-14T20:54:54.431718200Z"
    }
   },
   "id": "9403dc2dc1aafc7a"
  },
  {
   "cell_type": "markdown",
   "source": [
    "Задача 3. В семье – двое детей. Какова вероятность, что старший ребенок – мальчик, если \n",
    "известно, что в семье есть дети обоего пола? "
   ],
   "metadata": {
    "collapsed": false
   },
   "id": "4b29c1eb7be9a232"
  },
  {
   "cell_type": "code",
   "execution_count": 74,
   "outputs": [],
   "source": [
    "# Из условия есть дети 2 полов и они разного возраста (так как мальчик старший)\n",
    "# Всего есть 2 комбинации рождения двух детей разного пола - мальчик-девочка и девочка-мальчик\n",
    "# Только одна из них удовлетворяет условию старший мальчик"
   ],
   "metadata": {
    "collapsed": false,
    "ExecuteTime": {
     "end_time": "2024-03-14T20:54:54.815714900Z",
     "start_time": "2024-03-14T20:54:54.447718600Z"
    }
   },
   "id": "9f1f788c40ef3026"
  },
  {
   "cell_type": "code",
   "execution_count": 75,
   "outputs": [
    {
     "data": {
      "text/plain": "0.5"
     },
     "execution_count": 75,
     "metadata": {},
     "output_type": "execute_result"
    }
   ],
   "source": [
    "1/2"
   ],
   "metadata": {
    "collapsed": false,
    "ExecuteTime": {
     "end_time": "2024-03-14T20:54:54.824715900Z",
     "start_time": "2024-03-14T20:54:54.463719200Z"
    }
   },
   "id": "75e473726f183e01"
  }
 ],
 "metadata": {
  "kernelspec": {
   "display_name": "Python 3",
   "language": "python",
   "name": "python3"
  },
  "language_info": {
   "codemirror_mode": {
    "name": "ipython",
    "version": 2
   },
   "file_extension": ".py",
   "mimetype": "text/x-python",
   "name": "python",
   "nbconvert_exporter": "python",
   "pygments_lexer": "ipython2",
   "version": "2.7.6"
  }
 },
 "nbformat": 4,
 "nbformat_minor": 5
}
