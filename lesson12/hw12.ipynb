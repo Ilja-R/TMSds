{
 "cells": [
  {
   "cell_type": "code",
   "execution_count": 2,
   "id": "fa9ef757e9f30009",
   "metadata": {
    "collapsed": false,
    "ExecuteTime": {
     "end_time": "2024-03-15T14:57:31.955470100Z",
     "start_time": "2024-03-15T14:57:29.962470700Z"
    }
   },
   "outputs": [],
   "source": [
    "from scipy.special import perm, factorial, comb"
   ]
  },
  {
   "cell_type": "markdown",
   "id": "d4a758d87b899b19",
   "metadata": {
    "collapsed": false
   },
   "source": [
    "Задача 1. В группе 30 студентов. Необходимо выбрать старосту, заместителя старосты и \n",
    "профорга. Сколько существует способов это сделать? "
   ]
  },
  {
   "cell_type": "code",
   "execution_count": 2,
   "id": "354a8f3a4c733b7b",
   "metadata": {
    "ExecuteTime": {
     "end_time": "2024-03-14T20:54:54.535712800Z",
     "start_time": "2024-03-14T20:54:54.225716700Z"
    },
    "collapsed": false
   },
   "outputs": [
    {
     "data": {
      "text/plain": [
       "24360.0"
      ]
     },
     "execution_count": 2,
     "metadata": {},
     "output_type": "execute_result"
    }
   ],
   "source": [
    "# количество размещений из n элементов по k\n",
    "n = 30\n",
    "k = 3\n",
    "perm(n, k)"
   ]
  },
  {
   "cell_type": "markdown",
   "id": "87dc95f76688731a",
   "metadata": {
    "collapsed": false
   },
   "source": [
    "Задача 2. Два почтальона должны разнести 10 писем по 10 адресам. Сколькими \n",
    "способами они могут распределить работу?\n",
    "NB! Письмо имеет финальный адрес"
   ]
  },
  {
   "cell_type": "code",
   "execution_count": 3,
   "id": "384999f0c734553",
   "metadata": {
    "ExecuteTime": {
     "end_time": "2024-03-14T20:54:54.568713Z",
     "start_time": "2024-03-14T20:54:54.239719300Z"
    },
    "collapsed": false
   },
   "outputs": [
    {
     "data": {
      "text/plain": [
       "1024"
      ]
     },
     "execution_count": 3,
     "metadata": {},
     "output_type": "execute_result"
    }
   ],
   "source": [
    "# количество размещений из n элементов по k с повторением\n",
    "n = 2\n",
    "k = 10\n",
    "n**k"
   ]
  },
  {
   "cell_type": "markdown",
   "id": "ead405cb7ae2ddac",
   "metadata": {
    "collapsed": false
   },
   "source": [
    "Задача 3. В ящике 100 деталей, из них 30 – деталей 1-го сорта, 50 – 2-го, остальные – 3-\n",
    "го. Сколько существует способов извлечения из ящика одной детали 1-го или 2-го сорта? "
   ]
  },
  {
   "cell_type": "code",
   "execution_count": 4,
   "id": "3cc06b5ae0807434",
   "metadata": {
    "ExecuteTime": {
     "end_time": "2024-03-14T20:54:54.572714800Z",
     "start_time": "2024-03-14T20:54:54.256722500Z"
    },
    "collapsed": false
   },
   "outputs": [
    {
     "name": "stdout",
     "output_type": "stream",
     "text": [
      "Существует 80 способов извлечения детали первого или второго сорта из 100\n"
     ]
    }
   ],
   "source": [
    "print(f\"Существует {30 + 50} способов извлечения детали первого или второго сорта из 100\")"
   ]
  },
  {
   "cell_type": "markdown",
   "id": "18a97ae3dbbaccce",
   "metadata": {
    "collapsed": false
   },
   "source": [
    "Задача 5. Порядок выступления 7 участников конкурса определяется жребием. Сколько \n",
    "различных вариантов жеребьевки при этом возможно?"
   ]
  },
  {
   "cell_type": "code",
   "execution_count": 5,
   "id": "5da667966977841e",
   "metadata": {
    "ExecuteTime": {
     "end_time": "2024-03-14T20:54:54.572714800Z",
     "start_time": "2024-03-14T20:54:54.272726900Z"
    },
    "collapsed": false
   },
   "outputs": [
    {
     "data": {
      "text/plain": [
       "5040"
      ]
     },
     "execution_count": 5,
     "metadata": {},
     "output_type": "execute_result"
    }
   ],
   "source": [
    "factorial(7, exact=True)"
   ]
  },
  {
   "cell_type": "markdown",
   "id": "e4790a6bdaf31b30",
   "metadata": {
    "collapsed": false
   },
   "source": [
    "Задача 6. В конкурсе по 5 номинациям участвуют 10 кинофильмов. Сколько существует \n",
    "вариантов распределения призов, если по всем номинациям установлены различные \n",
    "премии? "
   ]
  },
  {
   "cell_type": "code",
   "execution_count": 6,
   "id": "3951357e7aa7ec71",
   "metadata": {
    "ExecuteTime": {
     "end_time": "2024-03-14T20:54:54.572714800Z",
     "start_time": "2024-03-14T20:54:54.289720100Z"
    },
    "collapsed": false
   },
   "outputs": [
    {
     "data": {
      "text/plain": [
       "100000"
      ]
     },
     "execution_count": 6,
     "metadata": {},
     "output_type": "execute_result"
    }
   ],
   "source": [
    "# количество размещений из n элементов по k с повторением\n",
    "n = 10\n",
    "k = 5\n",
    "n**k"
   ]
  },
  {
   "cell_type": "markdown",
   "id": "18dec7023bfc56bd",
   "metadata": {
    "collapsed": false
   },
   "source": [
    "Задача 7. В шахматном турнире участвуют 16 человек. Сколько партий должно быть \n",
    "сыграно в турнире, если между любыми двумя участниками должна быть сыграна одна \n",
    "партия? "
   ]
  },
  {
   "cell_type": "code",
   "execution_count": 7,
   "id": "d7f7c942de9f5f45",
   "metadata": {
    "ExecuteTime": {
     "end_time": "2024-03-14T20:54:54.584723200Z",
     "start_time": "2024-03-14T20:54:54.305716500Z"
    },
    "collapsed": false
   },
   "outputs": [
    {
     "data": {
      "text/plain": [
       "120"
      ]
     },
     "execution_count": 7,
     "metadata": {},
     "output_type": "execute_result"
    }
   ],
   "source": [
    "# количество сочетаний из n элементов по k\n",
    "n = 16\n",
    "k = 2\n",
    "comb(n, k, exact=True, repetition=False)"
   ]
  },
  {
   "cell_type": "markdown",
   "id": "14d07fd221b191b8",
   "metadata": {
    "collapsed": false
   },
   "source": [
    "Задача 8. В условиях задачи 6 определить, сколько существует вариантов распределения\n",
    "призов, если по всем номинациям установлены одинаковые призы? "
   ]
  },
  {
   "cell_type": "code",
   "execution_count": 8,
   "id": "27c38a42e444aa5d",
   "metadata": {
    "ExecuteTime": {
     "end_time": "2024-03-14T20:54:54.594712300Z",
     "start_time": "2024-03-14T20:54:54.320717600Z"
    },
    "collapsed": false
   },
   "outputs": [
    {
     "data": {
      "text/plain": [
       "2002"
      ]
     },
     "execution_count": 8,
     "metadata": {},
     "output_type": "execute_result"
    }
   ],
   "source": [
    "# количество сочетаний из n элементов по k\n",
    "n = 10\n",
    "k = 5\n",
    "comb(n, k, exact=True, repetition=True)"
   ]
  },
  {
   "cell_type": "markdown",
   "id": "41e4076a06a8a318",
   "metadata": {
    "collapsed": false
   },
   "source": [
    "Задача 9. Садовник должен в течение трех дней посадить 6 деревьев. Сколькими способами он может распределить по дням работу,\n",
    "если будет сажать не менее одного дерева в день?"
   ]
  },
  {
   "cell_type": "code",
   "execution_count": 9,
   "id": "966f1d7edda3a9f9",
   "metadata": {
    "ExecuteTime": {
     "end_time": "2024-03-14T20:54:54.595720900Z",
     "start_time": "2024-03-14T20:54:54.336717800Z"
    },
    "collapsed": false
   },
   "outputs": [
    {
     "data": {
      "text/plain": [
       "10"
      ]
     },
     "execution_count": 9,
     "metadata": {},
     "output_type": "execute_result"
    }
   ],
   "source": [
    "# Представим как 6 деревьев и между ними 5 позиции, куда можно вставить отдых (ночь)\n",
    "# Так как в день должно быть хотя бы 1 дерево, то отдых не может повторяться\n",
    "n = 5\n",
    "k = 2\n",
    "comb(n, k, exact=True, repetition=False)"
   ]
  },
  {
   "cell_type": "markdown",
   "id": "bd900d2bf4cfa16d",
   "metadata": {
    "collapsed": false
   },
   "source": [
    "Задача 10. Сколько существует четырехзначных чисел (возможно, начинающихся с нуля), \n",
    "сумма цифр которых равна 5?"
   ]
  },
  {
   "cell_type": "code",
   "execution_count": 28,
   "outputs": [
    {
     "data": {
      "text/plain": "56"
     },
     "execution_count": 28,
     "metadata": {},
     "output_type": "execute_result"
    }
   ],
   "source": [
    "# То же самое что прошлое, но теперь есть 5 единиц 6 позиции для размещения трех разделителей (на 4 числа)\n",
    "# Числа могут повторяться\n",
    "n = 6\n",
    "k = 3\n",
    "comb(n, k, exact=True, repetition=True)"
   ],
   "metadata": {
    "collapsed": false,
    "ExecuteTime": {
     "end_time": "2024-03-15T16:55:37.237599300Z",
     "start_time": "2024-03-15T16:55:37.222084100Z"
    }
   },
   "id": "423735f92449de88"
  },
  {
   "cell_type": "markdown",
   "id": "f9d51bfcc19a23e4",
   "metadata": {
    "collapsed": false
   },
   "source": [
    "Задача 11. Сколькими способами можно разбить группу из 25 студентов на три подгруппы \n",
    "А, В и С по 6, 9 и 10 человек соответственно? "
   ]
  },
  {
   "cell_type": "code",
   "execution_count": 35,
   "outputs": [
    {
     "name": "stdout",
     "output_type": "stream",
     "text": [
      "16360143799.999998\n",
      "16360143800.0\n"
     ]
    }
   ],
   "source": [
    "print(factorial(25) / (factorial(6) * factorial(9) * factorial(10)))\n",
    "print(factorial(25, exact=True) / (factorial(6, exact=True) * factorial(9,exact=True) * factorial(10, exact=True)))"
   ],
   "metadata": {
    "collapsed": false,
    "ExecuteTime": {
     "end_time": "2024-03-15T17:37:36.193394300Z",
     "start_time": "2024-03-15T17:37:36.176599300Z"
    }
   },
   "id": "d4635b446d25cf4c"
  },
  {
   "cell_type": "markdown",
   "id": "c62029d7e3800612",
   "metadata": {
    "collapsed": false
   },
   "source": [
    "Задача 12. Сколько существует семизначных чисел, состоящих из цифр 4, 5 и 6, в которых \n",
    "цифра 4 повторяется 3 раза, а цифры 5 и 6 – по 2 раза? "
   ]
  },
  {
   "cell_type": "code",
   "execution_count": 34,
   "outputs": [
    {
     "name": "stdout",
     "output_type": "stream",
     "text": [
      "210.0\n",
      "210.0\n"
     ]
    }
   ],
   "source": [
    "print(factorial(7, exact=True) / (factorial(3, exact=True) * factorial(2,exact=True) * factorial(2, exact=True)))"
   ],
   "metadata": {
    "collapsed": false,
    "ExecuteTime": {
     "end_time": "2024-03-15T17:22:43.151747600Z",
     "start_time": "2024-03-15T17:22:43.127120Z"
    }
   },
   "id": "2c83d86dc9055af3"
  },
  {
   "cell_type": "markdown",
   "id": "3cc7c2e3084d7a37",
   "metadata": {
    "collapsed": false
   },
   "source": [
    "Задача 1. В ящике 5 апельсинов и 4 яблока. Наудачу выбираются 3 фрукта. Какова \n",
    "вероятность, что все три фрукта – апельсины?"
   ]
  },
  {
   "cell_type": "code",
   "execution_count": 10,
   "id": "2ab3d988b11a9313",
   "metadata": {
    "ExecuteTime": {
     "end_time": "2024-03-14T20:54:54.598712700Z",
     "start_time": "2024-03-14T20:54:54.353716900Z"
    },
    "collapsed": false
   },
   "outputs": [
    {
     "data": {
      "text/plain": [
       "0.11904761904761904"
      ]
     },
     "execution_count": 10,
     "metadata": {},
     "output_type": "execute_result"
    }
   ],
   "source": [
    "k = 3\n",
    "n = 5\n",
    "k_full = 3\n",
    "n_full = 9\n",
    "comb(n, k, exact=True, repetition=False) / comb(n_full, k_full, exact=True, repetition=False)"
   ]
  },
  {
   "cell_type": "markdown",
   "id": "7e1a4967a3637872",
   "metadata": {
    "collapsed": false
   },
   "source": [
    "Задача 2. Преподаватель предлагает каждому из трех студентов задумать любое число от \n",
    "1 до 10. Считая, что выбор каждым из студентов любого числа из заданных \n",
    "равновозможен, найти вероятность того, что у кого-то из них задуманные числа совпадут. "
   ]
  },
  {
   "cell_type": "code",
   "execution_count": 11,
   "id": "e098ecf8793cf11a",
   "metadata": {
    "ExecuteTime": {
     "end_time": "2024-03-14T20:54:54.764718100Z",
     "start_time": "2024-03-14T20:54:54.368716600Z"
    },
    "collapsed": false
   },
   "outputs": [
    {
     "data": {
      "text/plain": [
       "0.28"
      ]
     },
     "execution_count": 11,
     "metadata": {},
     "output_type": "execute_result"
    }
   ],
   "source": [
    "# Всего вариантов:\n",
    "total = 10 ** 3\n",
    "# Вариантов, что не совпадут\n",
    "non_match_options = 10 * 9 * 8\n",
    "# Вариантов что совпадут\n",
    "match_options = total - non_match_options\n",
    "# Вероятность:\n",
    "match_options / total"
   ]
  },
  {
   "cell_type": "markdown",
   "id": "5cd501b60939e74b",
   "metadata": {
    "collapsed": false
   },
   "source": [
    "Задача 3. Найти вероятность того, что в 8-значном числе ровно 4 цифры совпадают, а \n",
    "остальные различны. "
   ]
  },
  {
   "cell_type": "code",
   "execution_count": 26,
   "outputs": [
    {
     "data": {
      "text/plain": "0.021168"
     },
     "execution_count": 26,
     "metadata": {},
     "output_type": "execute_result"
    }
   ],
   "source": [
    "10 * comb(8, 4, repetition=False) * perm(9, 4) / 10 ** 8"
   ],
   "metadata": {
    "collapsed": false,
    "ExecuteTime": {
     "end_time": "2024-03-15T15:25:30.990947700Z",
     "start_time": "2024-03-15T15:25:30.977891200Z"
    }
   },
   "id": "9225cacce9db201b"
  },
  {
   "cell_type": "markdown",
   "id": "4b4f420c866fb22",
   "metadata": {
    "collapsed": false
   },
   "source": [
    "Задача 4. Шесть клиентов случайным образом обращаются в 5 фирм. Найти вероятность\n",
    "того, что хотя бы в одну фирму никто не обратится. "
   ]
  },
  {
   "cell_type": "code",
   "execution_count": 36,
   "outputs": [
    {
     "data": {
      "text/plain": "0.8848"
     },
     "execution_count": 36,
     "metadata": {},
     "output_type": "execute_result"
    }
   ],
   "source": [
    "# Событие, что во все 5 фирм кто-то обратился, в одну 2 клиента, в остальные по 1\n",
    "all_were_visited = 5 * factorial(6, exact=True) / (1 * 1 * 1 * 1 * 2)\n",
    "# Общее число\n",
    "total = 5 ** 6\n",
    "some_were_not_visited = 1 - all_were_visited / total\n",
    "some_were_not_visited"
   ],
   "metadata": {
    "collapsed": false,
    "ExecuteTime": {
     "end_time": "2024-03-15T18:02:49.309860200Z",
     "start_time": "2024-03-15T18:02:49.286826700Z"
    }
   },
   "id": "d2dd29f9342e5a33"
  },
  {
   "cell_type": "markdown",
   "id": "d5c71821d74d42c8",
   "metadata": {
    "collapsed": false
   },
   "source": [
    "Задача 1. В ящике 10 красных и 5 синих пуговиц. Вынимаются наудачу две пуговицы. \n",
    "Какова вероятность, что пуговицы будут одноцветными?  "
   ]
  },
  {
   "cell_type": "code",
   "execution_count": 12,
   "id": "8ab6ebee9bad1d38",
   "metadata": {
    "ExecuteTime": {
     "end_time": "2024-03-14T20:54:54.805723400Z",
     "start_time": "2024-03-14T20:54:54.383716800Z"
    },
    "collapsed": false
   },
   "outputs": [
    {
     "data": {
      "text/plain": [
       "0.5238095238095238"
      ]
     },
     "execution_count": 12,
     "metadata": {},
     "output_type": "execute_result"
    }
   ],
   "source": [
    "# Комбинации при которых высунуты 2 красные пуговицы\n",
    "red = comb(10, 2, repetition=False)\n",
    "# Комбинации при которых высунуты 2 синие пуговицы\n",
    "blue = comb(5, 2, repetition=False)\n",
    "# Все комбинации\n",
    "total = comb(15, 2, repetition=False)\n",
    "# Вероятность достать 2 пуговицы одного цвета\n",
    "(red + blue) / total"
   ]
  },
  {
   "cell_type": "markdown",
   "id": "b6fbb1620d69835a",
   "metadata": {
    "collapsed": false
   },
   "source": [
    "Задача 2. Среди сотрудников фирмы 28% знают английский язык, 30%  – немецкий, 42% – \n",
    "французский; английский и немецкий – 8%, английский и французский – 10%, немецкий и \n",
    "французский – 5%, все три языка – 3%. Найти вероятность того, что случайно выбранный \n",
    "сотрудник фирмы: а) знает английский или немецкий; б) знает английский, немецкий или \n",
    "французский; в) не знает ни один из перечисленных языков. "
   ]
  },
  {
   "cell_type": "code",
   "execution_count": 13,
   "id": "1f6b379f5fd456fe",
   "metadata": {
    "ExecuteTime": {
     "end_time": "2024-03-14T20:54:54.807714700Z",
     "start_time": "2024-03-14T20:54:54.400719400Z"
    },
    "collapsed": false
   },
   "outputs": [
    {
     "data": {
      "text/plain": [
       "0.5"
      ]
     },
     "execution_count": 13,
     "metadata": {},
     "output_type": "execute_result"
    }
   ],
   "source": [
    "# a) Сложить тех, кто знает английский и тех кто знает немецкий, но вычесть тех, кто знает\n",
    "# оба языка (они уже попали в одну группу)\n",
    "(28 + 30 - 8) / 100"
   ]
  },
  {
   "cell_type": "code",
   "execution_count": 14,
   "id": "aee82052f0d2aeb6",
   "metadata": {
    "ExecuteTime": {
     "end_time": "2024-03-14T20:54:54.809718100Z",
     "start_time": "2024-03-14T20:54:54.416715700Z"
    },
    "collapsed": false
   },
   "outputs": [
    {
     "data": {
      "text/plain": [
       "0.8"
      ]
     },
     "execution_count": 14,
     "metadata": {},
     "output_type": "execute_result"
    }
   ],
   "source": [
    "# б) Сложить тех, кто знает языки, убрать повторения по 2 языкам (учитывая что из них кто-то знает 3)\n",
    "((28 + 30 + 42) - (8 + 10 + 5 - 3)) / 100"
   ]
  },
  {
   "cell_type": "code",
   "execution_count": 15,
   "id": "9403dc2dc1aafc7a",
   "metadata": {
    "ExecuteTime": {
     "end_time": "2024-03-14T20:54:54.815714900Z",
     "start_time": "2024-03-14T20:54:54.431718200Z"
    },
    "collapsed": false
   },
   "outputs": [
    {
     "data": {
      "text/plain": [
       "0.2"
      ]
     },
     "execution_count": 15,
     "metadata": {},
     "output_type": "execute_result"
    }
   ],
   "source": [
    "# в) Обратная величина\n",
    "round(1 - 0.8, 2)"
   ]
  },
  {
   "cell_type": "markdown",
   "id": "4b29c1eb7be9a232",
   "metadata": {
    "collapsed": false
   },
   "source": [
    "Задача 3. В семье – двое детей. Какова вероятность, что старший ребенок – мальчик, если \n",
    "известно, что в семье есть дети обоего пола? "
   ]
  },
  {
   "cell_type": "code",
   "execution_count": 16,
   "id": "9f1f788c40ef3026",
   "metadata": {
    "ExecuteTime": {
     "end_time": "2024-03-14T20:54:54.815714900Z",
     "start_time": "2024-03-14T20:54:54.447718600Z"
    },
    "collapsed": false
   },
   "outputs": [],
   "source": [
    "# Из условия есть дети 2 полов и они разного возраста (так как мальчик старший)\n",
    "# Всего есть 2 комбинации рождения двух детей разного пола - мальчик-девочка и девочка-мальчик\n",
    "# Только одна из них удовлетворяет условию старший мальчик"
   ]
  },
  {
   "cell_type": "code",
   "execution_count": 17,
   "id": "75e473726f183e01",
   "metadata": {
    "ExecuteTime": {
     "end_time": "2024-03-14T20:54:54.824715900Z",
     "start_time": "2024-03-14T20:54:54.463719200Z"
    },
    "collapsed": false
   },
   "outputs": [
    {
     "data": {
      "text/plain": [
       "0.5"
      ]
     },
     "execution_count": 17,
     "metadata": {},
     "output_type": "execute_result"
    }
   ],
   "source": [
    "1/2"
   ]
  }
 ],
 "metadata": {
  "kernelspec": {
   "display_name": "Python 3 (ipykernel)",
   "language": "python",
   "name": "python3"
  },
  "language_info": {
   "codemirror_mode": {
    "name": "ipython",
    "version": 3
   },
   "file_extension": ".py",
   "mimetype": "text/x-python",
   "name": "python",
   "nbconvert_exporter": "python",
   "pygments_lexer": "ipython3",
   "version": "3.9.7"
  }
 },
 "nbformat": 4,
 "nbformat_minor": 5
}
