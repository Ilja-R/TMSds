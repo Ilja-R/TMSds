{
 "cells": [
  {
   "cell_type": "code",
   "execution_count": 29,
   "id": "initial_id",
   "metadata": {
    "collapsed": true,
    "ExecuteTime": {
     "end_time": "2024-03-04T17:48:52.356749700Z",
     "start_time": "2024-03-04T17:48:52.340753200Z"
    }
   },
   "outputs": [],
   "source": [
    "import sqlalchemy as db\n",
    "from sqlalchemy import Column, Integer, Text, ForeignKey, func"
   ]
  },
  {
   "cell_type": "code",
   "execution_count": 2,
   "outputs": [],
   "source": [
    "engine = db.create_engine('sqlite:///mydb.db')\n",
    "conn = engine.connect()\n",
    "metadata = db.MetaData()"
   ],
   "metadata": {
    "collapsed": false,
    "ExecuteTime": {
     "end_time": "2024-03-04T17:11:49.019674200Z",
     "start_time": "2024-03-04T17:11:48.985677100Z"
    }
   },
   "id": "b0f5cedcca17cc7f"
  },
  {
   "cell_type": "code",
   "execution_count": 3,
   "outputs": [
    {
     "data": {
      "text/plain": "Table('owner', MetaData(), Column('id', Integer(), table=<owner>, primary_key=True, nullable=False), Column('first_name', Text(), table=<owner>), Column('last_name', Text(), table=<owner>), Column('phone', Text(), table=<owner>), Column('email', Text(), table=<owner>), schema=None)"
     },
     "execution_count": 3,
     "metadata": {},
     "output_type": "execute_result"
    }
   ],
   "source": [
    "owners = db.Table(\n",
    "    'owner', metadata,\n",
    "    Column('id', Integer, primary_key=True, autoincrement=True),\n",
    "    Column('first_name', Text),\n",
    "    Column('last_name', Text),\n",
    "    Column('phone', Text),\n",
    "    Column('email', Text)\n",
    ")\n",
    "owners"
   ],
   "metadata": {
    "collapsed": false,
    "ExecuteTime": {
     "end_time": "2024-03-04T17:11:50.122714200Z",
     "start_time": "2024-03-04T17:11:50.080676300Z"
    }
   },
   "id": "aaf6a25f1f537f0e"
  },
  {
   "cell_type": "code",
   "execution_count": 4,
   "outputs": [
    {
     "data": {
      "text/plain": "Table('pet', MetaData(), Column('id', Integer(), table=<pet>, primary_key=True, nullable=False), Column('name', Text(), table=<pet>), Column('type', Text(), table=<pet>), Column('owner_id', Integer(), ForeignKey('owner.id'), table=<pet>), schema=None)"
     },
     "execution_count": 4,
     "metadata": {},
     "output_type": "execute_result"
    }
   ],
   "source": [
    "pets = db.Table(\n",
    "    'pet', metadata,\n",
    "    Column('id', Integer, primary_key=True, autoincrement=True),\n",
    "    Column('name', Text),\n",
    "    Column('type', Text),\n",
    "    Column('owner_id', ForeignKey('owner.id'))\n",
    ")\n",
    "pets"
   ],
   "metadata": {
    "collapsed": false,
    "ExecuteTime": {
     "end_time": "2024-03-04T17:11:53.565400400Z",
     "start_time": "2024-03-04T17:11:53.551346Z"
    }
   },
   "id": "7ffcc0fe499600b4"
  },
  {
   "cell_type": "code",
   "execution_count": 5,
   "outputs": [
    {
     "data": {
      "text/plain": "Table('veterinarian', MetaData(), Column('id', Integer(), table=<veterinarian>, primary_key=True, nullable=False), Column('first_name', Text(), table=<veterinarian>), Column('last_name', Text(), table=<veterinarian>), schema=None)"
     },
     "execution_count": 5,
     "metadata": {},
     "output_type": "execute_result"
    }
   ],
   "source": [
    "veterinarians = db.Table(\n",
    "    'veterinarian', metadata,\n",
    "    Column('id', Integer, primary_key=True, autoincrement=True),\n",
    "    Column('first_name', Text),\n",
    "    Column('last_name', Text)\n",
    ")\n",
    "veterinarians"
   ],
   "metadata": {
    "collapsed": false,
    "ExecuteTime": {
     "end_time": "2024-03-04T17:11:54.940380Z",
     "start_time": "2024-03-04T17:11:54.892347500Z"
    }
   },
   "id": "5f3a9e12887a1e94"
  },
  {
   "cell_type": "code",
   "execution_count": 6,
   "outputs": [
    {
     "data": {
      "text/plain": "Table('procedure', MetaData(), Column('id', Integer(), table=<procedure>, primary_key=True, nullable=False), Column('pet_id', Integer(), ForeignKey('pet.id'), table=<procedure>), Column('veterinarian', Integer(), ForeignKey('veterinarian.id'), table=<procedure>), schema=None)"
     },
     "execution_count": 6,
     "metadata": {},
     "output_type": "execute_result"
    }
   ],
   "source": [
    "procedures = db.Table(\n",
    "    'procedure', metadata,\n",
    "    Column('id', Integer, primary_key=True, autoincrement=True),\n",
    "    Column('pet_id', ForeignKey('pet.id')),\n",
    "    Column('veterinarian', ForeignKey('veterinarian.id'))\n",
    ")\n",
    "procedures"
   ],
   "metadata": {
    "collapsed": false,
    "ExecuteTime": {
     "end_time": "2024-03-04T17:11:56.037342500Z",
     "start_time": "2024-03-04T17:11:55.983347300Z"
    }
   },
   "id": "6af28db2cda6b19c"
  },
  {
   "cell_type": "code",
   "execution_count": 8,
   "outputs": [],
   "source": [
    "metadata.create_all(engine)"
   ],
   "metadata": {
    "collapsed": false,
    "ExecuteTime": {
     "end_time": "2024-03-04T17:18:11.946591700Z",
     "start_time": "2024-03-04T17:18:11.902605300Z"
    }
   },
   "id": "a6362a60d602feaf"
  },
  {
   "cell_type": "code",
   "execution_count": 9,
   "outputs": [
    {
     "data": {
      "text/plain": "<sqlalchemy.engine.cursor.CursorResult at 0x1ff3cbd1880>"
     },
     "execution_count": 9,
     "metadata": {},
     "output_type": "execute_result"
    }
   ],
   "source": [
    "insertion = owners.insert().values([\n",
    "    {'first_name': 'Alice', 'last_name': 'Smith', 'phone': '123456', 'email': 'alice.smith@email.com'},\n",
    "    {'first_name': 'Bob', 'last_name': 'Johnson', 'phone': '789012', 'email': 'bob.johnson@email.com'},\n",
    "    {'first_name': 'Charlie', 'last_name': 'Brown', 'phone': '345678', 'email': 'charlie.brown@email.com'},\n",
    "    {'first_name': 'David', 'last_name': 'Wilson', 'phone': '901234', 'email': 'david.wilson@email.com'},\n",
    "    {'first_name': 'Eva', 'last_name': 'Miller', 'phone': '567890', 'email': 'eva.miller@email.com'},\n",
    "    {'first_name': 'Frank', 'last_name': 'Jones', 'phone': '234567', 'email': 'frank.jones@email.com'},\n",
    "    {'first_name': 'Grace', 'last_name': 'Taylor', 'phone': '890123', 'email': 'grace.taylor@email.com'},\n",
    "    {'first_name': 'Harry', 'last_name': 'Anderson', 'phone': '456789', 'email': 'harry.anderson@email.com'},\n",
    "    {'first_name': 'Ivy', 'last_name': 'Clark', 'phone': '012345', 'email': 'ivy.clark@email.com'},\n",
    "    {'first_name': 'Jack', 'last_name': 'Davis', 'phone': '678901', 'email': 'jack.davis@email.com'}\n",
    "])\n",
    "conn.execute(insertion)\n",
    "conn.commit()"
   ],
   "metadata": {
    "collapsed": false,
    "ExecuteTime": {
     "end_time": "2024-03-04T17:18:17.484421100Z",
     "start_time": "2024-03-04T17:18:17.437384300Z"
    }
   },
   "id": "5de413fde2a9416b"
  },
  {
   "cell_type": "code",
   "execution_count": 14,
   "outputs": [
    {
     "data": {
      "text/plain": "[(1, 'Alice', 'Smith', '123456', 'alice.smith@email.com'),\n (2, 'Bob', 'Johnson', '789012', 'bob.johnson@email.com'),\n (3, 'Charlie', 'Brown', '345678', 'charlie.brown@email.com'),\n (4, 'David', 'Wilson', '901234', 'david.wilson@email.com'),\n (5, 'Eva', 'Miller', '567890', 'eva.miller@email.com'),\n (6, 'Frank', 'Jones', '234567', 'frank.jones@email.com'),\n (7, 'Grace', 'Taylor', '890123', 'grace.taylor@email.com'),\n (8, 'Harry', 'Anderson', '456789', 'harry.anderson@email.com'),\n (9, 'Ivy', 'Clark', '012345', 'ivy.clark@email.com'),\n (10, 'Jack', 'Davis', '678901', 'jack.davis@email.com')]"
     },
     "execution_count": 14,
     "metadata": {},
     "output_type": "execute_result"
    }
   ],
   "source": [
    "select_owners = conn.execute(owners.select())\n",
    "select_owners.fetchall()"
   ],
   "metadata": {
    "collapsed": false,
    "ExecuteTime": {
     "end_time": "2024-03-04T17:21:02.707887600Z",
     "start_time": "2024-03-04T17:21:02.691888200Z"
    }
   },
   "id": "514de5f5e6bb62b2"
  },
  {
   "cell_type": "code",
   "execution_count": 15,
   "outputs": [],
   "source": [
    "insertion = pets.insert().values([\n",
    "    {'name': 'Buddy', 'type': 'dog', 'owner_id': 2},\n",
    "    {'name': 'Whiskers', 'type': 'cat', 'owner_id': 4},\n",
    "    {'name': 'Rocky', 'type': 'dog', 'owner_id': 1},\n",
    "    {'name': 'Turtle', 'type': 'turtle', 'owner_id': 6},\n",
    "    {'name': 'Mittens', 'type': 'cat', 'owner_id': 3},\n",
    "    {'name': 'Charlie', 'type': 'dog', 'owner_id': 5},\n",
    "    {'name': 'Fluffy', 'type': 'cat', 'owner_id': 7},\n",
    "    {'name': 'Spike', 'type': 'dog', 'owner_id': 8},\n",
    "    {'name': 'Tigger', 'type': 'cat', 'owner_id': 9},\n",
    "    {'name': 'baby pig', 'type': 'piggy', 'owner_id': 10},\n",
    "    {'name': 'Max', 'type': 'dog', 'owner_id': 1},\n",
    "    {'name': 'Luna', 'type': 'cat', 'owner_id': 2},\n",
    "    {'name': 'Oscar', 'type': 'dog', 'owner_id': 4},\n",
    "    {'name': 'Gizmo', 'type': 'turtle', 'owner_id': 3},\n",
    "    {'name': 'Milo', 'type': 'cat', 'owner_id': 5}\n",
    "])\n",
    "conn.execute(insertion)\n",
    "conn.commit()"
   ],
   "metadata": {
    "collapsed": false,
    "ExecuteTime": {
     "end_time": "2024-03-04T17:28:41.173695200Z",
     "start_time": "2024-03-04T17:28:41.144698Z"
    }
   },
   "id": "a74741fa724ad061"
  },
  {
   "cell_type": "code",
   "execution_count": 16,
   "outputs": [
    {
     "data": {
      "text/plain": "[(1, 'Buddy', 'dog', 2),\n (2, 'Whiskers', 'cat', 4),\n (3, 'Rocky', 'dog', 1),\n (4, 'Turtle', 'turtle', 6),\n (5, 'Mittens', 'cat', 3),\n (6, 'Charlie', 'dog', 5),\n (7, 'Fluffy', 'cat', 7),\n (8, 'Spike', 'dog', 8),\n (9, 'Tigger', 'cat', 9),\n (10, 'baby pig', 'piggy', 10),\n (11, 'Max', 'dog', 1),\n (12, 'Luna', 'cat', 2),\n (13, 'Oscar', 'dog', 4),\n (14, 'Gizmo', 'turtle', 3),\n (15, 'Milo', 'cat', 5)]"
     },
     "execution_count": 16,
     "metadata": {},
     "output_type": "execute_result"
    }
   ],
   "source": [
    "select_pets = conn.execute(pets.select())\n",
    "select_pets.fetchall()"
   ],
   "metadata": {
    "collapsed": false,
    "ExecuteTime": {
     "end_time": "2024-03-04T17:28:43.853694800Z",
     "start_time": "2024-03-04T17:28:43.834695700Z"
    }
   },
   "id": "c081afd708db4447"
  },
  {
   "cell_type": "code",
   "execution_count": 17,
   "outputs": [],
   "source": [
    "insertion = veterinarians.insert().values([\n",
    "    {'first_name': 'Jane', 'last_name': 'Smith'},\n",
    "    {'first_name': 'Robert', 'last_name': 'Johnson'},\n",
    "    {'first_name': 'Emily', 'last_name': 'Williams'},\n",
    "    {'first_name': 'Michael', 'last_name': 'Jones'}\n",
    "])\n",
    "conn.execute(insertion)\n",
    "conn.commit()"
   ],
   "metadata": {
    "collapsed": false,
    "ExecuteTime": {
     "end_time": "2024-03-04T17:31:31.722042300Z",
     "start_time": "2024-03-04T17:31:31.682047300Z"
    }
   },
   "id": "dce00451127c78de"
  },
  {
   "cell_type": "code",
   "execution_count": 18,
   "outputs": [
    {
     "data": {
      "text/plain": "[(1, 'Jane', 'Smith'),\n (2, 'Robert', 'Johnson'),\n (3, 'Emily', 'Williams'),\n (4, 'Michael', 'Jones')]"
     },
     "execution_count": 18,
     "metadata": {},
     "output_type": "execute_result"
    }
   ],
   "source": [
    "select_veterinarians = conn.execute(veterinarians.select())\n",
    "select_veterinarians.fetchall()"
   ],
   "metadata": {
    "collapsed": false,
    "ExecuteTime": {
     "end_time": "2024-03-04T17:31:33.225082100Z",
     "start_time": "2024-03-04T17:31:33.176055300Z"
    }
   },
   "id": "699975007de63c73"
  },
  {
   "cell_type": "code",
   "execution_count": 20,
   "outputs": [],
   "source": [
    "insertion = procedures.insert().values([\n",
    "    {'pet_id': 8, 'veterinarian': 4},\n",
    "    {'pet_id': 4, 'veterinarian': 4},\n",
    "    {'pet_id': 11, 'veterinarian': 3},\n",
    "    {'pet_id': 1, 'veterinarian': 4},\n",
    "    {'pet_id': 7, 'veterinarian': 3},\n",
    "    {'pet_id': 9, 'veterinarian': 1},\n",
    "    {'pet_id': 14, 'veterinarian': 2},\n",
    "    {'pet_id': 2, 'veterinarian': 2},\n",
    "    {'pet_id': 5, 'veterinarian': 1},\n",
    "    {'pet_id': 10, 'veterinarian': 2},\n",
    "    {'pet_id': 3, 'veterinarian': 3},\n",
    "    {'pet_id': 13, 'veterinarian': 1},\n",
    "    {'pet_id': 15, 'veterinarian': 3},\n",
    "    {'pet_id': 12, 'veterinarian': 4},\n",
    "    {'pet_id': 6, 'veterinarian': 2},\n",
    "    {'pet_id': 1, 'veterinarian': 1},\n",
    "    {'pet_id': 2, 'veterinarian': 1},\n",
    "    {'pet_id': 3, 'veterinarian': 2},\n",
    "    {'pet_id': 5, 'veterinarian': 4},\n",
    "    {'pet_id': 4, 'veterinarian': 3}\n",
    "])\n",
    "conn.execute(insertion)\n",
    "conn.commit()"
   ],
   "metadata": {
    "collapsed": false,
    "ExecuteTime": {
     "end_time": "2024-03-04T17:36:24.393647700Z",
     "start_time": "2024-03-04T17:36:24.367644Z"
    }
   },
   "id": "db0c778149fc4235"
  },
  {
   "cell_type": "code",
   "execution_count": 21,
   "outputs": [
    {
     "data": {
      "text/plain": "[(1, 8, 4),\n (2, 4, 4),\n (3, 11, 3),\n (4, 1, 4),\n (5, 7, 3),\n (6, 9, 1),\n (7, 14, 2),\n (8, 2, 2),\n (9, 5, 1),\n (10, 10, 2),\n (11, 3, 3),\n (12, 13, 1),\n (13, 15, 3),\n (14, 12, 4),\n (15, 6, 2),\n (16, 1, 1),\n (17, 2, 1),\n (18, 3, 2),\n (19, 5, 4),\n (20, 4, 3)]"
     },
     "execution_count": 21,
     "metadata": {},
     "output_type": "execute_result"
    }
   ],
   "source": [
    "select_procedures = conn.execute(procedures.select())\n",
    "select_procedures.fetchall()"
   ],
   "metadata": {
    "collapsed": false,
    "ExecuteTime": {
     "end_time": "2024-03-04T17:36:26.001200600Z",
     "start_time": "2024-03-04T17:36:25.952162500Z"
    }
   },
   "id": "a56aaa27d4c819a8"
  },
  {
   "cell_type": "code",
   "execution_count": 28,
   "outputs": [
    {
     "name": "stdout",
     "output_type": "stream",
     "text": [
      "All people: [('Alice', 'Smith'), ('Bob', 'Johnson'), ('Charlie', 'Brown'), ('David', 'Wilson'), ('Emily', 'Williams'), ('Eva', 'Miller'), ('Frank', 'Jones'), ('Grace', 'Taylor'), ('Harry', 'Anderson'), ('Ivy', 'Clark'), ('Jack', 'Davis'), ('Jane', 'Smith'), ('Michael', 'Jones'), ('Robert', 'Johnson')]\n",
      "Total length of all people (10 owners + 4 veterinarians): 14\n"
     ]
    }
   ],
   "source": [
    "select_people = conn.execute(db.select(owners.c.first_name, owners.c.last_name).union(db.select(veterinarians.c.first_name, veterinarians.c.last_name)))\n",
    "people = select_people.fetchall()\n",
    "print(f'All people: {people}')\n",
    "print(f'Total length of all people (10 owners + 4 veterinarians): {len(people)}')"
   ],
   "metadata": {
    "collapsed": false,
    "ExecuteTime": {
     "end_time": "2024-03-04T17:45:10.879610800Z",
     "start_time": "2024-03-04T17:45:10.864612200Z"
    }
   },
   "id": "2855051a9f734546"
  },
  {
   "cell_type": "code",
   "execution_count": 37,
   "outputs": [
    {
     "name": "stdout",
     "output_type": "stream",
     "text": [
      "[('cat', 6), ('dog', 6)]\n"
     ]
    }
   ],
   "source": [
    "# Select statement with group and having\n",
    "# Count all dogs and cats\n",
    "cats_and_dogs = conn.execute(db.select(pets.c.type, func.count(pets.c.id)).group_by(pets.c.type).having(pets.c.type.in_(['cat', 'dog']))).all()\n",
    "print(cats_and_dogs)"
   ],
   "metadata": {
    "collapsed": false,
    "ExecuteTime": {
     "end_time": "2024-03-04T17:58:50.485029200Z",
     "start_time": "2024-03-04T17:58:50.473030400Z"
    }
   },
   "id": "a527a86bf1d2a058"
  },
  {
   "cell_type": "code",
   "execution_count": 45,
   "outputs": [
    {
     "name": "stdout",
     "output_type": "stream",
     "text": [
      "[('Buddy', 'dog', 'Bob', 'Johnson'), ('Whiskers', 'cat', 'David', 'Wilson'), ('Rocky', 'dog', 'Alice', 'Smith'), ('Turtle', 'turtle', 'Frank', 'Jones'), ('Mittens', 'cat', 'Charlie', 'Brown'), ('Charlie', 'dog', 'Eva', 'Miller'), ('Fluffy', 'cat', 'Grace', 'Taylor'), ('Spike', 'dog', 'Harry', 'Anderson'), ('Tigger', 'cat', 'Ivy', 'Clark'), ('baby pig', 'piggy', 'Jack', 'Davis'), ('Max', 'dog', 'Alice', 'Smith'), ('Luna', 'cat', 'Bob', 'Johnson'), ('Oscar', 'dog', 'David', 'Wilson'), ('Gizmo', 'turtle', 'Charlie', 'Brown'), ('Milo', 'cat', 'Eva', 'Miller')]\n"
     ]
    }
   ],
   "source": [
    "# Inner join\n",
    "select_join = conn.execute(db.select(pets.c.name, pets.c.type, owners.c.first_name, owners.c.last_name).select_from(pets.join(owners, pets.c.owner_id == owners.c.id))).all()\n",
    "print(select_join)"
   ],
   "metadata": {
    "collapsed": false,
    "ExecuteTime": {
     "end_time": "2024-03-04T18:10:15.860905400Z",
     "start_time": "2024-03-04T18:10:15.846910200Z"
    }
   },
   "id": "d119e867cff9373c"
  },
  {
   "cell_type": "code",
   "execution_count": 43,
   "outputs": [],
   "source": [
    "# Insert pets with owners id not in db to test left join\n",
    "insertion = pets.insert().values([\n",
    "    {'name': 'Sparky', 'type': 'dog', 'owner_id': 15},\n",
    "    {'name': 'Eya', 'type': 'cat', 'owner_id': 16},\n",
    "])\n",
    "conn.execute(insertion)\n",
    "conn.commit()"
   ],
   "metadata": {
    "collapsed": false,
    "ExecuteTime": {
     "end_time": "2024-03-04T18:08:40.487212100Z",
     "start_time": "2024-03-04T18:08:40.448177Z"
    }
   },
   "id": "c7125c7fe046186f"
  },
  {
   "cell_type": "code",
   "execution_count": 44,
   "outputs": [
    {
     "name": "stdout",
     "output_type": "stream",
     "text": [
      "[('Buddy', 'dog', 'Bob', 'Johnson'), ('Whiskers', 'cat', 'David', 'Wilson'), ('Rocky', 'dog', 'Alice', 'Smith'), ('Turtle', 'turtle', 'Frank', 'Jones'), ('Mittens', 'cat', 'Charlie', 'Brown'), ('Charlie', 'dog', 'Eva', 'Miller'), ('Fluffy', 'cat', 'Grace', 'Taylor'), ('Spike', 'dog', 'Harry', 'Anderson'), ('Tigger', 'cat', 'Ivy', 'Clark'), ('baby pig', 'piggy', 'Jack', 'Davis'), ('Max', 'dog', 'Alice', 'Smith'), ('Luna', 'cat', 'Bob', 'Johnson'), ('Oscar', 'dog', 'David', 'Wilson'), ('Gizmo', 'turtle', 'Charlie', 'Brown'), ('Milo', 'cat', 'Eva', 'Miller'), ('Sparky', 'dog', None, None), ('Eya', 'cat', None, None)]\n"
     ]
    }
   ],
   "source": [
    "# Left join on pets\n",
    "select_join = conn.execute(db.select(pets.c.name, pets.c.type, owners.c.first_name, owners.c.last_name).select_from(pets.outerjoin(owners, pets.c.owner_id == owners.c.id))).all()\n",
    "print(select_join)"
   ],
   "metadata": {
    "collapsed": false,
    "ExecuteTime": {
     "end_time": "2024-03-04T18:08:54.845744700Z",
     "start_time": "2024-03-04T18:08:54.779715100Z"
    }
   },
   "id": "b1d91302005cae75"
  },
  {
   "cell_type": "code",
   "execution_count": 63,
   "outputs": [
    {
     "name": "stdout",
     "output_type": "stream",
     "text": [
      "[('Buddy', 'dog', 'Bob', 'Johnson'), ('Luna', 'cat', 'Bob', 'Johnson')]\n"
     ]
    }
   ],
   "source": [
    "# Using subquery\n",
    "subquery = db.select(owners.c.id).where(owners.c.first_name.in_(['Bob'])).scalar_subquery()\n",
    "bobs_animals = conn.execute(db.select(pets.c.name, pets.c.type, owners.c.first_name, owners.c.last_name).select_from(pets.join(owners, pets.c.owner_id == owners.c.id)).filter(pets.c.owner_id.in_(subquery))).all()\n",
    "print(bobs_animals)"
   ],
   "metadata": {
    "collapsed": false,
    "ExecuteTime": {
     "end_time": "2024-03-04T18:24:36.152503200Z",
     "start_time": "2024-03-04T18:24:36.084469300Z"
    }
   },
   "id": "321a56f2a1b0ced9"
  }
 ],
 "metadata": {
  "kernelspec": {
   "display_name": "Python 3",
   "language": "python",
   "name": "python3"
  },
  "language_info": {
   "codemirror_mode": {
    "name": "ipython",
    "version": 2
   },
   "file_extension": ".py",
   "mimetype": "text/x-python",
   "name": "python",
   "nbconvert_exporter": "python",
   "pygments_lexer": "ipython2",
   "version": "2.7.6"
  }
 },
 "nbformat": 4,
 "nbformat_minor": 5
}
