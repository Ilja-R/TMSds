{
 "cells": [
  {
   "cell_type": "code",
   "execution_count": 1,
   "outputs": [
    {
     "data": {
      "text/plain": "     PassengerId  Survived  Pclass                                      Name  \\\n881          882         0       3                        Markun, Mr. Johann   \n882          883         0       3              Dahlberg, Miss. Gerda Ulrika   \n883          884         0       2             Banfield, Mr. Frederick James   \n884          885         0       3                    Sutehall, Mr. Henry Jr   \n885          886         0       3      Rice, Mrs. William (Margaret Norton)   \n886          887         0       2                     Montvila, Rev. Juozas   \n887          888         1       1              Graham, Miss. Margaret Edith   \n888          889         0       3  Johnston, Miss. Catherine Helen \"Carrie\"   \n889          890         1       1                     Behr, Mr. Karl Howell   \n890          891         0       3                       Dooley, Mr. Patrick   \n\n        Sex   Age  SibSp  Parch            Ticket     Fare Cabin Embarked  \n881    male  33.0      0      0            349257   7.8958   NaN        S  \n882  female  22.0      0      0              7552  10.5167   NaN        S  \n883    male  28.0      0      0  C.A./SOTON 34068  10.5000   NaN        S  \n884    male  25.0      0      0   SOTON/OQ 392076   7.0500   NaN        S  \n885  female  39.0      0      5            382652  29.1250   NaN        Q  \n886    male  27.0      0      0            211536  13.0000   NaN        S  \n887  female  19.0      0      0            112053  30.0000   B42        S  \n888  female   NaN      1      2        W./C. 6607  23.4500   NaN        S  \n889    male  26.0      0      0            111369  30.0000  C148        C  \n890    male  32.0      0      0            370376   7.7500   NaN        Q  ",
      "text/html": "<div>\n<style scoped>\n    .dataframe tbody tr th:only-of-type {\n        vertical-align: middle;\n    }\n\n    .dataframe tbody tr th {\n        vertical-align: top;\n    }\n\n    .dataframe thead th {\n        text-align: right;\n    }\n</style>\n<table border=\"1\" class=\"dataframe\">\n  <thead>\n    <tr style=\"text-align: right;\">\n      <th></th>\n      <th>PassengerId</th>\n      <th>Survived</th>\n      <th>Pclass</th>\n      <th>Name</th>\n      <th>Sex</th>\n      <th>Age</th>\n      <th>SibSp</th>\n      <th>Parch</th>\n      <th>Ticket</th>\n      <th>Fare</th>\n      <th>Cabin</th>\n      <th>Embarked</th>\n    </tr>\n  </thead>\n  <tbody>\n    <tr>\n      <th>881</th>\n      <td>882</td>\n      <td>0</td>\n      <td>3</td>\n      <td>Markun, Mr. Johann</td>\n      <td>male</td>\n      <td>33.0</td>\n      <td>0</td>\n      <td>0</td>\n      <td>349257</td>\n      <td>7.8958</td>\n      <td>NaN</td>\n      <td>S</td>\n    </tr>\n    <tr>\n      <th>882</th>\n      <td>883</td>\n      <td>0</td>\n      <td>3</td>\n      <td>Dahlberg, Miss. Gerda Ulrika</td>\n      <td>female</td>\n      <td>22.0</td>\n      <td>0</td>\n      <td>0</td>\n      <td>7552</td>\n      <td>10.5167</td>\n      <td>NaN</td>\n      <td>S</td>\n    </tr>\n    <tr>\n      <th>883</th>\n      <td>884</td>\n      <td>0</td>\n      <td>2</td>\n      <td>Banfield, Mr. Frederick James</td>\n      <td>male</td>\n      <td>28.0</td>\n      <td>0</td>\n      <td>0</td>\n      <td>C.A./SOTON 34068</td>\n      <td>10.5000</td>\n      <td>NaN</td>\n      <td>S</td>\n    </tr>\n    <tr>\n      <th>884</th>\n      <td>885</td>\n      <td>0</td>\n      <td>3</td>\n      <td>Sutehall, Mr. Henry Jr</td>\n      <td>male</td>\n      <td>25.0</td>\n      <td>0</td>\n      <td>0</td>\n      <td>SOTON/OQ 392076</td>\n      <td>7.0500</td>\n      <td>NaN</td>\n      <td>S</td>\n    </tr>\n    <tr>\n      <th>885</th>\n      <td>886</td>\n      <td>0</td>\n      <td>3</td>\n      <td>Rice, Mrs. William (Margaret Norton)</td>\n      <td>female</td>\n      <td>39.0</td>\n      <td>0</td>\n      <td>5</td>\n      <td>382652</td>\n      <td>29.1250</td>\n      <td>NaN</td>\n      <td>Q</td>\n    </tr>\n    <tr>\n      <th>886</th>\n      <td>887</td>\n      <td>0</td>\n      <td>2</td>\n      <td>Montvila, Rev. Juozas</td>\n      <td>male</td>\n      <td>27.0</td>\n      <td>0</td>\n      <td>0</td>\n      <td>211536</td>\n      <td>13.0000</td>\n      <td>NaN</td>\n      <td>S</td>\n    </tr>\n    <tr>\n      <th>887</th>\n      <td>888</td>\n      <td>1</td>\n      <td>1</td>\n      <td>Graham, Miss. Margaret Edith</td>\n      <td>female</td>\n      <td>19.0</td>\n      <td>0</td>\n      <td>0</td>\n      <td>112053</td>\n      <td>30.0000</td>\n      <td>B42</td>\n      <td>S</td>\n    </tr>\n    <tr>\n      <th>888</th>\n      <td>889</td>\n      <td>0</td>\n      <td>3</td>\n      <td>Johnston, Miss. Catherine Helen \"Carrie\"</td>\n      <td>female</td>\n      <td>NaN</td>\n      <td>1</td>\n      <td>2</td>\n      <td>W./C. 6607</td>\n      <td>23.4500</td>\n      <td>NaN</td>\n      <td>S</td>\n    </tr>\n    <tr>\n      <th>889</th>\n      <td>890</td>\n      <td>1</td>\n      <td>1</td>\n      <td>Behr, Mr. Karl Howell</td>\n      <td>male</td>\n      <td>26.0</td>\n      <td>0</td>\n      <td>0</td>\n      <td>111369</td>\n      <td>30.0000</td>\n      <td>C148</td>\n      <td>C</td>\n    </tr>\n    <tr>\n      <th>890</th>\n      <td>891</td>\n      <td>0</td>\n      <td>3</td>\n      <td>Dooley, Mr. Patrick</td>\n      <td>male</td>\n      <td>32.0</td>\n      <td>0</td>\n      <td>0</td>\n      <td>370376</td>\n      <td>7.7500</td>\n      <td>NaN</td>\n      <td>Q</td>\n    </tr>\n  </tbody>\n</table>\n</div>"
     },
     "execution_count": 1,
     "metadata": {},
     "output_type": "execute_result"
    }
   ],
   "source": [
    "import pandas as pd\n",
    "df = pd.read_csv(\"titanic/train.csv\")\n",
    "df.tail(10)"
   ],
   "metadata": {
    "collapsed": false,
    "ExecuteTime": {
     "end_time": "2024-02-26T19:51:55.329144Z",
     "start_time": "2024-02-26T19:51:55.011211Z"
    }
   },
   "id": "f554e8bbbcb1078b"
  },
  {
   "cell_type": "code",
   "execution_count": 2,
   "outputs": [
    {
     "data": {
      "text/plain": "count    891.000000\nmean      32.204208\nmin        0.000000\nmax      512.329200\nName: Fare, dtype: float64"
     },
     "execution_count": 2,
     "metadata": {},
     "output_type": "execute_result"
    }
   ],
   "source": [
    "# Общие данные по Fare \n",
    "df['Fare'].agg([\"count\", \"mean\", \"min\", \"max\"])"
   ],
   "metadata": {
    "collapsed": false,
    "ExecuteTime": {
     "end_time": "2024-02-26T19:51:55.329365Z",
     "start_time": "2024-02-26T19:51:55.325572Z"
    }
   },
   "id": "894ab12283ede469"
  },
  {
   "cell_type": "code",
   "execution_count": 3,
   "outputs": [
    {
     "data": {
      "text/plain": "count    876.00000\nmean      32.75565\nmin        4.01250\nmax      512.32920\nName: Fare, dtype: float64"
     },
     "execution_count": 3,
     "metadata": {},
     "output_type": "execute_result"
    }
   ],
   "source": [
    "# Исключить данные где fare равен 0. Члены экипажа?\n",
    "non_zero_fare = df.query('Fare != 0')\n",
    "non_zero_fare_statistics = non_zero_fare['Fare'].agg([\"count\", \"mean\", \"min\", \"max\"])\n",
    "non_zero_fare_statistics"
   ],
   "metadata": {
    "collapsed": false,
    "ExecuteTime": {
     "end_time": "2024-02-26T19:51:55.345427Z",
     "start_time": "2024-02-26T19:51:55.330358Z"
    }
   },
   "id": "cdd38b7e482c1b06"
  },
  {
   "cell_type": "code",
   "execution_count": 4,
   "outputs": [
    {
     "data": {
      "text/plain": "count    562.000000\nmean      26.205136\nmin        4.012500\nmax      512.329200\nName: Fare, dtype: float64"
     },
     "execution_count": 4,
     "metadata": {},
     "output_type": "execute_result"
    }
   ],
   "source": [
    "# По полу - мужчины\n",
    "non_zero_fare['Fare'][df.Sex == \"male\"].agg([\"count\", \"mean\", \"min\", \"max\"])"
   ],
   "metadata": {
    "collapsed": false,
    "ExecuteTime": {
     "end_time": "2024-02-26T19:51:55.345590Z",
     "start_time": "2024-02-26T19:51:55.334886Z"
    }
   },
   "id": "5d7e48eb9b0d973c"
  },
  {
   "cell_type": "code",
   "execution_count": 5,
   "outputs": [
    {
     "data": {
      "text/plain": "count    314.000000\nmean      44.479818\nmin        6.750000\nmax      512.329200\nName: Fare, dtype: float64"
     },
     "execution_count": 5,
     "metadata": {},
     "output_type": "execute_result"
    }
   ],
   "source": [
    "# По полу - женщины\n",
    "non_zero_fare['Fare'][df.Sex == \"female\"].agg([\"count\", \"mean\", \"min\", \"max\"])"
   ],
   "metadata": {
    "collapsed": false,
    "ExecuteTime": {
     "end_time": "2024-02-26T19:51:55.353536Z",
     "start_time": "2024-02-26T19:51:55.340002Z"
    }
   },
   "id": "b9becbbf1165ef1f"
  },
  {
   "cell_type": "code",
   "execution_count": 6,
   "outputs": [
    {
     "data": {
      "text/plain": "          Fare                                    \n         count median     min       max       mean\nEmbarked                                          \nC          168  29.70  4.0125  512.3292  59.954144\nQ           77   7.75  6.7500   90.0000  13.276030\nS          629  13.00  5.0000  263.0000  27.725594",
      "text/html": "<div>\n<style scoped>\n    .dataframe tbody tr th:only-of-type {\n        vertical-align: middle;\n    }\n\n    .dataframe tbody tr th {\n        vertical-align: top;\n    }\n\n    .dataframe thead tr th {\n        text-align: left;\n    }\n\n    .dataframe thead tr:last-of-type th {\n        text-align: right;\n    }\n</style>\n<table border=\"1\" class=\"dataframe\">\n  <thead>\n    <tr>\n      <th></th>\n      <th colspan=\"5\" halign=\"left\">Fare</th>\n    </tr>\n    <tr>\n      <th></th>\n      <th>count</th>\n      <th>median</th>\n      <th>min</th>\n      <th>max</th>\n      <th>mean</th>\n    </tr>\n    <tr>\n      <th>Embarked</th>\n      <th></th>\n      <th></th>\n      <th></th>\n      <th></th>\n      <th></th>\n    </tr>\n  </thead>\n  <tbody>\n    <tr>\n      <th>C</th>\n      <td>168</td>\n      <td>29.70</td>\n      <td>4.0125</td>\n      <td>512.3292</td>\n      <td>59.954144</td>\n    </tr>\n    <tr>\n      <th>Q</th>\n      <td>77</td>\n      <td>7.75</td>\n      <td>6.7500</td>\n      <td>90.0000</td>\n      <td>13.276030</td>\n    </tr>\n    <tr>\n      <th>S</th>\n      <td>629</td>\n      <td>13.00</td>\n      <td>5.0000</td>\n      <td>263.0000</td>\n      <td>27.725594</td>\n    </tr>\n  </tbody>\n</table>\n</div>"
     },
     "execution_count": 6,
     "metadata": {},
     "output_type": "execute_result"
    }
   ],
   "source": [
    "# C = Cherbourg; Q = Queenstown; S = Southampton\n",
    "# Стоимость билета в зависимости от порта, в котором заходили. Исключены значения, где fare = 0\n",
    "df[[\"Fare\", \"Embarked\"]][df.Fare > 0].groupby(\"Embarked\").agg({\"Fare\" : [\"count\", \"median\", \"min\", \"max\", \"mean\"]})"
   ],
   "metadata": {
    "collapsed": false,
    "ExecuteTime": {
     "end_time": "2024-02-26T19:51:55.362999Z",
     "start_time": "2024-02-26T19:51:55.345154Z"
    }
   },
   "id": "c38c0a0ae1f42907"
  },
  {
   "cell_type": "markdown",
   "source": [
    "Добавление своей группировки Утверждение - люди с более высокой стоимостью билета имели более высокий шанс выжить\n",
    "Предпосылки - палубы распологаются выше и ближе к шлюпкам, меньше людей на этаже, возможно лучшее отношение"
   ],
   "metadata": {
    "collapsed": false
   },
   "id": "362c3376130e1efc"
  },
  {
   "cell_type": "code",
   "execution_count": 7,
   "outputs": [
    {
     "data": {
      "text/plain": "          Fare           \n         count       mean\nSurvived                 \n0          535  22.696673\n1          341  48.537330",
      "text/html": "<div>\n<style scoped>\n    .dataframe tbody tr th:only-of-type {\n        vertical-align: middle;\n    }\n\n    .dataframe tbody tr th {\n        vertical-align: top;\n    }\n\n    .dataframe thead tr th {\n        text-align: left;\n    }\n\n    .dataframe thead tr:last-of-type th {\n        text-align: right;\n    }\n</style>\n<table border=\"1\" class=\"dataframe\">\n  <thead>\n    <tr>\n      <th></th>\n      <th colspan=\"2\" halign=\"left\">Fare</th>\n    </tr>\n    <tr>\n      <th></th>\n      <th>count</th>\n      <th>mean</th>\n    </tr>\n    <tr>\n      <th>Survived</th>\n      <th></th>\n      <th></th>\n    </tr>\n  </thead>\n  <tbody>\n    <tr>\n      <th>0</th>\n      <td>535</td>\n      <td>22.696673</td>\n    </tr>\n    <tr>\n      <th>1</th>\n      <td>341</td>\n      <td>48.537330</td>\n    </tr>\n  </tbody>\n</table>\n</div>"
     },
     "execution_count": 7,
     "metadata": {},
     "output_type": "execute_result"
    }
   ],
   "source": [
    "df[[\"Fare\", \"Survived\"]][df.Fare > 0].groupby(\"Survived\").agg({\"Fare\" : [\"count\", \"mean\"]})"
   ],
   "metadata": {
    "collapsed": false,
    "ExecuteTime": {
     "end_time": "2024-02-26T19:51:55.365996Z",
     "start_time": "2024-02-26T19:51:55.353457Z"
    }
   },
   "id": "9d7d575256bf5a78"
  },
  {
   "cell_type": "markdown",
   "source": [
    "С высокой вероятностью данные подтверждаются, добавим группировку по полу"
   ],
   "metadata": {
    "collapsed": false
   },
   "id": "135ab2e38528633b"
  },
  {
   "cell_type": "code",
   "execution_count": 8,
   "outputs": [
    {
     "data": {
      "text/plain": "                 Fare           \n                count       mean\nSex    Survived                 \nfemale 0           81  23.024385\n       1          233  51.938573\nmale   0          454  22.638204\n       1          108  41.199461",
      "text/html": "<div>\n<style scoped>\n    .dataframe tbody tr th:only-of-type {\n        vertical-align: middle;\n    }\n\n    .dataframe tbody tr th {\n        vertical-align: top;\n    }\n\n    .dataframe thead tr th {\n        text-align: left;\n    }\n\n    .dataframe thead tr:last-of-type th {\n        text-align: right;\n    }\n</style>\n<table border=\"1\" class=\"dataframe\">\n  <thead>\n    <tr>\n      <th></th>\n      <th></th>\n      <th colspan=\"2\" halign=\"left\">Fare</th>\n    </tr>\n    <tr>\n      <th></th>\n      <th></th>\n      <th>count</th>\n      <th>mean</th>\n    </tr>\n    <tr>\n      <th>Sex</th>\n      <th>Survived</th>\n      <th></th>\n      <th></th>\n    </tr>\n  </thead>\n  <tbody>\n    <tr>\n      <th rowspan=\"2\" valign=\"top\">female</th>\n      <th>0</th>\n      <td>81</td>\n      <td>23.024385</td>\n    </tr>\n    <tr>\n      <th>1</th>\n      <td>233</td>\n      <td>51.938573</td>\n    </tr>\n    <tr>\n      <th rowspan=\"2\" valign=\"top\">male</th>\n      <th>0</th>\n      <td>454</td>\n      <td>22.638204</td>\n    </tr>\n    <tr>\n      <th>1</th>\n      <td>108</td>\n      <td>41.199461</td>\n    </tr>\n  </tbody>\n</table>\n</div>"
     },
     "execution_count": 8,
     "metadata": {},
     "output_type": "execute_result"
    }
   ],
   "source": [
    "df[[\"Fare\", \"Survived\", \"Sex\"]][df.Fare > 0].groupby([\"Sex\",\"Survived\"]).agg({\"Fare\" : [\"count\", \"mean\"]})"
   ],
   "metadata": {
    "collapsed": false,
    "ExecuteTime": {
     "end_time": "2024-02-26T19:51:55.404622Z",
     "start_time": "2024-02-26T19:51:55.358216Z"
    }
   },
   "id": "c927ea53c86fd3e"
  },
  {
   "cell_type": "markdown",
   "source": [
    "Данные также подтверждают данные утверждения. Данная статистика может помочь в проектировании судна\n",
    "и повышении безопасности людей с более дешевыми билетами (на тех палубах, где стоимость билета ниже)."
   ],
   "metadata": {
    "collapsed": false
   },
   "id": "c619dc90a88bef24"
  }
 ],
 "metadata": {
  "kernelspec": {
   "display_name": "Python 3",
   "language": "python",
   "name": "python3"
  },
  "language_info": {
   "codemirror_mode": {
    "name": "ipython",
    "version": 2
   },
   "file_extension": ".py",
   "mimetype": "text/x-python",
   "name": "python",
   "nbconvert_exporter": "python",
   "pygments_lexer": "ipython2",
   "version": "2.7.6"
  }
 },
 "nbformat": 4,
 "nbformat_minor": 5
}
