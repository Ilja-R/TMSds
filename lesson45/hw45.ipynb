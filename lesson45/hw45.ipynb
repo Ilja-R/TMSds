{
 "cells": [
  {
   "metadata": {
    "ExecuteTime": {
     "end_time": "2024-08-23T10:05:58.858829Z",
     "start_time": "2024-08-23T10:05:58.746982Z"
    }
   },
   "cell_type": "code",
   "source": "from downloader import FileDownloader",
   "id": "8bf691d3c7364d09",
   "outputs": [],
   "execution_count": 1
  },
  {
   "metadata": {
    "ExecuteTime": {
     "end_time": "2024-08-23T10:05:58.864811Z",
     "start_time": "2024-08-23T10:05:58.860844Z"
    }
   },
   "cell_type": "code",
   "source": [
    "DOWNLOAD_HAM = [\"https://spamassassin.apache.org/old/publiccorpus/20030228_easy_ham.tar.bz2\",\n",
    "                \"https://spamassassin.apache.org/old/publiccorpus/20030228_easy_ham_2.tar.bz2\",\n",
    "                \"https://spamassassin.apache.org/old/publiccorpus/20030228_hard_ham.tar.bz2\"]\n",
    "\n",
    "DOWNLOAD_SPAM = [\"https://spamassassin.apache.org/old/publiccorpus/20050311_spam_2.tar.bz2\",\n",
    "                 \"https://spamassassin.apache.org/old/publiccorpus/20030228_spam.tar.bz2\"]"
   ],
   "id": "initial_id",
   "outputs": [],
   "execution_count": 2
  },
  {
   "metadata": {
    "ExecuteTime": {
     "end_time": "2024-08-23T10:06:03.975930Z",
     "start_time": "2024-08-23T10:06:00.113406Z"
    }
   },
   "cell_type": "code",
   "source": [
    "# NB!!! This uses async calls, if encounter \"RuntimeError: Session is closed\" might need to restart the kernel\n",
    "downloader = FileDownloader()\n",
    "\n",
    "# NB!!! pycharm might give a warning about the await call, but it's fine\n",
    "await downloader.download_from_urls(DOWNLOAD_HAM + DOWNLOAD_SPAM)"
   ],
   "id": "7e7301b37f7c7048",
   "outputs": [
    {
     "name": "stdout",
     "output_type": "stream",
     "text": [
      "Downloading: 20030228_easy_ham.tar.bz2 from https://spamassassin.apache.org/old/publiccorpus/20030228_easy_ham.tar.bz2\n",
      "Downloading: 20030228_easy_ham_2.tar.bz2 from https://spamassassin.apache.org/old/publiccorpus/20030228_easy_ham_2.tar.bz2\n",
      "Downloading: 20030228_hard_ham.tar.bz2 from https://spamassassin.apache.org/old/publiccorpus/20030228_hard_ham.tar.bz2\n",
      "Downloading: 20050311_spam_2.tar.bz2 from https://spamassassin.apache.org/old/publiccorpus/20050311_spam_2.tar.bz2\n",
      "Downloading: 20030228_spam.tar.bz2 from https://spamassassin.apache.org/old/publiccorpus/20030228_spam.tar.bz2\n",
      "Downloaded:  20030228_hard_ham.tar.bz2\n",
      "Downloaded: 20030228_hard_ham.tar.bz2\n",
      "Extracting: 20030228_hard_ham.tar.bz2\n",
      "Downloaded:  20030228_easy_ham_2.tar.bz2\n",
      "Downloaded: 20030228_easy_ham_2.tar.bz2\n",
      "Extracting: 20030228_easy_ham_2.tar.bz2\n",
      "Downloaded:  20030228_spam.tar.bz2\n",
      "Downloaded: 20030228_spam.tar.bz2\n",
      "Extracting: 20030228_spam.tar.bz2\n",
      "Downloaded:  20050311_spam_2.tar.bz2\n",
      "Downloaded: 20050311_spam_2.tar.bz2\n",
      "Extracting: 20050311_spam_2.tar.bz2\n",
      "Downloaded:  20030228_easy_ham.tar.bz2\n",
      "Downloaded: 20030228_easy_ham.tar.bz2\n",
      "Extracting: 20030228_easy_ham.tar.bz2\n",
      "Extracted: 20030228_hard_ham.tar.bz2\n",
      "Extracted: 20030228_spam.tar.bz2\n",
      "Extracted: 20030228_easy_ham_2.tar.bz2\n",
      "Extracted: 20050311_spam_2.tar.bz2\n",
      "Extracted: 20030228_easy_ham.tar.bz2\n"
     ]
    }
   ],
   "execution_count": 3
  },
  {
   "metadata": {
    "ExecuteTime": {
     "end_time": "2024-08-23T10:06:12.703845Z",
     "start_time": "2024-08-23T10:06:08.051864Z"
    }
   },
   "cell_type": "code",
   "source": [
    "import os\n",
    "import pandas as pd\n",
    "\n",
    "# Get the current working directory\n",
    "root_dir = os.getcwd()\n",
    "\n",
    "# Create an empty DataFrame\n",
    "data = pd.DataFrame(columns=['content', 'status'])\n",
    "\n",
    "# Iterate over each folder in the root directory\n",
    "for folder_name in os.listdir(root_dir):\n",
    "    folder_path = os.path.join(root_dir, folder_name)\n",
    "    \n",
    "    # Check if it is indeed a folder\n",
    "    if os.path.isdir(folder_path):\n",
    "        # Determine if the folder is \"ham\" or \"spam\" based on the folder name\n",
    "        if 'ham' in folder_name:\n",
    "            status = 'ham'\n",
    "        elif 'spam' in folder_name:\n",
    "            status = 'spam'\n",
    "        else:\n",
    "            continue  # Skip folders that do not match \"ham\" or \"spam\"\n",
    "        \n",
    "        # Iterate over each file in the folder\n",
    "        for file_name in os.listdir(folder_path):\n",
    "            file_path = os.path.join(folder_path, file_name)\n",
    "            \n",
    "            # Ensure it's a file before trying to read it\n",
    "            if os.path.isfile(file_path):\n",
    "                with open(file_path, 'r', encoding='utf-8', errors='ignore') as file:\n",
    "                    content = file.read()\n",
    "                    # Create a DataFrame for the new row\n",
    "                    new_row = pd.DataFrame({'content': [content], 'status': [status]})\n",
    "                    # Concatenate the new row to the main DataFrame\n",
    "                    data = pd.concat([data, new_row], ignore_index=True)\n",
    "\n",
    "# Display the DataFrame\n",
    "print(data)\n"
   ],
   "id": "353a722dbb1646fe",
   "outputs": [
    {
     "name": "stdout",
     "output_type": "stream",
     "text": [
      "                                                content status\n",
      "0     From exmh-workers-admin@redhat.com  Thu Aug 22...    ham\n",
      "1     From Steve_Burt@cursor-system.com  Thu Aug 22 ...    ham\n",
      "2     From timc@2ubh.com  Thu Aug 22 13:52:59 2002\\n...    ham\n",
      "3     From irregulars-admin@tb.tf  Thu Aug 22 14:23:...    ham\n",
      "4     From Stewart.Smith@ee.ed.ac.uk  Thu Aug 22 14:...    ham\n",
      "...                                                 ...    ...\n",
      "6046  From tba@insiq.us  Wed Dec  4 11:46:34 2002\\nR...   spam\n",
      "6047  Return-Path: <raye@yahoo.lv>\\nReceived: from u...   spam\n",
      "6048  From cweqx@dialix.oz.au  Tue Aug  6 11:03:54 2...   spam\n",
      "6049  From ilug-admin@linux.ie  Wed Dec  4 11:52:36 ...   spam\n",
      "6050  mv 00001.317e78fa8ee2f54cd4890fdc09ba8176 0000...   spam\n",
      "\n",
      "[6051 rows x 2 columns]\n"
     ]
    }
   ],
   "execution_count": 4
  },
  {
   "metadata": {
    "ExecuteTime": {
     "end_time": "2024-08-23T10:06:13.607537Z",
     "start_time": "2024-08-23T10:06:12.704855Z"
    }
   },
   "cell_type": "code",
   "source": "from textprocessor import TextPreprocessor",
   "id": "d46279d12c5999f8",
   "outputs": [],
   "execution_count": 5
  },
  {
   "metadata": {
    "ExecuteTime": {
     "end_time": "2024-08-23T10:06:39.535763Z",
     "start_time": "2024-08-23T10:06:13.609542Z"
    }
   },
   "cell_type": "code",
   "source": [
    "text_processor = TextPreprocessor()\n",
    "data['processed_content'] = data['content'].apply(text_processor.preprocess)"
   ],
   "id": "d6b790bb735222f3",
   "outputs": [
    {
     "name": "stderr",
     "output_type": "stream",
     "text": [
      "[nltk_data] Downloading package stopwords to\n",
      "[nltk_data]     C:\\Users\\ilyar\\AppData\\Roaming\\nltk_data...\n",
      "[nltk_data]   Package stopwords is already up-to-date!\n",
      "[nltk_data] Downloading package punkt to\n",
      "[nltk_data]     C:\\Users\\ilyar\\AppData\\Roaming\\nltk_data...\n",
      "[nltk_data]   Package punkt is already up-to-date!\n",
      "[nltk_data] Downloading package wordnet to\n",
      "[nltk_data]     C:\\Users\\ilyar\\AppData\\Roaming\\nltk_data...\n",
      "[nltk_data]   Package wordnet is already up-to-date!\n",
      "[nltk_data] Downloading package punkt_tab to\n",
      "[nltk_data]     C:\\Users\\ilyar\\AppData\\Roaming\\nltk_data...\n",
      "[nltk_data]   Package punkt_tab is already up-to-date!\n"
     ]
    }
   ],
   "execution_count": 6
  },
  {
   "metadata": {
    "ExecuteTime": {
     "end_time": "2024-08-23T10:06:39.546091Z",
     "start_time": "2024-08-23T10:06:39.537771Z"
    }
   },
   "cell_type": "code",
   "source": "data['processed_content'][0]",
   "id": "f4bfb9705bf4b502",
   "outputs": [
    {
     "data": {
      "text/plain": [
       "'thu aug zzzz received localhost localhost postfix esmtp id zzzz localhost thu aug edt received phobos localhost imap zzzz localhost thu aug ist received esmtp id thu aug received postfix esmtp id thu aug edt received postfix esmtp id thu aug edt received mail localhost id thu aug received smtp id thu aug received smtp id thu aug received esmtp id thu aug ict received localhost esmtp id thu aug ict robert elz kre chris garrigues cc subject new sequence window reference sender precedence bulk mailto mailto http mailto discussion list exmh developer http mailto http date thu aug date wed aug chris garrigues ca reproduce error repeatable like every time without fail debug log pick happening exec pick ftp mercury exec pick ftp mercury hit marking hit tkerror syntax error expression int note run pick command hand delta pick ftp mercury hit hit come obviously version nmh using delta pick pick compiled sun mar ict relevant part delta mhparam pick sel since pick command work sequence actually one explicit command line search popup one come get created kre p still using version code form day ago able reach cv repository today local routing issue think mailing list http'"
      ]
     },
     "execution_count": 7,
     "metadata": {},
     "output_type": "execute_result"
    }
   ],
   "execution_count": 7
  },
  {
   "metadata": {
    "ExecuteTime": {
     "end_time": "2024-08-23T10:06:39.556675Z",
     "start_time": "2024-08-23T10:06:39.547098Z"
    }
   },
   "cell_type": "code",
   "source": [
    "from sklearn.feature_extraction.text import CountVectorizer, TfidfTransformer\n",
    "from sklearn.linear_model import LogisticRegression\n",
    "from sklearn.metrics import accuracy_score, classification_report, confusion_matrix\n",
    "from sklearn.model_selection import train_test_split\n"
   ],
   "id": "fb81a429d9167e",
   "outputs": [],
   "execution_count": 8
  },
  {
   "metadata": {
    "ExecuteTime": {
     "end_time": "2024-08-23T10:06:39.564595Z",
     "start_time": "2024-08-23T10:06:39.557680Z"
    }
   },
   "cell_type": "code",
   "source": [
    "X_train, X_test, y_train, y_test = train_test_split(data['processed_content'], data['status'], test_size=0.2,\n",
    "                                                    random_state=42)"
   ],
   "id": "ae70c6aedfc1caa5",
   "outputs": [],
   "execution_count": 9
  },
  {
   "metadata": {
    "ExecuteTime": {
     "end_time": "2024-08-23T10:06:41.193404Z",
     "start_time": "2024-08-23T10:06:39.565600Z"
    }
   },
   "cell_type": "code",
   "source": [
    "# Преобразование текстовых данных в векторы TF-IDF\n",
    "vectorizer = CountVectorizer()\n",
    "X_train_counts = vectorizer.fit_transform(X_train)\n",
    "\n",
    "tfidf_transformer = TfidfTransformer()\n",
    "X_train_tfidf = tfidf_transformer.fit_transform(X_train_counts)\n",
    "\n",
    "# Обучение модели логистической регрессии\n",
    "clf = LogisticRegression(max_iter=100)\n",
    "clf.fit(X_train_tfidf, y_train)\n",
    "\n",
    "# Преобразование тестовых данных в векторы TF-IDF\n",
    "X_test_counts = vectorizer.transform(X_test)\n",
    "X_test_tfidf = tfidf_transformer.transform(X_test_counts)\n",
    "\n",
    "# Предсказание меток для тестовых данных\n",
    "y_pred = clf.predict(X_test_tfidf)\n",
    "\n",
    "# Оценка точности модели\n",
    "accuracy = accuracy_score(y_test, y_pred)\n",
    "print(f\"Accuracy: {accuracy:.2f}\")\n",
    "\n",
    "# Вывод отчета о классификации и матрицы ошибок\n",
    "print(classification_report(y_test, y_pred))\n",
    "print(confusion_matrix(y_test, y_pred))"
   ],
   "id": "113cd1746ba42e6c",
   "outputs": [
    {
     "name": "stdout",
     "output_type": "stream",
     "text": [
      "Accuracy: 0.98\n",
      "              precision    recall  f1-score   support\n",
      "\n",
      "         ham       0.97      0.99      0.98       863\n",
      "        spam       0.98      0.94      0.96       348\n",
      "\n",
      "    accuracy                           0.98      1211\n",
      "   macro avg       0.98      0.97      0.97      1211\n",
      "weighted avg       0.98      0.98      0.98      1211\n",
      "\n",
      "[[858   5]\n",
      " [ 22 326]]\n"
     ]
    }
   ],
   "execution_count": 10
  },
  {
   "metadata": {},
   "cell_type": "code",
   "outputs": [],
   "execution_count": null,
   "source": "",
   "id": "956fc0e8242a64ff"
  }
 ],
 "metadata": {
  "kernelspec": {
   "display_name": "Python 3",
   "language": "python",
   "name": "python3"
  },
  "language_info": {
   "codemirror_mode": {
    "name": "ipython",
    "version": 2
   },
   "file_extension": ".py",
   "mimetype": "text/x-python",
   "name": "python",
   "nbconvert_exporter": "python",
   "pygments_lexer": "ipython2",
   "version": "2.7.6"
  }
 },
 "nbformat": 4,
 "nbformat_minor": 5
}
