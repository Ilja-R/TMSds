{
 "cells": [
  {
   "cell_type": "code",
   "execution_count": 1,
   "metadata": {
    "collapsed": false,
    "jupyter": {
     "outputs_hidden": false
    }
   },
   "outputs": [
    {
     "name": "stdout",
     "output_type": "stream",
     "text": [
      "1x^2 + (-12x) + 20 = 0 has solutions:\n",
      "x1 = 10.0\n",
      "x2 = 2.0\n",
      "\n",
      "1x^2 + (17x) + 72 = 0 has solutions:\n",
      "x1 = -8.0\n",
      "x2 = -9.0\n",
      "\n",
      "1x^2 + (-7x) + -44 = 0 has solutions:\n",
      "x1 = 11.0\n",
      "x2 = -4.0\n",
      "\n",
      "1x^2 + (9x) + 8 = 0 has solutions:\n",
      "x1 = -1.0\n",
      "x2 = -8.0\n",
      "\n",
      "1x^2 + 2x + 63 = 0 has no solutions\n",
      "1x^2 + (4x) + -5 = 0 has solutions:\n",
      "x1 = 1.0\n",
      "x2 = -5.0\n",
      "\n",
      "Answers for (x^2 - 8) + 4(x^2 - 8) - 5 = 0 are:\n",
      " 3.0\n",
      " -3.0\n",
      " 1.7320508075688772\n",
      " -1.7320508075688772\n"
     ]
    }
   ],
   "source": [
    "import math\n",
    "# Написать программу для решения уравнений\n",
    "# ax^2 + bx + c = 0\n",
    "\n",
    "def solve_equation(a, b, c):\n",
    "  d = b**2 - 4 * a * c\n",
    "  if d < 0:\n",
    "    return f'{a}x^2 + {b}x + {c} = 0 has no solutions'\n",
    "  if d == 0:\n",
    "    return f'{a}x^2 + {b}x + {c} = 0 has single solution {-b / (2 * a)}'\n",
    "  else:\n",
    "    x1 = (-b + math.sqrt(d)) / (2 * a)\n",
    "    x2 = (-b - math.sqrt(d)) / (2 * a)\n",
    "    return f'{a}x^2 + ({b}x) + {c} = 0 has solutions:\\nx1 = {x1}\\nx2 = {x2}'\n",
    "\n",
    "print(solve_equation(1, -12, 20))\n",
    "print()\n",
    "print(solve_equation(1, 17, 72))\n",
    "print()\n",
    "print(solve_equation(1, -7, -44))\n",
    "print()\n",
    "print(solve_equation(1, 9, 8))\n",
    "print()\n",
    "print(solve_equation(1, 2, 63))\n",
    "\n",
    "# solve (x^2 - 8) + 4(x^2 - 8) - 5 = 0\n",
    "print(solve_equation(1, 4, -5))\n",
    "print()\n",
    "# solutions are 1 and -5\n",
    "\n",
    "# x^2 - 8 = 1\n",
    "x1 = math.sqrt(1 + 8)\n",
    "x2 = -math.sqrt(1 + 8)\n",
    "\n",
    "# x^2 - 8 = -5\n",
    "x3 = math.sqrt(-5 + 8)\n",
    "x4 = -math.sqrt(-5 + 8)\n",
    "\n",
    "print(f'Answers for (x^2 - 8) + 4(x^2 - 8) - 5 = 0 are:\\n {x1}\\n {x2}\\n {x3}\\n {x4}')"
   ]
  },
  {
   "cell_type": "code",
   "execution_count": 2,
   "metadata": {
    "ExecuteTime": {
     "end_time": "2024-02-12T19:43:30.283586300Z",
     "start_time": "2024-02-12T19:43:30.228607Z"
    },
    "colab": {
     "base_uri": "https://localhost:8080/"
    },
    "executionInfo": {
     "elapsed": 250,
     "status": "ok",
     "timestamp": 1707343246538,
     "user": {
      "displayName": "Ilja Robalkin",
      "userId": "16959703137300629438"
     },
     "user_tz": -120
    },
    "id": "eQ86QmqcdY8Z",
    "outputId": "e1938738-2965-4319-e25c-a19657278af0"
   },
   "outputs": [
    {
     "name": "stdout",
     "output_type": "stream",
     "text": [
      "[5, 4, 3, 2, 1]\n",
      "[5, 4, 3, 2, 1]\n",
      "[5, 4, 3, 2, 1]\n"
     ]
    }
   ],
   "source": [
    "lst = [1, 2, 3, 4, 5]\n",
    "#Дан произвольный список. Представьте его в обратном порядке.\n",
    "\n",
    "# Pythonic way\n",
    "print(lst[::-1])\n",
    "\n",
    "# Very ineffective way, have to shift elements\n",
    "new_list = []\n",
    "for element in lst:\n",
    "  new_list.insert(0, element)\n",
    "print(new_list)\n",
    "\n",
    "# More effective but hard to read way\n",
    "new_list_2 = []\n",
    "for i in range(len(lst) - 1, -1, -1):\n",
    "  new_list_2.append(lst[i])\n",
    "print(new_list_2)\n"
   ]
  },
  {
   "cell_type": "code",
   "execution_count": 3,
   "metadata": {
    "ExecuteTime": {
     "end_time": "2024-02-12T19:43:30.294590900Z",
     "start_time": "2024-02-12T19:43:30.241606500Z"
    },
    "colab": {
     "base_uri": "https://localhost:8080/"
    },
    "executionInfo": {
     "elapsed": 214,
     "status": "ok",
     "timestamp": 1707342584324,
     "user": {
      "displayName": "Ilja Robalkin",
      "userId": "16959703137300629438"
     },
     "user_tz": -120
    },
    "id": "SL6oFiFydY-9",
    "outputId": "fcb7318d-8d8b-4d34-f363-a592cf182e98"
   },
   "outputs": [
    {
     "name": "stdout",
     "output_type": "stream",
     "text": [
      "[5, 2, 3, 4, 1]\n"
     ]
    }
   ],
   "source": [
    "lst = [1, 2, 3, 4, 5]\n",
    "# Напишите функцию change(lst), которая принимает список и меняет местами\n",
    "# его первый и последний элемент. В исходном списке минимум 2 элемента.\n",
    "\n",
    "def change(lst: list) -> None:\n",
    "  lst[0], lst[-1] = lst[-1], lst[0]\n",
    "\n",
    "change(lst)\n",
    "print(lst)"
   ]
  },
  {
   "cell_type": "code",
   "execution_count": 4,
   "metadata": {
    "ExecuteTime": {
     "end_time": "2024-02-12T19:43:30.295591500Z",
     "start_time": "2024-02-12T19:43:30.258587Z"
    },
    "colab": {
     "base_uri": "https://localhost:8080/"
    },
    "executionInfo": {
     "elapsed": 237,
     "status": "ok",
     "timestamp": 1707342535099,
     "user": {
      "displayName": "Ilja Robalkin",
      "userId": "16959703137300629438"
     },
     "user_tz": -120
    },
    "id": "BzqhTT25eZX7",
    "outputId": "8993505a-622f-4d6e-8a76-82c6ed7326de"
   },
   "outputs": [
    {
     "name": "stdout",
     "output_type": "stream",
     "text": [
      "1.5\n"
     ]
    }
   ],
   "source": [
    "# Николай задумался о поиске «бесполезного» числа на основании списка. Суть\n",
    "# оного в следующем: он берет произвольный список чисел, находит самое\n",
    "# большое из них, а затем делит его на длину списка. Студент пока не придумал,\n",
    "# где может пригодиться подобное значение, но ищет у вас помощи в реализации\n",
    "# такой функции useless(s).\n",
    "\n",
    "the_lst = [1, 3, 4, 5, -4, 9]\n",
    "\n",
    "\n",
    "def useless(lst: list) -> None or int:\n",
    "    if not lst:\n",
    "        return None  # Do not return 0 because zero is a possible answer for example for list [-5, -4, -8, -4, 0]\n",
    "    max_nr = lst[0]\n",
    "    for num in lst:\n",
    "        if num > max_nr:\n",
    "            max_nr = num\n",
    "    return max_nr / len(lst)\n",
    "\n",
    "\n",
    "print(useless(the_lst))"
   ]
  },
  {
   "cell_type": "code",
   "execution_count": 5,
   "metadata": {
    "ExecuteTime": {
     "end_time": "2024-02-12T19:43:30.296592900Z",
     "start_time": "2024-02-12T19:43:30.273589800Z"
    },
    "colab": {
     "base_uri": "https://localhost:8080/"
    },
    "executionInfo": {
     "elapsed": 231,
     "status": "ok",
     "timestamp": 1707426528781,
     "user": {
      "displayName": "Ilja Robalkin",
      "userId": "16959703137300629438"
     },
     "user_tz": -120
    },
    "id": "iBPvZPXBgHxU",
    "outputId": "f7ba84db-9eb5-41fc-93af-17eb679219ed"
   },
   "outputs": [
    {
     "name": "stdout",
     "output_type": "stream",
     "text": [
      "['крот____', 'белка___', 'выхухоль']\n"
     ]
    }
   ],
   "source": [
    "lst = ['крот', 'белка', 'выхухоль']\n",
    "\n",
    "# На входе имеем список строк разной длины. Необходимо написать функцию\n",
    "# all_eq(lst), которая вернет новый список из строк одинаковой длины. Длину\n",
    "# итоговой строки определяем исходя из самой большой из них. Если конкретная\n",
    "# строка короче самой длинной, дополнить ее нижними подчеркиваниями с\n",
    "# правого края до требуемого количества символов.\n",
    "# Расположение элементов начального списка не менять.\n",
    "\n",
    "\n",
    "# Solving this task without syntactic sugar\n",
    "def all_eq(lst: list) -> list:\n",
    "\n",
    "  # Get max word length\n",
    "  max_len_word = 0\n",
    "  for word in lst:\n",
    "    if len(word) > max_len_word:\n",
    "      max_len_word = len(word)\n",
    "\n",
    "  #return [word.ljust(max_len_word, '_') for word in lst] # uncomment if want sugar and comment the rest:)\n",
    "\n",
    "  # Init new list\n",
    "  new_list = []\n",
    "\n",
    "  # Equalize all words\n",
    "  for word in lst:\n",
    "    new_word = word\n",
    "    # Using while instead of string format\n",
    "    # new_word = word.ljust(max_len_word, '_')\n",
    "    while len(new_word) < max_len_word:\n",
    "      new_word += '_'\n",
    "    new_list.append(new_word)\n",
    "  new_list = [word.ljust(max_len_word, '_') for word in lst]\n",
    "\n",
    "  #Return new list\n",
    "  return new_list\n",
    "\n",
    "print(all_eq(lst))"
   ]
  },
  {
   "cell_type": "code",
   "execution_count": 6,
   "metadata": {
    "ExecuteTime": {
     "end_time": "2024-02-12T19:43:30.306587900Z",
     "start_time": "2024-02-12T19:43:30.291589800Z"
    },
    "colab": {
     "base_uri": "https://localhost:8080/"
    },
    "executionInfo": {
     "elapsed": 6,
     "status": "ok",
     "timestamp": 1707496064989,
     "user": {
      "displayName": "Ilja Robalkin",
      "userId": "16959703137300629438"
     },
     "user_tz": -120
    },
    "id": "-Ck4W-zKepFT",
    "outputId": "d6fd1197-7423-471e-c40b-25a12acae372"
   },
   "outputs": [
    {
     "name": "stdout",
     "output_type": "stream",
     "text": [
      "[1, 5, 7, 4, 3, 9, 8, 2]\n",
      "28\n",
      "[1, 2, 3, 4, 5, 7, 8, 9]\n"
     ]
    }
   ],
   "source": [
    "# Написать программу для сортировки списка чисел, и посчитать количество\n",
    "# итераций, необходимого для достижения цели в общем виде (относительно длины\n",
    "# списка), и численную (количество итераций в вашем случае)\n",
    "\n",
    "lst = [1, 5, 7, 4, 3, 9, 8, 2]\n",
    "\n",
    "# General complexity is O(n^2)\n",
    "def custom_sort(lst: list):\n",
    "  if not lst:\n",
    "    return\n",
    "  iteration_counter = 0\n",
    "  for i in range(len(lst) - 1):\n",
    "    current_min_index = i\n",
    "    for j in range(i + 1, len(lst)):\n",
    "      iteration_counter += 1\n",
    "      if lst[j] < lst[current_min_index]:\n",
    "        current_min_index = j\n",
    "    lst[i], lst[current_min_index] = lst[current_min_index], lst[i]\n",
    "  print(iteration_counter)\n",
    "\n",
    "print(lst)\n",
    "custom_sort(lst)\n",
    "print(lst)"
   ]
  }
 ],
 "metadata": {
  "colab": {
   "authorship_tag": "ABX9TyMjJYV2OLtJ4ITVZQYaP0+2",
   "provenance": []
  },
  "kernelspec": {
   "display_name": "Python 3 (ipykernel)",
   "language": "python",
   "name": "python3"
  },
  "language_info": {
   "codemirror_mode": {
    "name": "ipython",
    "version": 3
   },
   "file_extension": ".py",
   "mimetype": "text/x-python",
   "name": "python",
   "nbconvert_exporter": "python",
   "pygments_lexer": "ipython3",
   "version": "3.9.7"
  }
 },
 "nbformat": 4,
 "nbformat_minor": 4
}
