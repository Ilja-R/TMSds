{
 "nbformat": 4,
 "nbformat_minor": 0,
 "metadata": {
  "colab": {
   "provenance": []
  },
  "kernelspec": {
   "name": "python3",
   "language": "python",
   "display_name": "Python 3 (ipykernel)"
  },
  "language_info": {
   "name": "python"
  }
 },
 "cells": [
  {
   "cell_type": "code",
   "execution_count": 1,
   "metadata": {
    "colab": {
     "base_uri": "https://localhost:8080/"
    },
    "id": "NTUrx-RWbLk8",
    "outputId": "99287c9c-7f3a-4bea-d04e-bfaf6bf963c7",
    "ExecuteTime": {
     "end_time": "2024-02-14T22:29:16.185784400Z",
     "start_time": "2024-02-14T22:29:16.174787200Z"
    }
   },
   "outputs": [
    {
     "data": {
      "text/plain": "['Robin', 'Singh']"
     },
     "execution_count": 1,
     "metadata": {},
     "output_type": "execute_result"
    }
   ],
   "source": [
    "\"\"\"\n",
    "1.\n",
    "Напишите функцию для разделения строки и преобразования ее в список\n",
    "слов. Пример \"Robin Singh\" ==> [\"Robin\", \"Singh\"]\n",
    "\"\"\"\n",
    "def split_to_words(input_str: str) -> list:\n",
    "\n",
    "    return input_str.split()\n",
    "\n",
    "\n",
    "split_to_words(\"Robin Singh\")"
   ]
  },
  {
   "cell_type": "code",
   "source": [
    "\"\"\"\n",
    "1.\n",
    "Если надо почистить слова и убрать знаки припинания:\n",
    "Пример \"Robin, Singh!\" ==> [\"Robin\", \"Singh\"]\n",
    "\"\"\"\n",
    "import string as s\n",
    "\n",
    "def split_to_words_no_puctuation(input_str: str) -> list:\n",
    "\n",
    "    punctuation = s.punctuation\n",
    "    no_punctuation_string = ''.join(char for char in input_str if char not in punctuation)\n",
    "\n",
    "    return no_punctuation_string.split()\n",
    "\n",
    "\n",
    "split_to_words_no_puctuation('Robin : Singh!')"
   ],
   "metadata": {
    "colab": {
     "base_uri": "https://localhost:8080/"
    },
    "id": "qH1Bug1-cbbT",
    "outputId": "21f22f94-a808-4d6b-97bc-87a5928cefb0",
    "ExecuteTime": {
     "end_time": "2024-02-14T22:29:16.201790500Z",
     "start_time": "2024-02-14T22:29:16.183788500Z"
    }
   },
   "execution_count": 2,
   "outputs": [
    {
     "data": {
      "text/plain": "['Robin', 'Singh']"
     },
     "execution_count": 2,
     "metadata": {},
     "output_type": "execute_result"
    }
   ]
  },
  {
   "cell_type": "code",
   "source": [
    "import math\n",
    "\"\"\"\n",
    "2.\n",
    "Натан любит кататься на велосипеде. Поскольку Натан знает, как важно\n",
    "избегать обезвоживания, он выпивает 0,5 литра воды за час езды на\n",
    "велосипеде. Вам дано время в часах, и вам нужно вернуть количество\n",
    "литров, которое выпьет Натан, округленное до наименьшего значения.\n",
    "Пример time = 3 ----> litres = 1\n",
    "\"\"\"\n",
    "def get_water_volume(hours: int, consumption: float = 0.5) -> int:\n",
    "\n",
    "    return math.floor(hours * consumption)\n",
    "\n",
    "\n",
    "print(get_water_volume(3))\n",
    "print(get_water_volume(8, 0.4))"
   ],
   "metadata": {
    "colab": {
     "base_uri": "https://localhost:8080/"
    },
    "id": "oPAK0UOWd-E4",
    "outputId": "9cb290be-7e5f-4dcd-9158-3d91acb46bc6",
    "ExecuteTime": {
     "end_time": "2024-02-14T22:29:16.273678100Z",
     "start_time": "2024-02-14T22:29:16.202791300Z"
    }
   },
   "execution_count": 3,
   "outputs": [
    {
     "name": "stdout",
     "output_type": "stream",
     "text": [
      "1\n",
      "3\n"
     ]
    }
   ]
  },
  {
   "cell_type": "code",
   "source": [
    "\"\"\"\n",
    "3.\n",
    "Создайте функцию, которая возвращаетсписок целых чисел от n до 1, где n>0. Пример: n=5-->[5,4,3,2,1]\n",
    "\"\"\"\n",
    "def get_numbers_as_list(number: int) -> list:\n",
    "\n",
    "    return [number for number in range(number, 0, -1)]\n",
    "\n",
    "print(get_numbers_as_list(5))\n",
    "print(get_numbers_as_list(20))"
   ],
   "metadata": {
    "colab": {
     "base_uri": "https://localhost:8080/"
    },
    "id": "bPMdMuIHhIrq",
    "outputId": "c0716ee0-e0f1-4a1d-ad08-868b37e7afa9",
    "ExecuteTime": {
     "end_time": "2024-02-14T22:29:16.282675Z",
     "start_time": "2024-02-14T22:29:16.214790600Z"
    }
   },
   "execution_count": 4,
   "outputs": [
    {
     "name": "stdout",
     "output_type": "stream",
     "text": [
      "[5, 4, 3, 2, 1]\n",
      "[20, 19, 18, 17, 16, 15, 14, 13, 12, 11, 10, 9, 8, 7, 6, 5, 4, 3, 2, 1]\n"
     ]
    }
   ]
  },
  {
   "cell_type": "code",
   "source": [
    "\"\"\"\n",
    "4.\n",
    "Учитывая год, верните столетие, в котором он находится. Пример 1705 -> 18, 1900 -> 19 1601 -> 17\n",
    "\"\"\"\n",
    "def get_century(year) -> int:\n",
    "    return (year - 1) // 100 + 1\n",
    "\n",
    "print(get_century(1705))\n",
    "print(get_century(1900))\n",
    "print(get_century(1601))\n",
    "\n",
    "\"\"\"\n",
    "Python один из немногих языков программирования, который правильно с математи-\n",
    "ческой точки зрения выполняет остаток от деления отрицательного числа данный\n",
    "пример работает благодаря этому и с отрицательными числами.\n",
    "\"\"\"\n",
    "print(get_century(-101))"
   ],
   "metadata": {
    "colab": {
     "base_uri": "https://localhost:8080/"
    },
    "id": "uVY7AxCbjN3r",
    "outputId": "d5034b32-9e9c-411e-ff44-4abc775359f8",
    "ExecuteTime": {
     "end_time": "2024-02-14T22:29:16.283668800Z",
     "start_time": "2024-02-14T22:29:16.233788300Z"
    }
   },
   "execution_count": 5,
   "outputs": [
    {
     "name": "stdout",
     "output_type": "stream",
     "text": [
      "18\n",
      "19\n",
      "17\n",
      "-1\n"
     ]
    }
   ]
  },
  {
   "cell_type": "code",
   "source": [
    "\"\"\"\n",
    "5.\n",
    "Учитывая случайное неотрицательное число, вам необходимо вернуть\n",
    "цифры этого числа в массиве в обратном порядке. 35231 => [1,3,2,5,3]\n",
    "\"\"\"\n",
    "def reverse_to_list(number: int) -> list:\n",
    "    return [int(digit) for digit in str(number)[::-1]]\n",
    "\n",
    "reverse_to_list(35231)"
   ],
   "metadata": {
    "colab": {
     "base_uri": "https://localhost:8080/"
    },
    "id": "5qIZlM1Ej1dk",
    "outputId": "11574e07-0319-45b0-9fee-6a2a045d828e",
    "ExecuteTime": {
     "end_time": "2024-02-14T22:29:16.283668800Z",
     "start_time": "2024-02-14T22:29:16.247474300Z"
    }
   },
   "execution_count": 6,
   "outputs": [
    {
     "data": {
      "text/plain": "[1, 3, 2, 5, 3]"
     },
     "execution_count": 6,
     "metadata": {},
     "output_type": "execute_result"
    }
   ]
  },
  {
   "cell_type": "code",
   "source": [
    "\"\"\"\n",
    "6.1\n",
    "\"\"\"\n",
    "def get_matrix(size: int):\n",
    "    matrix = []\n",
    "\n",
    "    for i in range(size):\n",
    "        inner_matrix = []\n",
    "\n",
    "        for j in range(size):\n",
    "            if j % 2 == 0:\n",
    "                number = j // 2 * 2 * size + i + 1\n",
    "            else:\n",
    "                number = (j // 2 + 1) * 2 * size - i\n",
    "            inner_matrix.append(number)\n",
    "\n",
    "        matrix.append(inner_matrix)\n",
    "\n",
    "    return matrix\n",
    "\n",
    "get_matrix(11)"
   ],
   "metadata": {
    "colab": {
     "base_uri": "https://localhost:8080/"
    },
    "id": "icXLVDkGln2K",
    "outputId": "3fa4d1e9-a3bb-49dc-83ac-8c9fd2b97b5a",
    "ExecuteTime": {
     "end_time": "2024-02-14T22:29:16.284673700Z",
     "start_time": "2024-02-14T22:29:16.263351Z"
    }
   },
   "execution_count": 7,
   "outputs": [
    {
     "data": {
      "text/plain": "[[1, 22, 23, 44, 45, 66, 67, 88, 89, 110, 111],\n [2, 21, 24, 43, 46, 65, 68, 87, 90, 109, 112],\n [3, 20, 25, 42, 47, 64, 69, 86, 91, 108, 113],\n [4, 19, 26, 41, 48, 63, 70, 85, 92, 107, 114],\n [5, 18, 27, 40, 49, 62, 71, 84, 93, 106, 115],\n [6, 17, 28, 39, 50, 61, 72, 83, 94, 105, 116],\n [7, 16, 29, 38, 51, 60, 73, 82, 95, 104, 117],\n [8, 15, 30, 37, 52, 59, 74, 81, 96, 103, 118],\n [9, 14, 31, 36, 53, 58, 75, 80, 97, 102, 119],\n [10, 13, 32, 35, 54, 57, 76, 79, 98, 101, 120],\n [11, 12, 33, 34, 55, 56, 77, 78, 99, 100, 121]]"
     },
     "execution_count": 7,
     "metadata": {},
     "output_type": "execute_result"
    }
   ]
  },
  {
   "cell_type": "code",
   "source": [
    "\"\"\"\n",
    "6.2\n",
    "\"\"\"\n",
    "def get_matrix_2(size: int):\n",
    "    matrix = []\n",
    "    counter = 1\n",
    "\n",
    "    for i in range(size):\n",
    "        inner_matrix = []\n",
    "\n",
    "        for j in range(size):\n",
    "            inner_matrix.append(counter)\n",
    "            counter += 1\n",
    "        if i % 2 == 1:\n",
    "            inner_matrix.reverse()\n",
    "        matrix.append(inner_matrix)\n",
    "\n",
    "    return matrix\n",
    "\n",
    "get_matrix_2(5)"
   ],
   "metadata": {
    "colab": {
     "base_uri": "https://localhost:8080/"
    },
    "id": "Fh-gLBAEqkoI",
    "outputId": "57d4da01-a5d8-4a6d-8cd7-7236e01b76dc",
    "ExecuteTime": {
     "end_time": "2024-02-14T22:29:16.292670400Z",
     "start_time": "2024-02-14T22:29:16.279672700Z"
    }
   },
   "execution_count": 8,
   "outputs": [
    {
     "data": {
      "text/plain": "[[1, 2, 3, 4, 5],\n [10, 9, 8, 7, 6],\n [11, 12, 13, 14, 15],\n [20, 19, 18, 17, 16],\n [21, 22, 23, 24, 25]]"
     },
     "execution_count": 8,
     "metadata": {},
     "output_type": "execute_result"
    }
   ]
  }
 ]
}
